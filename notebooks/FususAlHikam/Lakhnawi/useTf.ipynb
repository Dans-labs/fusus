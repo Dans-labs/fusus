{
 "cells": [
  {
   "cell_type": "code",
   "execution_count": 2,
   "metadata": {},
   "outputs": [],
   "source": [
    "from tf.app import use"
   ]
  },
  {
   "cell_type": "code",
   "execution_count": 3,
   "metadata": {},
   "outputs": [
    {
     "data": {
      "text/html": [
       "<b title=\"local github\">data:</b> <span title=\"repo clone offline under ~/github\">~/github/among/fusus/tf/fusus/Lakhnawi/0.2</span>"
      ],
      "text/plain": [
       "<IPython.core.display.HTML object>"
      ]
     },
     "metadata": {},
     "output_type": "display_data"
    },
    {
     "name": "stdout",
     "output_type": "stream",
     "text": [
      "   |     0.03s T otype                from ~/github/among/fusus/tf/fusus/Lakhnawi/0.2\n",
      "   |     0.23s T oslots               from ~/github/among/fusus/tf/fusus/Lakhnawi/0.2\n",
      "   |     0.01s T pre                  from ~/github/among/fusus/tf/fusus/Lakhnawi/0.2\n",
      "   |     0.01s T prea                 from ~/github/among/fusus/tf/fusus/Lakhnawi/0.2\n",
      "   |     0.01s T ln                   from ~/github/among/fusus/tf/fusus/Lakhnawi/0.2\n",
      "   |     0.10s T posta                from ~/github/among/fusus/tf/fusus/Lakhnawi/0.2\n",
      "   |     0.13s T nice                 from ~/github/among/fusus/tf/fusus/Lakhnawi/0.2\n",
      "   |     0.12s T plain                from ~/github/among/fusus/tf/fusus/Lakhnawi/0.2\n",
      "   |     0.12s T trans                from ~/github/among/fusus/tf/fusus/Lakhnawi/0.2\n",
      "   |     0.13s T text                 from ~/github/among/fusus/tf/fusus/Lakhnawi/0.2\n",
      "   |     0.10s T post                 from ~/github/among/fusus/tf/fusus/Lakhnawi/0.2\n",
      "   |     0.02s T n                    from ~/github/among/fusus/tf/fusus/Lakhnawi/0.2\n",
      "   |      |     0.01s C __levels__           from otype, oslots, otext\n",
      "   |      |     0.46s C __order__            from otype, oslots, __levels__\n",
      "   |      |     0.03s C __rank__             from otype, __order__\n",
      "   |      |     0.51s C __levUp__            from otype, oslots, __rank__\n",
      "   |      |     0.08s C __levDown__          from otype, __levUp__, __rank__\n",
      "   |      |     0.17s C __boundary__         from otype, oslots, __rank__\n",
      "   |      |     0.02s C __sections__         from otype, oslots, otext, __levUp__, __levels__, n, n, ln\n",
      "   |     0.10s T boxb                 from ~/github/among/fusus/tf/fusus/Lakhnawi/0.2\n",
      "   |     0.10s T boxl                 from ~/github/among/fusus/tf/fusus/Lakhnawi/0.2\n",
      "   |     0.10s T boxr                 from ~/github/among/fusus/tf/fusus/Lakhnawi/0.2\n",
      "   |     0.10s T boxt                 from ~/github/among/fusus/tf/fusus/Lakhnawi/0.2\n",
      "   |     0.01s T dir                  from ~/github/among/fusus/tf/fusus/Lakhnawi/0.2\n",
      "   |     0.00s T np                   from ~/github/among/fusus/tf/fusus/Lakhnawi/0.2\n",
      "   |     0.00s T title                from ~/github/among/fusus/tf/fusus/Lakhnawi/0.2\n"
     ]
    },
    {
     "data": {
      "text/html": [
       "<b>Text-Fabric:</b> <a target=\"_blank\" href=\"https://annotation.github.io/text-fabric/tf/cheatsheet.html\" title=\"text-fabric-api\">Text-Fabric API 8.4.11</a>, no app configured<br><b>Data:</b> among/fusus/tf/fusus/Lakhnawi/0.2<br><b>Features:</b><br><details><summary><b>among/fusus/tf/fusus/Lakhnawi</b></summary><a target=\"_blank\" href=\"https://github.com/among/fusus/tree/master/tf/fusus/Lakhnawi\" title=\"~/github/among/fusus/tf/fusus/Lakhnawi/0.2/boxb.tf\">boxb</a><br><a target=\"_blank\" href=\"https://github.com/among/fusus/tree/master/tf/fusus/Lakhnawi\" title=\"~/github/among/fusus/tf/fusus/Lakhnawi/0.2/boxl.tf\">boxl</a><br><a target=\"_blank\" href=\"https://github.com/among/fusus/tree/master/tf/fusus/Lakhnawi\" title=\"~/github/among/fusus/tf/fusus/Lakhnawi/0.2/boxr.tf\">boxr</a><br><a target=\"_blank\" href=\"https://github.com/among/fusus/tree/master/tf/fusus/Lakhnawi\" title=\"~/github/among/fusus/tf/fusus/Lakhnawi/0.2/boxt.tf\">boxt</a><br><a target=\"_blank\" href=\"https://github.com/among/fusus/tree/master/tf/fusus/Lakhnawi\" title=\"~/github/among/fusus/tf/fusus/Lakhnawi/0.2/dir.tf\">dir</a><br><a target=\"_blank\" href=\"https://github.com/among/fusus/tree/master/tf/fusus/Lakhnawi\" title=\"~/github/among/fusus/tf/fusus/Lakhnawi/0.2/ln.tf\">ln</a><br><a target=\"_blank\" href=\"https://github.com/among/fusus/tree/master/tf/fusus/Lakhnawi\" title=\"~/github/among/fusus/tf/fusus/Lakhnawi/0.2/n.tf\">n</a><br><a target=\"_blank\" href=\"https://github.com/among/fusus/tree/master/tf/fusus/Lakhnawi\" title=\"~/github/among/fusus/tf/fusus/Lakhnawi/0.2/nice.tf\">nice</a><br><a target=\"_blank\" href=\"https://github.com/among/fusus/tree/master/tf/fusus/Lakhnawi\" title=\"~/github/among/fusus/tf/fusus/Lakhnawi/0.2/np.tf\">np</a><br><a target=\"_blank\" href=\"https://github.com/among/fusus/tree/master/tf/fusus/Lakhnawi\" title=\"~/github/among/fusus/tf/fusus/Lakhnawi/0.2/otype.tf\">otype</a><br><a target=\"_blank\" href=\"https://github.com/among/fusus/tree/master/tf/fusus/Lakhnawi\" title=\"~/github/among/fusus/tf/fusus/Lakhnawi/0.2/plain.tf\">plain</a><br><a target=\"_blank\" href=\"https://github.com/among/fusus/tree/master/tf/fusus/Lakhnawi\" title=\"~/github/among/fusus/tf/fusus/Lakhnawi/0.2/post.tf\">post</a><br><a target=\"_blank\" href=\"https://github.com/among/fusus/tree/master/tf/fusus/Lakhnawi\" title=\"~/github/among/fusus/tf/fusus/Lakhnawi/0.2/posta.tf\">posta</a><br><a target=\"_blank\" href=\"https://github.com/among/fusus/tree/master/tf/fusus/Lakhnawi\" title=\"~/github/among/fusus/tf/fusus/Lakhnawi/0.2/pre.tf\">pre</a><br><a target=\"_blank\" href=\"https://github.com/among/fusus/tree/master/tf/fusus/Lakhnawi\" title=\"~/github/among/fusus/tf/fusus/Lakhnawi/0.2/prea.tf\">prea</a><br><a target=\"_blank\" href=\"https://github.com/among/fusus/tree/master/tf/fusus/Lakhnawi\" title=\"~/github/among/fusus/tf/fusus/Lakhnawi/0.2/text.tf\">text</a><br><a target=\"_blank\" href=\"https://github.com/among/fusus/tree/master/tf/fusus/Lakhnawi\" title=\"~/github/among/fusus/tf/fusus/Lakhnawi/0.2/title.tf\">title</a><br><a target=\"_blank\" href=\"https://github.com/among/fusus/tree/master/tf/fusus/Lakhnawi\" title=\"~/github/among/fusus/tf/fusus/Lakhnawi/0.2/trans.tf\">trans</a><br><b><i><a target=\"_blank\" href=\"https://github.com/among/fusus/tree/master/tf/fusus/Lakhnawi\" title=\"~/github/among/fusus/tf/fusus/Lakhnawi/0.2/oslots.tf\">oslots</a></i></b><br></details>"
      ],
      "text/plain": [
       "<IPython.core.display.HTML object>"
      ]
     },
     "metadata": {},
     "output_type": "display_data"
    },
    {
     "data": {
      "text/html": [
       "<style>tr.tf.ltr, td.tf.ltr, th.tf.ltr { text-align: left ! important;}\n",
       "tr.tf.rtl, td.tf.rtl, th.tf.rtl { text-align: right ! important;}\n",
       "@font-face {\n",
       "  font-family: \"Gentium Plus\";\n",
       "  src: local('Gentium Plus'), local('GentiumPlus'),\n",
       "    url('/server/static/fonts/GentiumPlus-R.woff') format('woff'),\n",
       "    url('https://github.com/annotation/text-fabric/blob/master/tf/server/static/fonts/GentiumPlus-R.woff?raw=true') format('woff');\n",
       "}\n",
       "\n",
       "@font-face {\n",
       "  font-family: \"Ezra SIL\";\n",
       "  src: local('Ezra SIL'), local('EzraSIL'),\n",
       "    url('/server/static/fonts/SILEOT.woff') format('woff'),\n",
       "    url('https://github.com/annotation/text-fabric/blob/master/tf/server/static/fonts/SILEOT.woff?raw=true') format('woff');\n",
       "}\n",
       "\n",
       "@font-face {\n",
       "  font-family: \"SBL Hebrew\";\n",
       "  src: local('SBL Hebrew'), local('SBLHebrew'),\n",
       "    url('/server/static/fonts/SBL_Hbrw.woff') format('woff'),\n",
       "    url('https://github.com/annotation/text-fabric/blob/master/tf/server/static/fonts/SBL_Hbrw.woff?raw=true') format('woff');\n",
       "}\n",
       "\n",
       "@font-face {\n",
       "  font-family: \"Estrangelo Edessa\";\n",
       "  src: local('Estrangelo Edessa'), local('EstrangeloEdessa');\n",
       "    url('/server/static/fonts/SyrCOMEdessa.woff') format('woff'),\n",
       "    url('https://github.com/annotation/text-fabric/blob/master/tf/server/static/fonts/SyrCOMEdessa.woff?raw=true') format('woff');\n",
       "}\n",
       "\n",
       "@font-face {\n",
       "  font-family: AmiriQuran;\n",
       "  font-style: normal;\n",
       "  font-weight: 400;\n",
       "  src: local('Amiri Quran'), local('AmiriQuran'),\n",
       "    url('/server/static/fonts/AmiriQuran.woff') format('woff'),\n",
       "    url('https://github.com/annotation/text-fabric/blob/master/tf/server/static/fonts/AmiriQuran.woff?raw=true') format('woff');\n",
       "}\n",
       "\n",
       "@font-face {\n",
       "  font-family: AmiriQuranColored;\n",
       "  font-style: normal;\n",
       "  font-weight: 400;\n",
       "  src: local('Amiri Quran Colored'), local('AmiriQuranColored'),\n",
       "    url('/server/static/fonts/AmiriQuranColored.woff') format('woff'),\n",
       "    url('https://github.com/annotation/text-fabric/blob/master/tf/server/static/fonts/AmiriQuranColored.woff?raw=true') format('woff');\n",
       "}\n",
       "\n",
       "@font-face {\n",
       "  font-family: \"Santakku\";\n",
       "  src: local('Santakku'),\n",
       "    url('/server/static/fonts/Santakku.woff') format('woff'),\n",
       "    url('https://github.com/annotation/text-fabric/blob/master/tf/server/static/fonts/Santakku.woff?raw=true') format('woff');\n",
       "}\n",
       "\n",
       "@font-face {\n",
       "  font-family: \"SantakkuM\";\n",
       "  src: local('SantakkuM'),\n",
       "    url('/server/static/fonts/SantakkuM.woff') format('woff'),\n",
       "    url('https://github.com/annotation/text-fabric/blob/master/tf/server/static/fonts/SantakkuM.woff?raw=true') format('woff');\n",
       "}\n",
       "/* bypassing some classical notebook settings */\n",
       "div#notebook {\n",
       "  line-height: unset;\n",
       "}\n",
       "/* neutral text */\n",
       ".txtn,.txtn a:visited,.txtn a:link {\n",
       "    font-family: sans-serif;\n",
       "    font-size: medium;\n",
       "    direction: ltr;\n",
       "    unicode-bidi: embed;\n",
       "    text-decoration: none;\n",
       "    color: var(--text-color);\n",
       "}\n",
       "/* transcription text */\n",
       ".txtt,.txtt a:visited,.txtt a:link {\n",
       "    font-family: monospace;\n",
       "    font-size: medium;\n",
       "    direction: ltr;\n",
       "    unicode-bidi: embed;\n",
       "    text-decoration: none;\n",
       "    color: var(--text-color);\n",
       "}\n",
       "/* source text */\n",
       ".txto,.txto a:visited,.txto a:link {\n",
       "    font-family: serif;\n",
       "    font-size: medium;\n",
       "    direction: ltr;\n",
       "    unicode-bidi: embed;\n",
       "    text-decoration: none;\n",
       "    color: var(--text-color);\n",
       "}\n",
       "/* phonetic text */\n",
       ".txtp,.txtp a:visited,.txtp a:link {\n",
       "    font-family: Gentium, sans-serif;\n",
       "    font-size: medium;\n",
       "    direction: ltr;\n",
       "    unicode-bidi: embed;\n",
       "    text-decoration: none;\n",
       "    color: var(--text-color);\n",
       "}\n",
       "/* original script text */\n",
       ".txtu,.txtu a:visited,.txtu a:link {\n",
       "    font-family: Gentium, sans-serif;\n",
       "    font-size: medium;\n",
       "    text-decoration: none;\n",
       "    color: var(--text-color);\n",
       "}\n",
       "/* hebrew */\n",
       ".txtu.hbo,.lex.hbo {\n",
       "    font-family: \"Ezra SIL\", \"SBL Hebrew\", sans-serif;\n",
       "    font-size: large;\n",
       "    direction: rtl ! important;\n",
       "    unicode-bidi: embed;\n",
       "}\n",
       "/* syriac */\n",
       ".txtu.syc,.lex.syc {\n",
       "    font-family: \"Estrangelo Edessa\", sans-serif;\n",
       "    font-size: medium;\n",
       "    direction: rtl ! important;\n",
       "    unicode-bidi: embed;\n",
       "}\n",
       "/* neo aramaic */\n",
       ".txtu.cld,.lex.cld {\n",
       "    font-family: \"CharisSIL-R\", sans-serif;\n",
       "    font-size: medium;\n",
       "    direction: ltr ! important;\n",
       "    unicode-bidi: embed;\n",
       "}\n",
       "/* standard arabic */\n",
       ".txtu.ara,.lex.ara {\n",
       "    font-family: \"AmiriQuran\", sans-serif;\n",
       "    font-size: large;\n",
       "    direction: rtl ! important;\n",
       "    unicode-bidi: embed;\n",
       "}\n",
       "/* cuneiform */\n",
       ".txtu.akk,.lex.akk {\n",
       "    font-family: Santakku, sans-serif;\n",
       "    font-size: large;\n",
       "    direction: ltr ! important;\n",
       "    unicode-bidi: embed;\n",
       "}\n",
       "/* greek */\n",
       ".txtu.grc,.lex.grc a:link {\n",
       "    font-family: Gentium, sans-serif;\n",
       "    font-size: medium;\n",
       "    direction: ltr ! important;\n",
       "    unicode-bidi: embed;\n",
       "}\n",
       "a:hover {\n",
       "    text-decoration: underline | important;\n",
       "    color: #0000ff | important;\n",
       "}\n",
       ".ltr {\n",
       "    direction: ltr ! important;\n",
       "    unicode-bidi: embed;\n",
       "}\n",
       ".rtl {\n",
       "    direction: rtl ! important;\n",
       "    unicode-bidi: embed;\n",
       "}\n",
       ".ubd {\n",
       "    unicode-bidi: embed;\n",
       "}\n",
       ".col {\n",
       "   display: inline-block;\n",
       "}\n",
       ".features {\n",
       "    font-family: monospace;\n",
       "    font-size: medium;\n",
       "    font-weight: bold;\n",
       "    color: var(--features);\n",
       "    display: flex;\n",
       "    flex-flow: column nowrap;\n",
       "    justify-content: flex-start;\n",
       "    align-items: flex-start;\n",
       "    align-content: flex-start;\n",
       "    padding: 2px;\n",
       "    margin: 2px;\n",
       "    direction: ltr;\n",
       "    unicode-bidi: embed;\n",
       "    border: var(--meta-width) solid var(--meta-color);\n",
       "    border-radius: var(--meta-width);\n",
       "}\n",
       ".features div,.features span {\n",
       "    padding: 0;\n",
       "    margin: -2px 0;\n",
       "}\n",
       ".features .f {\n",
       "    font-family: sans-serif;\n",
       "    font-size: small;\n",
       "    font-weight: normal;\n",
       "    color: #5555bb;\n",
       "}\n",
       ".features .xft {\n",
       "  color: #000000;\n",
       "  background-color: #eeeeee;\n",
       "  font-size: medium;\n",
       "  margin: 2px 0px;\n",
       "}\n",
       ".features .xft .f {\n",
       "  color: #000000;\n",
       "  background-color: #eeeeee;\n",
       "  font-size: small;\n",
       "  font-weight: normal;\n",
       "}\n",
       ".tfsechead {\n",
       "    font-family: sans-serif;\n",
       "    font-size: small;\n",
       "    font-weight: bold;\n",
       "    color: var(--tfsechead);\n",
       "    unicode-bidi: embed;\n",
       "    text-align: start;\n",
       "}\n",
       ".structure {\n",
       "    font-family: sans-serif;\n",
       "    font-size: small;\n",
       "    font-weight: bold;\n",
       "    color: var(--structure);\n",
       "    unicode-bidi: embed;\n",
       "    text-align: start;\n",
       "}\n",
       ".comments {\n",
       "    display: flex;\n",
       "    justify-content: flex-start;\n",
       "    align-items: flex-start;\n",
       "    align-content: flex-start;\n",
       "    flex-flow: column nowrap;\n",
       "}\n",
       ".nd, a:link.nd {\n",
       "    font-family: sans-serif;\n",
       "    font-size: small;\n",
       "    color: var(--node);\n",
       "    vertical-align: super;\n",
       "    direction: ltr ! important;\n",
       "    unicode-bidi: embed;\n",
       "}\n",
       ".lex {\n",
       "  color: var(--lex-color);;\n",
       "}\n",
       ".children,.children.ltr {\n",
       "    display: flex;\n",
       "    border: 0;\n",
       "    background-color: #ffffff;\n",
       "    justify-content: flex-start;\n",
       "    align-items: flex-start;\n",
       "    align-content: flex-start;\n",
       "}\n",
       ".children.stretch {\n",
       "    align-items: stretch;\n",
       "}\n",
       ".children.hor {\n",
       "    flex-flow: row nowrap;\n",
       "}\n",
       ".children.hor.wrap {\n",
       "    flex-flow: row wrap;\n",
       "}\n",
       ".children.ver {\n",
       "    flex-flow: column nowrap;\n",
       "}\n",
       ".children.ver.wrap {\n",
       "    flex-flow: column wrap;\n",
       "}\n",
       ".contnr {\n",
       "    width: fit-content;\n",
       "    display: flex;\n",
       "    justify-content: flex-start;\n",
       "    align-items: flex-start;\n",
       "    align-content: flex-start;\n",
       "    flex-flow: column nowrap;\n",
       "    background: #ffffff none repeat scroll 0 0;\n",
       "    padding:  10px 2px 2px 2px;\n",
       "    margin: 16px 2px 2px 2px;\n",
       "    border-style: solid;\n",
       "    font-size: small;\n",
       "}\n",
       ".contnr.trm {\n",
       "    background-attachment: local;\n",
       "}\n",
       ".contnr.cnul {\n",
       "    padding:  0;\n",
       "    margin: 0;\n",
       "    border-style: solid;\n",
       "    font-size: xx-small;\n",
       "}\n",
       ".contnr.cnul,.lbl.cnul {\n",
       "    border-color: var(--border-color-nul);\n",
       "    border-width: var(--border-width-nul);\n",
       "    border-radius: var(--border-width-nul);\n",
       "}\n",
       ".contnr.c0,.lbl.c0 {\n",
       "    border-color: var(--border-color0);\n",
       "    border-width: var(--border-width0);\n",
       "    border-radius: var(--border-width0);\n",
       "}\n",
       ".contnr.c1,.lbl.c1 {\n",
       "    border-color: var(--border-color1);\n",
       "    border-width: var(--border-width1);\n",
       "    border-radius: var(--border-width1);\n",
       "}\n",
       ".contnr.c2,.lbl.c2 {\n",
       "    border-color: var(--border-color2);\n",
       "    border-width: var(--border-width2);\n",
       "    border-radius: var(--border-width2);\n",
       "}\n",
       ".contnr.c3,.lbl.c3 {\n",
       "    border-color: var(--border-color3);\n",
       "    border-width: var(--border-width3);\n",
       "    border-radius: var(--border-width3);\n",
       "}\n",
       ".contnr.c4,.lbl.c4 {\n",
       "    border-color: var(--border-color4);\n",
       "    border-width: var(--border-width4);\n",
       "    border-radius: var(--border-width4);\n",
       "}\n",
       "span.plain {\n",
       "    display: inline-block;\n",
       "    white-space: pre-wrap;\n",
       "}\n",
       ".plain {\n",
       "    background-color: #ffffff;\n",
       "}\n",
       ".plain.l,.contnr.l,.contnr.l>.lbl {\n",
       "    border-left-style: dotted\n",
       "}\n",
       ".plain.r,.contnr.r,.contnr.r>.lbl {\n",
       "    border-right-style: dotted\n",
       "}\n",
       ".plain.lno,.contnr.lno,.contnr.lno>.lbl {\n",
       "    border-left-style: none\n",
       "}\n",
       ".plain.rno,.contnr.rno,.contnr.rno>.lbl {\n",
       "    border-right-style: none\n",
       "}\n",
       ".plain.l {\n",
       "    padding-left: 4px;\n",
       "    margin-left: 2px;\n",
       "    border-width: var(--border-width-plain);\n",
       "}\n",
       ".plain.r {\n",
       "    padding-right: 4px;\n",
       "    margin-right: 2px;\n",
       "    border-width: var(--border-width-plain);\n",
       "}\n",
       ".lbl {\n",
       "    font-family: monospace;\n",
       "    margin-top: -24px;\n",
       "    margin-left: 20px;\n",
       "    background: #ffffff none repeat scroll 0 0;\n",
       "    padding: 0 6px;\n",
       "    border-style: solid;\n",
       "    display: block;\n",
       "    color: var(--label)\n",
       "}\n",
       ".lbl.trm {\n",
       "    background-attachment: local;\n",
       "    margin-top: 2px;\n",
       "    margin-left: 2px;\n",
       "    padding: 2px 2px;\n",
       "    border-style: none;\n",
       "}\n",
       ".lbl.cnul {\n",
       "    font-size: xx-small;\n",
       "}\n",
       ".lbl.c0 {\n",
       "    font-size: small;\n",
       "}\n",
       ".lbl.c1 {\n",
       "    font-size: small;\n",
       "}\n",
       ".lbl.c2 {\n",
       "    font-size: medium;\n",
       "}\n",
       ".lbl.c3 {\n",
       "    font-size: medium;\n",
       "}\n",
       ".lbl.c4 {\n",
       "    font-size: large;\n",
       "}\n",
       ".occs, a:link.occs {\n",
       "    font-size: small;\n",
       "}\n",
       "\n",
       "/* PROVENANCE */\n",
       "\n",
       "div.prov {\n",
       "\tmargin: 40px;\n",
       "\tpadding: 20px;\n",
       "\tborder: 2px solid var(--fog-rim);\n",
       "}\n",
       "div.pline {\n",
       "\tdisplay: flex;\n",
       "\tflex-flow: row nowrap;\n",
       "\tjustify-content: stretch;\n",
       "\talign-items: baseline;\n",
       "}\n",
       "div.p2line {\n",
       "\tmargin-left: 2em;\n",
       "\tdisplay: flex;\n",
       "\tflex-flow: row nowrap;\n",
       "\tjustify-content: stretch;\n",
       "\talign-items: baseline;\n",
       "}\n",
       "div.psline {\n",
       "\tdisplay: flex;\n",
       "\tflex-flow: row nowrap;\n",
       "\tjustify-content: stretch;\n",
       "\talign-items: baseline;\n",
       "\tbackground-color: var(--gold-mist-back);\n",
       "}\n",
       "div.pname {\n",
       "\tflex: 0 0 5rem;\n",
       "\tfont-weight: bold;\n",
       "}\n",
       "div.pval {\n",
       "    flex: 1 1 auto;\n",
       "}\n",
       "\n",
       ":root {\n",
       "\t--node:               hsla(120, 100%,  20%, 1.0  );\n",
       "\t--label:              hsla(  0, 100%,  20%, 1.0  );\n",
       "\t--tfsechead:          hsla(  0, 100%,  25%, 1.0  );\n",
       "\t--structure:          hsla(120, 100%,  25%, 1.0  );\n",
       "\t--features:           hsla(  0,   0%,  30%, 1.0  );\n",
       "  --text-color:         hsla( 60,  80%,  10%, 1.0  );\n",
       "  --lex-color:          hsla(220,  90%,  60%, 1.0  );\n",
       "  --meta-color:         hsla(  0,   0%,  90%, 0.7  );\n",
       "  --meta-width:         3px;\n",
       "  --border-color-nul:   hsla(  0,   0%,  90%, 0.5  );\n",
       "  --border-color0:      hsla(  0,   0%,  90%, 0.9  );\n",
       "  --border-color1:      hsla(  0,   0%,  80%, 0.9  );\n",
       "  --border-color2:      hsla(  0,   0%,  70%, 0.9  );\n",
       "  --border-color3:      hsla(  0,   0%,  80%, 0.8  );\n",
       "  --border-color4:      hsla(  0,   0%,  60%, 0.9  );\n",
       "  --border-width-nul:   2px;\n",
       "  --border-width0:      2px;\n",
       "  --border-width1:      3px;\n",
       "  --border-width2:      4px;\n",
       "  --border-width3:      6px;\n",
       "  --border-width4:      5px;\n",
       "  --border-width-plain: 2px;\n",
       "}\n",
       ".hl {\n",
       "  background-color: var(--hl-strong);\n",
       "}\n",
       "span.hl {\n",
       "\tbackground-color: var(--hl-strong);\n",
       "\tborder-width: 0;\n",
       "\tborder-radius: 2px;\n",
       "\tborder-style: solid;\n",
       "}\n",
       "div.contnr.hl,div.lbl.hl {\n",
       "  background-color: var(--hl-strong);\n",
       "}\n",
       "div.contnr.hl {\n",
       "  border-color: var(--hl-rim) ! important;\n",
       "\tborder-width: 4px ! important;\n",
       "}\n",
       "\n",
       "span.hlbx {\n",
       "\tborder-color: var(--hl-rim);\n",
       "\tborder-width: 4px ! important;\n",
       "\tborder-style: solid;\n",
       "\tborder-radius: 6px;\n",
       "  padding: 4px;\n",
       "  margin: 4px;\n",
       "}\n",
       "\n",
       "span.plain {\n",
       "  display: inline-block;\n",
       "  white-space: pre-wrap;\n",
       "}\n",
       "\n",
       ":root {\n",
       "\t--hl-strong:        hsla( 60, 100%,  70%, 0.9  );\n",
       "\t--hl-rim:           hsla( 55,  80%,  50%, 1.0  );\n",
       "}\n",
       "</style>"
      ],
      "text/plain": [
       "<IPython.core.display.HTML object>"
      ]
     },
     "metadata": {},
     "output_type": "display_data"
    },
    {
     "data": {
      "text/html": [
       "<div><b>Text-Fabric API:</b> names <a target=\"_blank\" href=\"https://annotation.github.io/text-fabric/tf/cheatsheet.html\" title=\"doc\">N F E L T S C TF</a> directly usable</div><hr>"
      ],
      "text/plain": [
       "<IPython.core.display.HTML object>"
      ]
     },
     "metadata": {},
     "output_type": "display_data"
    }
   ],
   "source": [
    "A = use(\"among/fusus/tf/fusus/Lakhnawi:clone\", version=\"0.2\", writing=\"ara\", hoist=globals())"
   ]
  },
  {
   "cell_type": "code",
   "execution_count": 4,
   "metadata": {},
   "outputs": [
    {
     "data": {
      "text/plain": [
       "('piece', 'page', 'sentence', 'line', 'column', 'span', 'word')"
      ]
     },
     "execution_count": 4,
     "metadata": {},
     "output_type": "execute_result"
    }
   ],
   "source": [
    "F.otype.all"
   ]
  },
  {
   "cell_type": "code",
   "execution_count": 37,
   "metadata": {},
   "outputs": [
    {
     "data": {
      "text/plain": [
       "47360"
      ]
     },
     "execution_count": 37,
     "metadata": {},
     "output_type": "execute_result"
    }
   ],
   "source": [
    "F.otype.maxSlot"
   ]
  },
  {
   "cell_type": "markdown",
   "metadata": {},
   "source": [
    "Show the pieces"
   ]
  },
  {
   "cell_type": "code",
   "execution_count": 11,
   "metadata": {},
   "outputs": [
    {
     "name": "stdout",
     "output_type": "stream",
     "text": [
      "  0.00s 35 results\n"
     ]
    },
    {
     "data": {
      "text/html": [
       "<p><b>result</b> <i>1</i></p>"
      ],
      "text/plain": [
       "<IPython.core.display.HTML object>"
      ]
     },
     "metadata": {},
     "output_type": "display_data"
    },
    {
     "data": {
      "text/html": [
       "<div class=\"tfsechead rtl\">1</div><div class=\"rtl children\"><div class=\"contnr c4 trm rtl  \" ><div class=\"lbl c4 trm \" ><span class=\"nd\">piece</span> <span class=\"txtu ara\"><span class=\"tfsechead\">1</span></span></div><div class='features'><span class=\"n xft\" ><span class=\"f\">n=</span>1</span><span class=\"title xft\" ><span class=\"f\">title=</span>front</span></div></div></div>"
      ],
      "text/plain": [
       "<IPython.core.display.HTML object>"
      ]
     },
     "metadata": {},
     "output_type": "display_data"
    },
    {
     "data": {
      "text/html": [
       "<p><b>result</b> <i>2</i></p>"
      ],
      "text/plain": [
       "<IPython.core.display.HTML object>"
      ]
     },
     "metadata": {},
     "output_type": "display_data"
    },
    {
     "data": {
      "text/html": [
       "<div class=\"tfsechead rtl\">2</div><div class=\"rtl children\"><div class=\"contnr c4 trm rtl  \" ><div class=\"lbl c4 trm \" ><span class=\"nd\">piece</span> <span class=\"txtu ara\"><span class=\"tfsechead\">2</span></span></div><div class='features'><span class=\"n xft\" ><span class=\"f\">n=</span>2</span><span class=\"title xft\" ><span class=\"f\">title=</span>عنوانكتابفصوصالحكموخصوصالكلم</span></div></div></div>"
      ],
      "text/plain": [
       "<IPython.core.display.HTML object>"
      ]
     },
     "metadata": {},
     "output_type": "display_data"
    },
    {
     "data": {
      "text/html": [
       "<p><b>result</b> <i>3</i></p>"
      ],
      "text/plain": [
       "<IPython.core.display.HTML object>"
      ]
     },
     "metadata": {},
     "output_type": "display_data"
    },
    {
     "data": {
      "text/html": [
       "<div class=\"tfsechead rtl\">3</div><div class=\"rtl children\"><div class=\"contnr c4 trm rtl  \" ><div class=\"lbl c4 trm \" ><span class=\"nd\">piece</span> <span class=\"txtu ara\"><span class=\"tfsechead\">3</span></span></div><div class='features'><span class=\"n xft\" ><span class=\"f\">n=</span>3</span><span class=\"title xft\" ><span class=\"f\">title=</span>خطبةكتابفصوصالحكموخصوصالكلم</span></div></div></div>"
      ],
      "text/plain": [
       "<IPython.core.display.HTML object>"
      ]
     },
     "metadata": {},
     "output_type": "display_data"
    },
    {
     "data": {
      "text/html": [
       "<p><b>result</b> <i>4</i></p>"
      ],
      "text/plain": [
       "<IPython.core.display.HTML object>"
      ]
     },
     "metadata": {},
     "output_type": "display_data"
    },
    {
     "data": {
      "text/html": [
       "<div class=\"tfsechead rtl\">4</div><div class=\"rtl children\"><div class=\"contnr c4 trm rtl  \" ><div class=\"lbl c4 trm \" ><span class=\"nd\">piece</span> <span class=\"txtu ara\"><span class=\"tfsechead\">4</span></span></div><div class='features'><span class=\"n xft\" ><span class=\"f\">n=</span>4</span><span class=\"np xft\" ><span class=\"f\">np=</span>1</span><span class=\"title xft\" ><span class=\"f\">title=</span>فصّحكمةإلٰهيّةفيكلمةآدميّة.</span></div></div></div>"
      ],
      "text/plain": [
       "<IPython.core.display.HTML object>"
      ]
     },
     "metadata": {},
     "output_type": "display_data"
    },
    {
     "data": {
      "text/html": [
       "<p><b>result</b> <i>5</i></p>"
      ],
      "text/plain": [
       "<IPython.core.display.HTML object>"
      ]
     },
     "metadata": {},
     "output_type": "display_data"
    },
    {
     "data": {
      "text/html": [
       "<div class=\"tfsechead rtl\">5</div><div class=\"rtl children\"><div class=\"contnr c4 trm rtl  \" ><div class=\"lbl c4 trm \" ><span class=\"nd\">piece</span> <span class=\"txtu ara\"><span class=\"tfsechead\">5</span></span></div><div class='features'><span class=\"n xft\" ><span class=\"f\">n=</span>5</span><span class=\"np xft\" ><span class=\"f\">np=</span>2</span><span class=\"title xft\" ><span class=\"f\">title=</span>فصّحكمةنَفْثِيَّةفيكلمةشِـيثِيّة</span></div></div></div>"
      ],
      "text/plain": [
       "<IPython.core.display.HTML object>"
      ]
     },
     "metadata": {},
     "output_type": "display_data"
    },
    {
     "data": {
      "text/html": [
       "<p><b>result</b> <i>6</i></p>"
      ],
      "text/plain": [
       "<IPython.core.display.HTML object>"
      ]
     },
     "metadata": {},
     "output_type": "display_data"
    },
    {
     "data": {
      "text/html": [
       "<div class=\"tfsechead rtl\">6</div><div class=\"rtl children\"><div class=\"contnr c4 trm rtl  \" ><div class=\"lbl c4 trm \" ><span class=\"nd\">piece</span> <span class=\"txtu ara\"><span class=\"tfsechead\">6</span></span></div><div class='features'><span class=\"n xft\" ><span class=\"f\">n=</span>6</span><span class=\"np xft\" ><span class=\"f\">np=</span>3</span><span class=\"title xft\" ><span class=\"f\">title=</span>فصّحكمةسُـبُّوحِيّةفيكلمةنوحيّة</span></div></div></div>"
      ],
      "text/plain": [
       "<IPython.core.display.HTML object>"
      ]
     },
     "metadata": {},
     "output_type": "display_data"
    },
    {
     "data": {
      "text/html": [
       "<p><b>result</b> <i>7</i></p>"
      ],
      "text/plain": [
       "<IPython.core.display.HTML object>"
      ]
     },
     "metadata": {},
     "output_type": "display_data"
    },
    {
     "data": {
      "text/html": [
       "<div class=\"tfsechead rtl\">7</div><div class=\"rtl children\"><div class=\"contnr c4 trm rtl  \" ><div class=\"lbl c4 trm \" ><span class=\"nd\">piece</span> <span class=\"txtu ara\"><span class=\"tfsechead\">7</span></span></div><div class='features'><span class=\"n xft\" ><span class=\"f\">n=</span>7</span><span class=\"np xft\" ><span class=\"f\">np=</span>4</span><span class=\"title xft\" ><span class=\"f\">title=</span>فصّحكمةقُدُّوسِيّةفيكلمةإدريسيّة</span></div></div></div>"
      ],
      "text/plain": [
       "<IPython.core.display.HTML object>"
      ]
     },
     "metadata": {},
     "output_type": "display_data"
    },
    {
     "data": {
      "text/html": [
       "<p><b>result</b> <i>8</i></p>"
      ],
      "text/plain": [
       "<IPython.core.display.HTML object>"
      ]
     },
     "metadata": {},
     "output_type": "display_data"
    },
    {
     "data": {
      "text/html": [
       "<div class=\"tfsechead rtl\">8</div><div class=\"rtl children\"><div class=\"contnr c4 trm rtl  \" ><div class=\"lbl c4 trm \" ><span class=\"nd\">piece</span> <span class=\"txtu ara\"><span class=\"tfsechead\">8</span></span></div><div class='features'><span class=\"n xft\" ><span class=\"f\">n=</span>8</span><span class=\"np xft\" ><span class=\"f\">np=</span>5</span><span class=\"title xft\" ><span class=\"f\">title=</span>فصّحكمةمُهَيْمِيّةفيكلمةإبـراهيميّة</span></div></div></div>"
      ],
      "text/plain": [
       "<IPython.core.display.HTML object>"
      ]
     },
     "metadata": {},
     "output_type": "display_data"
    },
    {
     "data": {
      "text/html": [
       "<p><b>result</b> <i>9</i></p>"
      ],
      "text/plain": [
       "<IPython.core.display.HTML object>"
      ]
     },
     "metadata": {},
     "output_type": "display_data"
    },
    {
     "data": {
      "text/html": [
       "<div class=\"tfsechead rtl\">9</div><div class=\"rtl children\"><div class=\"contnr c4 trm rtl  \" ><div class=\"lbl c4 trm \" ><span class=\"nd\">piece</span> <span class=\"txtu ara\"><span class=\"tfsechead\">9</span></span></div><div class='features'><span class=\"n xft\" ><span class=\"f\">n=</span>9</span><span class=\"np xft\" ><span class=\"f\">np=</span>6</span><span class=\"title xft\" ><span class=\"f\">title=</span>فصّحكمةحَقِـيّةفيكلمةإسحاقـيّة</span></div></div></div>"
      ],
      "text/plain": [
       "<IPython.core.display.HTML object>"
      ]
     },
     "metadata": {},
     "output_type": "display_data"
    },
    {
     "data": {
      "text/html": [
       "<p><b>result</b> <i>10</i></p>"
      ],
      "text/plain": [
       "<IPython.core.display.HTML object>"
      ]
     },
     "metadata": {},
     "output_type": "display_data"
    },
    {
     "data": {
      "text/html": [
       "<div class=\"tfsechead rtl\">10</div><div class=\"rtl children\"><div class=\"contnr c4 trm rtl  \" ><div class=\"lbl c4 trm \" ><span class=\"nd\">piece</span> <span class=\"txtu ara\"><span class=\"tfsechead\">10</span></span></div><div class='features'><span class=\"n xft\" ><span class=\"f\">n=</span>10</span><span class=\"np xft\" ><span class=\"f\">np=</span>7</span><span class=\"title xft\" ><span class=\"f\">title=</span>فصّحكمةعَلِيَّةفيكلمةإسماعيلـيّة</span></div></div></div>"
      ],
      "text/plain": [
       "<IPython.core.display.HTML object>"
      ]
     },
     "metadata": {},
     "output_type": "display_data"
    },
    {
     "data": {
      "text/html": [
       "<p><b>result</b> <i>11</i></p>"
      ],
      "text/plain": [
       "<IPython.core.display.HTML object>"
      ]
     },
     "metadata": {},
     "output_type": "display_data"
    },
    {
     "data": {
      "text/html": [
       "<div class=\"tfsechead rtl\">11</div><div class=\"rtl children\"><div class=\"contnr c4 trm rtl  \" ><div class=\"lbl c4 trm \" ><span class=\"nd\">piece</span> <span class=\"txtu ara\"><span class=\"tfsechead\">11</span></span></div><div class='features'><span class=\"n xft\" ><span class=\"f\">n=</span>11</span><span class=\"np xft\" ><span class=\"f\">np=</span>8</span><span class=\"title xft\" ><span class=\"f\">title=</span>فصّحكمةرُوحيّةفيكلمةيعقوبـيّة</span></div></div></div>"
      ],
      "text/plain": [
       "<IPython.core.display.HTML object>"
      ]
     },
     "metadata": {},
     "output_type": "display_data"
    },
    {
     "data": {
      "text/html": [
       "<p><b>result</b> <i>12</i></p>"
      ],
      "text/plain": [
       "<IPython.core.display.HTML object>"
      ]
     },
     "metadata": {},
     "output_type": "display_data"
    },
    {
     "data": {
      "text/html": [
       "<div class=\"tfsechead rtl\">12</div><div class=\"rtl children\"><div class=\"contnr c4 trm rtl  \" ><div class=\"lbl c4 trm \" ><span class=\"nd\">piece</span> <span class=\"txtu ara\"><span class=\"tfsechead\">12</span></span></div><div class='features'><span class=\"n xft\" ><span class=\"f\">n=</span>12</span><span class=\"np xft\" ><span class=\"f\">np=</span>9</span><span class=\"title xft\" ><span class=\"f\">title=</span>فصّحكمةنوريّةفيكلمةيوسفيّة</span></div></div></div>"
      ],
      "text/plain": [
       "<IPython.core.display.HTML object>"
      ]
     },
     "metadata": {},
     "output_type": "display_data"
    },
    {
     "data": {
      "text/html": [
       "<p><b>result</b> <i>13</i></p>"
      ],
      "text/plain": [
       "<IPython.core.display.HTML object>"
      ]
     },
     "metadata": {},
     "output_type": "display_data"
    },
    {
     "data": {
      "text/html": [
       "<div class=\"tfsechead rtl\">13</div><div class=\"rtl children\"><div class=\"contnr c4 trm rtl  \" ><div class=\"lbl c4 trm \" ><span class=\"nd\">piece</span> <span class=\"txtu ara\"><span class=\"tfsechead\">13</span></span></div><div class='features'><span class=\"n xft\" ><span class=\"f\">n=</span>13</span><span class=\"np xft\" ><span class=\"f\">np=</span>10</span><span class=\"title xft\" ><span class=\"f\">title=</span>فصّحكمةأحديّةفيكلمةهوديّة</span></div></div></div>"
      ],
      "text/plain": [
       "<IPython.core.display.HTML object>"
      ]
     },
     "metadata": {},
     "output_type": "display_data"
    },
    {
     "data": {
      "text/html": [
       "<p><b>result</b> <i>14</i></p>"
      ],
      "text/plain": [
       "<IPython.core.display.HTML object>"
      ]
     },
     "metadata": {},
     "output_type": "display_data"
    },
    {
     "data": {
      "text/html": [
       "<div class=\"tfsechead rtl\">14</div><div class=\"rtl children\"><div class=\"contnr c4 trm rtl  \" ><div class=\"lbl c4 trm \" ><span class=\"nd\">piece</span> <span class=\"txtu ara\"><span class=\"tfsechead\">14</span></span></div><div class='features'><span class=\"n xft\" ><span class=\"f\">n=</span>14</span><span class=\"np xft\" ><span class=\"f\">np=</span>11</span><span class=\"title xft\" ><span class=\"f\">title=</span>فصّحكمةفاتحيّةفيكلمةصالحيّة</span></div></div></div>"
      ],
      "text/plain": [
       "<IPython.core.display.HTML object>"
      ]
     },
     "metadata": {},
     "output_type": "display_data"
    },
    {
     "data": {
      "text/html": [
       "<p><b>result</b> <i>15</i></p>"
      ],
      "text/plain": [
       "<IPython.core.display.HTML object>"
      ]
     },
     "metadata": {},
     "output_type": "display_data"
    },
    {
     "data": {
      "text/html": [
       "<div class=\"tfsechead rtl\">15</div><div class=\"rtl children\"><div class=\"contnr c4 trm rtl  \" ><div class=\"lbl c4 trm \" ><span class=\"nd\">piece</span> <span class=\"txtu ara\"><span class=\"tfsechead\">15</span></span></div><div class='features'><span class=\"n xft\" ><span class=\"f\">n=</span>15</span><span class=\"np xft\" ><span class=\"f\">np=</span>12</span><span class=\"title xft\" ><span class=\"f\">title=</span>فصّحكمةقـلبـيّةفيكلمةشعيبيّة</span></div></div></div>"
      ],
      "text/plain": [
       "<IPython.core.display.HTML object>"
      ]
     },
     "metadata": {},
     "output_type": "display_data"
    },
    {
     "data": {
      "text/html": [
       "<p><b>result</b> <i>16</i></p>"
      ],
      "text/plain": [
       "<IPython.core.display.HTML object>"
      ]
     },
     "metadata": {},
     "output_type": "display_data"
    },
    {
     "data": {
      "text/html": [
       "<div class=\"tfsechead rtl\">16</div><div class=\"rtl children\"><div class=\"contnr c4 trm rtl  \" ><div class=\"lbl c4 trm \" ><span class=\"nd\">piece</span> <span class=\"txtu ara\"><span class=\"tfsechead\">16</span></span></div><div class='features'><span class=\"n xft\" ><span class=\"f\">n=</span>16</span><span class=\"np xft\" ><span class=\"f\">np=</span>13</span><span class=\"title xft\" ><span class=\"f\">title=</span>فصّحكمةمَلَـكِيّةفيكلمةلوطيّة</span></div></div></div>"
      ],
      "text/plain": [
       "<IPython.core.display.HTML object>"
      ]
     },
     "metadata": {},
     "output_type": "display_data"
    },
    {
     "data": {
      "text/html": [
       "<p><b>result</b> <i>17</i></p>"
      ],
      "text/plain": [
       "<IPython.core.display.HTML object>"
      ]
     },
     "metadata": {},
     "output_type": "display_data"
    },
    {
     "data": {
      "text/html": [
       "<div class=\"tfsechead rtl\">17</div><div class=\"rtl children\"><div class=\"contnr c4 trm rtl  \" ><div class=\"lbl c4 trm \" ><span class=\"nd\">piece</span> <span class=\"txtu ara\"><span class=\"tfsechead\">17</span></span></div><div class='features'><span class=\"n xft\" ><span class=\"f\">n=</span>17</span><span class=\"np xft\" ><span class=\"f\">np=</span>14</span><span class=\"title xft\" ><span class=\"f\">title=</span>فصّحكمةقَدَرِيّةفيكلمةعُـزيريّة</span></div></div></div>"
      ],
      "text/plain": [
       "<IPython.core.display.HTML object>"
      ]
     },
     "metadata": {},
     "output_type": "display_data"
    },
    {
     "data": {
      "text/html": [
       "<p><b>result</b> <i>18</i></p>"
      ],
      "text/plain": [
       "<IPython.core.display.HTML object>"
      ]
     },
     "metadata": {},
     "output_type": "display_data"
    },
    {
     "data": {
      "text/html": [
       "<div class=\"tfsechead rtl\">18</div><div class=\"rtl children\"><div class=\"contnr c4 trm rtl  \" ><div class=\"lbl c4 trm \" ><span class=\"nd\">piece</span> <span class=\"txtu ara\"><span class=\"tfsechead\">18</span></span></div><div class='features'><span class=\"n xft\" ><span class=\"f\">n=</span>18</span><span class=\"np xft\" ><span class=\"f\">np=</span>15</span><span class=\"title xft\" ><span class=\"f\">title=</span>فصّحكمةنبويّةفيكلمةعيسويّة</span></div></div></div>"
      ],
      "text/plain": [
       "<IPython.core.display.HTML object>"
      ]
     },
     "metadata": {},
     "output_type": "display_data"
    },
    {
     "data": {
      "text/html": [
       "<p><b>result</b> <i>19</i></p>"
      ],
      "text/plain": [
       "<IPython.core.display.HTML object>"
      ]
     },
     "metadata": {},
     "output_type": "display_data"
    },
    {
     "data": {
      "text/html": [
       "<div class=\"tfsechead rtl\">19</div><div class=\"rtl children\"><div class=\"contnr c4 trm rtl  \" ><div class=\"lbl c4 trm \" ><span class=\"nd\">piece</span> <span class=\"txtu ara\"><span class=\"tfsechead\">19</span></span></div><div class='features'><span class=\"n xft\" ><span class=\"f\">n=</span>19</span><span class=\"np xft\" ><span class=\"f\">np=</span>16</span><span class=\"title xft\" ><span class=\"f\">title=</span>فصّحكمةرحمانيّةفيكلمةسليمانيّة</span></div></div></div>"
      ],
      "text/plain": [
       "<IPython.core.display.HTML object>"
      ]
     },
     "metadata": {},
     "output_type": "display_data"
    },
    {
     "data": {
      "text/html": [
       "<p><b>result</b> <i>20</i></p>"
      ],
      "text/plain": [
       "<IPython.core.display.HTML object>"
      ]
     },
     "metadata": {},
     "output_type": "display_data"
    },
    {
     "data": {
      "text/html": [
       "<div class=\"tfsechead rtl\">20</div><div class=\"rtl children\"><div class=\"contnr c4 trm rtl  \" ><div class=\"lbl c4 trm \" ><span class=\"nd\">piece</span> <span class=\"txtu ara\"><span class=\"tfsechead\">20</span></span></div><div class='features'><span class=\"n xft\" ><span class=\"f\">n=</span>20</span><span class=\"np xft\" ><span class=\"f\">np=</span>17</span><span class=\"title xft\" ><span class=\"f\">title=</span>فصّحكمةوجوديّةفيكلمةداوديّة</span></div></div></div>"
      ],
      "text/plain": [
       "<IPython.core.display.HTML object>"
      ]
     },
     "metadata": {},
     "output_type": "display_data"
    },
    {
     "data": {
      "text/html": [
       "<p><b>result</b> <i>21</i></p>"
      ],
      "text/plain": [
       "<IPython.core.display.HTML object>"
      ]
     },
     "metadata": {},
     "output_type": "display_data"
    },
    {
     "data": {
      "text/html": [
       "<div class=\"tfsechead rtl\">21</div><div class=\"rtl children\"><div class=\"contnr c4 trm rtl  \" ><div class=\"lbl c4 trm \" ><span class=\"nd\">piece</span> <span class=\"txtu ara\"><span class=\"tfsechead\">21</span></span></div><div class='features'><span class=\"n xft\" ><span class=\"f\">n=</span>21</span><span class=\"np xft\" ><span class=\"f\">np=</span>18</span><span class=\"title xft\" ><span class=\"f\">title=</span>فصّحكمةنَفْسِيّةفيكلمةيونسيّة</span></div></div></div>"
      ],
      "text/plain": [
       "<IPython.core.display.HTML object>"
      ]
     },
     "metadata": {},
     "output_type": "display_data"
    },
    {
     "data": {
      "text/html": [
       "<p><b>result</b> <i>22</i></p>"
      ],
      "text/plain": [
       "<IPython.core.display.HTML object>"
      ]
     },
     "metadata": {},
     "output_type": "display_data"
    },
    {
     "data": {
      "text/html": [
       "<div class=\"tfsechead rtl\">22</div><div class=\"rtl children\"><div class=\"contnr c4 trm rtl  \" ><div class=\"lbl c4 trm \" ><span class=\"nd\">piece</span> <span class=\"txtu ara\"><span class=\"tfsechead\">22</span></span></div><div class='features'><span class=\"n xft\" ><span class=\"f\">n=</span>22</span><span class=\"np xft\" ><span class=\"f\">np=</span>19</span><span class=\"title xft\" ><span class=\"f\">title=</span>فصّحكمةغيبيّةفيكلمةأيّوبيّة</span></div></div></div>"
      ],
      "text/plain": [
       "<IPython.core.display.HTML object>"
      ]
     },
     "metadata": {},
     "output_type": "display_data"
    },
    {
     "data": {
      "text/html": [
       "<p><b>result</b> <i>23</i></p>"
      ],
      "text/plain": [
       "<IPython.core.display.HTML object>"
      ]
     },
     "metadata": {},
     "output_type": "display_data"
    },
    {
     "data": {
      "text/html": [
       "<div class=\"tfsechead rtl\">23</div><div class=\"rtl children\"><div class=\"contnr c4 trm rtl  \" ><div class=\"lbl c4 trm \" ><span class=\"nd\">piece</span> <span class=\"txtu ara\"><span class=\"tfsechead\">23</span></span></div><div class='features'><span class=\"n xft\" ><span class=\"f\">n=</span>23</span><span class=\"np xft\" ><span class=\"f\">np=</span>20</span><span class=\"title xft\" ><span class=\"f\">title=</span>فصّحكمةجلاليّةفيكلمةيَحْـيَوِيَّة</span></div></div></div>"
      ],
      "text/plain": [
       "<IPython.core.display.HTML object>"
      ]
     },
     "metadata": {},
     "output_type": "display_data"
    },
    {
     "data": {
      "text/html": [
       "<p><b>result</b> <i>24</i></p>"
      ],
      "text/plain": [
       "<IPython.core.display.HTML object>"
      ]
     },
     "metadata": {},
     "output_type": "display_data"
    },
    {
     "data": {
      "text/html": [
       "<div class=\"tfsechead rtl\">24</div><div class=\"rtl children\"><div class=\"contnr c4 trm rtl  \" ><div class=\"lbl c4 trm \" ><span class=\"nd\">piece</span> <span class=\"txtu ara\"><span class=\"tfsechead\">24</span></span></div><div class='features'><span class=\"n xft\" ><span class=\"f\">n=</span>24</span><span class=\"np xft\" ><span class=\"f\">np=</span>21</span><span class=\"title xft\" ><span class=\"f\">title=</span>فصّحكمةمالكيّةفيكلمةزكـريّاويّة</span></div></div></div>"
      ],
      "text/plain": [
       "<IPython.core.display.HTML object>"
      ]
     },
     "metadata": {},
     "output_type": "display_data"
    },
    {
     "data": {
      "text/html": [
       "<p><b>result</b> <i>25</i></p>"
      ],
      "text/plain": [
       "<IPython.core.display.HTML object>"
      ]
     },
     "metadata": {},
     "output_type": "display_data"
    },
    {
     "data": {
      "text/html": [
       "<div class=\"tfsechead rtl\">25</div><div class=\"rtl children\"><div class=\"contnr c4 trm rtl  \" ><div class=\"lbl c4 trm \" ><span class=\"nd\">piece</span> <span class=\"txtu ara\"><span class=\"tfsechead\">25</span></span></div><div class='features'><span class=\"n xft\" ><span class=\"f\">n=</span>25</span><span class=\"np xft\" ><span class=\"f\">np=</span>22</span><span class=\"title xft\" ><span class=\"f\">title=</span>فصّحكمةإيـناسيّةفيكلمةإلياسيّة</span></div></div></div>"
      ],
      "text/plain": [
       "<IPython.core.display.HTML object>"
      ]
     },
     "metadata": {},
     "output_type": "display_data"
    },
    {
     "data": {
      "text/html": [
       "<p><b>result</b> <i>26</i></p>"
      ],
      "text/plain": [
       "<IPython.core.display.HTML object>"
      ]
     },
     "metadata": {},
     "output_type": "display_data"
    },
    {
     "data": {
      "text/html": [
       "<div class=\"tfsechead rtl\">26</div><div class=\"rtl children\"><div class=\"contnr c4 trm rtl  \" ><div class=\"lbl c4 trm \" ><span class=\"nd\">piece</span> <span class=\"txtu ara\"><span class=\"tfsechead\">26</span></span></div><div class='features'><span class=\"n xft\" ><span class=\"f\">n=</span>26</span><span class=\"np xft\" ><span class=\"f\">np=</span>23</span><span class=\"title xft\" ><span class=\"f\">title=</span>فصّحكمةإحسانيّةفيكلمةلقمانيّة</span></div></div></div>"
      ],
      "text/plain": [
       "<IPython.core.display.HTML object>"
      ]
     },
     "metadata": {},
     "output_type": "display_data"
    },
    {
     "data": {
      "text/html": [
       "<p><b>result</b> <i>27</i></p>"
      ],
      "text/plain": [
       "<IPython.core.display.HTML object>"
      ]
     },
     "metadata": {},
     "output_type": "display_data"
    },
    {
     "data": {
      "text/html": [
       "<div class=\"tfsechead rtl\">27</div><div class=\"rtl children\"><div class=\"contnr c4 trm rtl  \" ><div class=\"lbl c4 trm \" ><span class=\"nd\">piece</span> <span class=\"txtu ara\"><span class=\"tfsechead\">27</span></span></div><div class='features'><span class=\"n xft\" ><span class=\"f\">n=</span>27</span><span class=\"np xft\" ><span class=\"f\">np=</span>24</span><span class=\"title xft\" ><span class=\"f\">title=</span>فصّحكمةإماميّةفيكلمةهارونيّة</span></div></div></div>"
      ],
      "text/plain": [
       "<IPython.core.display.HTML object>"
      ]
     },
     "metadata": {},
     "output_type": "display_data"
    },
    {
     "data": {
      "text/html": [
       "<p><b>result</b> <i>28</i></p>"
      ],
      "text/plain": [
       "<IPython.core.display.HTML object>"
      ]
     },
     "metadata": {},
     "output_type": "display_data"
    },
    {
     "data": {
      "text/html": [
       "<div class=\"tfsechead rtl\">28</div><div class=\"rtl children\"><div class=\"contnr c4 trm rtl  \" ><div class=\"lbl c4 trm \" ><span class=\"nd\">piece</span> <span class=\"txtu ara\"><span class=\"tfsechead\">28</span></span></div><div class='features'><span class=\"n xft\" ><span class=\"f\">n=</span>28</span><span class=\"np xft\" ><span class=\"f\">np=</span>25</span><span class=\"title xft\" ><span class=\"f\">title=</span>فصّحكمةعُـلـويّةفيكلمةموسويّة</span></div></div></div>"
      ],
      "text/plain": [
       "<IPython.core.display.HTML object>"
      ]
     },
     "metadata": {},
     "output_type": "display_data"
    },
    {
     "data": {
      "text/html": [
       "<p><b>result</b> <i>29</i></p>"
      ],
      "text/plain": [
       "<IPython.core.display.HTML object>"
      ]
     },
     "metadata": {},
     "output_type": "display_data"
    },
    {
     "data": {
      "text/html": [
       "<div class=\"tfsechead rtl\">29</div><div class=\"rtl children\"><div class=\"contnr c4 trm rtl  \" ><div class=\"lbl c4 trm \" ><span class=\"nd\">piece</span> <span class=\"txtu ara\"><span class=\"tfsechead\">29</span></span></div><div class='features'><span class=\"n xft\" ><span class=\"f\">n=</span>29</span><span class=\"np xft\" ><span class=\"f\">np=</span>26</span><span class=\"title xft\" ><span class=\"f\">title=</span>فصّحكمةصمديّةفيكلمةخالديّة</span></div></div></div>"
      ],
      "text/plain": [
       "<IPython.core.display.HTML object>"
      ]
     },
     "metadata": {},
     "output_type": "display_data"
    },
    {
     "data": {
      "text/html": [
       "<p><b>result</b> <i>30</i></p>"
      ],
      "text/plain": [
       "<IPython.core.display.HTML object>"
      ]
     },
     "metadata": {},
     "output_type": "display_data"
    },
    {
     "data": {
      "text/html": [
       "<div class=\"tfsechead rtl\">30</div><div class=\"rtl children\"><div class=\"contnr c4 trm rtl  \" ><div class=\"lbl c4 trm \" ><span class=\"nd\">piece</span> <span class=\"txtu ara\"><span class=\"tfsechead\">30</span></span></div><div class='features'><span class=\"n xft\" ><span class=\"f\">n=</span>30</span><span class=\"np xft\" ><span class=\"f\">np=</span>27</span><span class=\"title xft\" ><span class=\"f\">title=</span>فصّحكمةفرديّةفيكلمةمحمديّة</span></div></div></div>"
      ],
      "text/plain": [
       "<IPython.core.display.HTML object>"
      ]
     },
     "metadata": {},
     "output_type": "display_data"
    },
    {
     "data": {
      "text/html": [
       "<p><b>result</b> <i>31</i></p>"
      ],
      "text/plain": [
       "<IPython.core.display.HTML object>"
      ]
     },
     "metadata": {},
     "output_type": "display_data"
    },
    {
     "data": {
      "text/html": [
       "<div class=\"tfsechead rtl\">34</div><div class=\"rtl children\"><div class=\"contnr c4 trm rtl  \" ><div class=\"lbl c4 trm \" ><span class=\"nd\">piece</span> <span class=\"txtu ara\"><span class=\"tfsechead\">34</span></span></div><div class='features'><span class=\"n xft\" ><span class=\"f\">n=</span>34</span><span class=\"title xft\" ><span class=\"f\">title=</span>الملحقات</span></div></div></div>"
      ],
      "text/plain": [
       "<IPython.core.display.HTML object>"
      ]
     },
     "metadata": {},
     "output_type": "display_data"
    },
    {
     "data": {
      "text/html": [
       "<p><b>result</b> <i>32</i></p>"
      ],
      "text/plain": [
       "<IPython.core.display.HTML object>"
      ]
     },
     "metadata": {},
     "output_type": "display_data"
    },
    {
     "data": {
      "text/html": [
       "<div class=\"tfsechead rtl\">35</div><div class=\"rtl children\"><div class=\"contnr c4 trm rtl  \" ><div class=\"lbl c4 trm \" ><span class=\"nd\">piece</span> <span class=\"txtu ara\"><span class=\"tfsechead\">35</span></span></div><div class='features'><span class=\"n xft\" ><span class=\"f\">n=</span>35</span><span class=\"title xft\" ><span class=\"f\">title=</span>ملحق١:تعليقاتداخلالمخطوط</span></div></div></div>"
      ],
      "text/plain": [
       "<IPython.core.display.HTML object>"
      ]
     },
     "metadata": {},
     "output_type": "display_data"
    },
    {
     "data": {
      "text/html": [
       "<p><b>result</b> <i>33</i></p>"
      ],
      "text/plain": [
       "<IPython.core.display.HTML object>"
      ]
     },
     "metadata": {},
     "output_type": "display_data"
    },
    {
     "data": {
      "text/html": [
       "<div class=\"tfsechead rtl\">36</div><div class=\"rtl children\"><div class=\"contnr c4 trm rtl  \" ><div class=\"lbl c4 trm \" ><span class=\"nd\">piece</span> <span class=\"txtu ara\"><span class=\"tfsechead\">36</span></span></div><div class='features'><span class=\"n xft\" ><span class=\"f\">n=</span>36</span><span class=\"title xft\" ><span class=\"f\">title=</span>ملحق٢:تحقيقفيمسألةالذبيح</span></div></div></div>"
      ],
      "text/plain": [
       "<IPython.core.display.HTML object>"
      ]
     },
     "metadata": {},
     "output_type": "display_data"
    },
    {
     "data": {
      "text/html": [
       "<p><b>result</b> <i>34</i></p>"
      ],
      "text/plain": [
       "<IPython.core.display.HTML object>"
      ]
     },
     "metadata": {},
     "output_type": "display_data"
    },
    {
     "data": {
      "text/html": [
       "<div class=\"tfsechead rtl\">37</div><div class=\"rtl children\"><div class=\"contnr c4 trm rtl  \" ><div class=\"lbl c4 trm \" ><span class=\"nd\">piece</span> <span class=\"txtu ara\"><span class=\"tfsechead\">37</span></span></div><div class='features'><span class=\"n xft\" ><span class=\"f\">n=</span>37</span><span class=\"title xft\" ><span class=\"f\">title=</span>ملحق٣:تحقيقفيخالدبنسنان</span></div></div></div>"
      ],
      "text/plain": [
       "<IPython.core.display.HTML object>"
      ]
     },
     "metadata": {},
     "output_type": "display_data"
    },
    {
     "data": {
      "text/html": [
       "<p><b>result</b> <i>35</i></p>"
      ],
      "text/plain": [
       "<IPython.core.display.HTML object>"
      ]
     },
     "metadata": {},
     "output_type": "display_data"
    },
    {
     "data": {
      "text/html": [
       "<div class=\"tfsechead rtl\">38</div><div class=\"rtl children\"><div class=\"contnr c4 trm rtl  \" ><div class=\"lbl c4 trm \" ><span class=\"nd\">piece</span> <span class=\"txtu ara\"><span class=\"tfsechead\">38</span></span></div><div class='features'><span class=\"n xft\" ><span class=\"f\">n=</span>38</span><span class=\"title xft\" ><span class=\"f\">title=</span>ملحق٤:تخريجحديثالتحول</span></div></div></div>"
      ],
      "text/plain": [
       "<IPython.core.display.HTML object>"
      ]
     },
     "metadata": {},
     "output_type": "display_data"
    }
   ],
   "source": [
    "results = A.search(\"\"\"\n",
    "piece n* np* title*\n",
    "\"\"\")\n",
    "A.show(results)"
   ]
  },
  {
   "cell_type": "code",
   "execution_count": 6,
   "metadata": {},
   "outputs": [
    {
     "data": {
      "text/plain": [
       "[(58030,),\n",
       " (58031,),\n",
       " (58032,),\n",
       " (58033,),\n",
       " (58034,),\n",
       " (58035,),\n",
       " (58036,),\n",
       " (58037,),\n",
       " (58038,),\n",
       " (58039,),\n",
       " (58040,),\n",
       " (58041,),\n",
       " (58042,),\n",
       " (58043,),\n",
       " (58044,),\n",
       " (58045,),\n",
       " (58046,),\n",
       " (58047,),\n",
       " (58048,),\n",
       " (58049,),\n",
       " (58050,),\n",
       " (58051,),\n",
       " (58052,),\n",
       " (58053,),\n",
       " (58054,),\n",
       " (58055,),\n",
       " (58056,),\n",
       " (58057,),\n",
       " (58058,),\n",
       " (58059,),\n",
       " (58060,),\n",
       " (58061,),\n",
       " (58062,),\n",
       " (58063,),\n",
       " (58064,)]"
      ]
     },
     "execution_count": 6,
     "metadata": {},
     "output_type": "execute_result"
    }
   ],
   "source": [
    "results"
   ]
  },
  {
   "cell_type": "markdown",
   "metadata": {},
   "source": [
    "All words on the first line of every page"
   ]
  },
  {
   "cell_type": "code",
   "execution_count": 21,
   "metadata": {},
   "outputs": [],
   "source": [
    "template = \"\"\"\n",
    "line ln=1\n",
    "  word\n",
    "\"\"\""
   ]
  },
  {
   "cell_type": "code",
   "execution_count": 22,
   "metadata": {},
   "outputs": [
    {
     "name": "stdout",
     "output_type": "stream",
     "text": [
      "  0.06s 3972 results\n"
     ]
    }
   ],
   "source": [
    "results = A.search(template)"
   ]
  },
  {
   "cell_type": "code",
   "execution_count": 23,
   "metadata": {},
   "outputs": [
    {
     "data": {
      "text/plain": [
       "[(52526, 1),\n",
       " (52526, 2),\n",
       " (52537, 15),\n",
       " (52537, 16),\n",
       " (52537, 17),\n",
       " (52540, 21),\n",
       " (52540, 22),\n",
       " (52540, 23),\n",
       " (52540, 24),\n",
       " (52551, 78)]"
      ]
     },
     "execution_count": 23,
     "metadata": {},
     "output_type": "execute_result"
    }
   ],
   "source": [
    "results[0:10]"
   ]
  },
  {
   "cell_type": "code",
   "execution_count": 24,
   "metadata": {},
   "outputs": [
    {
     "data": {
      "text/html": [
       "<table><tr class=\"tf rtl\"><th class=\"tf rtl\">n</th><th class=\"tf rtl\">p</th><th class=\"tf rtl\">line</th><th class=\"tf\">word</th></tr>\n",
       "<tr class=\"tf rtl\"><td class=\"tf rtl\">1</td><td class=\"tf rtl\"><span class=\"tfsechead ltr\">1 1:1</span></td><td class=\"tf rtl\"><span class=\"rtl ubd\"></span></td><td class=\"tf rtl\"><span class=\"rtl ubd\"><span class=\"plain rtl  hl\" ><span class=\"txtu ara\">فصوص </span></span></span></td></tr>\n",
       "<tr class=\"tf rtl\"><td class=\"tf rtl\">2</td><td class=\"tf rtl\"><span class=\"tfsechead ltr\">1 1:1</span></td><td class=\"tf rtl\"><span class=\"rtl ubd\"></span></td><td class=\"tf rtl\"><span class=\"rtl ubd\"><span class=\"plain rtl  hl\" ><span class=\"txtu ara\">الحكم </span></span></span></td></tr>\n",
       "<tr class=\"tf rtl\"><td class=\"tf rtl\">3</td><td class=\"tf rtl\"><span class=\"tfsechead ltr\">1 2:1</span></td><td class=\"tf rtl\"><span class=\"rtl ubd\"></span></td><td class=\"tf rtl\"><span class=\"rtl ubd\"><span class=\"plain rtl  hl\" ><span class=\"txtu ara\">جميع </span></span></span></td></tr>\n",
       "<tr class=\"tf rtl\"><td class=\"tf rtl\">4</td><td class=\"tf rtl\"><span class=\"tfsechead ltr\">1 2:1</span></td><td class=\"tf rtl\"><span class=\"rtl ubd\"></span></td><td class=\"tf rtl\"><span class=\"rtl ubd\"><span class=\"plain rtl  hl\" ><span class=\"txtu ara\">الحقوق </span></span></span></td></tr>\n",
       "<tr class=\"tf rtl\"><td class=\"tf rtl\">5</td><td class=\"tf rtl\"><span class=\"tfsechead ltr\">1 2:1</span></td><td class=\"tf rtl\"><span class=\"rtl ubd\"></span></td><td class=\"tf rtl\"><span class=\"rtl ubd\"><span class=\"plain rtl  hl\" ><span class=\"txtu ara\">محفوظة </span></span></span></td></tr>\n",
       "<tr class=\"tf rtl\"><td class=\"tf rtl\">6</td><td class=\"tf rtl\"><span class=\"tfsechead ltr\">1 3:1</span></td><td class=\"tf rtl\"><span class=\"rtl ubd\"></span></td><td class=\"tf rtl\"><span class=\"rtl ubd\"><span class=\"plain rtl  hl\" ><span class=\"txtu ara\">بِسمِ </span></span></span></td></tr>\n",
       "<tr class=\"tf rtl\"><td class=\"tf rtl\">7</td><td class=\"tf rtl\"><span class=\"tfsechead ltr\">1 3:1</span></td><td class=\"tf rtl\"><span class=\"rtl ubd\"></span></td><td class=\"tf rtl\"><span class=\"rtl ubd\"><span class=\"plain rtl  hl\" ><span class=\"txtu ara\">اللهِ </span></span></span></td></tr>\n",
       "<tr class=\"tf rtl\"><td class=\"tf rtl\">8</td><td class=\"tf rtl\"><span class=\"tfsechead ltr\">1 3:1</span></td><td class=\"tf rtl\"><span class=\"rtl ubd\"></span></td><td class=\"tf rtl\"><span class=\"rtl ubd\"><span class=\"plain rtl  hl\" ><span class=\"txtu ara\">الرَّحْمٰـنِ </span></span></span></td></tr>\n",
       "<tr class=\"tf rtl\"><td class=\"tf rtl\">9</td><td class=\"tf rtl\"><span class=\"tfsechead ltr\">1 3:1</span></td><td class=\"tf rtl\"><span class=\"rtl ubd\"></span></td><td class=\"tf rtl\"><span class=\"rtl ubd\"><span class=\"plain rtl  hl\" ><span class=\"txtu ara\">الرَّحِيمِ </span></span></span></td></tr>\n",
       "<tr class=\"tf rtl\"><td class=\"tf rtl\">10</td><td class=\"tf rtl\"><span class=\"tfsechead ltr\">1 4:1</span></td><td class=\"tf rtl\"><span class=\"rtl ubd\"></span></td><td class=\"tf rtl\"><span class=\"rtl ubd\"><span class=\"plain rtl  hl\" ><span class=\"txtu ara\">الفهرست </span></span></span></td></tr>\n",
       "<tr class=\"tf rtl\"><td class=\"tf rtl\">11</td><td class=\"tf rtl\"><span class=\"tfsechead ltr\">1 5:1</span></td><td class=\"tf rtl\"><span class=\"rtl ubd\"></span></td><td class=\"tf rtl\"><span class=\"rtl ubd\"><span class=\"plain rtl  hl\" ><span class=\"txtu ara\">٩١‐ </span></span></span></td></tr>\n",
       "<tr class=\"tf rtl\"><td class=\"tf rtl\">12</td><td class=\"tf rtl\"><span class=\"tfsechead ltr\">1 5:1</span></td><td class=\"tf rtl\"><span class=\"rtl ubd\"></span></td><td class=\"tf rtl\"><span class=\"rtl ubd\"><span class=\"plain rtl  hl\" ><span class=\"txtu ara\">[٦١] </span></span></span></td></tr>\n",
       "<tr class=\"tf rtl\"><td class=\"tf rtl\">13</td><td class=\"tf rtl\"><span class=\"tfsechead ltr\">1 5:1</span></td><td class=\"tf rtl\"><span class=\"rtl ubd\"></span></td><td class=\"tf rtl\"><span class=\"rtl ubd\"><span class=\"plain rtl  hl\" ><span class=\"txtu ara\">فصّ </span></span></span></td></tr>\n",
       "<tr class=\"tf rtl\"><td class=\"tf rtl\">14</td><td class=\"tf rtl\"><span class=\"tfsechead ltr\">1 5:1</span></td><td class=\"tf rtl\"><span class=\"rtl ubd\"></span></td><td class=\"tf rtl\"><span class=\"rtl ubd\"><span class=\"plain rtl  hl\" ><span class=\"txtu ara\">حكمة </span></span></span></td></tr>\n",
       "<tr class=\"tf rtl\"><td class=\"tf rtl\">15</td><td class=\"tf rtl\"><span class=\"tfsechead ltr\">1 5:1</span></td><td class=\"tf rtl\"><span class=\"rtl ubd\"></span></td><td class=\"tf rtl\"><span class=\"rtl ubd\"><span class=\"plain rtl  hl\" ><span class=\"txtu ara\">رحمانيّة </span></span></span></td></tr>\n",
       "<tr class=\"tf rtl\"><td class=\"tf rtl\">16</td><td class=\"tf rtl\"><span class=\"tfsechead ltr\">1 5:1</span></td><td class=\"tf rtl\"><span class=\"rtl ubd\"></span></td><td class=\"tf rtl\"><span class=\"rtl ubd\"><span class=\"plain rtl  hl\" ><span class=\"txtu ara\">فيكلمة </span></span></span></td></tr>\n",
       "<tr class=\"tf rtl\"><td class=\"tf rtl\">17</td><td class=\"tf rtl\"><span class=\"tfsechead ltr\">1 5:1</span></td><td class=\"tf rtl\"><span class=\"rtl ubd\"></span></td><td class=\"tf rtl\"><span class=\"rtl ubd\"><span class=\"plain rtl  hl\" ><span class=\"txtu ara\">سليمانيّة……………………</span></span></span></td></tr>\n",
       "<tr class=\"tf rtl\"><td class=\"tf rtl\">18</td><td class=\"tf rtl\"><span class=\"tfsechead ltr\">1 5:1</span></td><td class=\"tf rtl\"><span class=\"rtl ubd\"></span></td><td class=\"tf rtl\"><span class=\"rtl ubd\"><span class=\"plain rtl  hl\" ><span class=\"txtu ara\">٢٤٢ </span></span></span></td></tr>\n",
       "<tr class=\"tf rtl\"><td class=\"tf rtl\">19</td><td class=\"tf rtl\"><span class=\"tfsechead ltr\">2 6:1</span></td><td class=\"tf rtl\"><span class=\"rtl ubd\"></span></td><td class=\"tf rtl\"><span class=\"rtl ubd\"><span class=\"plain rtl  hl\" ><span class=\"txtu ara\">[١وجه] </span></span></span></td></tr>\n",
       "<tr class=\"tf rtl\"><td class=\"tf rtl\">20</td><td class=\"tf rtl\"><span class=\"tfsechead ltr\">2 7:1</span></td><td class=\"tf rtl\"><span class=\"rtl ubd\"></span></td><td class=\"tf rtl\"><span class=\"rtl ubd\"><span class=\"plain rtl  hl\" ><span class=\"txtu ara\">[١ظهر] </span></span></span></td></tr></table>"
      ],
      "text/plain": [
       "<IPython.core.display.HTML object>"
      ]
     },
     "metadata": {},
     "output_type": "display_data"
    }
   ],
   "source": [
    "A.table(results, end=20)"
   ]
  },
  {
   "cell_type": "markdown",
   "metadata": {},
   "source": [
    "All first words of the first line of every page"
   ]
  },
  {
   "cell_type": "code",
   "execution_count": 26,
   "metadata": {},
   "outputs": [
    {
     "name": "stdout",
     "output_type": "stream",
     "text": [
      "  0.05s 438 results\n"
     ]
    },
    {
     "data": {
      "text/html": [
       "<table><tr class=\"tf rtl\"><th class=\"tf rtl\">n</th><th class=\"tf rtl\">p</th><th class=\"tf rtl\">line</th><th class=\"tf\">word</th></tr>\n",
       "<tr class=\"tf rtl\"><td class=\"tf rtl\">1</td><td class=\"tf rtl\"><span class=\"tfsechead ltr\">1 1:1</span></td><td class=\"tf rtl\"><span class=\"rtl ubd\"></span></td><td class=\"tf rtl\"><span class=\"rtl ubd\"><span class=\"plain rtl  hl\" ><span class=\"txtu ara\">فصوص </span></span></span></td></tr>\n",
       "<tr class=\"tf rtl\"><td class=\"tf rtl\">2</td><td class=\"tf rtl\"><span class=\"tfsechead ltr\">1 2:1</span></td><td class=\"tf rtl\"><span class=\"rtl ubd\"></span></td><td class=\"tf rtl\"><span class=\"rtl ubd\"><span class=\"plain rtl  hl\" ><span class=\"txtu ara\">جميع </span></span></span></td></tr>\n",
       "<tr class=\"tf rtl\"><td class=\"tf rtl\">3</td><td class=\"tf rtl\"><span class=\"tfsechead ltr\">1 3:1</span></td><td class=\"tf rtl\"><span class=\"rtl ubd\"></span></td><td class=\"tf rtl\"><span class=\"rtl ubd\"><span class=\"plain rtl  hl\" ><span class=\"txtu ara\">بِسمِ </span></span></span></td></tr>\n",
       "<tr class=\"tf rtl\"><td class=\"tf rtl\">4</td><td class=\"tf rtl\"><span class=\"tfsechead ltr\">1 4:1</span></td><td class=\"tf rtl\"><span class=\"rtl ubd\"></span></td><td class=\"tf rtl\"><span class=\"rtl ubd\"><span class=\"plain rtl  hl\" ><span class=\"txtu ara\">الفهرست </span></span></span></td></tr>\n",
       "<tr class=\"tf rtl\"><td class=\"tf rtl\">5</td><td class=\"tf rtl\"><span class=\"tfsechead ltr\">1 5:1</span></td><td class=\"tf rtl\"><span class=\"rtl ubd\"></span></td><td class=\"tf rtl\"><span class=\"rtl ubd\"><span class=\"plain rtl  hl\" ><span class=\"txtu ara\">٩١‐ </span></span></span></td></tr>\n",
       "<tr class=\"tf rtl\"><td class=\"tf rtl\">6</td><td class=\"tf rtl\"><span class=\"tfsechead ltr\">2 6:1</span></td><td class=\"tf rtl\"><span class=\"rtl ubd\"></span></td><td class=\"tf rtl\"><span class=\"rtl ubd\"><span class=\"plain rtl  hl\" ><span class=\"txtu ara\">[١وجه] </span></span></span></td></tr>\n",
       "<tr class=\"tf rtl\"><td class=\"tf rtl\">7</td><td class=\"tf rtl\"><span class=\"tfsechead ltr\">2 7:1</span></td><td class=\"tf rtl\"><span class=\"rtl ubd\"></span></td><td class=\"tf rtl\"><span class=\"rtl ubd\"><span class=\"plain rtl  hl\" ><span class=\"txtu ara\">[١ظهر] </span></span></span></td></tr>\n",
       "<tr class=\"tf rtl\"><td class=\"tf rtl\">8</td><td class=\"tf rtl\"><span class=\"tfsechead ltr\">3 8:1</span></td><td class=\"tf rtl\"><span class=\"rtl ubd\"></span></td><td class=\"tf rtl\"><span class=\"rtl ubd\"><span class=\"plain rtl  hl\" ><span class=\"txtu ara\">[خُطْـبَةُ </span></span></span></td></tr>\n",
       "<tr class=\"tf rtl\"><td class=\"tf rtl\">9</td><td class=\"tf rtl\"><span class=\"tfsechead ltr\">3 9:1</span></td><td class=\"tf rtl\"><span class=\"rtl ubd\"></span></td><td class=\"tf rtl\"><span class=\"rtl ubd\"><span class=\"plain rtl  hl\" ><span class=\"txtu ara\">وَصَلَّىٰ </span></span></span></td></tr>\n",
       "<tr class=\"tf rtl\"><td class=\"tf rtl\">10</td><td class=\"tf rtl\"><span class=\"tfsechead ltr\">3 10:1</span></td><td class=\"tf rtl\"><span class=\"rtl ubd\"></span></td><td class=\"tf rtl\"><span class=\"rtl ubd\"><span class=\"plain rtl  hl\" ><span class=\"txtu ara\">فَقُلْتُ: </span></span></span></td></tr>\n",
       "<tr class=\"tf rtl\"><td class=\"tf rtl\">11</td><td class=\"tf rtl\"><span class=\"tfsechead ltr\">3 11:1</span></td><td class=\"tf rtl\"><span class=\"rtl ubd\"></span></td><td class=\"tf rtl\"><span class=\"rtl ubd\"><span class=\"plain rtl  hl\" ><span class=\"txtu ara\">الرُّوعِ </span></span></span></td></tr>\n",
       "<tr class=\"tf rtl\"><td class=\"tf rtl\">12</td><td class=\"tf rtl\"><span class=\"tfsechead ltr\">3 12:1</span></td><td class=\"tf rtl\"><span class=\"rtl ubd\"></span></td><td class=\"tf rtl\"><span class=\"rtl ubd\"><span class=\"plain rtl  hl\" ><span class=\"txtu ara\">يُنْزَلُ </span></span></span></td></tr>\n",
       "<tr class=\"tf rtl\"><td class=\"tf rtl\">13</td><td class=\"tf rtl\"><span class=\"tfsechead ltr\">3 13:1</span></td><td class=\"tf rtl\"><span class=\"rtl ubd\"></span></td><td class=\"tf rtl\"><span class=\"rtl ubd\"><span class=\"plain rtl  hl\" ><span class=\"txtu ara\">وَمِنَ </span></span></span></td></tr>\n",
       "<tr class=\"tf rtl\"><td class=\"tf rtl\">14</td><td class=\"tf rtl\"><span class=\"tfsechead ltr\">4 14:1</span></td><td class=\"tf rtl\"><span class=\"rtl ubd\"></span></td><td class=\"tf rtl\"><span class=\"rtl ubd\"><span class=\"plain rtl  hl\" ><span class=\"txtu ara\">[١]﴿</span></span></span></td></tr>\n",
       "<tr class=\"tf rtl\"><td class=\"tf rtl\">15</td><td class=\"tf rtl\"><span class=\"tfsechead ltr\">4 15:1</span></td><td class=\"tf rtl\"><span class=\"rtl ubd\"></span></td><td class=\"tf rtl\"><span class=\"rtl ubd\"><span class=\"plain rtl  hl\" ><span class=\"txtu ara\">جَامِـعٍ </span></span></span></td></tr>\n",
       "<tr class=\"tf rtl\"><td class=\"tf rtl\">16</td><td class=\"tf rtl\"><span class=\"tfsechead ltr\">4 16:1</span></td><td class=\"tf rtl\"><span class=\"rtl ubd\"></span></td><td class=\"tf rtl\"><span class=\"rtl ubd\"><span class=\"plain rtl  hl\" ><span class=\"txtu ara\">فَـكَانَكَمِرآةٍ </span></span></span></td></tr>\n",
       "<tr class=\"tf rtl\"><td class=\"tf rtl\">17</td><td class=\"tf rtl\"><span class=\"tfsechead ltr\">4 17:1</span></td><td class=\"tf rtl\"><span class=\"rtl ubd\"></span></td><td class=\"tf rtl\"><span class=\"rtl ubd\"><span class=\"plain rtl  hl\" ><span class=\"txtu ara\">فَـكَانَتِ </span></span></span></td></tr>\n",
       "<tr class=\"tf rtl\"><td class=\"tf rtl\">18</td><td class=\"tf rtl\"><span class=\"tfsechead ltr\">4 18:1</span></td><td class=\"tf rtl\"><span class=\"rtl ubd\"></span></td><td class=\"tf rtl\"><span class=\"rtl ubd\"><span class=\"plain rtl  hl\" ><span class=\"txtu ara\">وَهٰذَا </span></span></span></td></tr>\n",
       "<tr class=\"tf rtl\"><td class=\"tf rtl\">19</td><td class=\"tf rtl\"><span class=\"tfsechead ltr\">4 19:1</span></td><td class=\"tf rtl\"><span class=\"rtl ubd\"></span></td><td class=\"tf rtl\"><span class=\"rtl ubd\"><span class=\"plain rtl  hl\" ><span class=\"txtu ara\">أَلَا </span></span></span></td></tr>\n",
       "<tr class=\"tf rtl\"><td class=\"tf rtl\">20</td><td class=\"tf rtl\"><span class=\"tfsechead ltr\">4 20:1</span></td><td class=\"tf rtl\"><span class=\"rtl ubd\"></span></td><td class=\"tf rtl\"><span class=\"rtl ubd\"><span class=\"plain rtl  hl\" ><span class=\"txtu ara\">فَإِنَّهُ </span></span></span></td></tr></table>"
      ],
      "text/plain": [
       "<IPython.core.display.HTML object>"
      ]
     },
     "metadata": {},
     "output_type": "display_data"
    }
   ],
   "source": [
    "template = \"\"\"\n",
    "line ln=1\n",
    "  =: word\n",
    "\"\"\"\n",
    "results = A.search(template)\n",
    "A.table(results, end=20)"
   ]
  },
  {
   "cell_type": "markdown",
   "metadata": {},
   "source": [
    "All last words of the first line of every page"
   ]
  },
  {
   "cell_type": "code",
   "execution_count": 28,
   "metadata": {},
   "outputs": [
    {
     "name": "stdout",
     "output_type": "stream",
     "text": [
      "  0.05s 438 results\n"
     ]
    },
    {
     "data": {
      "text/html": [
       "<table><tr class=\"tf rtl\"><th class=\"tf rtl\">n</th><th class=\"tf rtl\">p</th><th class=\"tf rtl\">line</th><th class=\"tf\">word</th></tr>\n",
       "<tr class=\"tf rtl\"><td class=\"tf rtl\">1</td><td class=\"tf rtl\"><span class=\"tfsechead ltr\">1 1:1</span></td><td class=\"tf rtl\"><span class=\"rtl ubd\"></span></td><td class=\"tf rtl\"><span class=\"rtl ubd\"><span class=\"plain rtl  hl\" ><span class=\"txtu ara\">الحكم </span></span></span></td></tr>\n",
       "<tr class=\"tf rtl\"><td class=\"tf rtl\">2</td><td class=\"tf rtl\"><span class=\"tfsechead ltr\">1 2:1</span></td><td class=\"tf rtl\"><span class=\"rtl ubd\"></span></td><td class=\"tf rtl\"><span class=\"rtl ubd\"><span class=\"plain rtl  hl\" ><span class=\"txtu ara\">محفوظة </span></span></span></td></tr>\n",
       "<tr class=\"tf rtl\"><td class=\"tf rtl\">3</td><td class=\"tf rtl\"><span class=\"tfsechead ltr\">1 3:1</span></td><td class=\"tf rtl\"><span class=\"rtl ubd\"></span></td><td class=\"tf rtl\"><span class=\"rtl ubd\"><span class=\"plain rtl  hl\" ><span class=\"txtu ara\">الرَّحِيمِ </span></span></span></td></tr>\n",
       "<tr class=\"tf rtl\"><td class=\"tf rtl\">4</td><td class=\"tf rtl\"><span class=\"tfsechead ltr\">1 4:1</span></td><td class=\"tf rtl\"><span class=\"rtl ubd\"></span></td><td class=\"tf rtl\"><span class=\"rtl ubd\"><span class=\"plain rtl  hl\" ><span class=\"txtu ara\">الفهرست </span></span></span></td></tr>\n",
       "<tr class=\"tf rtl\"><td class=\"tf rtl\">5</td><td class=\"tf rtl\"><span class=\"tfsechead ltr\">1 5:1</span></td><td class=\"tf rtl\"><span class=\"rtl ubd\"></span></td><td class=\"tf rtl\"><span class=\"rtl ubd\"><span class=\"plain rtl  hl\" ><span class=\"txtu ara\">٢٤٢ </span></span></span></td></tr>\n",
       "<tr class=\"tf rtl\"><td class=\"tf rtl\">6</td><td class=\"tf rtl\"><span class=\"tfsechead ltr\">2 6:1</span></td><td class=\"tf rtl\"><span class=\"rtl ubd\"></span></td><td class=\"tf rtl\"><span class=\"rtl ubd\"><span class=\"plain rtl  hl\" ><span class=\"txtu ara\">[١وجه] </span></span></span></td></tr>\n",
       "<tr class=\"tf rtl\"><td class=\"tf rtl\">7</td><td class=\"tf rtl\"><span class=\"tfsechead ltr\">2 7:1</span></td><td class=\"tf rtl\"><span class=\"rtl ubd\"></span></td><td class=\"tf rtl\"><span class=\"rtl ubd\"><span class=\"plain rtl  hl\" ><span class=\"txtu ara\">[١ظهر] </span></span></span></td></tr>\n",
       "<tr class=\"tf rtl\"><td class=\"tf rtl\">8</td><td class=\"tf rtl\"><span class=\"tfsechead ltr\">3 8:1</span></td><td class=\"tf rtl\"><span class=\"rtl ubd\"></span></td><td class=\"tf rtl\"><span class=\"rtl ubd\"><span class=\"plain rtl  hl\" ><span class=\"txtu ara\">المُؤلِّفِ] </span></span></span></td></tr>\n",
       "<tr class=\"tf rtl\"><td class=\"tf rtl\">9</td><td class=\"tf rtl\"><span class=\"tfsechead ltr\">3 9:1</span></td><td class=\"tf rtl\"><span class=\"rtl ubd\"></span></td><td class=\"tf rtl\"><span class=\"rtl ubd\"><span class=\"plain rtl  hl\" ><span class=\"txtu ara\">بِالقِيلِ </span></span></span></td></tr>\n",
       "<tr class=\"tf rtl\"><td class=\"tf rtl\">10</td><td class=\"tf rtl\"><span class=\"tfsechead ltr\">3 10:1</span></td><td class=\"tf rtl\"><span class=\"rtl ubd\"></span></td><td class=\"tf rtl\"><span class=\"rtl ubd\"><span class=\"plain rtl  hl\" ><span class=\"txtu ara\">أُمِرْنَا». </span></span></span></td></tr>\n",
       "<tr class=\"tf rtl\"><td class=\"tf rtl\">11</td><td class=\"tf rtl\"><span class=\"tfsechead ltr\">3 11:1</span></td><td class=\"tf rtl\"><span class=\"rtl ubd\"></span></td><td class=\"tf rtl\"><span class=\"rtl ubd\"><span class=\"plain rtl  hl\" ><span class=\"txtu ara\">مُتَحَكِّمًا، </span></span></span></td></tr>\n",
       "<tr class=\"tf rtl\"><td class=\"tf rtl\">12</td><td class=\"tf rtl\"><span class=\"tfsechead ltr\">3 12:1</span></td><td class=\"tf rtl\"><span class=\"rtl ubd\"></span></td><td class=\"tf rtl\"><span class=\"rtl ubd\"><span class=\"plain rtl  hl\" ><span class=\"txtu ara\">حَارِثٌ. </span></span></span></td></tr>\n",
       "<tr class=\"tf rtl\"><td class=\"tf rtl\">13</td><td class=\"tf rtl\"><span class=\"tfsechead ltr\">3 13:1</span></td><td class=\"tf rtl\"><span class=\"rtl ubd\"></span></td><td class=\"tf rtl\"><span class=\"rtl ubd\"><span class=\"plain rtl  hl\" ><span class=\"txtu ara\">بِالشَّرْعِ </span></span></span></td></tr>\n",
       "<tr class=\"tf rtl\"><td class=\"tf rtl\">14</td><td class=\"tf rtl\"><span class=\"tfsechead ltr\">4 14:1</span></td><td class=\"tf rtl\"><span class=\"rtl ubd\"></span></td><td class=\"tf rtl\"><span class=\"rtl ubd\"><span class=\"plain rtl  hl\" ><span class=\"txtu ara\">آدَمِيَّةٍ﴾ </span></span></span></td></tr>\n",
       "<tr class=\"tf rtl\"><td class=\"tf rtl\">15</td><td class=\"tf rtl\"><span class=\"tfsechead ltr\">4 15:1</span></td><td class=\"tf rtl\"><span class=\"rtl ubd\"></span></td><td class=\"tf rtl\"><span class=\"rtl ubd\"><span class=\"plain rtl  hl\" ><span class=\"txtu ara\">إِلَـيهِ. </span></span></span></td></tr>\n",
       "<tr class=\"tf rtl\"><td class=\"tf rtl\">16</td><td class=\"tf rtl\"><span class=\"tfsechead ltr\">4 16:1</span></td><td class=\"tf rtl\"><span class=\"rtl ubd\"></span></td><td class=\"tf rtl\"><span class=\"rtl ubd\"><span class=\"plain rtl  hl\" ><span class=\"txtu ara\">إِلَّا </span></span></span></td></tr>\n",
       "<tr class=\"tf rtl\"><td class=\"tf rtl\">17</td><td class=\"tf rtl\"><span class=\"tfsechead ltr\">4 17:1</span></td><td class=\"tf rtl\"><span class=\"rtl ubd\"></span></td><td class=\"tf rtl\"><span class=\"rtl ubd\"><span class=\"plain rtl  hl\" ><span class=\"txtu ara\">النَّشْأَةِ </span></span></span></td></tr>\n",
       "<tr class=\"tf rtl\"><td class=\"tf rtl\">18</td><td class=\"tf rtl\"><span class=\"tfsechead ltr\">4 18:1</span></td><td class=\"tf rtl\"><span class=\"rtl ubd\"></span></td><td class=\"tf rtl\"><span class=\"rtl ubd\"><span class=\"plain rtl  hl\" ><span class=\"txtu ara\">الإِدْرَاكِ </span></span></span></td></tr>\n",
       "<tr class=\"tf rtl\"><td class=\"tf rtl\">19</td><td class=\"tf rtl\"><span class=\"tfsechead ltr\">4 19:1</span></td><td class=\"tf rtl\"><span class=\"rtl ubd\"></span></td><td class=\"tf rtl\"><span class=\"rtl ubd\"><span class=\"plain rtl  hl\" ><span class=\"txtu ara\">الحَقُّ </span></span></span></td></tr>\n",
       "<tr class=\"tf rtl\"><td class=\"tf rtl\">20</td><td class=\"tf rtl\"><span class=\"tfsechead ltr\">4 20:1</span></td><td class=\"tf rtl\"><span class=\"rtl ubd\"></span></td><td class=\"tf rtl\"><span class=\"rtl ubd\"><span class=\"plain rtl  hl\" ><span class=\"txtu ara\">جَمْعِيَّةُ </span></span></span></td></tr></table>"
      ],
      "text/plain": [
       "<IPython.core.display.HTML object>"
      ]
     },
     "metadata": {},
     "output_type": "display_data"
    }
   ],
   "source": [
    "template = \"\"\"\n",
    "line ln=1\n",
    "  := word\n",
    "\"\"\"\n",
    "results = A.search(template)\n",
    "A.table(results, end=20)"
   ]
  },
  {
   "cell_type": "markdown",
   "metadata": {},
   "source": [
    "All first words of a piece"
   ]
  },
  {
   "cell_type": "code",
   "execution_count": 29,
   "metadata": {},
   "outputs": [
    {
     "name": "stdout",
     "output_type": "stream",
     "text": [
      "  0.06s 35 results\n"
     ]
    },
    {
     "data": {
      "text/html": [
       "<table><tr class=\"tf rtl\"><th class=\"tf rtl\">n</th><th class=\"tf rtl\">p</th><th class=\"tf rtl\">piece</th><th class=\"tf\">word</th></tr>\n",
       "<tr class=\"tf rtl\"><td class=\"tf rtl\">1</td><td class=\"tf rtl\"><span class=\"tfsechead ltr\">1 1:1</span></td><td class=\"tf rtl\"><span class=\"rtl ubd\"><span class=\"txtu ara rtl\"><span class=\"tfsechead\">1</span></span></span></td><td class=\"tf rtl\"><span class=\"rtl ubd\"><span class=\"plain rtl  hl\" ><span class=\"txtu ara\">فصوص </span></span></span></td></tr>\n",
       "<tr class=\"tf rtl\"><td class=\"tf rtl\">2</td><td class=\"tf rtl\"><span class=\"tfsechead ltr\">2 6:1</span></td><td class=\"tf rtl\"><span class=\"rtl ubd\"><span class=\"txtu ara rtl\"><span class=\"tfsechead\">2</span></span></span></td><td class=\"tf rtl\"><span class=\"rtl ubd\"><span class=\"plain rtl  hl\" ><span class=\"txtu ara\">[١وجه] </span></span></span></td></tr>\n",
       "<tr class=\"tf rtl\"><td class=\"tf rtl\">3</td><td class=\"tf rtl\"><span class=\"tfsechead ltr\">3 8:1</span></td><td class=\"tf rtl\"><span class=\"rtl ubd\"><span class=\"txtu ara rtl\"><span class=\"tfsechead\">3</span></span></span></td><td class=\"tf rtl\"><span class=\"rtl ubd\"><span class=\"plain rtl  hl\" ><span class=\"txtu ara\">[خُطْـبَةُ </span></span></span></td></tr>\n",
       "<tr class=\"tf rtl\"><td class=\"tf rtl\">4</td><td class=\"tf rtl\"><span class=\"tfsechead ltr\">4 14:1</span></td><td class=\"tf rtl\"><span class=\"rtl ubd\"><span class=\"txtu ara rtl\"><span class=\"tfsechead\">4</span></span></span></td><td class=\"tf rtl\"><span class=\"rtl ubd\"><span class=\"plain rtl  hl\" ><span class=\"txtu ara\">[١]﴿</span></span></span></td></tr>\n",
       "<tr class=\"tf rtl\"><td class=\"tf rtl\">5</td><td class=\"tf rtl\"><span class=\"tfsechead ltr\">5 32:1</span></td><td class=\"tf rtl\"><span class=\"rtl ubd\"><span class=\"txtu ara rtl\"><span class=\"tfsechead\">5</span></span></span></td><td class=\"tf rtl\"><span class=\"rtl ubd\"><span class=\"plain rtl  hl\" ><span class=\"txtu ara\">[٢]</span></span></span></td></tr>\n",
       "<tr class=\"tf rtl\"><td class=\"tf rtl\">6</td><td class=\"tf rtl\"><span class=\"tfsechead ltr\">6 52:1</span></td><td class=\"tf rtl\"><span class=\"rtl ubd\"><span class=\"txtu ara rtl\"><span class=\"tfsechead\">6</span></span></span></td><td class=\"tf rtl\"><span class=\"rtl ubd\"><span class=\"plain rtl  hl\" ><span class=\"txtu ara\">وَهُوَ </span></span></span></td></tr>\n",
       "<tr class=\"tf rtl\"><td class=\"tf rtl\">7</td><td class=\"tf rtl\"><span class=\"tfsechead ltr\">7 71:1</span></td><td class=\"tf rtl\"><span class=\"rtl ubd\"><span class=\"txtu ara rtl\"><span class=\"tfsechead\">7</span></span></span></td><td class=\"tf rtl\"><span class=\"rtl ubd\"><span class=\"plain rtl  hl\" ><span class=\"txtu ara\">المَنَازِلِ، </span></span></span></td></tr>\n",
       "<tr class=\"tf rtl\"><td class=\"tf rtl\">8</td><td class=\"tf rtl\"><span class=\"tfsechead ltr\">8 84:1</span></td><td class=\"tf rtl\"><span class=\"rtl ubd\"><span class=\"txtu ara rtl\"><span class=\"tfsechead\">8</span></span></span></td><td class=\"tf rtl\"><span class=\"rtl ubd\"><span class=\"plain rtl  hl\" ><span class=\"txtu ara\">كَمَا </span></span></span></td></tr>\n",
       "<tr class=\"tf rtl\"><td class=\"tf rtl\">9</td><td class=\"tf rtl\"><span class=\"tfsechead ltr\">9 95:1</span></td><td class=\"tf rtl\"><span class=\"rtl ubd\"><span class=\"txtu ara rtl\"><span class=\"tfsechead\">9</span></span></span></td><td class=\"tf rtl\"><span class=\"rtl ubd\"><span class=\"plain rtl  hl\" ><span class=\"txtu ara\">٣‐</span></span></span></td></tr>\n",
       "<tr class=\"tf rtl\"><td class=\"tf rtl\">10</td><td class=\"tf rtl\"><span class=\"tfsechead ltr\">10 111:1</span></td><td class=\"tf rtl\"><span class=\"rtl ubd\"><span class=\"txtu ara rtl\"><span class=\"tfsechead\">10</span></span></span></td><td class=\"tf rtl\"><span class=\"rtl ubd\"><span class=\"plain rtl  hl\" ><span class=\"txtu ara\">وَلِهٰذَا </span></span></span></td></tr>\n",
       "<tr class=\"tf rtl\"><td class=\"tf rtl\">11</td><td class=\"tf rtl\"><span class=\"tfsechead ltr\">11 121:1</span></td><td class=\"tf rtl\"><span class=\"rtl ubd\"><span class=\"txtu ara rtl\"><span class=\"tfsechead\">11</span></span></span></td><td class=\"tf rtl\"><span class=\"rtl ubd\"><span class=\"plain rtl  hl\" ><span class=\"txtu ara\">إِنَّ </span></span></span></td></tr>\n",
       "<tr class=\"tf rtl\"><td class=\"tf rtl\">12</td><td class=\"tf rtl\"><span class=\"tfsechead ltr\">12 130:1</span></td><td class=\"tf rtl\"><span class=\"rtl ubd\"><span class=\"txtu ara rtl\"><span class=\"tfsechead\">12</span></span></span></td><td class=\"tf rtl\"><span class=\"rtl ubd\"><span class=\"plain rtl  hl\" ><span class=\"txtu ara\">[٩]﴿</span></span></span></td></tr>\n",
       "<tr class=\"tf rtl\"><td class=\"tf rtl\">13</td><td class=\"tf rtl\"><span class=\"tfsechead ltr\">13 147:1</span></td><td class=\"tf rtl\"><span class=\"rtl ubd\"><span class=\"txtu ara rtl\"><span class=\"tfsechead\">13</span></span></span></td><td class=\"tf rtl\"><span class=\"rtl ubd\"><span class=\"plain rtl  hl\" ><span class=\"txtu ara\">فَأَسْمَاؤُنَا </span></span></span></td></tr>\n",
       "<tr class=\"tf rtl\"><td class=\"tf rtl\">14</td><td class=\"tf rtl\"><span class=\"tfsechead ltr\">14 166:1</span></td><td class=\"tf rtl\"><span class=\"rtl ubd\"><span class=\"txtu ara rtl\"><span class=\"tfsechead\">14</span></span></span></td><td class=\"tf rtl\"><span class=\"rtl ubd\"><span class=\"plain rtl  hl\" ><span class=\"txtu ara\">تُسَمَّىٰ </span></span></span></td></tr>\n",
       "<tr class=\"tf rtl\"><td class=\"tf rtl\">15</td><td class=\"tf rtl\"><span class=\"tfsechead ltr\">15 173:1</span></td><td class=\"tf rtl\"><span class=\"rtl ubd\"><span class=\"txtu ara rtl\"><span class=\"tfsechead\">15</span></span></span></td><td class=\"tf rtl\"><span class=\"rtl ubd\"><span class=\"plain rtl  hl\" ><span class=\"txtu ara\">الأَشْقِيَاءٍِ: </span></span></span></td></tr>\n",
       "<tr class=\"tf rtl\"><td class=\"tf rtl\">16</td><td class=\"tf rtl\"><span class=\"tfsechead ltr\">16 189:1</span></td><td class=\"tf rtl\"><span class=\"rtl ubd\"><span class=\"txtu ara rtl\"><span class=\"tfsechead\">16</span></span></span></td><td class=\"tf rtl\"><span class=\"rtl ubd\"><span class=\"plain rtl  hl\" ><span class=\"txtu ara\">وَلَا </span></span></span></td></tr>\n",
       "<tr class=\"tf rtl\"><td class=\"tf rtl\">17</td><td class=\"tf rtl\"><span class=\"tfsechead ltr\">17 198:1</span></td><td class=\"tf rtl\"><span class=\"rtl ubd\"><span class=\"txtu ara rtl\"><span class=\"tfsechead\">17</span></span></span></td><td class=\"tf rtl\"><span class=\"rtl ubd\"><span class=\"plain rtl  hl\" ><span class=\"txtu ara\">هِي </span></span></span></td></tr>\n",
       "<tr class=\"tf rtl\"><td class=\"tf rtl\">18</td><td class=\"tf rtl\"><span class=\"tfsechead ltr\">18 211:1</span></td><td class=\"tf rtl\"><span class=\"rtl ubd\"><span class=\"txtu ara rtl\"><span class=\"tfsechead\">18</span></span></span></td><td class=\"tf rtl\"><span class=\"rtl ubd\"><span class=\"plain rtl  hl\" ><span class=\"txtu ara\">وَغَيْرِهِ. </span></span></span></td></tr>\n",
       "<tr class=\"tf rtl\"><td class=\"tf rtl\">19</td><td class=\"tf rtl\"><span class=\"tfsechead ltr\">19 242:1</span></td><td class=\"tf rtl\"><span class=\"rtl ubd\"><span class=\"txtu ara rtl\"><span class=\"tfsechead\">19</span></span></span></td><td class=\"tf rtl\"><span class=\"rtl ubd\"><span class=\"plain rtl  hl\" ><span class=\"txtu ara\">هٰذِهِ </span></span></span></td></tr>\n",
       "<tr class=\"tf rtl\"><td class=\"tf rtl\">20</td><td class=\"tf rtl\"><span class=\"tfsechead ltr\">20 262:1</span></td><td class=\"tf rtl\"><span class=\"rtl ubd\"><span class=\"txtu ara rtl\"><span class=\"tfsechead\">20</span></span></span></td><td class=\"tf rtl\"><span class=\"rtl ubd\"><span class=\"plain rtl  hl\" ><span class=\"txtu ara\">وَإذِا </span></span></span></td></tr></table>"
      ],
      "text/plain": [
       "<IPython.core.display.HTML object>"
      ]
     },
     "metadata": {},
     "output_type": "display_data"
    }
   ],
   "source": [
    "template = \"\"\"\n",
    "piece\n",
    "  =: word\n",
    "\"\"\"\n",
    "results = A.search(template)\n",
    "A.table(results, end=20)"
   ]
  },
  {
   "cell_type": "code",
   "execution_count": 49,
   "metadata": {},
   "outputs": [
    {
     "data": {
      "text/html": [
       "<div class=\"rtl\"><span class=\"tfsechead rtl\">4 14:1</span>  <span class=\"txtu ara\">[١]﴿</span><span class=\"txtu ara\">فَصُّ </span><span class=\"txtu ara\">حِكْمَةٍ </span><span class=\"txtu ara\">إِلٰهِيَّةٍ </span><span class=\"txtu ara\">فِيكَلِمَةٍ </span><span class=\"txtu ara\">آدَمِيَّةٍ﴾ </span></div>"
      ],
      "text/plain": [
       "<IPython.core.display.HTML object>"
      ]
     },
     "metadata": {},
     "output_type": "display_data"
    }
   ],
   "source": [
    "ln = A.nodeFromSectionStr(\"4 14:1\")\n",
    "A.plain(ln)"
   ]
  },
  {
   "cell_type": "markdown",
   "metadata": {},
   "source": [
    "Pick line 500"
   ]
  },
  {
   "cell_type": "code",
   "execution_count": 50,
   "metadata": {},
   "outputs": [
    {
     "data": {
      "text/plain": [
       "53025"
      ]
     },
     "execution_count": 50,
     "metadata": {},
     "output_type": "execute_result"
    }
   ],
   "source": [
    "l = F.otype.s(\"line\")[499]\n",
    "l"
   ]
  },
  {
   "cell_type": "markdown",
   "metadata": {},
   "source": [
    "Where is it?"
   ]
  },
  {
   "cell_type": "code",
   "execution_count": 51,
   "metadata": {},
   "outputs": [
    {
     "data": {
      "text/html": [
       "<div class=\"rtl\"><span class=\"tfsechead rtl\">5 45:16</span>  <span class=\"txtu ara\">المُعْطِي </span><span class=\"txtu ara\">لَهُ </span><span class=\"txtu ara\">بِعِوَضٍ </span><span class=\"txtu ara\">عَلَىٰ </span><span class=\"txtu ara\">ذٰلِكَ </span><span class=\"txtu ara\">مِن </span><span class=\"txtu ara\">شُـكْرٍ </span><span class=\"txtu ara\">أَوْ </span><span class=\"txtu ara\">عَمَلٍ. </span></div>"
      ],
      "text/plain": [
       "<IPython.core.display.HTML object>"
      ]
     },
     "metadata": {},
     "output_type": "display_data"
    }
   ],
   "source": [
    "A.plain(l)"
   ]
  },
  {
   "cell_type": "markdown",
   "metadata": {},
   "source": [
    "Show structure"
   ]
  },
  {
   "cell_type": "code",
   "execution_count": 52,
   "metadata": {},
   "outputs": [
    {
     "data": {
      "text/html": [
       "<div class=\"tfsechead rtl\">5 45:16</div><div class=\"rtl children\"><div class=\"contnr c3  rtl  \" ><div class=\"lbl c3  \" ><span class=\"nd\">line</span></div><div class=\"children hor wrap rtl\"><div class=\"contnr c1  rtl  \" ><div class=\"lbl c1  \" ><span class=\"nd\">column</span></div><div class=\"children hor wrap rtl\"><div class=\"contnr c1  rtl  \" ><div class=\"lbl c1  \" ><span class=\"nd\">span</span></div><div class=\"children hor wrap rtl\"><div class=\"contnr c0 trm rtl  \" ><div class=\"lbl c0 trm \" ><span class=\"txtu ara\">المُعْطِي </span></div></div><div class=\"contnr c0 trm rtl  \" ><div class=\"lbl c0 trm \" ><span class=\"txtu ara\">لَهُ </span></div></div><div class=\"contnr c0 trm rtl  \" ><div class=\"lbl c0 trm \" ><span class=\"txtu ara\">بِعِوَضٍ </span></div></div><div class=\"contnr c0 trm rtl  \" ><div class=\"lbl c0 trm \" ><span class=\"txtu ara\">عَلَىٰ </span></div></div><div class=\"contnr c0 trm rtl  \" ><div class=\"lbl c0 trm \" ><span class=\"txtu ara\">ذٰلِكَ </span></div></div><div class=\"contnr c0 trm rtl  \" ><div class=\"lbl c0 trm \" ><span class=\"txtu ara\">مِن </span></div></div><div class=\"contnr c0 trm rtl  \" ><div class=\"lbl c0 trm \" ><span class=\"txtu ara\">شُـكْرٍ </span></div></div><div class=\"contnr c0 trm rtl  \" ><div class=\"lbl c0 trm \" ><span class=\"txtu ara\">أَوْ </span></div></div><div class=\"contnr c0 trm rtl  \" ><div class=\"lbl c0 trm \" ><span class=\"txtu ara\">عَمَلٍ. </span></div></div></div></div></div></div></div></div></div>"
      ],
      "text/plain": [
       "<IPython.core.display.HTML object>"
      ]
     },
     "metadata": {},
     "output_type": "display_data"
    }
   ],
   "source": [
    "A.pretty(l)"
   ]
  },
  {
   "cell_type": "markdown",
   "metadata": {},
   "source": [
    "Show more info"
   ]
  },
  {
   "cell_type": "code",
   "execution_count": 53,
   "metadata": {},
   "outputs": [
    {
     "data": {
      "text/html": [
       "<div class=\"tfsechead rtl\">5 45:16</div><div class=\"rtl children\"><div class=\"contnr c3  rtl  \" ><div class=\"lbl c3  \" ><span class=\"nd\">line</span></div><div class='features'><span class=\"n xft\" ><span class=\"f\">n=</span>16</span></div><div class=\"children hor wrap rtl\"><div class=\"contnr c1  rtl  \" ><div class=\"lbl c1  \" ><span class=\"nd\">column</span></div><div class='features'><span class=\"n xft\" ><span class=\"f\">n=</span>1</span></div><div class=\"children hor wrap rtl\"><div class=\"contnr c1  rtl  \" ><div class=\"lbl c1  \" ><span class=\"nd\">span</span></div><div class='features'><span class=\"n xft\" ><span class=\"f\">n=</span>1</span></div><div class=\"children hor wrap rtl\"><div class=\"contnr c0 trm rtl  \" ><div class=\"lbl c0 trm \" ><span class=\"txtu ara\">المُعْطِي </span></div></div><div class=\"contnr c0 trm rtl  \" ><div class=\"lbl c0 trm \" ><span class=\"txtu ara\">لَهُ </span></div></div><div class=\"contnr c0 trm rtl  \" ><div class=\"lbl c0 trm \" ><span class=\"txtu ara\">بِعِوَضٍ </span></div></div><div class=\"contnr c0 trm rtl  \" ><div class=\"lbl c0 trm \" ><span class=\"txtu ara\">عَلَىٰ </span></div></div><div class=\"contnr c0 trm rtl  \" ><div class=\"lbl c0 trm \" ><span class=\"txtu ara\">ذٰلِكَ </span></div></div><div class=\"contnr c0 trm rtl  \" ><div class=\"lbl c0 trm \" ><span class=\"txtu ara\">مِن </span></div></div><div class=\"contnr c0 trm rtl  \" ><div class=\"lbl c0 trm \" ><span class=\"txtu ara\">شُـكْرٍ </span></div></div><div class=\"contnr c0 trm rtl  \" ><div class=\"lbl c0 trm \" ><span class=\"txtu ara\">أَوْ </span></div></div><div class=\"contnr c0 trm rtl  \" ><div class=\"lbl c0 trm \" ><span class=\"txtu ara\">عَمَلٍ. </span></div></div></div></div></div></div></div></div></div>"
      ],
      "text/plain": [
       "<IPython.core.display.HTML object>"
      ]
     },
     "metadata": {},
     "output_type": "display_data"
    }
   ],
   "source": [
    "A.pretty(l, extraFeatures=\"n\")"
   ]
  },
  {
   "cell_type": "markdown",
   "metadata": {},
   "source": [
    "Locate a specific portion"
   ]
  },
  {
   "cell_type": "code",
   "execution_count": 54,
   "metadata": {},
   "outputs": [
    {
     "name": "stdout",
     "output_type": "stream",
     "text": [
      "  0.08s 34 results\n"
     ]
    },
    {
     "data": {
      "text/html": [
       "<p><b>line</b> <i>1</i></p>"
      ],
      "text/plain": [
       "<IPython.core.display.HTML object>"
      ]
     },
     "metadata": {},
     "output_type": "display_data"
    },
    {
     "data": {
      "text/html": [
       "<div class=\"tfsechead rtl\">5 32:2</div><div class=\"rtl children\"><div class=\"contnr c3  rtl  \" ><div class=\"lbl c3  \" ><span class=\"nd\">line</span></div><div class='features'><span class=\"n xft\" ><span class=\"f\">n=</span>2</span></div><div class=\"children hor wrap rtl\"><div class=\"contnr c1  rtl  \" ><div class=\"lbl c1  \" ><span class=\"nd\">column</span></div><div class='features'><span class=\"n xft\" ><span class=\"f\">n=</span>1</span></div><div class=\"children hor wrap rtl\"><div class=\"contnr c1  rtl  \" ><div class=\"lbl c1  \" ><span class=\"nd\">span</span></div><div class='features'><span class=\"n xft\" ><span class=\"f\">n=</span>1</span></div><div class=\"children hor wrap rtl\"><div class=\"contnr c0 trm rtl  \" ><div class=\"lbl c0 trm \" ><span class=\"txtu ara\">ٱعْلَمْ </span></div><div class='features'><span class=\"text xft\" ><span class=\"f\">text=</span>ٱعْلَمْ</span></div></div><div class=\"contnr c0 trm rtl  \" ><div class=\"lbl c0 trm \" ><span class=\"txtu ara\">أَنَّ </span></div><div class='features'><span class=\"text xft\" ><span class=\"f\">text=</span>أَنَّ</span></div></div><div class=\"contnr c0 trm rtl  hl\" ><div class=\"lbl c0 trm hl\" ><span class=\"txtu ara\">العَطَايَا </span></div><div class='features'><span class=\"text xft\" ><span class=\"f\">text=</span>العَطَايَا</span></div></div><div class=\"contnr c0 trm rtl  hl\" ><div class=\"lbl c0 trm hl\" ><span class=\"txtu ara\">وَالمِنَحَ </span></div><div class='features'><span class=\"text xft\" ><span class=\"f\">text=</span>وَالمِنَحَ</span></div></div><div class=\"contnr c0 trm rtl  hl\" ><div class=\"lbl c0 trm hl\" ><span class=\"txtu ara\">الظَّاهِـرَةَ </span></div><div class='features'><span class=\"text xft\" ><span class=\"f\">text=</span>الظَّاهِـرَةَ</span></div></div><div class=\"contnr c0 trm rtl  \" ><div class=\"lbl c0 trm \" ><span class=\"txtu ara\">فِي </span></div><div class='features'><span class=\"text xft\" ><span class=\"f\">text=</span>فِي</span></div></div><div class=\"contnr c0 trm rtl  hl\" ><div class=\"lbl c0 trm hl\" ><span class=\"txtu ara\">الكَونِ </span></div><div class='features'><span class=\"text xft\" ><span class=\"f\">text=</span>الكَونِ</span></div></div><div class=\"contnr c0 trm rtl  \" ><div class=\"lbl c0 trm \" ><span class=\"txtu ara\">― </span></div><div class='features'><span class=\"text xft\" ><span class=\"f\">text=</span></span></div></div><div class=\"contnr c0 trm rtl  \" ><div class=\"lbl c0 trm \" ><span class=\"txtu ara\">عَلَىٰ </span></div><div class='features'><span class=\"text xft\" ><span class=\"f\">text=</span>عَلَىٰ</span></div></div><div class=\"contnr c0 trm rtl  \" ><div class=\"lbl c0 trm \" ><span class=\"txtu ara\">أَيْدِي </span></div><div class='features'><span class=\"text xft\" ><span class=\"f\">text=</span>أَيْدِي</span></div></div><div class=\"contnr c0 trm rtl  hl\" ><div class=\"lbl c0 trm hl\" ><span class=\"txtu ara\">العِبَادِ </span></div><div class='features'><span class=\"text xft\" ><span class=\"f\">text=</span>العِبَادِ</span></div></div><div class=\"contnr c0 trm rtl  \" ><div class=\"lbl c0 trm \" ><span class=\"txtu ara\">وَعَلَىٰ </span></div><div class='features'><span class=\"text xft\" ><span class=\"f\">text=</span>وَعَلَىٰ</span></div></div></div></div></div></div></div></div></div>"
      ],
      "text/plain": [
       "<IPython.core.display.HTML object>"
      ]
     },
     "metadata": {},
     "output_type": "display_data"
    },
    {
     "data": {
      "text/html": [
       "<p><b>line</b> <i>2</i></p>"
      ],
      "text/plain": [
       "<IPython.core.display.HTML object>"
      ]
     },
     "metadata": {},
     "output_type": "display_data"
    },
    {
     "data": {
      "text/html": [
       "<div class=\"tfsechead rtl\">5 32:3</div><div class=\"rtl children\"><div class=\"contnr c3  rtl  \" ><div class=\"lbl c3  \" ><span class=\"nd\">line</span></div><div class='features'><span class=\"n xft\" ><span class=\"f\">n=</span>3</span></div><div class=\"children hor wrap rtl\"><div class=\"contnr c1  rtl  \" ><div class=\"lbl c1  \" ><span class=\"nd\">column</span></div><div class='features'><span class=\"n xft\" ><span class=\"f\">n=</span>1</span></div><div class=\"children hor wrap rtl\"><div class=\"contnr c1  rtl  \" ><div class=\"lbl c1  \" ><span class=\"nd\">span</span></div><div class='features'><span class=\"n xft\" ><span class=\"f\">n=</span>1</span></div><div class=\"children hor wrap rtl\"><div class=\"contnr c0 trm rtl  \" ><div class=\"lbl c0 trm \" ><span class=\"txtu ara\">غَيْرِ </span></div><div class='features'><span class=\"text xft\" ><span class=\"f\">text=</span>غَيْرِ</span></div></div><div class=\"contnr c0 trm rtl  \" ><div class=\"lbl c0 trm \" ><span class=\"txtu ara\">أَيْدِيهِمْ </span></div><div class='features'><span class=\"text xft\" ><span class=\"f\">text=</span>أَيْدِيهِمْ</span></div></div><div class=\"contnr c0 trm rtl  \" ><div class=\"lbl c0 trm \" ><span class=\"txtu ara\">― </span></div><div class='features'><span class=\"text xft\" ><span class=\"f\">text=</span></span></div></div><div class=\"contnr c0 trm rtl  \" ><div class=\"lbl c0 trm \" ><span class=\"txtu ara\">عَلَىٰ </span></div><div class='features'><span class=\"text xft\" ><span class=\"f\">text=</span>عَلَىٰ</span></div></div><div class=\"contnr c0 trm rtl  \" ><div class=\"lbl c0 trm \" ><span class=\"txtu ara\">قِسْمَيْنِ: </span></div><div class='features'><span class=\"text xft\" ><span class=\"f\">text=</span>قِسْمَيْنِ</span></div></div><div class=\"contnr c0 trm rtl  hl\" ><div class=\"lbl c0 trm hl\" ><span class=\"txtu ara\">مِنْهَا، </span></div><div class='features'><span class=\"text xft\" ><span class=\"f\">text=</span>مِنْهَا</span></div></div><div class=\"contnr c0 trm rtl  hl\" ><div class=\"lbl c0 trm hl\" ><span class=\"txtu ara\">مَاتَـكُونُ </span></div><div class='features'><span class=\"text xft\" ><span class=\"f\">text=</span>مَاتَـكُونُ</span></div></div><div class=\"contnr c0 trm rtl  hl\" ><div class=\"lbl c0 trm hl\" ><span class=\"txtu ara\">عَطَايَا </span></div><div class='features'><span class=\"text xft\" ><span class=\"f\">text=</span>عَطَايَا</span></div></div><div class=\"contnr c0 trm rtl  hl\" ><div class=\"lbl c0 trm hl\" ><span class=\"txtu ara\">ذَاتِيَّةً </span></div><div class='features'><span class=\"text xft\" ><span class=\"f\">text=</span>ذَاتِيَّةً</span></div></div><div class=\"contnr c0 trm rtl  hl\" ><div class=\"lbl c0 trm hl\" ><span class=\"txtu ara\">وَعَطَايَا </span></div><div class='features'><span class=\"text xft\" ><span class=\"f\">text=</span>وَعَطَايَا</span></div></div><div class=\"contnr c0 trm rtl  hl\" ><div class=\"lbl c0 trm hl\" ><span class=\"txtu ara\">أَسْمَائِيَّةً، </span></div><div class='features'><span class=\"text xft\" ><span class=\"f\">text=</span>أَسْمَائِيَّةً</span></div></div></div></div></div></div></div></div></div>"
      ],
      "text/plain": [
       "<IPython.core.display.HTML object>"
      ]
     },
     "metadata": {},
     "output_type": "display_data"
    },
    {
     "data": {
      "text/html": [
       "<p><b>line</b> <i>3</i></p>"
      ],
      "text/plain": [
       "<IPython.core.display.HTML object>"
      ]
     },
     "metadata": {},
     "output_type": "display_data"
    },
    {
     "data": {
      "text/html": [
       "<div class=\"tfsechead rtl\">5 32:4</div><div class=\"rtl children\"><div class=\"contnr c3  rtl  \" ><div class=\"lbl c3  \" ><span class=\"nd\">line</span></div><div class='features'><span class=\"n xft\" ><span class=\"f\">n=</span>4</span></div><div class=\"children hor wrap rtl\"><div class=\"contnr c1  rtl  \" ><div class=\"lbl c1  \" ><span class=\"nd\">column</span></div><div class='features'><span class=\"n xft\" ><span class=\"f\">n=</span>1</span></div><div class=\"children hor wrap rtl\"><div class=\"contnr c1  rtl  \" ><div class=\"lbl c1  \" ><span class=\"nd\">span</span></div><div class='features'><span class=\"n xft\" ><span class=\"f\">n=</span>1</span></div><div class=\"children hor wrap rtl\"><div class=\"contnr c0 trm rtl  \" ><div class=\"lbl c0 trm \" ><span class=\"txtu ara\">وَتَتَمَيَّزُ </span></div><div class='features'><span class=\"text xft\" ><span class=\"f\">text=</span>وَتَتَمَيَّزُ</span></div></div><div class=\"contnr c0 trm rtl  \" ><div class=\"lbl c0 trm \" ><span class=\"txtu ara\">عِنْدَ </span></div><div class='features'><span class=\"text xft\" ><span class=\"f\">text=</span>عِنْدَ</span></div></div><div class=\"contnr c0 trm rtl  \" ><div class=\"lbl c0 trm \" ><span class=\"txtu ara\">أَهْلِ </span></div><div class='features'><span class=\"text xft\" ><span class=\"f\">text=</span>أَهْلِ</span></div></div><div class=\"contnr c0 trm rtl  hl\" ><div class=\"lbl c0 trm hl\" ><span class=\"txtu ara\">الأَذْوَاقِ. </span></div><div class='features'><span class=\"text xft\" ><span class=\"f\">text=</span>الأَذْوَاقِ</span></div></div></div></div></div></div></div></div></div>"
      ],
      "text/plain": [
       "<IPython.core.display.HTML object>"
      ]
     },
     "metadata": {},
     "output_type": "display_data"
    },
    {
     "data": {
      "text/html": [
       "<p><b>line</b> <i>4</i></p>"
      ],
      "text/plain": [
       "<IPython.core.display.HTML object>"
      ]
     },
     "metadata": {},
     "output_type": "display_data"
    },
    {
     "data": {
      "text/html": [
       "<div class=\"tfsechead rtl\">5 32:5</div><div class=\"rtl children\"><div class=\"contnr c3  rtl  \" ><div class=\"lbl c3  \" ><span class=\"nd\">line</span></div><div class='features'><span class=\"n xft\" ><span class=\"f\">n=</span>5</span></div><div class=\"children hor wrap rtl\"><div class=\"contnr c1  rtl  \" ><div class=\"lbl c1  \" ><span class=\"nd\">column</span></div><div class='features'><span class=\"n xft\" ><span class=\"f\">n=</span>1</span></div><div class=\"children hor wrap rtl\"><div class=\"contnr c1  rtl  \" ><div class=\"lbl c1  \" ><span class=\"nd\">span</span></div><div class='features'><span class=\"n xft\" ><span class=\"f\">n=</span>1</span></div><div class=\"children hor wrap rtl\"><div class=\"contnr c0 trm rtl  hl\" ><div class=\"lbl c0 trm hl\" ><span class=\"txtu ara\">كَمَا </span></div><div class='features'><span class=\"text xft\" ><span class=\"f\">text=</span>كَمَا</span></div></div><div class=\"contnr c0 trm rtl  \" ><div class=\"lbl c0 trm \" ><span class=\"txtu ara\">أَنَّ </span></div><div class='features'><span class=\"text xft\" ><span class=\"f\">text=</span>أَنَّ</span></div></div><div class=\"contnr c0 trm rtl  hl\" ><div class=\"lbl c0 trm hl\" ><span class=\"txtu ara\">مِنْهَا </span></div><div class='features'><span class=\"text xft\" ><span class=\"f\">text=</span>مِنْهَا</span></div></div><div class=\"contnr c0 trm rtl  hl\" ><div class=\"lbl c0 trm hl\" ><span class=\"txtu ara\">مَاتَـكُونُ </span></div><div class='features'><span class=\"text xft\" ><span class=\"f\">text=</span>مَاتَـكُونُ</span></div></div><div class=\"contnr c0 trm rtl  \" ><div class=\"lbl c0 trm \" ><span class=\"txtu ara\">عَنْ </span></div><div class='features'><span class=\"text xft\" ><span class=\"f\">text=</span>عَنْ</span></div></div><div class=\"contnr c0 trm rtl  hl\" ><div class=\"lbl c0 trm hl\" ><span class=\"txtu ara\">سُؤالٍ </span></div><div class='features'><span class=\"text xft\" ><span class=\"f\">text=</span>سُؤالٍ</span></div></div><div class=\"contnr c0 trm rtl  \" ><div class=\"lbl c0 trm \" ><span class=\"txtu ara\">فِي </span></div><div class='features'><span class=\"text xft\" ><span class=\"f\">text=</span>فِي</span></div></div><div class=\"contnr c0 trm rtl  \" ><div class=\"lbl c0 trm \" ><span class=\"txtu ara\">مُعَـيَّنٍ، </span></div><div class='features'><span class=\"text xft\" ><span class=\"f\">text=</span>مُعَـيَّنٍ</span></div></div><div class=\"contnr c0 trm rtl  \" ><div class=\"lbl c0 trm \" ><span class=\"txtu ara\">وَعَنْ </span></div><div class='features'><span class=\"text xft\" ><span class=\"f\">text=</span>وَعَنْ</span></div></div><div class=\"contnr c0 trm rtl  hl\" ><div class=\"lbl c0 trm hl\" ><span class=\"txtu ara\">سُؤالٍ </span></div><div class='features'><span class=\"text xft\" ><span class=\"f\">text=</span>سُؤالٍ</span></div></div><div class=\"contnr c0 trm rtl  \" ><div class=\"lbl c0 trm \" ><span class=\"txtu ara\">غَـيْرِ </span></div><div class='features'><span class=\"text xft\" ><span class=\"f\">text=</span>غَـيْرِ</span></div></div><div class=\"contnr c0 trm rtl  \" ><div class=\"lbl c0 trm \" ><span class=\"txtu ara\">مُعَـيَّنٍ. </span></div><div class='features'><span class=\"text xft\" ><span class=\"f\">text=</span>مُعَـيَّنٍ</span></div></div></div></div></div></div></div></div></div>"
      ],
      "text/plain": [
       "<IPython.core.display.HTML object>"
      ]
     },
     "metadata": {},
     "output_type": "display_data"
    },
    {
     "data": {
      "text/html": [
       "<p><b>line</b> <i>5</i></p>"
      ],
      "text/plain": [
       "<IPython.core.display.HTML object>"
      ]
     },
     "metadata": {},
     "output_type": "display_data"
    },
    {
     "data": {
      "text/html": [
       "<div class=\"tfsechead rtl\">5 32:6</div><div class=\"rtl children\"><div class=\"contnr c3  rtl  \" ><div class=\"lbl c3  \" ><span class=\"nd\">line</span></div><div class='features'><span class=\"n xft\" ><span class=\"f\">n=</span>6</span></div><div class=\"children hor wrap rtl\"><div class=\"contnr c1  rtl  \" ><div class=\"lbl c1  \" ><span class=\"nd\">column</span></div><div class='features'><span class=\"n xft\" ><span class=\"f\">n=</span>1</span></div><div class=\"children hor wrap rtl\"><div class=\"contnr c1  rtl  \" ><div class=\"lbl c1  \" ><span class=\"nd\">span</span></div><div class='features'><span class=\"n xft\" ><span class=\"f\">n=</span>1</span></div><div class=\"children hor wrap rtl\"><div class=\"contnr c0 trm rtl  hl\" ><div class=\"lbl c0 trm hl\" ><span class=\"txtu ara\">وَمِنْهَا: </span></div><div class='features'><span class=\"text xft\" ><span class=\"f\">text=</span>وَمِنْهَا</span></div></div><div class=\"contnr c0 trm rtl  hl\" ><div class=\"lbl c0 trm hl\" ><span class=\"txtu ara\">مَالَا </span></div><div class='features'><span class=\"text xft\" ><span class=\"f\">text=</span>مَالَا</span></div></div><div class=\"contnr c0 trm rtl  \" ><div class=\"lbl c0 trm \" ><span class=\"txtu ara\">يَكُونُ </span></div><div class='features'><span class=\"text xft\" ><span class=\"f\">text=</span>يَكُونُ</span></div></div><div class=\"contnr c0 trm rtl  \" ><div class=\"lbl c0 trm \" ><span class=\"txtu ara\">عَنْ </span></div><div class='features'><span class=\"text xft\" ><span class=\"f\">text=</span>عَنْ</span></div></div><div class=\"contnr c0 trm rtl  hl\" ><div class=\"lbl c0 trm hl\" ><span class=\"txtu ara\">سُؤالٍ، </span></div><div class='features'><span class=\"text xft\" ><span class=\"f\">text=</span>سُؤالٍ</span></div></div><div class=\"contnr c0 trm rtl  hl\" ><div class=\"lbl c0 trm hl\" ><span class=\"txtu ara\">سَوَاءٌكَانَتْ </span></div><div class='features'><span class=\"text xft\" ><span class=\"f\">text=</span>سَوَاءٌكَانَتْ</span></div></div><div class=\"contnr c0 trm rtl  hl\" ><div class=\"lbl c0 trm hl\" ><span class=\"txtu ara\">الأُعْطِيَةُ </span></div><div class='features'><span class=\"text xft\" ><span class=\"f\">text=</span>الأُعْطِيَةُ</span></div></div><div class=\"contnr c0 trm rtl  hl\" ><div class=\"lbl c0 trm hl\" ><span class=\"txtu ara\">ذَاتِيَّةً </span></div><div class='features'><span class=\"text xft\" ><span class=\"f\">text=</span>ذَاتِيَّةً</span></div></div><div class=\"contnr c0 trm rtl  \" ><div class=\"lbl c0 trm \" ><span class=\"txtu ara\">أَوْ </span></div><div class='features'><span class=\"text xft\" ><span class=\"f\">text=</span>أَوْ</span></div></div><div class=\"contnr c0 trm rtl  hl\" ><div class=\"lbl c0 trm hl\" ><span class=\"txtu ara\">أَسْمَائِيَّةً. </span></div><div class='features'><span class=\"text xft\" ><span class=\"f\">text=</span>أَسْمَائِيَّةً</span></div></div></div></div></div></div></div></div></div>"
      ],
      "text/plain": [
       "<IPython.core.display.HTML object>"
      ]
     },
     "metadata": {},
     "output_type": "display_data"
    },
    {
     "data": {
      "text/html": [
       "<p><b>line</b> <i>6</i></p>"
      ],
      "text/plain": [
       "<IPython.core.display.HTML object>"
      ]
     },
     "metadata": {},
     "output_type": "display_data"
    },
    {
     "data": {
      "text/html": [
       "<div class=\"tfsechead rtl\">5 32:7</div><div class=\"rtl children\"><div class=\"contnr c3  rtl  \" ><div class=\"lbl c3  \" ><span class=\"nd\">line</span></div><div class='features'><span class=\"n xft\" ><span class=\"f\">n=</span>7</span></div><div class=\"children hor wrap rtl\"><div class=\"contnr c1  rtl  \" ><div class=\"lbl c1  \" ><span class=\"nd\">column</span></div><div class='features'><span class=\"n xft\" ><span class=\"f\">n=</span>1</span></div><div class=\"children hor wrap rtl\"><div class=\"contnr c1  rtl  \" ><div class=\"lbl c1  \" ><span class=\"nd\">span</span></div><div class='features'><span class=\"n xft\" ><span class=\"f\">n=</span>1</span></div><div class=\"children hor wrap rtl\"><div class=\"contnr c0 trm rtl  hl\" ><div class=\"lbl c0 trm hl\" ><span class=\"txtu ara\">فَالمُعَيَّنُكَمَنْ </span></div><div class='features'><span class=\"text xft\" ><span class=\"f\">text=</span>فَالمُعَيَّنُكَمَنْ</span></div></div><div class=\"contnr c0 trm rtl  \" ><div class=\"lbl c0 trm \" ><span class=\"txtu ara\">يَقُولُ: </span></div><div class='features'><span class=\"text xft\" ><span class=\"f\">text=</span>يَقُولُ</span></div></div><div class=\"contnr c0 trm rtl  hl\" ><div class=\"lbl c0 trm hl\" ><span class=\"txtu ara\">«يَا </span></div><div class='features'><span class=\"text xft\" ><span class=\"f\">text=</span>يَا</span></div></div><div class=\"contnr c0 trm rtl  \" ><div class=\"lbl c0 trm \" ><span class=\"txtu ara\">رَبِّ </span></div><div class='features'><span class=\"text xft\" ><span class=\"f\">text=</span>رَبِّ</span></div></div><div class=\"contnr c0 trm rtl  hl\" ><div class=\"lbl c0 trm hl\" ><span class=\"txtu ara\">أَعْطِنِيكَذَا». </span></div><div class='features'><span class=\"text xft\" ><span class=\"f\">text=</span>أَعْطِنِيكَذَا</span></div></div><div class=\"contnr c0 trm rtl  \" ><div class=\"lbl c0 trm \" ><span class=\"txtu ara\">فَيُعَـيِّنُ </span></div><div class='features'><span class=\"text xft\" ><span class=\"f\">text=</span>فَيُعَـيِّنُ</span></div></div><div class=\"contnr c0 trm rtl  hl\" ><div class=\"lbl c0 trm hl\" ><span class=\"txtu ara\">أَمْـرًا </span></div><div class='features'><span class=\"text xft\" ><span class=\"f\">text=</span>أَمْـرًا</span></div></div><div class=\"contnr c0 trm rtl  hl\" ><div class=\"lbl c0 trm hl\" ><span class=\"txtu ara\">مَا، </span></div><div class='features'><span class=\"text xft\" ><span class=\"f\">text=</span>مَا</span></div></div><div class=\"contnr c0 trm rtl  hl\" ><div class=\"lbl c0 trm hl\" ><span class=\"txtu ara\">لَا </span></div><div class='features'><span class=\"text xft\" ><span class=\"f\">text=</span>لَا</span></div></div><div class=\"contnr c0 trm rtl  \" ><div class=\"lbl c0 trm \" ><span class=\"txtu ara\">يَخْطُـرُ </span></div><div class='features'><span class=\"text xft\" ><span class=\"f\">text=</span>يَخْطُـرُ</span></div></div></div></div></div></div></div></div></div>"
      ],
      "text/plain": [
       "<IPython.core.display.HTML object>"
      ]
     },
     "metadata": {},
     "output_type": "display_data"
    },
    {
     "data": {
      "text/html": [
       "<p><b>line</b> <i>7</i></p>"
      ],
      "text/plain": [
       "<IPython.core.display.HTML object>"
      ]
     },
     "metadata": {},
     "output_type": "display_data"
    },
    {
     "data": {
      "text/html": [
       "<div class=\"tfsechead rtl\">5 32:8</div><div class=\"rtl children\"><div class=\"contnr c3  rtl  \" ><div class=\"lbl c3  \" ><span class=\"nd\">line</span></div><div class='features'><span class=\"n xft\" ><span class=\"f\">n=</span>8</span></div><div class=\"children hor wrap rtl\"><div class=\"contnr c1  rtl  \" ><div class=\"lbl c1  \" ><span class=\"nd\">column</span></div><div class='features'><span class=\"n xft\" ><span class=\"f\">n=</span>1</span></div><div class=\"children hor wrap rtl\"><div class=\"contnr c1  rtl  \" ><div class=\"lbl c1  \" ><span class=\"nd\">span</span></div><div class='features'><span class=\"n xft\" ><span class=\"f\">n=</span>1</span></div><div class=\"children hor wrap rtl\"><div class=\"contnr c0 trm rtl  \" ><div class=\"lbl c0 trm \" ><span class=\"txtu ara\">لَهُ </span></div><div class='features'><span class=\"text xft\" ><span class=\"f\">text=</span>لَهُ</span></div></div><div class=\"contnr c0 trm rtl  hl\" ><div class=\"lbl c0 trm hl\" ><span class=\"txtu ara\">سِوَاهُ. </span></div><div class='features'><span class=\"text xft\" ><span class=\"f\">text=</span>سِوَاهُ</span></div></div><div class=\"contnr c0 trm rtl  \" ><div class=\"lbl c0 trm \" ><span class=\"txtu ara\">وَغَيرُ </span></div><div class='features'><span class=\"text xft\" ><span class=\"f\">text=</span>وَغَيرُ</span></div></div><div class=\"contnr c0 trm rtl  hl\" ><div class=\"lbl c0 trm hl\" ><span class=\"txtu ara\">المُعَيَّنِكَمَنْ </span></div><div class='features'><span class=\"text xft\" ><span class=\"f\">text=</span>المُعَيَّنِكَمَنْ</span></div></div><div class=\"contnr c0 trm rtl  \" ><div class=\"lbl c0 trm \" ><span class=\"txtu ara\">يَقُولُ: </span></div><div class='features'><span class=\"text xft\" ><span class=\"f\">text=</span>يَقُولُ</span></div></div><div class=\"contnr c0 trm rtl  hl\" ><div class=\"lbl c0 trm hl\" ><span class=\"txtu ara\">«يَا </span></div><div class='features'><span class=\"text xft\" ><span class=\"f\">text=</span>يَا</span></div></div><div class=\"contnr c0 trm rtl  \" ><div class=\"lbl c0 trm \" ><span class=\"txtu ara\">رَبِّ </span></div><div class='features'><span class=\"text xft\" ><span class=\"f\">text=</span>رَبِّ</span></div></div><div class=\"contnr c0 trm rtl  \" ><div class=\"lbl c0 trm \" ><span class=\"txtu ara\">أَعْطِنِي </span></div><div class='features'><span class=\"text xft\" ><span class=\"f\">text=</span>أَعْطِنِي</span></div></div><div class=\"contnr c0 trm rtl  hl\" ><div class=\"lbl c0 trm hl\" ><span class=\"txtu ara\">مَاتَعْلَمُ </span></div><div class='features'><span class=\"text xft\" ><span class=\"f\">text=</span>مَاتَعْلَمُ</span></div></div><div class=\"contnr c0 trm rtl  \" ><div class=\"lbl c0 trm \" ><span class=\"txtu ara\">فِيهِ </span></div><div class='features'><span class=\"text xft\" ><span class=\"f\">text=</span>فِيهِ</span></div></div><div class=\"contnr c0 trm rtl  \" ><div class=\"lbl c0 trm \" ><span class=\"txtu ara\">مَصْلَحَتِي»، </span></div><div class='features'><span class=\"text xft\" ><span class=\"f\">text=</span>مَصْلَحَتِي</span></div></div></div></div></div></div></div></div></div>"
      ],
      "text/plain": [
       "<IPython.core.display.HTML object>"
      ]
     },
     "metadata": {},
     "output_type": "display_data"
    }
   ],
   "source": [
    "template = \"\"\"\n",
    "piece n=5\n",
    "  =: page\n",
    "    line\n",
    "      word text~ا\n",
    "\"\"\"\n",
    "results = A.search(template)\n",
    "A.show(results, condensed=True)"
   ]
  },
  {
   "cell_type": "code",
   "execution_count": 55,
   "metadata": {},
   "outputs": [
    {
     "data": {
      "text/html": [
       "<p><b>line</b> <i>1</i></p>"
      ],
      "text/plain": [
       "<IPython.core.display.HTML object>"
      ]
     },
     "metadata": {},
     "output_type": "display_data"
    },
    {
     "data": {
      "text/html": [
       "<div class=\"tfsechead rtl\">5 32:2</div><div class=\"rtl children\"><div class=\"contnr c3  rtl  \" ><div class=\"lbl c3  \" ><span class=\"nd\">line</span></div><div class='features'><span class=\"n xft\" ><span class=\"f\">n=</span>2</span></div><div class=\"children hor wrap rtl\"><div class=\"contnr c1  rtl  \" ><div class=\"lbl c1  \" ><span class=\"nd\">column</span></div><div class='features'><span class=\"n xft\" ><span class=\"f\">n=</span>1</span></div><div class=\"children hor wrap rtl\"><div class=\"contnr c1  rtl  \" ><div class=\"lbl c1  \" ><span class=\"nd\">span</span></div><div class='features'><span class=\"n xft\" ><span class=\"f\">n=</span>1</span></div><div class=\"children hor wrap rtl\"><div class=\"contnr c0 trm rtl  \" ><div class=\"lbl c0 trm \" ><span class=\"txtu ara\">ٱعْلَمْ </span></div><div class='features'><span class=\"text xft\" ><span class=\"f\">text=</span>ٱعْلَمْ</span></div></div><div class=\"contnr c0 trm rtl  \" ><div class=\"lbl c0 trm \" ><span class=\"txtu ara\">أَنَّ </span></div><div class='features'><span class=\"text xft\" ><span class=\"f\">text=</span>أَنَّ</span></div></div><div class=\"contnr c0 trm rtl  hl\" ><div class=\"lbl c0 trm hl\" ><span class=\"txtu ara\">العَطَايَا </span></div><div class='features'><span class=\"text xft\" ><span class=\"f\">text=</span>العَطَايَا</span></div></div><div class=\"contnr c0 trm rtl  hl\" ><div class=\"lbl c0 trm hl\" ><span class=\"txtu ara\">وَالمِنَحَ </span></div><div class='features'><span class=\"text xft\" ><span class=\"f\">text=</span>وَالمِنَحَ</span></div></div><div class=\"contnr c0 trm rtl  hl\" ><div class=\"lbl c0 trm hl\" ><span class=\"txtu ara\">الظَّاهِـرَةَ </span></div><div class='features'><span class=\"text xft\" ><span class=\"f\">text=</span>الظَّاهِـرَةَ</span></div></div><div class=\"contnr c0 trm rtl  \" ><div class=\"lbl c0 trm \" ><span class=\"txtu ara\">فِي </span></div><div class='features'><span class=\"text xft\" ><span class=\"f\">text=</span>فِي</span></div></div><div class=\"contnr c0 trm rtl  hl\" ><div class=\"lbl c0 trm hl\" ><span class=\"txtu ara\">الكَونِ </span></div><div class='features'><span class=\"text xft\" ><span class=\"f\">text=</span>الكَونِ</span></div></div><div class=\"contnr c0 trm rtl  \" ><div class=\"lbl c0 trm \" ><span class=\"txtu ara\">― </span></div><div class='features'><span class=\"text xft\" ><span class=\"f\">text=</span></span></div></div><div class=\"contnr c0 trm rtl  \" ><div class=\"lbl c0 trm \" ><span class=\"txtu ara\">عَلَىٰ </span></div><div class='features'><span class=\"text xft\" ><span class=\"f\">text=</span>عَلَىٰ</span></div></div><div class=\"contnr c0 trm rtl  \" ><div class=\"lbl c0 trm \" ><span class=\"txtu ara\">أَيْدِي </span></div><div class='features'><span class=\"text xft\" ><span class=\"f\">text=</span>أَيْدِي</span></div></div><div class=\"contnr c0 trm rtl  hl\" ><div class=\"lbl c0 trm hl\" ><span class=\"txtu ara\">العِبَادِ </span></div><div class='features'><span class=\"text xft\" ><span class=\"f\">text=</span>العِبَادِ</span></div></div><div class=\"contnr c0 trm rtl  \" ><div class=\"lbl c0 trm \" ><span class=\"txtu ara\">وَعَلَىٰ </span></div><div class='features'><span class=\"text xft\" ><span class=\"f\">text=</span>وَعَلَىٰ</span></div></div></div></div></div></div></div></div></div>"
      ],
      "text/plain": [
       "<IPython.core.display.HTML object>"
      ]
     },
     "metadata": {},
     "output_type": "display_data"
    },
    {
     "data": {
      "text/html": [
       "<p><b>line</b> <i>2</i></p>"
      ],
      "text/plain": [
       "<IPython.core.display.HTML object>"
      ]
     },
     "metadata": {},
     "output_type": "display_data"
    },
    {
     "data": {
      "text/html": [
       "<div class=\"tfsechead rtl\">5 32:3</div><div class=\"rtl children\"><div class=\"contnr c3  rtl  \" ><div class=\"lbl c3  \" ><span class=\"nd\">line</span></div><div class='features'><span class=\"n xft\" ><span class=\"f\">n=</span>3</span></div><div class=\"children hor wrap rtl\"><div class=\"contnr c1  rtl  \" ><div class=\"lbl c1  \" ><span class=\"nd\">column</span></div><div class='features'><span class=\"n xft\" ><span class=\"f\">n=</span>1</span></div><div class=\"children hor wrap rtl\"><div class=\"contnr c1  rtl  \" ><div class=\"lbl c1  \" ><span class=\"nd\">span</span></div><div class='features'><span class=\"n xft\" ><span class=\"f\">n=</span>1</span></div><div class=\"children hor wrap rtl\"><div class=\"contnr c0 trm rtl  \" ><div class=\"lbl c0 trm \" ><span class=\"txtu ara\">غَيْرِ </span></div><div class='features'><span class=\"text xft\" ><span class=\"f\">text=</span>غَيْرِ</span></div></div><div class=\"contnr c0 trm rtl  \" ><div class=\"lbl c0 trm \" ><span class=\"txtu ara\">أَيْدِيهِمْ </span></div><div class='features'><span class=\"text xft\" ><span class=\"f\">text=</span>أَيْدِيهِمْ</span></div></div><div class=\"contnr c0 trm rtl  \" ><div class=\"lbl c0 trm \" ><span class=\"txtu ara\">― </span></div><div class='features'><span class=\"text xft\" ><span class=\"f\">text=</span></span></div></div><div class=\"contnr c0 trm rtl  \" ><div class=\"lbl c0 trm \" ><span class=\"txtu ara\">عَلَىٰ </span></div><div class='features'><span class=\"text xft\" ><span class=\"f\">text=</span>عَلَىٰ</span></div></div><div class=\"contnr c0 trm rtl  \" ><div class=\"lbl c0 trm \" ><span class=\"txtu ara\">قِسْمَيْنِ: </span></div><div class='features'><span class=\"text xft\" ><span class=\"f\">text=</span>قِسْمَيْنِ</span></div></div><div class=\"contnr c0 trm rtl  hl\" ><div class=\"lbl c0 trm hl\" ><span class=\"txtu ara\">مِنْهَا، </span></div><div class='features'><span class=\"text xft\" ><span class=\"f\">text=</span>مِنْهَا</span></div></div><div class=\"contnr c0 trm rtl  hl\" ><div class=\"lbl c0 trm hl\" ><span class=\"txtu ara\">مَاتَـكُونُ </span></div><div class='features'><span class=\"text xft\" ><span class=\"f\">text=</span>مَاتَـكُونُ</span></div></div><div class=\"contnr c0 trm rtl  hl\" ><div class=\"lbl c0 trm hl\" ><span class=\"txtu ara\">عَطَايَا </span></div><div class='features'><span class=\"text xft\" ><span class=\"f\">text=</span>عَطَايَا</span></div></div><div class=\"contnr c0 trm rtl  hl\" ><div class=\"lbl c0 trm hl\" ><span class=\"txtu ara\">ذَاتِيَّةً </span></div><div class='features'><span class=\"text xft\" ><span class=\"f\">text=</span>ذَاتِيَّةً</span></div></div><div class=\"contnr c0 trm rtl  hl\" ><div class=\"lbl c0 trm hl\" ><span class=\"txtu ara\">وَعَطَايَا </span></div><div class='features'><span class=\"text xft\" ><span class=\"f\">text=</span>وَعَطَايَا</span></div></div><div class=\"contnr c0 trm rtl  hl\" ><div class=\"lbl c0 trm hl\" ><span class=\"txtu ara\">أَسْمَائِيَّةً، </span></div><div class='features'><span class=\"text xft\" ><span class=\"f\">text=</span>أَسْمَائِيَّةً</span></div></div></div></div></div></div></div></div></div>"
      ],
      "text/plain": [
       "<IPython.core.display.HTML object>"
      ]
     },
     "metadata": {},
     "output_type": "display_data"
    },
    {
     "data": {
      "text/html": [
       "<p><b>line</b> <i>3</i></p>"
      ],
      "text/plain": [
       "<IPython.core.display.HTML object>"
      ]
     },
     "metadata": {},
     "output_type": "display_data"
    },
    {
     "data": {
      "text/html": [
       "<div class=\"tfsechead rtl\">5 32:4</div><div class=\"rtl children\"><div class=\"contnr c3  rtl  \" ><div class=\"lbl c3  \" ><span class=\"nd\">line</span></div><div class='features'><span class=\"n xft\" ><span class=\"f\">n=</span>4</span></div><div class=\"children hor wrap rtl\"><div class=\"contnr c1  rtl  \" ><div class=\"lbl c1  \" ><span class=\"nd\">column</span></div><div class='features'><span class=\"n xft\" ><span class=\"f\">n=</span>1</span></div><div class=\"children hor wrap rtl\"><div class=\"contnr c1  rtl  \" ><div class=\"lbl c1  \" ><span class=\"nd\">span</span></div><div class='features'><span class=\"n xft\" ><span class=\"f\">n=</span>1</span></div><div class=\"children hor wrap rtl\"><div class=\"contnr c0 trm rtl  \" ><div class=\"lbl c0 trm \" ><span class=\"txtu ara\">وَتَتَمَيَّزُ </span></div><div class='features'><span class=\"text xft\" ><span class=\"f\">text=</span>وَتَتَمَيَّزُ</span></div></div><div class=\"contnr c0 trm rtl  \" ><div class=\"lbl c0 trm \" ><span class=\"txtu ara\">عِنْدَ </span></div><div class='features'><span class=\"text xft\" ><span class=\"f\">text=</span>عِنْدَ</span></div></div><div class=\"contnr c0 trm rtl  \" ><div class=\"lbl c0 trm \" ><span class=\"txtu ara\">أَهْلِ </span></div><div class='features'><span class=\"text xft\" ><span class=\"f\">text=</span>أَهْلِ</span></div></div><div class=\"contnr c0 trm rtl  hl\" ><div class=\"lbl c0 trm hl\" ><span class=\"txtu ara\">الأَذْوَاقِ. </span></div><div class='features'><span class=\"text xft\" ><span class=\"f\">text=</span>الأَذْوَاقِ</span></div></div></div></div></div></div></div></div></div>"
      ],
      "text/plain": [
       "<IPython.core.display.HTML object>"
      ]
     },
     "metadata": {},
     "output_type": "display_data"
    },
    {
     "data": {
      "text/html": [
       "<p><b>line</b> <i>4</i></p>"
      ],
      "text/plain": [
       "<IPython.core.display.HTML object>"
      ]
     },
     "metadata": {},
     "output_type": "display_data"
    },
    {
     "data": {
      "text/html": [
       "<div class=\"tfsechead rtl\">5 32:5</div><div class=\"rtl children\"><div class=\"contnr c3  rtl  \" ><div class=\"lbl c3  \" ><span class=\"nd\">line</span></div><div class='features'><span class=\"n xft\" ><span class=\"f\">n=</span>5</span></div><div class=\"children hor wrap rtl\"><div class=\"contnr c1  rtl  \" ><div class=\"lbl c1  \" ><span class=\"nd\">column</span></div><div class='features'><span class=\"n xft\" ><span class=\"f\">n=</span>1</span></div><div class=\"children hor wrap rtl\"><div class=\"contnr c1  rtl  \" ><div class=\"lbl c1  \" ><span class=\"nd\">span</span></div><div class='features'><span class=\"n xft\" ><span class=\"f\">n=</span>1</span></div><div class=\"children hor wrap rtl\"><div class=\"contnr c0 trm rtl  hl\" ><div class=\"lbl c0 trm hl\" ><span class=\"txtu ara\">كَمَا </span></div><div class='features'><span class=\"text xft\" ><span class=\"f\">text=</span>كَمَا</span></div></div><div class=\"contnr c0 trm rtl  \" ><div class=\"lbl c0 trm \" ><span class=\"txtu ara\">أَنَّ </span></div><div class='features'><span class=\"text xft\" ><span class=\"f\">text=</span>أَنَّ</span></div></div><div class=\"contnr c0 trm rtl  hl\" ><div class=\"lbl c0 trm hl\" ><span class=\"txtu ara\">مِنْهَا </span></div><div class='features'><span class=\"text xft\" ><span class=\"f\">text=</span>مِنْهَا</span></div></div><div class=\"contnr c0 trm rtl  hl\" ><div class=\"lbl c0 trm hl\" ><span class=\"txtu ara\">مَاتَـكُونُ </span></div><div class='features'><span class=\"text xft\" ><span class=\"f\">text=</span>مَاتَـكُونُ</span></div></div><div class=\"contnr c0 trm rtl  \" ><div class=\"lbl c0 trm \" ><span class=\"txtu ara\">عَنْ </span></div><div class='features'><span class=\"text xft\" ><span class=\"f\">text=</span>عَنْ</span></div></div><div class=\"contnr c0 trm rtl  hl\" ><div class=\"lbl c0 trm hl\" ><span class=\"txtu ara\">سُؤالٍ </span></div><div class='features'><span class=\"text xft\" ><span class=\"f\">text=</span>سُؤالٍ</span></div></div><div class=\"contnr c0 trm rtl  \" ><div class=\"lbl c0 trm \" ><span class=\"txtu ara\">فِي </span></div><div class='features'><span class=\"text xft\" ><span class=\"f\">text=</span>فِي</span></div></div><div class=\"contnr c0 trm rtl  \" ><div class=\"lbl c0 trm \" ><span class=\"txtu ara\">مُعَـيَّنٍ، </span></div><div class='features'><span class=\"text xft\" ><span class=\"f\">text=</span>مُعَـيَّنٍ</span></div></div><div class=\"contnr c0 trm rtl  \" ><div class=\"lbl c0 trm \" ><span class=\"txtu ara\">وَعَنْ </span></div><div class='features'><span class=\"text xft\" ><span class=\"f\">text=</span>وَعَنْ</span></div></div><div class=\"contnr c0 trm rtl  hl\" ><div class=\"lbl c0 trm hl\" ><span class=\"txtu ara\">سُؤالٍ </span></div><div class='features'><span class=\"text xft\" ><span class=\"f\">text=</span>سُؤالٍ</span></div></div><div class=\"contnr c0 trm rtl  \" ><div class=\"lbl c0 trm \" ><span class=\"txtu ara\">غَـيْرِ </span></div><div class='features'><span class=\"text xft\" ><span class=\"f\">text=</span>غَـيْرِ</span></div></div><div class=\"contnr c0 trm rtl  \" ><div class=\"lbl c0 trm \" ><span class=\"txtu ara\">مُعَـيَّنٍ. </span></div><div class='features'><span class=\"text xft\" ><span class=\"f\">text=</span>مُعَـيَّنٍ</span></div></div></div></div></div></div></div></div></div>"
      ],
      "text/plain": [
       "<IPython.core.display.HTML object>"
      ]
     },
     "metadata": {},
     "output_type": "display_data"
    },
    {
     "data": {
      "text/html": [
       "<p><b>line</b> <i>5</i></p>"
      ],
      "text/plain": [
       "<IPython.core.display.HTML object>"
      ]
     },
     "metadata": {},
     "output_type": "display_data"
    },
    {
     "data": {
      "text/html": [
       "<div class=\"tfsechead rtl\">5 32:6</div><div class=\"rtl children\"><div class=\"contnr c3  rtl  \" ><div class=\"lbl c3  \" ><span class=\"nd\">line</span></div><div class='features'><span class=\"n xft\" ><span class=\"f\">n=</span>6</span></div><div class=\"children hor wrap rtl\"><div class=\"contnr c1  rtl  \" ><div class=\"lbl c1  \" ><span class=\"nd\">column</span></div><div class='features'><span class=\"n xft\" ><span class=\"f\">n=</span>1</span></div><div class=\"children hor wrap rtl\"><div class=\"contnr c1  rtl  \" ><div class=\"lbl c1  \" ><span class=\"nd\">span</span></div><div class='features'><span class=\"n xft\" ><span class=\"f\">n=</span>1</span></div><div class=\"children hor wrap rtl\"><div class=\"contnr c0 trm rtl  hl\" ><div class=\"lbl c0 trm hl\" ><span class=\"txtu ara\">وَمِنْهَا: </span></div><div class='features'><span class=\"text xft\" ><span class=\"f\">text=</span>وَمِنْهَا</span></div></div><div class=\"contnr c0 trm rtl  hl\" ><div class=\"lbl c0 trm hl\" ><span class=\"txtu ara\">مَالَا </span></div><div class='features'><span class=\"text xft\" ><span class=\"f\">text=</span>مَالَا</span></div></div><div class=\"contnr c0 trm rtl  \" ><div class=\"lbl c0 trm \" ><span class=\"txtu ara\">يَكُونُ </span></div><div class='features'><span class=\"text xft\" ><span class=\"f\">text=</span>يَكُونُ</span></div></div><div class=\"contnr c0 trm rtl  \" ><div class=\"lbl c0 trm \" ><span class=\"txtu ara\">عَنْ </span></div><div class='features'><span class=\"text xft\" ><span class=\"f\">text=</span>عَنْ</span></div></div><div class=\"contnr c0 trm rtl  hl\" ><div class=\"lbl c0 trm hl\" ><span class=\"txtu ara\">سُؤالٍ، </span></div><div class='features'><span class=\"text xft\" ><span class=\"f\">text=</span>سُؤالٍ</span></div></div><div class=\"contnr c0 trm rtl  hl\" ><div class=\"lbl c0 trm hl\" ><span class=\"txtu ara\">سَوَاءٌكَانَتْ </span></div><div class='features'><span class=\"text xft\" ><span class=\"f\">text=</span>سَوَاءٌكَانَتْ</span></div></div><div class=\"contnr c0 trm rtl  hl\" ><div class=\"lbl c0 trm hl\" ><span class=\"txtu ara\">الأُعْطِيَةُ </span></div><div class='features'><span class=\"text xft\" ><span class=\"f\">text=</span>الأُعْطِيَةُ</span></div></div><div class=\"contnr c0 trm rtl  hl\" ><div class=\"lbl c0 trm hl\" ><span class=\"txtu ara\">ذَاتِيَّةً </span></div><div class='features'><span class=\"text xft\" ><span class=\"f\">text=</span>ذَاتِيَّةً</span></div></div><div class=\"contnr c0 trm rtl  \" ><div class=\"lbl c0 trm \" ><span class=\"txtu ara\">أَوْ </span></div><div class='features'><span class=\"text xft\" ><span class=\"f\">text=</span>أَوْ</span></div></div><div class=\"contnr c0 trm rtl  hl\" ><div class=\"lbl c0 trm hl\" ><span class=\"txtu ara\">أَسْمَائِيَّةً. </span></div><div class='features'><span class=\"text xft\" ><span class=\"f\">text=</span>أَسْمَائِيَّةً</span></div></div></div></div></div></div></div></div></div>"
      ],
      "text/plain": [
       "<IPython.core.display.HTML object>"
      ]
     },
     "metadata": {},
     "output_type": "display_data"
    },
    {
     "data": {
      "text/html": [
       "<p><b>line</b> <i>6</i></p>"
      ],
      "text/plain": [
       "<IPython.core.display.HTML object>"
      ]
     },
     "metadata": {},
     "output_type": "display_data"
    },
    {
     "data": {
      "text/html": [
       "<div class=\"tfsechead rtl\">5 32:7</div><div class=\"rtl children\"><div class=\"contnr c3  rtl  \" ><div class=\"lbl c3  \" ><span class=\"nd\">line</span></div><div class='features'><span class=\"n xft\" ><span class=\"f\">n=</span>7</span></div><div class=\"children hor wrap rtl\"><div class=\"contnr c1  rtl  \" ><div class=\"lbl c1  \" ><span class=\"nd\">column</span></div><div class='features'><span class=\"n xft\" ><span class=\"f\">n=</span>1</span></div><div class=\"children hor wrap rtl\"><div class=\"contnr c1  rtl  \" ><div class=\"lbl c1  \" ><span class=\"nd\">span</span></div><div class='features'><span class=\"n xft\" ><span class=\"f\">n=</span>1</span></div><div class=\"children hor wrap rtl\"><div class=\"contnr c0 trm rtl  hl\" ><div class=\"lbl c0 trm hl\" ><span class=\"txtu ara\">فَالمُعَيَّنُكَمَنْ </span></div><div class='features'><span class=\"text xft\" ><span class=\"f\">text=</span>فَالمُعَيَّنُكَمَنْ</span></div></div><div class=\"contnr c0 trm rtl  \" ><div class=\"lbl c0 trm \" ><span class=\"txtu ara\">يَقُولُ: </span></div><div class='features'><span class=\"text xft\" ><span class=\"f\">text=</span>يَقُولُ</span></div></div><div class=\"contnr c0 trm rtl  hl\" ><div class=\"lbl c0 trm hl\" ><span class=\"txtu ara\">«يَا </span></div><div class='features'><span class=\"text xft\" ><span class=\"f\">text=</span>يَا</span></div></div><div class=\"contnr c0 trm rtl  \" ><div class=\"lbl c0 trm \" ><span class=\"txtu ara\">رَبِّ </span></div><div class='features'><span class=\"text xft\" ><span class=\"f\">text=</span>رَبِّ</span></div></div><div class=\"contnr c0 trm rtl  hl\" ><div class=\"lbl c0 trm hl\" ><span class=\"txtu ara\">أَعْطِنِيكَذَا». </span></div><div class='features'><span class=\"text xft\" ><span class=\"f\">text=</span>أَعْطِنِيكَذَا</span></div></div><div class=\"contnr c0 trm rtl  \" ><div class=\"lbl c0 trm \" ><span class=\"txtu ara\">فَيُعَـيِّنُ </span></div><div class='features'><span class=\"text xft\" ><span class=\"f\">text=</span>فَيُعَـيِّنُ</span></div></div><div class=\"contnr c0 trm rtl  hl\" ><div class=\"lbl c0 trm hl\" ><span class=\"txtu ara\">أَمْـرًا </span></div><div class='features'><span class=\"text xft\" ><span class=\"f\">text=</span>أَمْـرًا</span></div></div><div class=\"contnr c0 trm rtl  hl\" ><div class=\"lbl c0 trm hl\" ><span class=\"txtu ara\">مَا، </span></div><div class='features'><span class=\"text xft\" ><span class=\"f\">text=</span>مَا</span></div></div><div class=\"contnr c0 trm rtl  hl\" ><div class=\"lbl c0 trm hl\" ><span class=\"txtu ara\">لَا </span></div><div class='features'><span class=\"text xft\" ><span class=\"f\">text=</span>لَا</span></div></div><div class=\"contnr c0 trm rtl  \" ><div class=\"lbl c0 trm \" ><span class=\"txtu ara\">يَخْطُـرُ </span></div><div class='features'><span class=\"text xft\" ><span class=\"f\">text=</span>يَخْطُـرُ</span></div></div></div></div></div></div></div></div></div>"
      ],
      "text/plain": [
       "<IPython.core.display.HTML object>"
      ]
     },
     "metadata": {},
     "output_type": "display_data"
    },
    {
     "data": {
      "text/html": [
       "<p><b>line</b> <i>7</i></p>"
      ],
      "text/plain": [
       "<IPython.core.display.HTML object>"
      ]
     },
     "metadata": {},
     "output_type": "display_data"
    },
    {
     "data": {
      "text/html": [
       "<div class=\"tfsechead rtl\">5 32:8</div><div class=\"rtl children\"><div class=\"contnr c3  rtl  \" ><div class=\"lbl c3  \" ><span class=\"nd\">line</span></div><div class='features'><span class=\"n xft\" ><span class=\"f\">n=</span>8</span></div><div class=\"children hor wrap rtl\"><div class=\"contnr c1  rtl  \" ><div class=\"lbl c1  \" ><span class=\"nd\">column</span></div><div class='features'><span class=\"n xft\" ><span class=\"f\">n=</span>1</span></div><div class=\"children hor wrap rtl\"><div class=\"contnr c1  rtl  \" ><div class=\"lbl c1  \" ><span class=\"nd\">span</span></div><div class='features'><span class=\"n xft\" ><span class=\"f\">n=</span>1</span></div><div class=\"children hor wrap rtl\"><div class=\"contnr c0 trm rtl  \" ><div class=\"lbl c0 trm \" ><span class=\"txtu ara\">لَهُ </span></div><div class='features'><span class=\"text xft\" ><span class=\"f\">text=</span>لَهُ</span></div></div><div class=\"contnr c0 trm rtl  hl\" ><div class=\"lbl c0 trm hl\" ><span class=\"txtu ara\">سِوَاهُ. </span></div><div class='features'><span class=\"text xft\" ><span class=\"f\">text=</span>سِوَاهُ</span></div></div><div class=\"contnr c0 trm rtl  \" ><div class=\"lbl c0 trm \" ><span class=\"txtu ara\">وَغَيرُ </span></div><div class='features'><span class=\"text xft\" ><span class=\"f\">text=</span>وَغَيرُ</span></div></div><div class=\"contnr c0 trm rtl  hl\" ><div class=\"lbl c0 trm hl\" ><span class=\"txtu ara\">المُعَيَّنِكَمَنْ </span></div><div class='features'><span class=\"text xft\" ><span class=\"f\">text=</span>المُعَيَّنِكَمَنْ</span></div></div><div class=\"contnr c0 trm rtl  \" ><div class=\"lbl c0 trm \" ><span class=\"txtu ara\">يَقُولُ: </span></div><div class='features'><span class=\"text xft\" ><span class=\"f\">text=</span>يَقُولُ</span></div></div><div class=\"contnr c0 trm rtl  hl\" ><div class=\"lbl c0 trm hl\" ><span class=\"txtu ara\">«يَا </span></div><div class='features'><span class=\"text xft\" ><span class=\"f\">text=</span>يَا</span></div></div><div class=\"contnr c0 trm rtl  \" ><div class=\"lbl c0 trm \" ><span class=\"txtu ara\">رَبِّ </span></div><div class='features'><span class=\"text xft\" ><span class=\"f\">text=</span>رَبِّ</span></div></div><div class=\"contnr c0 trm rtl  \" ><div class=\"lbl c0 trm \" ><span class=\"txtu ara\">أَعْطِنِي </span></div><div class='features'><span class=\"text xft\" ><span class=\"f\">text=</span>أَعْطِنِي</span></div></div><div class=\"contnr c0 trm rtl  hl\" ><div class=\"lbl c0 trm hl\" ><span class=\"txtu ara\">مَاتَعْلَمُ </span></div><div class='features'><span class=\"text xft\" ><span class=\"f\">text=</span>مَاتَعْلَمُ</span></div></div><div class=\"contnr c0 trm rtl  \" ><div class=\"lbl c0 trm \" ><span class=\"txtu ara\">فِيهِ </span></div><div class='features'><span class=\"text xft\" ><span class=\"f\">text=</span>فِيهِ</span></div></div><div class=\"contnr c0 trm rtl  \" ><div class=\"lbl c0 trm \" ><span class=\"txtu ara\">مَصْلَحَتِي»، </span></div><div class='features'><span class=\"text xft\" ><span class=\"f\">text=</span>مَصْلَحَتِي</span></div></div></div></div></div></div></div></div></div>"
      ],
      "text/plain": [
       "<IPython.core.display.HTML object>"
      ]
     },
     "metadata": {},
     "output_type": "display_data"
    }
   ],
   "source": [
    "A.show(results, condensed=True, extraFeatures=\"n title\")"
   ]
  },
  {
   "cell_type": "code",
   "execution_count": null,
   "metadata": {},
   "outputs": [],
   "source": []
  }
 ],
 "metadata": {
  "kernelspec": {
   "display_name": "Python3.8",
   "language": "python",
   "name": "python3.8"
  },
  "language_info": {
   "codemirror_mode": {
    "name": "ipython",
    "version": 3
   },
   "file_extension": ".py",
   "mimetype": "text/x-python",
   "name": "python",
   "nbconvert_exporter": "python",
   "pygments_lexer": "ipython3",
   "version": "3.8.6"
  }
 },
 "nbformat": 4,
 "nbformat_minor": 4
}
