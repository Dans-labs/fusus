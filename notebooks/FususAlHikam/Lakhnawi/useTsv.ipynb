{
 "cells": [
  {
   "cell_type": "markdown",
   "metadata": {},
   "source": [
    "# Use TSV data\n",
    "\n",
    "We show how to work with the TSV data from the Lakhnawi PDF.\n",
    "\n",
    "Reference: [lakhnawi](https://among.github.io/fusus/fusus/tsv.html)."
   ]
  },
  {
   "cell_type": "code",
   "execution_count": 1,
   "metadata": {},
   "outputs": [],
   "source": [
    "%load_ext autoreload\n",
    "%autoreload 2"
   ]
  },
  {
   "cell_type": "code",
   "execution_count": 2,
   "metadata": {},
   "outputs": [],
   "source": [
    "from fusus.tsv import loadTsv"
   ]
  },
  {
   "cell_type": "markdown",
   "metadata": {},
   "source": [
    "For a known work, such as the Lakhnawi edition of the Fusus,\n",
    "we can use a keyword, see [works](https://among.github.io/fusus/fusus/works.html)"
   ]
  },
  {
   "cell_type": "code",
   "execution_count": 11,
   "metadata": {},
   "outputs": [
    {
     "name": "stdout",
     "output_type": "stream",
     "text": [
      "Loading TSV data from ~/github/among/fusus/ur/Lakhnawi/allpages.tsv\n"
     ]
    }
   ],
   "source": [
    "(headers, words) = loadTsv(source=\"fususl\")"
   ]
  },
  {
   "cell_type": "markdown",
   "metadata": {},
   "source": [
    "We get the header fields and the words:"
   ]
  },
  {
   "cell_type": "code",
   "execution_count": 9,
   "metadata": {},
   "outputs": [
    {
     "name": "stdout",
     "output_type": "stream",
     "text": [
      "('page', 'line', 'column', 'span', 'direction', 'left', 'top', 'right', 'bottom', 'word')\n"
     ]
    }
   ],
   "source": [
    "print(headers)"
   ]
  },
  {
   "cell_type": "code",
   "execution_count": 10,
   "metadata": {},
   "outputs": [
    {
     "data": {
      "text/plain": [
       "47303"
      ]
     },
     "execution_count": 10,
     "metadata": {},
     "output_type": "execute_result"
    }
   ],
   "source": [
    "len(words)"
   ]
  },
  {
   "cell_type": "code",
   "execution_count": 8,
   "metadata": {},
   "outputs": [
    {
     "name": "stdout",
     "output_type": "stream",
     "text": [
      "(388, 7, 1, 1, 'r', 383, 243, 402, 264, 'جِهَةِ')\n"
     ]
    }
   ],
   "source": [
    "print(words[40000])"
   ]
  },
  {
   "cell_type": "markdown",
   "metadata": {},
   "source": [
    "Alternatively, we could have gotten it as follows:"
   ]
  },
  {
   "cell_type": "code",
   "execution_count": 13,
   "metadata": {},
   "outputs": [
    {
     "name": "stdout",
     "output_type": "stream",
     "text": [
      "Loading TSV data from ~/github/among/fusus/ur/Lakhnawi/allpages.tsv\n"
     ]
    }
   ],
   "source": [
    "(headers, words) = loadTsv(path=\"~/github/among/fusus/ur/Lakhnawi/allpages.tsv\", ocred=False)"
   ]
  },
  {
   "cell_type": "code",
   "execution_count": 15,
   "metadata": {},
   "outputs": [
    {
     "name": "stdout",
     "output_type": "stream",
     "text": [
      "('page', 'line', 'column', 'span', 'direction', 'left', 'top', 'right', 'bottom', 'word')\n",
      "47303\n",
      "(388, 7, 1, 1, 'r', 383, 243, 402, 264, 'جِهَةِ')\n"
     ]
    }
   ],
   "source": [
    "print(headers)\n",
    "print(len(words))\n",
    "print(words[40000])"
   ]
  },
  {
   "cell_type": "code",
   "execution_count": null,
   "metadata": {},
   "outputs": [],
   "source": []
  }
 ],
 "metadata": {
  "kernelspec": {
   "display_name": "Python3.9",
   "language": "python",
   "name": "python3"
  },
  "language_info": {
   "codemirror_mode": {
    "name": "ipython",
    "version": 3
   },
   "file_extension": ".py",
   "mimetype": "text/x-python",
   "name": "python",
   "nbconvert_exporter": "python",
   "pygments_lexer": "ipython3",
   "version": "3.9.0"
  }
 },
 "nbformat": 4,
 "nbformat_minor": 4
}
