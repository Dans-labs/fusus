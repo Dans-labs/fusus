{
 "cells": [
  {
   "cell_type": "code",
   "execution_count": 1,
   "metadata": {},
   "outputs": [],
   "source": [
    "from tf.app import use"
   ]
  },
  {
   "cell_type": "code",
   "execution_count": 2,
   "metadata": {},
   "outputs": [
    {
     "data": {
      "text/html": [
       "<b title=\"local github\">data:</b> <span title=\"repo clone offline under ~/github\">~/github/among/fusus/tf/fusus/Lakhnawi/0.2</span>"
      ],
      "text/plain": [
       "<IPython.core.display.HTML object>"
      ]
     },
     "metadata": {},
     "output_type": "display_data"
    },
    {
     "data": {
      "text/html": [
       "<b>Text-Fabric:</b> <a target=\"_blank\" href=\"https://annotation.github.io/text-fabric/tf/cheatsheet.html\" title=\"text-fabric-api\">Text-Fabric API 8.4.11</a>, no app configured<br><b>Data:</b> among/fusus/tf/fusus/Lakhnawi/0.2<br><b>Features:</b><br><details><summary><b>among/fusus/tf/fusus/Lakhnawi</b></summary><a target=\"_blank\" href=\"https://github.com/among/fusus/tree/master/tf/fusus/Lakhnawi\" title=\"~/github/among/fusus/tf/fusus/Lakhnawi/0.2/boxb.tf\">boxb</a><br><a target=\"_blank\" href=\"https://github.com/among/fusus/tree/master/tf/fusus/Lakhnawi\" title=\"~/github/among/fusus/tf/fusus/Lakhnawi/0.2/boxl.tf\">boxl</a><br><a target=\"_blank\" href=\"https://github.com/among/fusus/tree/master/tf/fusus/Lakhnawi\" title=\"~/github/among/fusus/tf/fusus/Lakhnawi/0.2/boxr.tf\">boxr</a><br><a target=\"_blank\" href=\"https://github.com/among/fusus/tree/master/tf/fusus/Lakhnawi\" title=\"~/github/among/fusus/tf/fusus/Lakhnawi/0.2/boxt.tf\">boxt</a><br><a target=\"_blank\" href=\"https://github.com/among/fusus/tree/master/tf/fusus/Lakhnawi\" title=\"~/github/among/fusus/tf/fusus/Lakhnawi/0.2/dir.tf\">dir</a><br><a target=\"_blank\" href=\"https://github.com/among/fusus/tree/master/tf/fusus/Lakhnawi\" title=\"~/github/among/fusus/tf/fusus/Lakhnawi/0.2/ln.tf\">ln</a><br><a target=\"_blank\" href=\"https://github.com/among/fusus/tree/master/tf/fusus/Lakhnawi\" title=\"~/github/among/fusus/tf/fusus/Lakhnawi/0.2/n.tf\">n</a><br><a target=\"_blank\" href=\"https://github.com/among/fusus/tree/master/tf/fusus/Lakhnawi\" title=\"~/github/among/fusus/tf/fusus/Lakhnawi/0.2/nice.tf\">nice</a><br><a target=\"_blank\" href=\"https://github.com/among/fusus/tree/master/tf/fusus/Lakhnawi\" title=\"~/github/among/fusus/tf/fusus/Lakhnawi/0.2/np.tf\">np</a><br><a target=\"_blank\" href=\"https://github.com/among/fusus/tree/master/tf/fusus/Lakhnawi\" title=\"~/github/among/fusus/tf/fusus/Lakhnawi/0.2/otype.tf\">otype</a><br><a target=\"_blank\" href=\"https://github.com/among/fusus/tree/master/tf/fusus/Lakhnawi\" title=\"~/github/among/fusus/tf/fusus/Lakhnawi/0.2/plain.tf\">plain</a><br><a target=\"_blank\" href=\"https://github.com/among/fusus/tree/master/tf/fusus/Lakhnawi\" title=\"~/github/among/fusus/tf/fusus/Lakhnawi/0.2/post.tf\">post</a><br><a target=\"_blank\" href=\"https://github.com/among/fusus/tree/master/tf/fusus/Lakhnawi\" title=\"~/github/among/fusus/tf/fusus/Lakhnawi/0.2/posta.tf\">posta</a><br><a target=\"_blank\" href=\"https://github.com/among/fusus/tree/master/tf/fusus/Lakhnawi\" title=\"~/github/among/fusus/tf/fusus/Lakhnawi/0.2/pre.tf\">pre</a><br><a target=\"_blank\" href=\"https://github.com/among/fusus/tree/master/tf/fusus/Lakhnawi\" title=\"~/github/among/fusus/tf/fusus/Lakhnawi/0.2/prea.tf\">prea</a><br><a target=\"_blank\" href=\"https://github.com/among/fusus/tree/master/tf/fusus/Lakhnawi\" title=\"~/github/among/fusus/tf/fusus/Lakhnawi/0.2/text.tf\">text</a><br><a target=\"_blank\" href=\"https://github.com/among/fusus/tree/master/tf/fusus/Lakhnawi\" title=\"~/github/among/fusus/tf/fusus/Lakhnawi/0.2/title.tf\">title</a><br><a target=\"_blank\" href=\"https://github.com/among/fusus/tree/master/tf/fusus/Lakhnawi\" title=\"~/github/among/fusus/tf/fusus/Lakhnawi/0.2/trans.tf\">trans</a><br><b><i><a target=\"_blank\" href=\"https://github.com/among/fusus/tree/master/tf/fusus/Lakhnawi\" title=\"~/github/among/fusus/tf/fusus/Lakhnawi/0.2/oslots.tf\">oslots</a></i></b><br></details>"
      ],
      "text/plain": [
       "<IPython.core.display.HTML object>"
      ]
     },
     "metadata": {},
     "output_type": "display_data"
    },
    {
     "data": {
      "text/html": [
       "<style>tr.tf.ltr, td.tf.ltr, th.tf.ltr { text-align: left ! important;}\n",
       "tr.tf.rtl, td.tf.rtl, th.tf.rtl { text-align: right ! important;}\n",
       "@font-face {\n",
       "  font-family: \"Gentium Plus\";\n",
       "  src: local('Gentium Plus'), local('GentiumPlus'),\n",
       "    url('/server/static/fonts/GentiumPlus-R.woff') format('woff'),\n",
       "    url('https://github.com/annotation/text-fabric/blob/master/tf/server/static/fonts/GentiumPlus-R.woff?raw=true') format('woff');\n",
       "}\n",
       "\n",
       "@font-face {\n",
       "  font-family: \"Ezra SIL\";\n",
       "  src: local('Ezra SIL'), local('EzraSIL'),\n",
       "    url('/server/static/fonts/SILEOT.woff') format('woff'),\n",
       "    url('https://github.com/annotation/text-fabric/blob/master/tf/server/static/fonts/SILEOT.woff?raw=true') format('woff');\n",
       "}\n",
       "\n",
       "@font-face {\n",
       "  font-family: \"SBL Hebrew\";\n",
       "  src: local('SBL Hebrew'), local('SBLHebrew'),\n",
       "    url('/server/static/fonts/SBL_Hbrw.woff') format('woff'),\n",
       "    url('https://github.com/annotation/text-fabric/blob/master/tf/server/static/fonts/SBL_Hbrw.woff?raw=true') format('woff');\n",
       "}\n",
       "\n",
       "@font-face {\n",
       "  font-family: \"Estrangelo Edessa\";\n",
       "  src: local('Estrangelo Edessa'), local('EstrangeloEdessa');\n",
       "    url('/server/static/fonts/SyrCOMEdessa.woff') format('woff'),\n",
       "    url('https://github.com/annotation/text-fabric/blob/master/tf/server/static/fonts/SyrCOMEdessa.woff?raw=true') format('woff');\n",
       "}\n",
       "\n",
       "@font-face {\n",
       "  font-family: AmiriQuran;\n",
       "  font-style: normal;\n",
       "  font-weight: 400;\n",
       "  src: local('Amiri Quran'), local('AmiriQuran'),\n",
       "    url('/server/static/fonts/AmiriQuran.woff') format('woff'),\n",
       "    url('https://github.com/annotation/text-fabric/blob/master/tf/server/static/fonts/AmiriQuran.woff?raw=true') format('woff');\n",
       "}\n",
       "\n",
       "@font-face {\n",
       "  font-family: AmiriQuranColored;\n",
       "  font-style: normal;\n",
       "  font-weight: 400;\n",
       "  src: local('Amiri Quran Colored'), local('AmiriQuranColored'),\n",
       "    url('/server/static/fonts/AmiriQuranColored.woff') format('woff'),\n",
       "    url('https://github.com/annotation/text-fabric/blob/master/tf/server/static/fonts/AmiriQuranColored.woff?raw=true') format('woff');\n",
       "}\n",
       "\n",
       "@font-face {\n",
       "  font-family: \"Santakku\";\n",
       "  src: local('Santakku'),\n",
       "    url('/server/static/fonts/Santakku.woff') format('woff'),\n",
       "    url('https://github.com/annotation/text-fabric/blob/master/tf/server/static/fonts/Santakku.woff?raw=true') format('woff');\n",
       "}\n",
       "\n",
       "@font-face {\n",
       "  font-family: \"SantakkuM\";\n",
       "  src: local('SantakkuM'),\n",
       "    url('/server/static/fonts/SantakkuM.woff') format('woff'),\n",
       "    url('https://github.com/annotation/text-fabric/blob/master/tf/server/static/fonts/SantakkuM.woff?raw=true') format('woff');\n",
       "}\n",
       "/* bypassing some classical notebook settings */\n",
       "div#notebook {\n",
       "  line-height: unset;\n",
       "}\n",
       "/* neutral text */\n",
       ".txtn,.txtn a:visited,.txtn a:link {\n",
       "    font-family: sans-serif;\n",
       "    font-size: medium;\n",
       "    direction: ltr;\n",
       "    unicode-bidi: embed;\n",
       "    text-decoration: none;\n",
       "    color: var(--text-color);\n",
       "}\n",
       "/* transcription text */\n",
       ".txtt,.txtt a:visited,.txtt a:link {\n",
       "    font-family: monospace;\n",
       "    font-size: medium;\n",
       "    direction: ltr;\n",
       "    unicode-bidi: embed;\n",
       "    text-decoration: none;\n",
       "    color: var(--text-color);\n",
       "}\n",
       "/* source text */\n",
       ".txto,.txto a:visited,.txto a:link {\n",
       "    font-family: serif;\n",
       "    font-size: medium;\n",
       "    direction: ltr;\n",
       "    unicode-bidi: embed;\n",
       "    text-decoration: none;\n",
       "    color: var(--text-color);\n",
       "}\n",
       "/* phonetic text */\n",
       ".txtp,.txtp a:visited,.txtp a:link {\n",
       "    font-family: Gentium, sans-serif;\n",
       "    font-size: medium;\n",
       "    direction: ltr;\n",
       "    unicode-bidi: embed;\n",
       "    text-decoration: none;\n",
       "    color: var(--text-color);\n",
       "}\n",
       "/* original script text */\n",
       ".txtu,.txtu a:visited,.txtu a:link {\n",
       "    font-family: Gentium, sans-serif;\n",
       "    font-size: medium;\n",
       "    text-decoration: none;\n",
       "    color: var(--text-color);\n",
       "}\n",
       "/* hebrew */\n",
       ".txtu.hbo,.lex.hbo {\n",
       "    font-family: \"Ezra SIL\", \"SBL Hebrew\", sans-serif;\n",
       "    font-size: large;\n",
       "    direction: rtl ! important;\n",
       "    unicode-bidi: embed;\n",
       "}\n",
       "/* syriac */\n",
       ".txtu.syc,.lex.syc {\n",
       "    font-family: \"Estrangelo Edessa\", sans-serif;\n",
       "    font-size: medium;\n",
       "    direction: rtl ! important;\n",
       "    unicode-bidi: embed;\n",
       "}\n",
       "/* neo aramaic */\n",
       ".txtu.cld,.lex.cld {\n",
       "    font-family: \"CharisSIL-R\", sans-serif;\n",
       "    font-size: medium;\n",
       "    direction: ltr ! important;\n",
       "    unicode-bidi: embed;\n",
       "}\n",
       "/* standard arabic */\n",
       ".txtu.ara,.lex.ara {\n",
       "    font-family: \"AmiriQuran\", sans-serif;\n",
       "    font-size: large;\n",
       "    direction: rtl ! important;\n",
       "    unicode-bidi: embed;\n",
       "}\n",
       "/* cuneiform */\n",
       ".txtu.akk,.lex.akk {\n",
       "    font-family: Santakku, sans-serif;\n",
       "    font-size: large;\n",
       "    direction: ltr ! important;\n",
       "    unicode-bidi: embed;\n",
       "}\n",
       "/* greek */\n",
       ".txtu.grc,.lex.grc a:link {\n",
       "    font-family: Gentium, sans-serif;\n",
       "    font-size: medium;\n",
       "    direction: ltr ! important;\n",
       "    unicode-bidi: embed;\n",
       "}\n",
       "a:hover {\n",
       "    text-decoration: underline | important;\n",
       "    color: #0000ff | important;\n",
       "}\n",
       ".ltr {\n",
       "    direction: ltr ! important;\n",
       "    unicode-bidi: embed;\n",
       "}\n",
       ".rtl {\n",
       "    direction: rtl ! important;\n",
       "    unicode-bidi: embed;\n",
       "}\n",
       ".ubd {\n",
       "    unicode-bidi: embed;\n",
       "}\n",
       ".col {\n",
       "   display: inline-block;\n",
       "}\n",
       ".features {\n",
       "    font-family: monospace;\n",
       "    font-size: medium;\n",
       "    font-weight: bold;\n",
       "    color: var(--features);\n",
       "    display: flex;\n",
       "    flex-flow: column nowrap;\n",
       "    justify-content: flex-start;\n",
       "    align-items: flex-start;\n",
       "    align-content: flex-start;\n",
       "    padding: 2px;\n",
       "    margin: 2px;\n",
       "    direction: ltr;\n",
       "    unicode-bidi: embed;\n",
       "    border: var(--meta-width) solid var(--meta-color);\n",
       "    border-radius: var(--meta-width);\n",
       "}\n",
       ".features div,.features span {\n",
       "    padding: 0;\n",
       "    margin: -2px 0;\n",
       "}\n",
       ".features .f {\n",
       "    font-family: sans-serif;\n",
       "    font-size: small;\n",
       "    font-weight: normal;\n",
       "    color: #5555bb;\n",
       "}\n",
       ".features .xft {\n",
       "  color: #000000;\n",
       "  background-color: #eeeeee;\n",
       "  font-size: medium;\n",
       "  margin: 2px 0px;\n",
       "}\n",
       ".features .xft .f {\n",
       "  color: #000000;\n",
       "  background-color: #eeeeee;\n",
       "  font-size: small;\n",
       "  font-weight: normal;\n",
       "}\n",
       ".tfsechead {\n",
       "    font-family: sans-serif;\n",
       "    font-size: small;\n",
       "    font-weight: bold;\n",
       "    color: var(--tfsechead);\n",
       "    unicode-bidi: embed;\n",
       "    text-align: start;\n",
       "}\n",
       ".structure {\n",
       "    font-family: sans-serif;\n",
       "    font-size: small;\n",
       "    font-weight: bold;\n",
       "    color: var(--structure);\n",
       "    unicode-bidi: embed;\n",
       "    text-align: start;\n",
       "}\n",
       ".comments {\n",
       "    display: flex;\n",
       "    justify-content: flex-start;\n",
       "    align-items: flex-start;\n",
       "    align-content: flex-start;\n",
       "    flex-flow: column nowrap;\n",
       "}\n",
       ".nd, a:link.nd {\n",
       "    font-family: sans-serif;\n",
       "    font-size: small;\n",
       "    color: var(--node);\n",
       "    vertical-align: super;\n",
       "    direction: ltr ! important;\n",
       "    unicode-bidi: embed;\n",
       "}\n",
       ".lex {\n",
       "  color: var(--lex-color);;\n",
       "}\n",
       ".children,.children.ltr {\n",
       "    display: flex;\n",
       "    border: 0;\n",
       "    background-color: #ffffff;\n",
       "    justify-content: flex-start;\n",
       "    align-items: flex-start;\n",
       "    align-content: flex-start;\n",
       "}\n",
       ".children.stretch {\n",
       "    align-items: stretch;\n",
       "}\n",
       ".children.hor {\n",
       "    flex-flow: row nowrap;\n",
       "}\n",
       ".children.hor.wrap {\n",
       "    flex-flow: row wrap;\n",
       "}\n",
       ".children.ver {\n",
       "    flex-flow: column nowrap;\n",
       "}\n",
       ".children.ver.wrap {\n",
       "    flex-flow: column wrap;\n",
       "}\n",
       ".contnr {\n",
       "    width: fit-content;\n",
       "    display: flex;\n",
       "    justify-content: flex-start;\n",
       "    align-items: flex-start;\n",
       "    align-content: flex-start;\n",
       "    flex-flow: column nowrap;\n",
       "    background: #ffffff none repeat scroll 0 0;\n",
       "    padding:  10px 2px 2px 2px;\n",
       "    margin: 16px 2px 2px 2px;\n",
       "    border-style: solid;\n",
       "    font-size: small;\n",
       "}\n",
       ".contnr.trm {\n",
       "    background-attachment: local;\n",
       "}\n",
       ".contnr.cnul {\n",
       "    padding:  0;\n",
       "    margin: 0;\n",
       "    border-style: solid;\n",
       "    font-size: xx-small;\n",
       "}\n",
       ".contnr.cnul,.lbl.cnul {\n",
       "    border-color: var(--border-color-nul);\n",
       "    border-width: var(--border-width-nul);\n",
       "    border-radius: var(--border-width-nul);\n",
       "}\n",
       ".contnr.c0,.lbl.c0 {\n",
       "    border-color: var(--border-color0);\n",
       "    border-width: var(--border-width0);\n",
       "    border-radius: var(--border-width0);\n",
       "}\n",
       ".contnr.c1,.lbl.c1 {\n",
       "    border-color: var(--border-color1);\n",
       "    border-width: var(--border-width1);\n",
       "    border-radius: var(--border-width1);\n",
       "}\n",
       ".contnr.c2,.lbl.c2 {\n",
       "    border-color: var(--border-color2);\n",
       "    border-width: var(--border-width2);\n",
       "    border-radius: var(--border-width2);\n",
       "}\n",
       ".contnr.c3,.lbl.c3 {\n",
       "    border-color: var(--border-color3);\n",
       "    border-width: var(--border-width3);\n",
       "    border-radius: var(--border-width3);\n",
       "}\n",
       ".contnr.c4,.lbl.c4 {\n",
       "    border-color: var(--border-color4);\n",
       "    border-width: var(--border-width4);\n",
       "    border-radius: var(--border-width4);\n",
       "}\n",
       "span.plain {\n",
       "    display: inline-block;\n",
       "    white-space: pre-wrap;\n",
       "}\n",
       ".plain {\n",
       "    background-color: #ffffff;\n",
       "}\n",
       ".plain.l,.contnr.l,.contnr.l>.lbl {\n",
       "    border-left-style: dotted\n",
       "}\n",
       ".plain.r,.contnr.r,.contnr.r>.lbl {\n",
       "    border-right-style: dotted\n",
       "}\n",
       ".plain.lno,.contnr.lno,.contnr.lno>.lbl {\n",
       "    border-left-style: none\n",
       "}\n",
       ".plain.rno,.contnr.rno,.contnr.rno>.lbl {\n",
       "    border-right-style: none\n",
       "}\n",
       ".plain.l {\n",
       "    padding-left: 4px;\n",
       "    margin-left: 2px;\n",
       "    border-width: var(--border-width-plain);\n",
       "}\n",
       ".plain.r {\n",
       "    padding-right: 4px;\n",
       "    margin-right: 2px;\n",
       "    border-width: var(--border-width-plain);\n",
       "}\n",
       ".lbl {\n",
       "    font-family: monospace;\n",
       "    margin-top: -24px;\n",
       "    margin-left: 20px;\n",
       "    background: #ffffff none repeat scroll 0 0;\n",
       "    padding: 0 6px;\n",
       "    border-style: solid;\n",
       "    display: block;\n",
       "    color: var(--label)\n",
       "}\n",
       ".lbl.trm {\n",
       "    background-attachment: local;\n",
       "    margin-top: 2px;\n",
       "    margin-left: 2px;\n",
       "    padding: 2px 2px;\n",
       "    border-style: none;\n",
       "}\n",
       ".lbl.cnul {\n",
       "    font-size: xx-small;\n",
       "}\n",
       ".lbl.c0 {\n",
       "    font-size: small;\n",
       "}\n",
       ".lbl.c1 {\n",
       "    font-size: small;\n",
       "}\n",
       ".lbl.c2 {\n",
       "    font-size: medium;\n",
       "}\n",
       ".lbl.c3 {\n",
       "    font-size: medium;\n",
       "}\n",
       ".lbl.c4 {\n",
       "    font-size: large;\n",
       "}\n",
       ".occs, a:link.occs {\n",
       "    font-size: small;\n",
       "}\n",
       "\n",
       "/* PROVENANCE */\n",
       "\n",
       "div.prov {\n",
       "\tmargin: 40px;\n",
       "\tpadding: 20px;\n",
       "\tborder: 2px solid var(--fog-rim);\n",
       "}\n",
       "div.pline {\n",
       "\tdisplay: flex;\n",
       "\tflex-flow: row nowrap;\n",
       "\tjustify-content: stretch;\n",
       "\talign-items: baseline;\n",
       "}\n",
       "div.p2line {\n",
       "\tmargin-left: 2em;\n",
       "\tdisplay: flex;\n",
       "\tflex-flow: row nowrap;\n",
       "\tjustify-content: stretch;\n",
       "\talign-items: baseline;\n",
       "}\n",
       "div.psline {\n",
       "\tdisplay: flex;\n",
       "\tflex-flow: row nowrap;\n",
       "\tjustify-content: stretch;\n",
       "\talign-items: baseline;\n",
       "\tbackground-color: var(--gold-mist-back);\n",
       "}\n",
       "div.pname {\n",
       "\tflex: 0 0 5rem;\n",
       "\tfont-weight: bold;\n",
       "}\n",
       "div.pval {\n",
       "    flex: 1 1 auto;\n",
       "}\n",
       "\n",
       ":root {\n",
       "\t--node:               hsla(120, 100%,  20%, 1.0  );\n",
       "\t--label:              hsla(  0, 100%,  20%, 1.0  );\n",
       "\t--tfsechead:          hsla(  0, 100%,  25%, 1.0  );\n",
       "\t--structure:          hsla(120, 100%,  25%, 1.0  );\n",
       "\t--features:           hsla(  0,   0%,  30%, 1.0  );\n",
       "  --text-color:         hsla( 60,  80%,  10%, 1.0  );\n",
       "  --lex-color:          hsla(220,  90%,  60%, 1.0  );\n",
       "  --meta-color:         hsla(  0,   0%,  90%, 0.7  );\n",
       "  --meta-width:         3px;\n",
       "  --border-color-nul:   hsla(  0,   0%,  90%, 0.5  );\n",
       "  --border-color0:      hsla(  0,   0%,  90%, 0.9  );\n",
       "  --border-color1:      hsla(  0,   0%,  80%, 0.9  );\n",
       "  --border-color2:      hsla(  0,   0%,  70%, 0.9  );\n",
       "  --border-color3:      hsla(  0,   0%,  80%, 0.8  );\n",
       "  --border-color4:      hsla(  0,   0%,  60%, 0.9  );\n",
       "  --border-width-nul:   2px;\n",
       "  --border-width0:      2px;\n",
       "  --border-width1:      3px;\n",
       "  --border-width2:      4px;\n",
       "  --border-width3:      6px;\n",
       "  --border-width4:      5px;\n",
       "  --border-width-plain: 2px;\n",
       "}\n",
       ".hl {\n",
       "  background-color: var(--hl-strong);\n",
       "}\n",
       "span.hl {\n",
       "\tbackground-color: var(--hl-strong);\n",
       "\tborder-width: 0;\n",
       "\tborder-radius: 2px;\n",
       "\tborder-style: solid;\n",
       "}\n",
       "div.contnr.hl,div.lbl.hl {\n",
       "  background-color: var(--hl-strong);\n",
       "}\n",
       "div.contnr.hl {\n",
       "  border-color: var(--hl-rim) ! important;\n",
       "\tborder-width: 4px ! important;\n",
       "}\n",
       "\n",
       "span.hlbx {\n",
       "\tborder-color: var(--hl-rim);\n",
       "\tborder-width: 4px ! important;\n",
       "\tborder-style: solid;\n",
       "\tborder-radius: 6px;\n",
       "  padding: 4px;\n",
       "  margin: 4px;\n",
       "}\n",
       "\n",
       "span.plain {\n",
       "  display: inline-block;\n",
       "  white-space: pre-wrap;\n",
       "}\n",
       "\n",
       ":root {\n",
       "\t--hl-strong:        hsla( 60, 100%,  70%, 0.9  );\n",
       "\t--hl-rim:           hsla( 55,  80%,  50%, 1.0  );\n",
       "}\n",
       "</style>"
      ],
      "text/plain": [
       "<IPython.core.display.HTML object>"
      ]
     },
     "metadata": {},
     "output_type": "display_data"
    },
    {
     "data": {
      "text/html": [
       "<div><b>Text-Fabric API:</b> names <a target=\"_blank\" href=\"https://annotation.github.io/text-fabric/tf/cheatsheet.html\" title=\"doc\">N F E L T S C TF</a> directly usable</div><hr>"
      ],
      "text/plain": [
       "<IPython.core.display.HTML object>"
      ]
     },
     "metadata": {},
     "output_type": "display_data"
    }
   ],
   "source": [
    "A = use(\"among/fusus/tf/fusus/Lakhnawi:clone\", version=\"0.2\", writing=\"ara\", hoist=globals())"
   ]
  },
  {
   "cell_type": "code",
   "execution_count": 3,
   "metadata": {},
   "outputs": [],
   "source": [
    "lines = F.otype.s(\"line\")"
   ]
  },
  {
   "cell_type": "code",
   "execution_count": 4,
   "metadata": {},
   "outputs": [
    {
     "data": {
      "text/plain": [
       "5066"
      ]
     },
     "execution_count": 4,
     "metadata": {},
     "output_type": "execute_result"
    }
   ],
   "source": [
    "len(lines)"
   ]
  },
  {
   "cell_type": "code",
   "execution_count": 11,
   "metadata": {},
   "outputs": [
    {
     "data": {
      "text/plain": [
       "{'text-orig-full': 'word',\n",
       " 'text-orig-nice': 'word',\n",
       " 'text-orig-plain': 'word',\n",
       " 'text-orig-trans': 'word'}"
      ]
     },
     "execution_count": 11,
     "metadata": {},
     "output_type": "execute_result"
    }
   ],
   "source": [
    "T.formats"
   ]
  },
  {
   "cell_type": "code",
   "execution_count": 12,
   "metadata": {},
   "outputs": [
    {
     "data": {
      "text/html": [
       "<div class=\"rtl\"><span class=\"tfsechead rtl\">4 18:12</span>  <span class=\"txtu ara\">خَتْمُ </span><span class=\"txtu ara\">المَلِكِ </span><span class=\"txtu ara\">عَلَيهَا، </span><span class=\"txtu ara\">لَا </span><span class=\"txtu ara\">يَجْسُـرُ </span><span class=\"txtu ara\">أَحَدٌ </span><span class=\"txtu ara\">عَلَىٰ </span><span class=\"txtu ara\">فَتْحِهَا </span><span class=\"txtu ara\">إِلَّا </span><span class=\"txtu ara\">بِـإِذْنِهِ. </span><span class=\"txtu ara\">فَـٱسْتَخْلَفَهُ </span><span class=\"txtu ara\">فِي </span></div>"
      ],
      "text/plain": [
       "<IPython.core.display.HTML object>"
      ]
     },
     "metadata": {},
     "output_type": "display_data"
    },
    {
     "data": {
      "text/html": [
       "<div class=\"rtl\"><span class=\"tfsechead rtl\">4 18:12</span>  <span class=\"txtu ara\">ḫatamu </span><span class=\"txtu ara\">ālmaliki </span><span class=\"txtu ara\">ʿalayhaā, </span><span class=\"txtu ara\">laā </span><span class=\"txtu ara\">yaǧasuru </span><span class=\"txtu ara\">āaḥaduⁿ </span><span class=\"txtu ara\">ʿalaáã </span><span class=\"txtu ara\">fataḥihaā </span><span class=\"txtu ara\">āʾilauā </span><span class=\"txtu ara\">biāʾiḏanihi. </span><span class=\"txtu ara\">faasataḫalafahu </span><span class=\"txtu ara\">fiy </span></div>"
      ],
      "text/plain": [
       "<IPython.core.display.HTML object>"
      ]
     },
     "metadata": {},
     "output_type": "display_data"
    },
    {
     "name": "stdout",
     "output_type": "stream",
     "text": [
      "خَتْمُ المَلِكِ عَلَيهَا، لَا يَجْسُـرُ أَحَدٌ عَلَىٰ فَتْحِهَا إِلَّا بِـإِذْنِهِ. فَـٱسْتَخْلَفَهُ فِي \n"
     ]
    },
    {
     "data": {
      "text/html": [
       "<div class=\"rtl\"><span class=\"tfsechead rtl\">4 18:13</span>  <span class=\"txtu ara\">حِفْظِ </span><span class=\"txtu ara\">العَالَمِ، </span><span class=\"txtu ara\">فَلَا </span><span class=\"txtu ara\">يَـزَالُ </span><span class=\"txtu ara\">العَالَمُ </span><span class=\"txtu ara\">مَحْفُوظًا، </span><span class=\"txtu ara\">مَا </span><span class=\"txtu ara\">دَامَ </span><span class=\"txtu ara\">فِيهِ </span><span class=\"txtu ara\">هٰذَا </span><span class=\"txtu ara\">الإِنْسَانُ </span><span class=\"txtu ara\">الـكَامِلُ. </span></div>"
      ],
      "text/plain": [
       "<IPython.core.display.HTML object>"
      ]
     },
     "metadata": {},
     "output_type": "display_data"
    },
    {
     "data": {
      "text/html": [
       "<div class=\"rtl\"><span class=\"tfsechead rtl\">4 18:13</span>  <span class=\"txtu ara\">ḥifaẓi </span><span class=\"txtu ara\">ālʿaālami, </span><span class=\"txtu ara\">falaā </span><span class=\"txtu ara\">yazaālu </span><span class=\"txtu ara\">ālʿaālamu </span><span class=\"txtu ara\">maḥafuwẓaⁿā, </span><span class=\"txtu ara\">maā </span><span class=\"txtu ara\">daāma </span><span class=\"txtu ara\">fiyhi </span><span class=\"txtu ara\">hãḏaā </span><span class=\"txtu ara\">ālāʾinasaānu </span><span class=\"txtu ara\">ālkaāmilu. </span></div>"
      ],
      "text/plain": [
       "<IPython.core.display.HTML object>"
      ]
     },
     "metadata": {},
     "output_type": "display_data"
    },
    {
     "name": "stdout",
     "output_type": "stream",
     "text": [
      "حِفْظِ العَالَمِ، فَلَا يَـزَالُ العَالَمُ مَحْفُوظًا، مَا دَامَ فِيهِ هٰذَا الإِنْسَانُ الـكَامِلُ. \n"
     ]
    },
    {
     "data": {
      "text/html": [
       "<div class=\"rtl\"><span class=\"tfsechead rtl\">4 19:1</span>  <span class=\"txtu ara\">أَلَا </span><span class=\"txtu ara\">تَـرَاهُ </span><span class=\"txtu ara\">إِذَا </span><span class=\"txtu ara\">زَالَ، </span><span class=\"txtu ara\">وَفُكَّ </span><span class=\"txtu ara\">مِنْ </span><span class=\"txtu ara\">خِـزَانَةِ </span><span class=\"txtu ara\">الدُّنْـيَا، </span><span class=\"txtu ara\">لَمْ </span><span class=\"txtu ara\">يَبْقَ </span><span class=\"txtu ara\">فِيهَا </span><span class=\"txtu ara\">مَا </span><span class=\"txtu ara\">ٱخْتَـزَنَهُ </span><span class=\"txtu ara\">الحَقُّ </span></div>"
      ],
      "text/plain": [
       "<IPython.core.display.HTML object>"
      ]
     },
     "metadata": {},
     "output_type": "display_data"
    },
    {
     "data": {
      "text/html": [
       "<div class=\"rtl\"><span class=\"tfsechead rtl\">4 19:1</span>  <span class=\"txtu ara\">āalaā </span><span class=\"txtu ara\">taraāhu </span><span class=\"txtu ara\">āʾiḏaā </span><span class=\"txtu ara\">zaāla, </span><span class=\"txtu ara\">wafukau </span><span class=\"txtu ara\">mina </span><span class=\"txtu ara\">ḫizaānaŧi </span><span class=\"txtu ara\">ālduunayaā, </span><span class=\"txtu ara\">lama </span><span class=\"txtu ara\">yabaḳa </span><span class=\"txtu ara\">fiyhaā </span><span class=\"txtu ara\">maā </span><span class=\"txtu ara\">aḫatazanahu </span><span class=\"txtu ara\">ālḥaḳuu </span></div>"
      ],
      "text/plain": [
       "<IPython.core.display.HTML object>"
      ]
     },
     "metadata": {},
     "output_type": "display_data"
    },
    {
     "name": "stdout",
     "output_type": "stream",
     "text": [
      "أَلَا تَـرَاهُ إِذَا زَالَ، وَفُكَّ مِنْ خِـزَانَةِ الدُّنْـيَا، لَمْ يَبْقَ فِيهَا مَا ٱخْتَـزَنَهُ الحَقُّ \n"
     ]
    },
    {
     "data": {
      "text/html": [
       "<div class=\"rtl\"><span class=\"tfsechead rtl\">4 19:2</span>  <span class=\"txtu ara\">فِيهَا، </span><span class=\"txtu ara\">وَخَـرَجَ </span><span class=\"txtu ara\">مَاكَانَ </span><span class=\"txtu ara\">فِيهَا، </span><span class=\"txtu ara\">وَٱلْتَحَقَ </span><span class=\"txtu ara\">بَعْضُهُ </span><span class=\"txtu ara\">بِبَعْضِهِ، </span><span class=\"txtu ara\">وَٱنْتَقَلَ </span><span class=\"txtu ara\">الأَمْـرُ </span><span class=\"txtu ara\">إِلَىٰ </span></div>"
      ],
      "text/plain": [
       "<IPython.core.display.HTML object>"
      ]
     },
     "metadata": {},
     "output_type": "display_data"
    },
    {
     "data": {
      "text/html": [
       "<div class=\"rtl\"><span class=\"tfsechead rtl\">4 19:2</span>  <span class=\"txtu ara\">fiyhaā, </span><span class=\"txtu ara\">waḫaraǧa </span><span class=\"txtu ara\">maākaāna </span><span class=\"txtu ara\">fiyhaā, </span><span class=\"txtu ara\">waalataḥaḳa </span><span class=\"txtu ara\">baʿaḍuhu </span><span class=\"txtu ara\">bibaʿaḍihi, </span><span class=\"txtu ara\">waanataḳala </span><span class=\"txtu ara\">ālāamaru </span><span class=\"txtu ara\">āʾilaáã </span></div>"
      ],
      "text/plain": [
       "<IPython.core.display.HTML object>"
      ]
     },
     "metadata": {},
     "output_type": "display_data"
    },
    {
     "name": "stdout",
     "output_type": "stream",
     "text": [
      "فِيهَا، وَخَـرَجَ مَاكَانَ فِيهَا، وَٱلْتَحَقَ بَعْضُهُ بِبَعْضِهِ، وَٱنْتَقَلَ الأَمْـرُ إِلَىٰ \n"
     ]
    },
    {
     "data": {
      "text/html": [
       "<div class=\"rtl\"><span class=\"tfsechead rtl\">4 19:3</span>  <span class=\"txtu ara\">الآخِـرَةِ، </span><span class=\"txtu ara\">فَـكَانَ </span><span class=\"txtu ara\">خَتْمًا </span><span class=\"txtu ara\">عَلَىٰ </span><span class=\"txtu ara\">خِـزَانَةِ </span><span class=\"txtu ara\">الآخِـرَةِ </span><span class=\"txtu ara\">خَتْمًا </span><span class=\"txtu ara\">أَبَدِيٍّا. </span></div>"
      ],
      "text/plain": [
       "<IPython.core.display.HTML object>"
      ]
     },
     "metadata": {},
     "output_type": "display_data"
    },
    {
     "data": {
      "text/html": [
       "<div class=\"rtl\"><span class=\"tfsechead rtl\">4 19:3</span>  <span class=\"txtu ara\">ālāḫiraŧi, </span><span class=\"txtu ara\">fakaāna </span><span class=\"txtu ara\">ḫatamaⁿā </span><span class=\"txtu ara\">ʿalaáã </span><span class=\"txtu ara\">ḫizaānaŧi </span><span class=\"txtu ara\">ālāḫiraŧi </span><span class=\"txtu ara\">ḫatamaⁿā </span><span class=\"txtu ara\">āabadiyiⁿuā. </span></div>"
      ],
      "text/plain": [
       "<IPython.core.display.HTML object>"
      ]
     },
     "metadata": {},
     "output_type": "display_data"
    },
    {
     "name": "stdout",
     "output_type": "stream",
     "text": [
      "الآخِـرَةِ، فَـكَانَ خَتْمًا عَلَىٰ خِـزَانَةِ الآخِـرَةِ خَتْمًا أَبَدِيٍّا. \n"
     ]
    },
    {
     "data": {
      "text/html": [
       "<div class=\"rtl\"><span class=\"tfsechead rtl\">4 19:4</span>  <span class=\"txtu ara\">فَظَهَـرَ </span><span class=\"txtu ara\">جَمِيعُ </span><span class=\"txtu ara\">مَا </span><span class=\"txtu ara\">فِي </span><span class=\"txtu ara\">الصُّورَةِ </span><span class=\"txtu ara\">الإِلٰهِيَّةِ </span><span class=\"txtu ara\">مِنَ </span><span class=\"txtu ara\">الأَسْمَاءِ </span><span class=\"txtu ara\">فِي </span><span class=\"txtu ara\">هٰذِهِ </span><span class=\"txtu ara\">النَّشْـأَةِ </span></div>"
      ],
      "text/plain": [
       "<IPython.core.display.HTML object>"
      ]
     },
     "metadata": {},
     "output_type": "display_data"
    },
    {
     "data": {
      "text/html": [
       "<div class=\"rtl\"><span class=\"tfsechead rtl\">4 19:4</span>  <span class=\"txtu ara\">faẓahara </span><span class=\"txtu ara\">ǧamiyʿu </span><span class=\"txtu ara\">maā </span><span class=\"txtu ara\">fiy </span><span class=\"txtu ara\">ālṣuuwraŧi </span><span class=\"txtu ara\">ālāʾilãhiyauŧi </span><span class=\"txtu ara\">mina </span><span class=\"txtu ara\">ālāasamaāʾi </span><span class=\"txtu ara\">fiy </span><span class=\"txtu ara\">hãḏihi </span><span class=\"txtu ara\">ālnaušaāaŧi </span></div>"
      ],
      "text/plain": [
       "<IPython.core.display.HTML object>"
      ]
     },
     "metadata": {},
     "output_type": "display_data"
    },
    {
     "name": "stdout",
     "output_type": "stream",
     "text": [
      "فَظَهَـرَ جَمِيعُ مَا فِي الصُّورَةِ الإِلٰهِيَّةِ مِنَ الأَسْمَاءِ فِي هٰذِهِ النَّشْـأَةِ \n"
     ]
    }
   ],
   "source": [
    "for i in range(153, 159):\n",
    "    A.plain(lines[i])\n",
    "    A.plain(lines[i], fmt=\"text-orig-nice\")\n",
    "    print(T.text(lines[i]))"
   ]
  },
  {
   "cell_type": "code",
   "execution_count": 36,
   "metadata": {},
   "outputs": [],
   "source": [
    "template = \"\"\"\n",
    "line\n",
    "    w1:word nice=fiy\n",
    "line\n",
    "    w2:word nice=ḥifaẓi\n",
    "\n",
    "w1 <: w2\n",
    "\"\"\""
   ]
  },
  {
   "cell_type": "code",
   "execution_count": 37,
   "metadata": {},
   "outputs": [
    {
     "name": "stdout",
     "output_type": "stream",
     "text": [
      "  0.11s 1 result\n"
     ]
    }
   ],
   "source": [
    "results = A.search(template)"
   ]
  },
  {
   "cell_type": "code",
   "execution_count": 40,
   "metadata": {},
   "outputs": [
    {
     "data": {
      "text/html": [
       "<p><b>result</b> <i>1</i></p>"
      ],
      "text/plain": [
       "<IPython.core.display.HTML object>"
      ]
     },
     "metadata": {},
     "output_type": "display_data"
    },
    {
     "data": {
      "text/html": [
       "<div class=\"tfsechead rtl\">4 18</div><div class=\"rtl children\"><div class=\"contnr c4  rtl  \" ><div class=\"lbl c4  \" ><span class=\"nd\">page</span> <span class=\"txtu ara\"><span class=\"tfsechead\">4 18</span></span></div><div class=\"children hor wrap rtl\"><div class=\"contnr c2  rtl  \" ><div class=\"lbl c2  \" ><span class=\"nd\">sentence</span></div><div class=\"children hor wrap rtl\"><div class=\"contnr c3  rtl  \" ><div class=\"lbl c3  \" ><span class=\"nd\">line</span></div><div class=\"children hor wrap rtl\"><div class=\"contnr c1  rtl  \" ><div class=\"lbl c1  \" ><span class=\"nd\">column</span></div><div class=\"children hor wrap rtl\"><div class=\"contnr c1  rtl  \" ><div class=\"lbl c1  \" ><span class=\"nd\">span</span></div><div class=\"children hor wrap rtl\"><div class=\"contnr c0 trm rtl  \" ><div class=\"lbl c0 trm \" ><span class=\"txtu ara\">وَهٰذَا </span></div><div class='features'><span class=\"nice xft\" ><span class=\"f\">nice=</span>wahãḏaā</span></div></div><div class=\"contnr c0 trm rtl  \" ><div class=\"lbl c0 trm \" ><span class=\"txtu ara\">لَا </span></div><div class='features'><span class=\"nice xft\" ><span class=\"f\">nice=</span>laā</span></div></div><div class=\"contnr c0 trm rtl  \" ><div class=\"lbl c0 trm \" ><span class=\"txtu ara\">يَعْرِفُهُ </span></div><div class='features'><span class=\"nice xft\" ><span class=\"f\">nice=</span>yaʿarifuhu</span></div></div><div class=\"contnr c0 trm rtl  \" ><div class=\"lbl c0 trm \" ><span class=\"txtu ara\">عَقْلٌ، </span></div><div class='features'><span class=\"nice xft\" ><span class=\"f\">nice=</span>ʿaḳaluⁿ</span></div></div><div class=\"contnr c0 trm rtl  \" ><div class=\"lbl c0 trm \" ><span class=\"txtu ara\">بِطَـرِيقِ </span></div><div class='features'><span class=\"nice xft\" ><span class=\"f\">nice=</span>biṭariyḳi</span></div></div><div class=\"contnr c0 trm rtl  \" ><div class=\"lbl c0 trm \" ><span class=\"txtu ara\">نَظْـرٍ </span></div><div class='features'><span class=\"nice xft\" ><span class=\"f\">nice=</span>naẓariⁿ</span></div></div><div class=\"contnr c0 trm rtl  \" ><div class=\"lbl c0 trm \" ><span class=\"txtu ara\">فِـكْـرِيٍّ، </span></div><div class='features'><span class=\"nice xft\" ><span class=\"f\">nice=</span>fikariyiⁿu</span></div></div><div class=\"contnr c0 trm rtl  \" ><div class=\"lbl c0 trm \" ><span class=\"txtu ara\">بَلْ </span></div><div class='features'><span class=\"nice xft\" ><span class=\"f\">nice=</span>bala</span></div></div><div class=\"contnr c0 trm rtl  \" ><div class=\"lbl c0 trm \" ><span class=\"txtu ara\">هٰذَا </span></div><div class='features'><span class=\"nice xft\" ><span class=\"f\">nice=</span>hãḏaā</span></div></div><div class=\"contnr c0 trm rtl  \" ><div class=\"lbl c0 trm \" ><span class=\"txtu ara\">الفَنُّ </span></div><div class='features'><span class=\"nice xft\" ><span class=\"f\">nice=</span>ālfanuu</span></div></div><div class=\"contnr c0 trm rtl  \" ><div class=\"lbl c0 trm \" ><span class=\"txtu ara\">مِنَ </span></div><div class='features'><span class=\"nice xft\" ><span class=\"f\">nice=</span>mina</span></div></div><div class=\"contnr c0 trm rtl  \" ><div class=\"lbl c0 trm \" ><span class=\"txtu ara\">الإِدْرَاكِ </span></div><div class='features'><span class=\"nice xft\" ><span class=\"f\">nice=</span>ālāʾidaraāki</span></div></div></div></div></div></div></div></div><div class=\"contnr c3  rtl  \" ><div class=\"lbl c3  \" ><span class=\"nd\">line</span></div><div class=\"children hor wrap rtl\"><div class=\"contnr c1  rtl  \" ><div class=\"lbl c1  \" ><span class=\"nd\">column</span></div><div class=\"children hor wrap rtl\"><div class=\"contnr c1  rtl  \" ><div class=\"lbl c1  \" ><span class=\"nd\">span</span></div><div class=\"children hor wrap rtl\"><div class=\"contnr c0 trm rtl  \" ><div class=\"lbl c0 trm \" ><span class=\"txtu ara\">لَا </span></div><div class='features'><span class=\"nice xft\" ><span class=\"f\">nice=</span>laā</span></div></div><div class=\"contnr c0 trm rtl  \" ><div class=\"lbl c0 trm \" ><span class=\"txtu ara\">يَكُونُ </span></div><div class='features'><span class=\"nice xft\" ><span class=\"f\">nice=</span>yakuwnu</span></div></div><div class=\"contnr c0 trm rtl  \" ><div class=\"lbl c0 trm \" ><span class=\"txtu ara\">إِلَّا </span></div><div class='features'><span class=\"nice xft\" ><span class=\"f\">nice=</span>āʾilauā</span></div></div><div class=\"contnr c0 trm rtl  \" ><div class=\"lbl c0 trm \" ><span class=\"txtu ara\">عَنْكَشْفٍ </span></div><div class='features'><span class=\"nice xft\" ><span class=\"f\">nice=</span>ʿanakašafiⁿ</span></div></div><div class=\"contnr c0 trm rtl  \" ><div class=\"lbl c0 trm \" ><span class=\"txtu ara\">إٍلٰهِيٍّ </span></div><div class='features'><span class=\"nice xft\" ><span class=\"f\">nice=</span>āiⁿlãhiyiⁿu</span></div></div><div class=\"contnr c0 trm rtl  \" ><div class=\"lbl c0 trm \" ><span class=\"txtu ara\">: </span></div><div class='features'><span class=\"nice xft\" ><span class=\"f\">nice=</span></span></div></div><div class=\"contnr c0 trm rtl  \" ><div class=\"lbl c0 trm \" ><span class=\"txtu ara\">. </span></div><div class='features'><span class=\"nice xft\" ><span class=\"f\">nice=</span></span></div></div><div class=\"contnr c0 trm rtl  \" ><div class=\"lbl c0 trm \" ><span class=\"txtu ara\">مِنْهُ </span></div><div class='features'><span class=\"nice xft\" ><span class=\"f\">nice=</span>minahu</span></div></div><div class=\"contnr c0 trm rtl  \" ><div class=\"lbl c0 trm \" ><span class=\"txtu ara\">: </span></div><div class='features'><span class=\"nice xft\" ><span class=\"f\">nice=</span></span></div></div><div class=\"contnr c0 trm rtl  \" ><div class=\"lbl c0 trm \" ><span class=\"txtu ara\">. </span></div><div class='features'><span class=\"nice xft\" ><span class=\"f\">nice=</span></span></div></div><div class=\"contnr c0 trm rtl  \" ><div class=\"lbl c0 trm \" ><span class=\"txtu ara\">يُـعْـرَفُ </span></div><div class='features'><span class=\"nice xft\" ><span class=\"f\">nice=</span>yuʿarafu</span></div></div><div class=\"contnr c0 trm rtl  \" ><div class=\"lbl c0 trm \" ><span class=\"txtu ara\">مَاأَصْلُ </span></div><div class='features'><span class=\"nice xft\" ><span class=\"f\">nice=</span>maāāaṣalu</span></div></div><div class=\"contnr c0 trm rtl  \" ><div class=\"lbl c0 trm \" ><span class=\"txtu ara\">صُوَرِ </span></div><div class='features'><span class=\"nice xft\" ><span class=\"f\">nice=</span>ṣuwari</span></div></div><div class=\"contnr c0 trm rtl  \" ><div class=\"lbl c0 trm \" ><span class=\"txtu ara\">العَالَمِ </span></div><div class='features'><span class=\"nice xft\" ><span class=\"f\">nice=</span>ālʿaālami</span></div></div><div class=\"contnr c0 trm rtl  \" ><div class=\"lbl c0 trm \" ><span class=\"txtu ara\">القَابِلَةِ </span></div><div class='features'><span class=\"nice xft\" ><span class=\"f\">nice=</span>ālḳaābilaŧi</span></div></div></div></div></div></div></div></div><div class=\"contnr c3  rtl  \" ><div class=\"lbl c3  \" ><span class=\"nd\">line</span></div><div class=\"children hor wrap rtl\"><div class=\"contnr c1  rtl  \" ><div class=\"lbl c1  \" ><span class=\"nd\">column</span></div><div class=\"children hor wrap rtl\"><div class=\"contnr c1  rtl  \" ><div class=\"lbl c1  \" ><span class=\"nd\">span</span></div><div class=\"children hor wrap rtl\"><div class=\"contnr c0 trm rtl  \" ><div class=\"lbl c0 trm \" ><span class=\"txtu ara\">لِأَرْوَاحِهِ، </span></div><div class='features'><span class=\"nice xft\" ><span class=\"f\">nice=</span>liāarawaāḥihi</span></div></div><div class=\"contnr c0 trm rtl  \" ><div class=\"lbl c0 trm \" ><span class=\"txtu ara\">فَسَمَّىٰ </span></div><div class='features'><span class=\"nice xft\" ><span class=\"f\">nice=</span>fasamauáã</span></div></div><div class=\"contnr c0 trm rtl  \" ><div class=\"lbl c0 trm \" ><span class=\"txtu ara\">هٰذَا </span></div><div class='features'><span class=\"nice xft\" ><span class=\"f\">nice=</span>hãḏaā</span></div></div><div class=\"contnr c0 trm rtl  \" ><div class=\"lbl c0 trm \" ><span class=\"txtu ara\">المَذْكُورَ </span></div><div class='features'><span class=\"nice xft\" ><span class=\"f\">nice=</span>ālmaḏakuwra</span></div></div><div class=\"contnr c0 trm rtl  \" ><div class=\"lbl c0 trm \" ><span class=\"txtu ara\">إِنْسَانًا </span></div><div class='features'><span class=\"nice xft\" ><span class=\"f\">nice=</span>āʾinasaānaⁿā</span></div></div><div class=\"contnr c0 trm rtl  \" ><div class=\"lbl c0 trm \" ><span class=\"txtu ara\">وَخَلِيفَةً؛ </span></div><div class='features'><span class=\"nice xft\" ><span class=\"f\">nice=</span>waḫaliyfaŧaⁿ</span></div></div><div class=\"contnr c0 trm rtl  \" ><div class=\"lbl c0 trm \" ><span class=\"txtu ara\">فَـأَمَّا </span></div><div class='features'><span class=\"nice xft\" ><span class=\"f\">nice=</span>faāamauā</span></div></div><div class=\"contnr c0 trm rtl  \" ><div class=\"lbl c0 trm \" ><span class=\"txtu ara\">إِنْسَانِيَّتُهُ </span></div><div class='features'><span class=\"nice xft\" ><span class=\"f\">nice=</span>āʾinasaāniyautuhu</span></div></div><div class=\"contnr c0 trm rtl  \" ><div class=\"lbl c0 trm \" ><span class=\"txtu ara\">فَلِعُمُومِ </span></div><div class='features'><span class=\"nice xft\" ><span class=\"f\">nice=</span>faliʿumuwmi</span></div></div><div class=\"contnr c0 trm rtl  \" ><div class=\"lbl c0 trm \" ><span class=\"txtu ara\">نَشْـأَتِهِ، </span></div><div class='features'><span class=\"nice xft\" ><span class=\"f\">nice=</span>našaāatihi</span></div></div></div></div></div></div></div></div><div class=\"contnr c3  rtl  \" ><div class=\"lbl c3  \" ><span class=\"nd\">line</span></div><div class=\"children hor wrap rtl\"><div class=\"contnr c1  rtl  \" ><div class=\"lbl c1  \" ><span class=\"nd\">column</span></div><div class=\"children hor wrap rtl\"><div class=\"contnr c1  rtl  \" ><div class=\"lbl c1  \" ><span class=\"nd\">span</span></div><div class=\"children hor wrap rtl\"><div class=\"contnr c0 trm rtl  \" ><div class=\"lbl c0 trm \" ><span class=\"txtu ara\">وَحَصْـرِهِ </span></div><div class='features'><span class=\"nice xft\" ><span class=\"f\">nice=</span>waḥaṣarihi</span></div></div><div class=\"contnr c0 trm rtl  \" ><div class=\"lbl c0 trm \" ><span class=\"txtu ara\">الحَقَائِقَكُـلَّهَا، </span></div><div class='features'><span class=\"nice xft\" ><span class=\"f\">nice=</span>ālḥaḳaāʾiḳakulauhaā</span></div></div><div class=\"contnr c0 trm rtl  \" ><div class=\"lbl c0 trm \" ><span class=\"txtu ara\">وَهُوَ </span></div><div class='features'><span class=\"nice xft\" ><span class=\"f\">nice=</span>wahuwa</span></div></div><div class=\"contnr c0 trm rtl  \" ><div class=\"lbl c0 trm \" ><span class=\"txtu ara\">لِلْحَقِّ </span></div><div class='features'><span class=\"nice xft\" ><span class=\"f\">nice=</span>lilaḥaḳiu</span></div></div><div class=\"contnr c0 trm rtl  \" ><div class=\"lbl c0 trm \" ><span class=\"txtu ara\">بِمَنْـزِلَةِ </span></div><div class='features'><span class=\"nice xft\" ><span class=\"f\">nice=</span>bimanazilaŧi</span></div></div><div class=\"contnr c0 trm rtl  \" ><div class=\"lbl c0 trm \" ><span class=\"txtu ara\">إِنْسَانِ </span></div><div class='features'><span class=\"nice xft\" ><span class=\"f\">nice=</span>āʾinasaāni</span></div></div><div class=\"contnr c0 trm rtl  \" ><div class=\"lbl c0 trm \" ><span class=\"txtu ara\">العَينِ </span></div><div class='features'><span class=\"nice xft\" ><span class=\"f\">nice=</span>ālʿayni</span></div></div><div class=\"contnr c0 trm rtl  \" ><div class=\"lbl c0 trm \" ><span class=\"txtu ara\">مِنَ </span></div><div class='features'><span class=\"nice xft\" ><span class=\"f\">nice=</span>mina</span></div></div><div class=\"contnr c0 trm rtl  \" ><div class=\"lbl c0 trm \" ><span class=\"txtu ara\">العَينِ </span></div><div class='features'><span class=\"nice xft\" ><span class=\"f\">nice=</span>ālʿayni</span></div></div><div class=\"contnr c0 trm rtl  \" ><div class=\"lbl c0 trm \" ><span class=\"txtu ara\">الَّذِي </span></div><div class='features'><span class=\"nice xft\" ><span class=\"f\">nice=</span>ālauḏiy</span></div></div><div class=\"contnr c0 trm rtl  \" ><div class=\"lbl c0 trm \" ><span class=\"txtu ara\">بِهِ </span></div><div class='features'><span class=\"nice xft\" ><span class=\"f\">nice=</span>bihi</span></div></div></div></div></div></div></div></div><div class=\"contnr c3  rtl  \" ><div class=\"lbl c3  \" ><span class=\"nd\">line</span></div><div class=\"children hor wrap rtl\"><div class=\"contnr c1  rtl  \" ><div class=\"lbl c1  \" ><span class=\"nd\">column</span></div><div class=\"children hor wrap rtl\"><div class=\"contnr c1  rtl  \" ><div class=\"lbl c1  \" ><span class=\"nd\">span</span></div><div class=\"children hor wrap rtl\"><div class=\"contnr c0 trm rtl  \" ><div class=\"lbl c0 trm \" ><span class=\"txtu ara\">يَكُونُ </span></div><div class='features'><span class=\"nice xft\" ><span class=\"f\">nice=</span>yakuwnu</span></div></div><div class=\"contnr c0 trm rtl  \" ><div class=\"lbl c0 trm \" ><span class=\"txtu ara\">النَّظَـرُ، </span></div><div class='features'><span class=\"nice xft\" ><span class=\"f\">nice=</span>ālnauẓaru</span></div></div><div class=\"contnr c0 trm rtl  \" ><div class=\"lbl c0 trm \" ><span class=\"txtu ara\">وَهُوَ </span></div><div class='features'><span class=\"nice xft\" ><span class=\"f\">nice=</span>wahuwa</span></div></div><div class=\"contnr c0 trm rtl  \" ><div class=\"lbl c0 trm \" ><span class=\"txtu ara\">المُعَبَّـرُ </span></div><div class='features'><span class=\"nice xft\" ><span class=\"f\">nice=</span>ālmuʿabauru</span></div></div><div class=\"contnr c0 trm rtl  \" ><div class=\"lbl c0 trm \" ><span class=\"txtu ara\">عَنْهُ </span></div><div class='features'><span class=\"nice xft\" ><span class=\"f\">nice=</span>ʿanahu</span></div></div><div class=\"contnr c0 trm rtl  \" ><div class=\"lbl c0 trm \" ><span class=\"txtu ara\">بِالبَصَـرِ. </span></div><div class='features'><span class=\"nice xft\" ><span class=\"f\">nice=</span>biālbaṣari</span></div></div></div></div></div></div></div></div></div></div><div class=\"contnr c2  rtl  \" ><div class=\"lbl c2  \" ><span class=\"nd\">sentence</span></div><div class=\"children hor wrap rtl\"><div class=\"contnr c3  rtl  \" ><div class=\"lbl c3  \" ><span class=\"nd\">line</span></div><div class=\"children hor wrap rtl\"><div class=\"contnr c1  rtl  \" ><div class=\"lbl c1  \" ><span class=\"nd\">column</span></div><div class=\"children hor wrap rtl\"><div class=\"contnr c1  rtl  \" ><div class=\"lbl c1  \" ><span class=\"nd\">span</span></div><div class=\"children hor wrap rtl\"><div class=\"contnr c0 trm rtl  \" ><div class=\"lbl c0 trm \" ><span class=\"txtu ara\">فَلِهٰذَا </span></div><div class='features'><span class=\"nice xft\" ><span class=\"f\">nice=</span>falihãḏaā</span></div></div><div class=\"contnr c0 trm rtl  \" ><div class=\"lbl c0 trm \" ><span class=\"txtu ara\">سُمِّيَ </span></div><div class='features'><span class=\"nice xft\" ><span class=\"f\">nice=</span>sumiuya</span></div></div><div class=\"contnr c0 trm rtl  \" ><div class=\"lbl c0 trm \" ><span class=\"txtu ara\">إِنْسَانًا، </span></div><div class='features'><span class=\"nice xft\" ><span class=\"f\">nice=</span>āʾinasaānaⁿā</span></div></div><div class=\"contnr c0 trm rtl  \" ><div class=\"lbl c0 trm \" ><span class=\"txtu ara\">فَإِنَّهُ </span></div><div class='features'><span class=\"nice xft\" ><span class=\"f\">nice=</span>faāʾinauhu</span></div></div><div class=\"contnr c0 trm rtl  \" ><div class=\"lbl c0 trm \" ><span class=\"txtu ara\">بِهِ </span></div><div class='features'><span class=\"nice xft\" ><span class=\"f\">nice=</span>bihi</span></div></div><div class=\"contnr c0 trm rtl  \" ><div class=\"lbl c0 trm \" ><span class=\"txtu ara\">نَظَـرَ </span></div><div class='features'><span class=\"nice xft\" ><span class=\"f\">nice=</span>naẓara</span></div></div><div class=\"contnr c0 trm rtl  \" ><div class=\"lbl c0 trm \" ><span class=\"txtu ara\">الحَقُّ </span></div><div class='features'><span class=\"nice xft\" ><span class=\"f\">nice=</span>ālḥaḳuu</span></div></div><div class=\"contnr c0 trm rtl  \" ><div class=\"lbl c0 trm \" ><span class=\"txtu ara\">إِلَىٰ </span></div><div class='features'><span class=\"nice xft\" ><span class=\"f\">nice=</span>āʾilaáã</span></div></div><div class=\"contnr c0 trm rtl  \" ><div class=\"lbl c0 trm \" ><span class=\"txtu ara\">خَـلْقِهِ </span></div><div class='features'><span class=\"nice xft\" ><span class=\"f\">nice=</span>ḫalaḳihi</span></div></div><div class=\"contnr c0 trm rtl  \" ><div class=\"lbl c0 trm \" ><span class=\"txtu ara\">فَـرَحِمَهُمْ. </span></div><div class='features'><span class=\"nice xft\" ><span class=\"f\">nice=</span>faraḥimahuma</span></div></div></div></div></div></div></div></div></div></div><div class=\"contnr c2  rtl  \" ><div class=\"lbl c2  \" ><span class=\"nd\">sentence</span></div><div class=\"children hor wrap rtl\"><div class=\"contnr c3  rtl  \" ><div class=\"lbl c3  \" ><span class=\"nd\">line</span></div><div class=\"children hor wrap rtl\"><div class=\"contnr c1  rtl  \" ><div class=\"lbl c1  \" ><span class=\"nd\">column</span></div><div class=\"children hor wrap rtl\"><div class=\"contnr c1  rtl  \" ><div class=\"lbl c1  \" ><span class=\"nd\">span</span></div><div class=\"children hor wrap rtl\"><div class=\"contnr c0 trm rtl  \" ><div class=\"lbl c0 trm \" ><span class=\"txtu ara\">فَهُوَ </span></div><div class='features'><span class=\"nice xft\" ><span class=\"f\">nice=</span>fahuwa</span></div></div><div class=\"contnr c0 trm rtl  \" ><div class=\"lbl c0 trm \" ><span class=\"txtu ara\">الإِنْسَانُ </span></div><div class='features'><span class=\"nice xft\" ><span class=\"f\">nice=</span>ālāʾinasaānu</span></div></div><div class=\"contnr c0 trm rtl  \" ><div class=\"lbl c0 trm \" ><span class=\"txtu ara\">الحَادِثُ </span></div><div class='features'><span class=\"nice xft\" ><span class=\"f\">nice=</span>ālḥaādiṯu</span></div></div><div class=\"contnr c0 trm rtl  \" ><div class=\"lbl c0 trm \" ><span class=\"txtu ara\">الأَزَلِيُّ، </span></div><div class='features'><span class=\"nice xft\" ><span class=\"f\">nice=</span>ālāazaliyuu</span></div></div><div class=\"contnr c0 trm rtl  \" ><div class=\"lbl c0 trm \" ><span class=\"txtu ara\">وَالنَشْءُ </span></div><div class='features'><span class=\"nice xft\" ><span class=\"f\">nice=</span>waālnašaʾu</span></div></div><div class=\"contnr c0 trm rtl  \" ><div class=\"lbl c0 trm \" ><span class=\"txtu ara\">الدَّائِمُ </span></div><div class='features'><span class=\"nice xft\" ><span class=\"f\">nice=</span>āldauāʾimu</span></div></div><div class=\"contnr c0 trm rtl  \" ><div class=\"lbl c0 trm \" ><span class=\"txtu ara\">الأَبَدِيُّ، </span></div><div class='features'><span class=\"nice xft\" ><span class=\"f\">nice=</span>ālāabadiyuu</span></div></div><div class=\"contnr c0 trm rtl  \" ><div class=\"lbl c0 trm \" ><span class=\"txtu ara\">وَالكَلِمَةُ </span></div><div class='features'><span class=\"nice xft\" ><span class=\"f\">nice=</span>waālkalimaŧu</span></div></div><div class=\"contnr c0 trm rtl  \" ><div class=\"lbl c0 trm \" ><span class=\"txtu ara\">الفَاصِلَةُ </span></div><div class='features'><span class=\"nice xft\" ><span class=\"f\">nice=</span>ālfaāṣilaŧu</span></div></div></div></div></div></div></div></div><div class=\"contnr c3  rtl lno \" ><div class=\"lbl c3  \" ><span class=\"nd\">line</span></div><div class=\"children hor wrap rtl\"><div class=\"contnr c1  rtl lno \" ><div class=\"lbl c1  \" ><span class=\"nd\">column</span></div><div class=\"children hor wrap rtl\"><div class=\"contnr c1  rtl lno \" ><div class=\"lbl c1  \" ><span class=\"nd\">span</span></div><div class=\"children hor wrap rtl\"><div class=\"contnr c0 trm rtl  \" ><div class=\"lbl c0 trm \" ><span class=\"txtu ara\">الجَامِعَةُ. </span></div><div class='features'><span class=\"nice xft\" ><span class=\"f\">nice=</span>ālǧaāmiʿaŧu</span></div></div></div></div></div></div></div></div></div></div><div class=\"contnr c2  rtl  \" ><div class=\"lbl c2  \" ><span class=\"nd\">sentence</span></div><div class=\"children hor wrap rtl\"><div class=\"contnr c3  rtl rno \" ><div class=\"lbl c3  \" ><span class=\"nd\">line</span></div><div class=\"children hor wrap rtl\"><div class=\"contnr c1  rtl rno \" ><div class=\"lbl c1  \" ><span class=\"nd\">column</span></div><div class=\"children hor wrap rtl\"><div class=\"contnr c1  rtl rno \" ><div class=\"lbl c1  \" ><span class=\"nd\">span</span></div><div class=\"children hor wrap rtl\"><div class=\"contnr c0 trm rtl  \" ><div class=\"lbl c0 trm \" ><span class=\"txtu ara\">فَتَمَّ </span></div><div class='features'><span class=\"nice xft\" ><span class=\"f\">nice=</span>fatamau</span></div></div><div class=\"contnr c0 trm rtl  \" ><div class=\"lbl c0 trm \" ><span class=\"txtu ara\">العَالَمُ </span></div><div class='features'><span class=\"nice xft\" ><span class=\"f\">nice=</span>ālʿaālamu</span></div></div><div class=\"contnr c0 trm rtl  \" ><div class=\"lbl c0 trm \" ><span class=\"txtu ara\">بِوُجُوْدِهِ. </span></div><div class='features'><span class=\"nice xft\" ><span class=\"f\">nice=</span>biwuǧuwadihi</span></div></div></div></div></div></div></div></div></div></div><div class=\"contnr c2  rtl  \" ><div class=\"lbl c2  \" ><span class=\"nd\">sentence</span></div><div class=\"children hor wrap rtl\"><div class=\"contnr c3  rtl  \" ><div class=\"lbl c3  \" ><span class=\"nd\">line</span></div><div class=\"children hor wrap rtl\"><div class=\"contnr c1  rtl  \" ><div class=\"lbl c1  \" ><span class=\"nd\">column</span></div><div class=\"children hor wrap rtl\"><div class=\"contnr c1  rtl  \" ><div class=\"lbl c1  \" ><span class=\"nd\">span</span></div><div class=\"children hor wrap rtl\"><div class=\"contnr c0 trm rtl  \" ><div class=\"lbl c0 trm \" ><span class=\"txtu ara\">فَهُوَ </span></div><div class='features'><span class=\"nice xft\" ><span class=\"f\">nice=</span>fahuwa</span></div></div><div class=\"contnr c0 trm rtl  \" ><div class=\"lbl c0 trm \" ><span class=\"txtu ara\">مِنَ </span></div><div class='features'><span class=\"nice xft\" ><span class=\"f\">nice=</span>mina</span></div></div><div class=\"contnr c0 trm rtl  \" ><div class=\"lbl c0 trm \" ><span class=\"txtu ara\">العَالَمِكَفَصِّ </span></div><div class='features'><span class=\"nice xft\" ><span class=\"f\">nice=</span>ālʿaālamikafaṣiu</span></div></div><div class=\"contnr c0 trm rtl  \" ><div class=\"lbl c0 trm \" ><span class=\"txtu ara\">الخَاتَمِ </span></div><div class='features'><span class=\"nice xft\" ><span class=\"f\">nice=</span>ālḫaātami</span></div></div><div class=\"contnr c0 trm rtl  \" ><div class=\"lbl c0 trm \" ><span class=\"txtu ara\">مِنَ </span></div><div class='features'><span class=\"nice xft\" ><span class=\"f\">nice=</span>mina</span></div></div><div class=\"contnr c0 trm rtl  \" ><div class=\"lbl c0 trm \" ><span class=\"txtu ara\">الخَاتَمِ، </span></div><div class='features'><span class=\"nice xft\" ><span class=\"f\">nice=</span>ālḫaātami</span></div></div><div class=\"contnr c0 trm rtl  \" ><div class=\"lbl c0 trm \" ><span class=\"txtu ara\">هُوَ </span></div><div class='features'><span class=\"nice xft\" ><span class=\"f\">nice=</span>huwa</span></div></div><div class=\"contnr c0 trm rtl  \" ><div class=\"lbl c0 trm \" ><span class=\"txtu ara\">مَحَلُّ </span></div><div class='features'><span class=\"nice xft\" ><span class=\"f\">nice=</span>maḥaluu</span></div></div><div class=\"contnr c0 trm rtl  \" ><div class=\"lbl c0 trm \" ><span class=\"txtu ara\">النَّقْشِ: </span></div><div class='features'><span class=\"nice xft\" ><span class=\"f\">nice=</span>ālnauḳaši</span></div></div><div class=\"contnr c0 trm rtl  \" ><div class=\"lbl c0 trm \" ><span class=\"txtu ara\">. </span></div><div class='features'><span class=\"nice xft\" ><span class=\"f\">nice=</span></span></div></div><div class=\"contnr c0 trm rtl  \" ><div class=\"lbl c0 trm \" ><span class=\"txtu ara\">وَالعَلَامَةُ: </span></div><div class='features'><span class=\"nice xft\" ><span class=\"f\">nice=</span>waālʿalaāmaŧu</span></div></div><div class=\"contnr c0 trm rtl  \" ><div class=\"lbl c0 trm \" ><span class=\"txtu ara\">. </span></div><div class='features'><span class=\"nice xft\" ><span class=\"f\">nice=</span></span></div></div></div></div></div></div></div></div><div class=\"contnr c3  rtl lno \" ><div class=\"lbl c3  \" ><span class=\"nd\">line</span></div><div class=\"children hor wrap rtl\"><div class=\"contnr c1  rtl lno \" ><div class=\"lbl c1  \" ><span class=\"nd\">column</span></div><div class=\"children hor wrap rtl\"><div class=\"contnr c1  rtl lno \" ><div class=\"lbl c1  \" ><span class=\"nd\">span</span></div><div class=\"children hor wrap rtl\"><div class=\"contnr c0 trm rtl  \" ><div class=\"lbl c0 trm \" ><span class=\"txtu ara\">الَّتِي </span></div><div class='features'><span class=\"nice xft\" ><span class=\"f\">nice=</span>ālautiy</span></div></div><div class=\"contnr c0 trm rtl  \" ><div class=\"lbl c0 trm \" ><span class=\"txtu ara\">بِهَا </span></div><div class='features'><span class=\"nice xft\" ><span class=\"f\">nice=</span>bihaā</span></div></div><div class=\"contnr c0 trm rtl  \" ><div class=\"lbl c0 trm \" ><span class=\"txtu ara\">يَخْتِمُ </span></div><div class='features'><span class=\"nice xft\" ><span class=\"f\">nice=</span>yaḫatimu</span></div></div><div class=\"contnr c0 trm rtl  \" ><div class=\"lbl c0 trm \" ><span class=\"txtu ara\">المَلِكُ </span></div><div class='features'><span class=\"nice xft\" ><span class=\"f\">nice=</span>ālmaliku</span></div></div><div class=\"contnr c0 trm rtl  \" ><div class=\"lbl c0 trm \" ><span class=\"txtu ara\">عَلَىٰ </span></div><div class='features'><span class=\"nice xft\" ><span class=\"f\">nice=</span>ʿalaáã</span></div></div><div class=\"contnr c0 trm rtl  \" ><div class=\"lbl c0 trm \" ><span class=\"txtu ara\">خِـزَانَتِهِ. </span></div><div class='features'><span class=\"nice xft\" ><span class=\"f\">nice=</span>ḫizaānatihi</span></div></div></div></div></div></div></div></div></div></div><div class=\"contnr c2  rtl  \" ><div class=\"lbl c2  \" ><span class=\"nd\">sentence</span></div><div class=\"children hor wrap rtl\"><div class=\"contnr c3  rtl rno \" ><div class=\"lbl c3  \" ><span class=\"nd\">line</span></div><div class=\"children hor wrap rtl\"><div class=\"contnr c1  rtl rno \" ><div class=\"lbl c1  \" ><span class=\"nd\">column</span></div><div class=\"children hor wrap rtl\"><div class=\"contnr c1  rtl rno \" ><div class=\"lbl c1  \" ><span class=\"nd\">span</span></div><div class=\"children hor wrap rtl\"><div class=\"contnr c0 trm rtl  \" ><div class=\"lbl c0 trm \" ><span class=\"txtu ara\">وَسَمَّاهُ </span></div><div class='features'><span class=\"nice xft\" ><span class=\"f\">nice=</span>wasamauāhu</span></div></div><div class=\"contnr c0 trm rtl  \" ><div class=\"lbl c0 trm \" ><span class=\"txtu ara\">خَلِيفَةً </span></div><div class='features'><span class=\"nice xft\" ><span class=\"f\">nice=</span>ḫaliyfaŧaⁿ</span></div></div><div class=\"contnr c0 trm rtl  \" ><div class=\"lbl c0 trm \" ><span class=\"txtu ara\">مِنْ </span></div><div class='features'><span class=\"nice xft\" ><span class=\"f\">nice=</span>mina</span></div></div><div class=\"contnr c0 trm rtl  \" ><div class=\"lbl c0 trm \" ><span class=\"txtu ara\">أَجْلِ </span></div><div class='features'><span class=\"nice xft\" ><span class=\"f\">nice=</span>āaǧali</span></div></div><div class=\"contnr c0 trm rtl  \" ><div class=\"lbl c0 trm \" ><span class=\"txtu ara\">هٰذَا. </span></div><div class='features'><span class=\"nice xft\" ><span class=\"f\">nice=</span>hãḏaā</span></div></div></div></div></div></div></div></div></div></div><div class=\"contnr c2  rtl  \" ><div class=\"lbl c2  \" ><span class=\"nd\">sentence</span></div><div class=\"children hor wrap rtl\"><div class=\"contnr c3  rtl lno \" ><div class=\"lbl c3  \" ><span class=\"nd\">line</span></div><div class=\"children hor wrap rtl\"><div class=\"contnr c1  rtl lno \" ><div class=\"lbl c1  \" ><span class=\"nd\">column</span></div><div class=\"children hor wrap rtl\"><div class=\"contnr c1  rtl lno \" ><div class=\"lbl c1  \" ><span class=\"nd\">span</span></div><div class=\"children hor wrap rtl\"><div class=\"contnr c0 trm rtl  \" ><div class=\"lbl c0 trm \" ><span class=\"txtu ara\">لَأَنَّهُ </span></div><div class='features'><span class=\"nice xft\" ><span class=\"f\">nice=</span>laāanauhu</span></div></div><div class=\"contnr c0 trm rtl  \" ><div class=\"lbl c0 trm \" ><span class=\"txtu ara\">تَعَالَىٰ </span></div><div class='features'><span class=\"nice xft\" ><span class=\"f\">nice=</span>taʿaālaáã</span></div></div><div class=\"contnr c0 trm rtl  \" ><div class=\"lbl c0 trm \" ><span class=\"txtu ara\">الحَافِظُ </span></div><div class='features'><span class=\"nice xft\" ><span class=\"f\">nice=</span>ālḥaāfiẓu</span></div></div><div class=\"contnr c0 trm rtl  \" ><div class=\"lbl c0 trm \" ><span class=\"txtu ara\">خَلْقَهُكَمَا </span></div><div class='features'><span class=\"nice xft\" ><span class=\"f\">nice=</span>ḫalaḳahukamaā</span></div></div><div class=\"contnr c0 trm rtl  \" ><div class=\"lbl c0 trm \" ><span class=\"txtu ara\">يَحْفَظُ </span></div><div class='features'><span class=\"nice xft\" ><span class=\"f\">nice=</span>yaḥafaẓu</span></div></div><div class=\"contnr c0 trm rtl  \" ><div class=\"lbl c0 trm \" ><span class=\"txtu ara\">الخَتْمُ </span></div><div class='features'><span class=\"nice xft\" ><span class=\"f\">nice=</span>ālḫatamu</span></div></div><div class=\"contnr c0 trm rtl  \" ><div class=\"lbl c0 trm \" ><span class=\"txtu ara\">[٣وجه] </span></div><div class='features'><span class=\"nice xft\" ><span class=\"f\">nice=</span>3wǧh</span></div></div><div class=\"contnr c0 trm rtl  \" ><div class=\"lbl c0 trm \" ><span class=\"txtu ara\">الخَزَائِنَ. </span></div><div class='features'><span class=\"nice xft\" ><span class=\"f\">nice=</span>ālḫazaāʾina</span></div></div></div></div></div></div></div></div></div></div><div class=\"contnr c2  rtl  \" ><div class=\"lbl c2  \" ><span class=\"nd\">sentence</span></div><div class=\"children hor wrap rtl\"><div class=\"contnr c3  rtl rno \" ><div class=\"lbl c3  \" ><span class=\"nd\">line</span></div><div class=\"children hor wrap rtl\"><div class=\"contnr c1  rtl rno \" ><div class=\"lbl c1  \" ><span class=\"nd\">column</span></div><div class=\"children hor wrap rtl\"><div class=\"contnr c1  rtl rno \" ><div class=\"lbl c1  \" ><span class=\"nd\">span</span></div><div class=\"children hor wrap rtl\"><div class=\"contnr c0 trm rtl  \" ><div class=\"lbl c0 trm \" ><span class=\"txtu ara\">فَمَا </span></div><div class='features'><span class=\"nice xft\" ><span class=\"f\">nice=</span>famaā</span></div></div><div class=\"contnr c0 trm rtl  \" ><div class=\"lbl c0 trm \" ><span class=\"txtu ara\">دَامَ </span></div><div class='features'><span class=\"nice xft\" ><span class=\"f\">nice=</span>daāma</span></div></div></div></div></div></div></div></div><div class=\"contnr c3  rtl lno hl\" ><div class=\"lbl c3  hl\" ><span class=\"nd\">line</span></div><div class=\"children hor wrap rtl\"><div class=\"contnr c1  rtl lno \" ><div class=\"lbl c1  \" ><span class=\"nd\">column</span></div><div class=\"children hor wrap rtl\"><div class=\"contnr c1  rtl lno \" ><div class=\"lbl c1  \" ><span class=\"nd\">span</span></div><div class=\"children hor wrap rtl\"><div class=\"contnr c0 trm rtl  \" ><div class=\"lbl c0 trm \" ><span class=\"txtu ara\">خَتْمُ </span></div><div class='features'><span class=\"nice xft\" ><span class=\"f\">nice=</span>ḫatamu</span></div></div><div class=\"contnr c0 trm rtl  \" ><div class=\"lbl c0 trm \" ><span class=\"txtu ara\">المَلِكِ </span></div><div class='features'><span class=\"nice xft\" ><span class=\"f\">nice=</span>ālmaliki</span></div></div><div class=\"contnr c0 trm rtl  \" ><div class=\"lbl c0 trm \" ><span class=\"txtu ara\">عَلَيهَا، </span></div><div class='features'><span class=\"nice xft\" ><span class=\"f\">nice=</span>ʿalayhaā</span></div></div><div class=\"contnr c0 trm rtl  \" ><div class=\"lbl c0 trm \" ><span class=\"txtu ara\">لَا </span></div><div class='features'><span class=\"nice xft\" ><span class=\"f\">nice=</span>laā</span></div></div><div class=\"contnr c0 trm rtl  \" ><div class=\"lbl c0 trm \" ><span class=\"txtu ara\">يَجْسُـرُ </span></div><div class='features'><span class=\"nice xft\" ><span class=\"f\">nice=</span>yaǧasuru</span></div></div><div class=\"contnr c0 trm rtl  \" ><div class=\"lbl c0 trm \" ><span class=\"txtu ara\">أَحَدٌ </span></div><div class='features'><span class=\"nice xft\" ><span class=\"f\">nice=</span>āaḥaduⁿ</span></div></div><div class=\"contnr c0 trm rtl  \" ><div class=\"lbl c0 trm \" ><span class=\"txtu ara\">عَلَىٰ </span></div><div class='features'><span class=\"nice xft\" ><span class=\"f\">nice=</span>ʿalaáã</span></div></div><div class=\"contnr c0 trm rtl  \" ><div class=\"lbl c0 trm \" ><span class=\"txtu ara\">فَتْحِهَا </span></div><div class='features'><span class=\"nice xft\" ><span class=\"f\">nice=</span>fataḥihaā</span></div></div><div class=\"contnr c0 trm rtl  \" ><div class=\"lbl c0 trm \" ><span class=\"txtu ara\">إِلَّا </span></div><div class='features'><span class=\"nice xft\" ><span class=\"f\">nice=</span>āʾilauā</span></div></div><div class=\"contnr c0 trm rtl  \" ><div class=\"lbl c0 trm \" ><span class=\"txtu ara\">بِـإِذْنِهِ. </span></div><div class='features'><span class=\"nice xft\" ><span class=\"f\">nice=</span>biāʾiḏanihi</span></div></div></div></div></div></div></div></div></div></div><div class=\"contnr c2  rtl  \" ><div class=\"lbl c2  \" ><span class=\"nd\">sentence</span></div><div class=\"children hor wrap rtl\"><div class=\"contnr c3  rtl rno hl\" ><div class=\"lbl c3  hl\" ><span class=\"nd\">line</span></div><div class=\"children hor wrap rtl\"><div class=\"contnr c1  rtl rno \" ><div class=\"lbl c1  \" ><span class=\"nd\">column</span></div><div class=\"children hor wrap rtl\"><div class=\"contnr c1  rtl rno \" ><div class=\"lbl c1  \" ><span class=\"nd\">span</span></div><div class=\"children hor wrap rtl\"><div class=\"contnr c0 trm rtl  \" ><div class=\"lbl c0 trm \" ><span class=\"txtu ara\">فَـٱسْتَخْلَفَهُ </span></div><div class='features'><span class=\"nice xft\" ><span class=\"f\">nice=</span>faasataḫalafahu</span></div></div><div class=\"contnr c0 trm rtl  hl\" ><div class=\"lbl c0 trm hl\" ><span class=\"txtu ara\">فِي </span></div><div class='features'><span class=\"nice xft\" ><span class=\"f\">nice=</span>fiy</span></div></div></div></div></div></div></div></div><div class=\"contnr c3  rtl  hl\" ><div class=\"lbl c3  hl\" ><span class=\"nd\">line</span></div><div class=\"children hor wrap rtl\"><div class=\"contnr c1  rtl  \" ><div class=\"lbl c1  \" ><span class=\"nd\">column</span></div><div class=\"children hor wrap rtl\"><div class=\"contnr c1  rtl  \" ><div class=\"lbl c1  \" ><span class=\"nd\">span</span></div><div class=\"children hor wrap rtl\"><div class=\"contnr c0 trm rtl  hl\" ><div class=\"lbl c0 trm hl\" ><span class=\"txtu ara\">حِفْظِ </span></div><div class='features'><span class=\"nice xft\" ><span class=\"f\">nice=</span>ḥifaẓi</span></div></div><div class=\"contnr c0 trm rtl  \" ><div class=\"lbl c0 trm \" ><span class=\"txtu ara\">العَالَمِ، </span></div><div class='features'><span class=\"nice xft\" ><span class=\"f\">nice=</span>ālʿaālami</span></div></div><div class=\"contnr c0 trm rtl  \" ><div class=\"lbl c0 trm \" ><span class=\"txtu ara\">فَلَا </span></div><div class='features'><span class=\"nice xft\" ><span class=\"f\">nice=</span>falaā</span></div></div><div class=\"contnr c0 trm rtl  \" ><div class=\"lbl c0 trm \" ><span class=\"txtu ara\">يَـزَالُ </span></div><div class='features'><span class=\"nice xft\" ><span class=\"f\">nice=</span>yazaālu</span></div></div><div class=\"contnr c0 trm rtl  \" ><div class=\"lbl c0 trm \" ><span class=\"txtu ara\">العَالَمُ </span></div><div class='features'><span class=\"nice xft\" ><span class=\"f\">nice=</span>ālʿaālamu</span></div></div><div class=\"contnr c0 trm rtl  \" ><div class=\"lbl c0 trm \" ><span class=\"txtu ara\">مَحْفُوظًا، </span></div><div class='features'><span class=\"nice xft\" ><span class=\"f\">nice=</span>maḥafuwẓaⁿā</span></div></div><div class=\"contnr c0 trm rtl  \" ><div class=\"lbl c0 trm \" ><span class=\"txtu ara\">مَا </span></div><div class='features'><span class=\"nice xft\" ><span class=\"f\">nice=</span>maā</span></div></div><div class=\"contnr c0 trm rtl  \" ><div class=\"lbl c0 trm \" ><span class=\"txtu ara\">دَامَ </span></div><div class='features'><span class=\"nice xft\" ><span class=\"f\">nice=</span>daāma</span></div></div><div class=\"contnr c0 trm rtl  \" ><div class=\"lbl c0 trm \" ><span class=\"txtu ara\">فِيهِ </span></div><div class='features'><span class=\"nice xft\" ><span class=\"f\">nice=</span>fiyhi</span></div></div><div class=\"contnr c0 trm rtl  \" ><div class=\"lbl c0 trm \" ><span class=\"txtu ara\">هٰذَا </span></div><div class='features'><span class=\"nice xft\" ><span class=\"f\">nice=</span>hãḏaā</span></div></div><div class=\"contnr c0 trm rtl  \" ><div class=\"lbl c0 trm \" ><span class=\"txtu ara\">الإِنْسَانُ </span></div><div class='features'><span class=\"nice xft\" ><span class=\"f\">nice=</span>ālāʾinasaānu</span></div></div><div class=\"contnr c0 trm rtl  \" ><div class=\"lbl c0 trm \" ><span class=\"txtu ara\">الـكَامِلُ. </span></div><div class='features'><span class=\"nice xft\" ><span class=\"f\">nice=</span>ālkaāmilu</span></div></div></div></div></div></div></div></div></div></div></div></div></div>"
      ],
      "text/plain": [
       "<IPython.core.display.HTML object>"
      ]
     },
     "metadata": {},
     "output_type": "display_data"
    }
   ],
   "source": [
    "A.show(results, condenseType=\"page\")"
   ]
  },
  {
   "cell_type": "code",
   "execution_count": 21,
   "metadata": {},
   "outputs": [
    {
     "data": {
      "text/plain": [
       "[(1147, 1148)]"
      ]
     },
     "execution_count": 21,
     "metadata": {},
     "output_type": "execute_result"
    }
   ],
   "source": [
    "results"
   ]
  },
  {
   "cell_type": "code",
   "execution_count": 24,
   "metadata": {},
   "outputs": [
    {
     "data": {
      "text/plain": [
       "(1147, 1148)"
      ]
     },
     "execution_count": 24,
     "metadata": {},
     "output_type": "execute_result"
    }
   ],
   "source": [
    "r = results[0]\n",
    "r"
   ]
  },
  {
   "cell_type": "code",
   "execution_count": 27,
   "metadata": {},
   "outputs": [
    {
     "data": {
      "text/plain": [
       "52679"
      ]
     },
     "execution_count": 27,
     "metadata": {},
     "output_type": "execute_result"
    }
   ],
   "source": [
    "L.u(1147, otype=\"line\")[0]"
   ]
  },
  {
   "cell_type": "code",
   "execution_count": 28,
   "metadata": {},
   "outputs": [
    {
     "data": {
      "text/plain": [
       "52680"
      ]
     },
     "execution_count": 28,
     "metadata": {},
     "output_type": "execute_result"
    }
   ],
   "source": [
    "L.u(1148, otype=\"line\")[0]"
   ]
  },
  {
   "cell_type": "code",
   "execution_count": 29,
   "metadata": {},
   "outputs": [],
   "source": [
    "lines = [L.u(n, otype=\"line\")[0] for n in r]"
   ]
  },
  {
   "cell_type": "code",
   "execution_count": 30,
   "metadata": {},
   "outputs": [
    {
     "data": {
      "text/plain": [
       "[52679, 52680]"
      ]
     },
     "execution_count": 30,
     "metadata": {},
     "output_type": "execute_result"
    }
   ],
   "source": [
    "lines"
   ]
  },
  {
   "cell_type": "code",
   "execution_count": 32,
   "metadata": {},
   "outputs": [
    {
     "data": {
      "text/html": [
       "<table><tr class=\"tf rtl\"><th class=\"tf rtl\">n</th><th class=\"tf rtl\">p</th><th class=\"tf rtl\">line</th><th class=\"tf\">line</th></tr>\n",
       "<tr class=\"tf rtl\"><td class=\"tf rtl\">1</td><td class=\"tf rtl\"><span class=\"tfsechead ltr\">4 18:12</span></td><td class=\"tf rtl\"><span class=\"rtl ubd\"></span></td><td class=\"tf rtl\"><span class=\"rtl ubd\"></span></td></tr></table>"
      ],
      "text/plain": [
       "<IPython.core.display.HTML object>"
      ]
     },
     "metadata": {},
     "output_type": "display_data"
    }
   ],
   "source": [
    "A.table((lines,))"
   ]
  },
  {
   "cell_type": "code",
   "execution_count": null,
   "metadata": {},
   "outputs": [],
   "source": []
  }
 ],
 "metadata": {
  "kernelspec": {
   "display_name": "Python3.9",
   "language": "python",
   "name": "python3"
  },
  "language_info": {
   "codemirror_mode": {
    "name": "ipython",
    "version": 3
   },
   "file_extension": ".py",
   "mimetype": "text/x-python",
   "name": "python",
   "nbconvert_exporter": "python",
   "pygments_lexer": "ipython3",
   "version": "3.9.0"
  }
 },
 "nbformat": 4,
 "nbformat_minor": 4
}
