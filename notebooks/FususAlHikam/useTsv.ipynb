{
 "cells": [
  {
   "cell_type": "code",
   "execution_count": 25,
   "metadata": {},
   "outputs": [],
   "source": [
    "SRC_FILE = \"allpages.tsv\"\n",
    "OCRED = True\n",
    "givenPage = \"100-110\""
   ]
  },
  {
   "cell_type": "code",
   "execution_count": 26,
   "metadata": {},
   "outputs": [],
   "source": [
    "data = []\n",
    "head = None\n",
    "\n",
    "with open(SRC_FILE) as fh:\n",
    "    line = next(fh)\n",
    "    head = tuple(line.rstrip(\"\\n\").split(\"\\t\"))\n",
    "    for line in fh:\n",
    "        row = tuple(line.rstrip(\"\\n\").split(\"\\t\"))\n",
    "        page = int(row[0])\n",
    "        if givenPage is not None and page != givenPage:\n",
    "            continue\n",
    "\n",
    "        if OCRED:\n",
    "            row = (\n",
    "                page,\n",
    "                int(row[1]),\n",
    "                row[2],\n",
    "                int(row[3]),\n",
    "                *(None if c == \"?\" else int(c) for c in row[4:8]),\n",
    "                int(row[8]),\n",
    "                row[9],\n",
    "            )\n",
    "        else:\n",
    "            row = (\n",
    "                page,\n",
    "                *(int(c) for c in row[1:4]),\n",
    "                row[4],\n",
    "                *(None if c == \"?\" else int(c) for c in row[5:9]),\n",
    "                row[9],\n",
    "            )\n",
    "\n",
    "        data.append(row)\n"
   ]
  },
  {
   "cell_type": "code",
   "execution_count": 23,
   "metadata": {},
   "outputs": [
    {
     "data": {
      "text/plain": [
       "278"
      ]
     },
     "execution_count": 23,
     "metadata": {},
     "output_type": "execute_result"
    }
   ],
   "source": [
    "len(data)"
   ]
  },
  {
   "cell_type": "code",
   "execution_count": 24,
   "metadata": {},
   "outputs": [
    {
     "data": {
      "text/plain": [
       "(100, 0, '', 1, 1584, 99, 1709, 189, 84, ' 15')"
      ]
     },
     "execution_count": 24,
     "metadata": {},
     "output_type": "execute_result"
    }
   ],
   "source": [
    "data[0]"
   ]
  },
  {
   "cell_type": "code",
   "execution_count": 1,
   "metadata": {},
   "outputs": [],
   "source": [
    "from fusus.tsv import loadTsv"
   ]
  },
  {
   "cell_type": "code",
   "execution_count": null,
   "metadata": {},
   "outputs": [],
   "source": []
  }
 ],
 "metadata": {
  "kernelspec": {
   "display_name": "Python3.9",
   "language": "python",
   "name": "python3"
  },
  "language_info": {
   "codemirror_mode": {
    "name": "ipython",
    "version": 3
   },
   "file_extension": ".py",
   "mimetype": "text/x-python",
   "name": "python",
   "nbconvert_exporter": "python",
   "pygments_lexer": "ipython3",
   "version": "3.9.0"
  }
 },
 "nbformat": 4,
 "nbformat_minor": 4
}
