{
 "cells": [
  {
   "cell_type": "markdown",
   "metadata": {},
   "source": [
    "How to read this notebook:\n",
    "\n",
    "1.  *best experience*\n",
    "    get this repository on your computer and run `jupyter lab`.\n",
    "    Also install the table of contents extension in Jupyter Lab, since this is a lengthy notebook\n",
    "    You can run the code cells now.\n",
    "1.  *good reading experience*\n",
    "    read it on [NbViewer](https://nbviewer.jupyter.org/github/among/fusus/blob/master/example/doExample.ipynb)\n",
    "1.  *suboptimal*\n",
    "    read it directly on [GitHub](https://github.com/among/fusus/blob/master/example/doExample.ipynb)\n",
    "    (long time to load)\n",
    "   "
   ]
  },
  {
   "cell_type": "markdown",
   "metadata": {},
   "source": [
    "# Quick and dirty way to process pages of a book.\n",
    "\n",
    "We process the some or all example pages in the *example* directory, without and without the OCR step.\n",
    "\n",
    "Reference: [book](https://among.github.io/fusus/fusus/book.html)."
   ]
  },
  {
   "cell_type": "markdown",
   "metadata": {},
   "source": [
    "Import the fusus package.\n",
    "If you do not have it yet, see\n",
    "[get fusus](https://among.github.io/fusus/fusus/about/install.html#get-the-software)."
   ]
  },
  {
   "cell_type": "code",
   "execution_count": 5,
   "metadata": {},
   "outputs": [],
   "source": [
    "from fusus.book import Book"
   ]
  },
  {
   "cell_type": "code",
   "execution_count": 6,
   "metadata": {},
   "outputs": [],
   "source": [
    "B = Book(cd=\"~/github/among/fusus/example\")"
   ]
  },
  {
   "cell_type": "code",
   "execution_count": 7,
   "metadata": {},
   "outputs": [],
   "source": [
    "# cd to the book directory\n",
    "!cd `pwd`"
   ]
  },
  {
   "cell_type": "code",
   "execution_count": 7,
   "metadata": {},
   "outputs": [
    {
     "name": "stdout",
     "output_type": "stream",
     "text": [
      "  1.87s 18 pages: 47-48,58-59,63,67,101-102,111-113,121-122,131-132,200,300,400\n"
     ]
    }
   ],
   "source": [
    "B.availablePages()"
   ]
  },
  {
   "cell_type": "code",
   "execution_count": 8,
   "metadata": {},
   "outputs": [
    {
     "name": "stdout",
     "output_type": "stream",
     "text": [
      "  0.00s Batch of 1 pages: 47\n",
      "  0.00s Start batch processing images\n",
      "   |     1.20s     1 047.tif                                 \n",
      "  1.20s all done\n"
     ]
    }
   ],
   "source": [
    "lastPage = B.process(pages=47, doOcr=False)"
   ]
  },
  {
   "cell_type": "code",
   "execution_count": 9,
   "metadata": {},
   "outputs": [
    {
     "name": "stdout",
     "output_type": "stream",
     "text": [
      "  0.00s Batch of 2 pages: 47,58\n",
      "  0.00s Start batch processing images\n",
      "   |     1.13s     1 047.tif                                 \n",
      "   |     1.13s     2 058.tif                                 \n",
      "  2.27s all done\n"
     ]
    }
   ],
   "source": [
    "lastPage = B.process(pages=\"47,58\", doOcr=False)"
   ]
  },
  {
   "cell_type": "code",
   "execution_count": 10,
   "metadata": {},
   "outputs": [
    {
     "name": "stdout",
     "output_type": "stream",
     "text": [
      "  0.00s Batch of 6 pages: 47,58,122,131-132,200\n",
      "  0.00s Start batch processing images\n",
      "   |     1.10s     1 047.tif                                 \n",
      "   |     1.17s     2 058.tif                                 \n",
      "   |     1.33s     3 122.jpg                                 \n",
      "   |     1.94s     4 131.jpg                                 \n",
      "   |     1.79s     5 132.jpg                                 \n",
      "   |     6.17s     6 200.tif                                 \n",
      "    14s all done\n"
     ]
    }
   ],
   "source": [
    "lastPage = B.process(pages=\"47,58,122-250\", doOcr=False)"
   ]
  },
  {
   "cell_type": "code",
   "execution_count": 11,
   "metadata": {},
   "outputs": [
    {
     "name": "stdout",
     "output_type": "stream",
     "text": [
      "  0.00s Batch of 18 pages: 47-48,58-59,63,67,101-102,111-113,121-122,131-132,200,300,400\n",
      "  0.00s Start batch processing images\n",
      "   |     1.18s     1 047.tif                                 \n",
      "   |     1.21s     2 048.tif                                 \n",
      "   |     1.19s     3 058.tif                                 \n",
      "   |     1.20s     4 059.tif                                 \n",
      "   |     1.20s     5 063.tif                                 \n",
      "   |     1.25s     6 067.tif                                 \n",
      "   |     0.92s     7 101.jpg                                 \n",
      "   |     1.08s     8 102.jpg                                 \n",
      "   |     1.51s     9 111.jpg                                 \n",
      "   |     1.55s    10 112.jpg                                 \n",
      "   |     1.45s    11 113.jpg                                 \n",
      "   |     1.35s    12 121.jpg                                 \n",
      "   |     1.39s    13 122.jpg                                 \n",
      "   |     1.98s    14 131.jpg                                 \n",
      "   |     1.79s    15 132.jpg                                 \n",
      "   |     6.11s    16 200.tif                                 \n",
      "   |     5.35s    17 300.tif                                 \n",
      "   |     6.13s    18 400.tif                                 \n",
      "    38s all done\n"
     ]
    }
   ],
   "source": [
    "lastPage = B.process(doOcr=False)"
   ]
  },
  {
   "cell_type": "markdown",
   "metadata": {},
   "source": [
    "Finally, all pages, the complete pipeline.\n",
    "\n",
    "Note that the Kraken model for Arabic printed text is loaded on demand and then kept in memory."
   ]
  },
  {
   "cell_type": "code",
   "execution_count": 12,
   "metadata": {},
   "outputs": [
    {
     "name": "stdout",
     "output_type": "stream",
     "text": [
      "  0.00s Batch of 18 pages: 47-48,58-59,63,67,101-102,111-113,121-122,131-132,200,300,400\n",
      "  0.00s Start batch processing images\n",
      "   |     1.03s Loading for Kraken: ~/github/among/fusus/model/arabic_generalized.mlmodel\n",
      "   |     8.62s model loaded\n",
      "   |       11s     1 047.tif                                 \n",
      "   |     2.86s     2 048.tif                                 \n",
      "   |     2.70s     3 058.tif                                 \n",
      "   |     3.95s     4 059.tif                                 \n",
      "   |     3.96s     5 063.tif                                 \n",
      "   |     3.76s     6 067.tif                                 \n",
      "   |     4.70s     7 101.jpg                                 \n",
      "   |     5.66s     8 102.jpg                                 \n",
      "   |     8.42s     9 111.jpg                                 \n",
      "   |     8.19s    10 112.jpg                                 \n",
      "   |     7.39s    11 113.jpg                                 \n",
      "   |     6.84s    12 121.jpg                                 \n",
      "   |     6.58s    13 122.jpg                                 \n",
      "   |     9.79s    14 131.jpg                                 \n",
      "   |     7.66s    15 132.jpg                                 \n",
      "   |       27s    16 200.tif                                 \n",
      "   |       17s    17 300.tif                                 \n",
      "   |       19s    18 400.tif                                 \n",
      " 2m 37s all done\n"
     ]
    }
   ],
   "source": [
    "lastPage = B.process()"
   ]
  },
  {
   "cell_type": "code",
   "execution_count": null,
   "metadata": {},
   "outputs": [],
   "source": []
  }
 ],
 "metadata": {
  "kernelspec": {
   "display_name": "Python3.9",
   "language": "python",
   "name": "python3"
  },
  "language_info": {
   "codemirror_mode": {
    "name": "ipython",
    "version": 3
   },
   "file_extension": ".py",
   "mimetype": "text/x-python",
   "name": "python",
   "nbconvert_exporter": "python",
   "pygments_lexer": "ipython3",
   "version": "3.9.0"
  },
  "toc-autonumbering": false
 },
 "nbformat": 4,
 "nbformat_minor": 4
}
