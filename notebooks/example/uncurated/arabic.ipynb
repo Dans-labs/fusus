{
 "cells": [
  {
   "cell_type": "code",
   "execution_count": 20,
   "metadata": {},
   "outputs": [],
   "source": [
    "from unicodedata import name\n",
    "import arabic_reshaper as ar\n",
    "from bidi.algorithm import get_display\n",
    "\n",
    "from IPython.display import display, HTML"
   ]
  },
  {
   "cell_type": "code",
   "execution_count": 14,
   "metadata": {},
   "outputs": [],
   "source": [
    "test1 = \"أعم\"\n",
    "test2 = \"العلم\""
   ]
  },
  {
   "cell_type": "code",
   "execution_count": 15,
   "metadata": {},
   "outputs": [],
   "source": [
    "def show(s, label):\n",
    "    print(f\"{label:<10} ⌊{s}⌋\")\n",
    "    for c in s:\n",
    "        print(f\"\\t{ord(c):>04x} = {name(c):<40} = ⌊{c}⌋\")"
   ]
  },
  {
   "cell_type": "code",
   "execution_count": 16,
   "metadata": {},
   "outputs": [],
   "source": [
    "def display(s):\n",
    "    show(s, \"orig\")\n",
    "    r = ar.reshape(s)\n",
    "    show(r, \"reshaped\")\n",
    "    b = get_display(r)\n",
    "    show(b, \"bidi\")"
   ]
  },
  {
   "cell_type": "code",
   "execution_count": 17,
   "metadata": {},
   "outputs": [
    {
     "name": "stdout",
     "output_type": "stream",
     "text": [
      "orig       ⌊أعم⌋\n",
      "\t0623 = ARABIC LETTER ALEF WITH HAMZA ABOVE      = ⌊أ⌋\n",
      "\t0639 = ARABIC LETTER AIN                        = ⌊ع⌋\n",
      "\t0645 = ARABIC LETTER MEEM                       = ⌊م⌋\n",
      "reshaped   ⌊ﺃﻋﻢ⌋\n",
      "\tfe83 = ARABIC LETTER ALEF WITH HAMZA ABOVE ISOLATED FORM = ⌊ﺃ⌋\n",
      "\tfecb = ARABIC LETTER AIN INITIAL FORM           = ⌊ﻋ⌋\n",
      "\tfee2 = ARABIC LETTER MEEM FINAL FORM            = ⌊ﻢ⌋\n",
      "bidi       ⌊ﻢﻋﺃ⌋\n",
      "\tfee2 = ARABIC LETTER MEEM FINAL FORM            = ⌊ﻢ⌋\n",
      "\tfecb = ARABIC LETTER AIN INITIAL FORM           = ⌊ﻋ⌋\n",
      "\tfe83 = ARABIC LETTER ALEF WITH HAMZA ABOVE ISOLATED FORM = ⌊ﺃ⌋\n"
     ]
    }
   ],
   "source": [
    "display(test1)"
   ]
  },
  {
   "cell_type": "code",
   "execution_count": 18,
   "metadata": {},
   "outputs": [
    {
     "name": "stdout",
     "output_type": "stream",
     "text": [
      "orig       ⌊العلم⌋\n",
      "\t0627 = ARABIC LETTER ALEF                       = ⌊ا⌋\n",
      "\t0644 = ARABIC LETTER LAM                        = ⌊ل⌋\n",
      "\t0639 = ARABIC LETTER AIN                        = ⌊ع⌋\n",
      "\t0644 = ARABIC LETTER LAM                        = ⌊ل⌋\n",
      "\t0645 = ARABIC LETTER MEEM                       = ⌊م⌋\n",
      "reshaped   ⌊ﺍﻟﻌﻠﻢ⌋\n",
      "\tfe8d = ARABIC LETTER ALEF ISOLATED FORM         = ⌊ﺍ⌋\n",
      "\tfedf = ARABIC LETTER LAM INITIAL FORM           = ⌊ﻟ⌋\n",
      "\tfecc = ARABIC LETTER AIN MEDIAL FORM            = ⌊ﻌ⌋\n",
      "\tfee0 = ARABIC LETTER LAM MEDIAL FORM            = ⌊ﻠ⌋\n",
      "\tfee2 = ARABIC LETTER MEEM FINAL FORM            = ⌊ﻢ⌋\n",
      "bidi       ⌊ﻢﻠﻌﻟﺍ⌋\n",
      "\tfee2 = ARABIC LETTER MEEM FINAL FORM            = ⌊ﻢ⌋\n",
      "\tfee0 = ARABIC LETTER LAM MEDIAL FORM            = ⌊ﻠ⌋\n",
      "\tfecc = ARABIC LETTER AIN MEDIAL FORM            = ⌊ﻌ⌋\n",
      "\tfedf = ARABIC LETTER LAM INITIAL FORM           = ⌊ﻟ⌋\n",
      "\tfe8d = ARABIC LETTER ALEF ISOLATED FORM         = ⌊ﺍ⌋\n"
     ]
    }
   ],
   "source": [
    "display(test2)"
   ]
  },
  {
   "cell_type": "code",
   "execution_count": 31,
   "metadata": {},
   "outputs": [],
   "source": [
    "CSS = \"\"\"\n",
    "<style>\n",
    ".ara {\n",
    "    font-family: Arial;\n",
    "    font-size: 96pt;\n",
    "}\n",
    "</style>\n",
    "\"\"\""
   ]
  },
  {
   "cell_type": "code",
   "execution_count": 32,
   "metadata": {},
   "outputs": [
    {
     "data": {
      "text/html": [
       "\n",
       "<style>\n",
       ".ara {\n",
       "    font-family: Arial;\n",
       "    font-size: 96pt;\n",
       "}\n",
       "</style>\n"
      ],
      "text/plain": [
       "<IPython.core.display.HTML object>"
      ]
     },
     "metadata": {},
     "output_type": "display_data"
    }
   ],
   "source": [
    "display(HTML(CSS))"
   ]
  },
  {
   "cell_type": "code",
   "execution_count": 33,
   "metadata": {},
   "outputs": [
    {
     "data": {
      "text/html": [
       "<span class=\"ara\">أعم</span>"
      ],
      "text/plain": [
       "<IPython.core.display.HTML object>"
      ]
     },
     "metadata": {},
     "output_type": "display_data"
    }
   ],
   "source": [
    "display(HTML(f\"\"\"<span class=\"ara\">{test1}</span>\"\"\"))"
   ]
  },
  {
   "cell_type": "code",
   "execution_count": 34,
   "metadata": {},
   "outputs": [
    {
     "data": {
      "text/html": [
       "<span class=\"ara\">العلم</span>"
      ],
      "text/plain": [
       "<IPython.core.display.HTML object>"
      ]
     },
     "metadata": {},
     "output_type": "display_data"
    }
   ],
   "source": [
    "display(HTML(f\"\"\"<span class=\"ara\">{test2}</span>\"\"\"))"
   ]
  },
  {
   "cell_type": "code",
   "execution_count": null,
   "metadata": {},
   "outputs": [],
   "source": []
  }
 ],
 "metadata": {
  "kernelspec": {
   "display_name": "Python3.9",
   "language": "python",
   "name": "python3"
  },
  "language_info": {
   "codemirror_mode": {
    "name": "ipython",
    "version": 3
   },
   "file_extension": ".py",
   "mimetype": "text/x-python",
   "name": "python",
   "nbconvert_exporter": "python",
   "pygments_lexer": "ipython3",
   "version": "3.9.0"
  }
 },
 "nbformat": 4,
 "nbformat_minor": 4
}
