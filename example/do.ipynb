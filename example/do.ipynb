{
 "cells": [
  {
   "cell_type": "markdown",
   "metadata": {},
   "source": [
    "# Pipeline\n",
    "\n",
    "See [book](https://among.github.io/fusus/book.html)."
   ]
  },
  {
   "cell_type": "code",
   "execution_count": 5,
   "metadata": {},
   "outputs": [
    {
     "name": "stdout",
     "output_type": "stream",
     "text": [
      "The autoreload extension is already loaded. To reload it, use:\n",
      "  %reload_ext autoreload\n"
     ]
    }
   ],
   "source": [
    "%load_ext autoreload\n",
    "%autoreload 2\n",
    "!cd `pwd`"
   ]
  },
  {
   "cell_type": "code",
   "execution_count": 6,
   "metadata": {},
   "outputs": [],
   "source": [
    "from fusus.book import Book"
   ]
  },
  {
   "cell_type": "code",
   "execution_count": 7,
   "metadata": {},
   "outputs": [],
   "source": [
    "B = Book()"
   ]
  },
  {
   "cell_type": "code",
   "execution_count": 4,
   "metadata": {},
   "outputs": [
    {
     "name": "stdout",
     "output_type": "stream",
     "text": [
      "  0.00s Batch of 19 pages: 47-48,58-59,63,67,101-102,111-113,121-122,131-132,200,300,400,999\n",
      "  0.00s Start batch processing images\n",
      "   |     0.94s     1 047.tif                                 \n",
      "   |     0.94s     2 048.tif                                 \n",
      "   |     0.93s     3 058.tif                                 \n",
      "   |     0.93s     4 059.tif                                 \n",
      "   |     0.94s     5 063.tif                                 \n",
      "   |     1.00s     6 067.tif                                 \n",
      "   |     0.67s     7 101.jpg                                 \n",
      "   |     0.79s     8 102.jpg                                 \n",
      "   |     1.03s     9 111.jpg                                 \n",
      "   |     1.07s    10 112.jpg                                 \n",
      "   |     1.00s    11 113.jpg                                 \n",
      "   |     0.99s    12 121.jpg                                 \n",
      "   |     0.97s    13 122.jpg                                 \n",
      "   |     1.45s    14 131.jpg                                 \n",
      "   |     1.46s    15 132.jpg                                 \n",
      "   |     4.96s    16 200.tif                                 \n",
      "   |     4.35s    17 300.tif                                 \n",
      "   |     5.04s    18 400.tif                                 \n",
      "   |     0.15s    19 999.jpg                                 \n",
      "    30s all done\n"
     ]
    },
    {
     "name": "stderr",
     "output_type": "stream",
     "text": [
      "/Users/dirk/.pyenv/versions/3.9.0/lib/python3.9/site-packages/scipy/signal/signaltools.py:1519: UserWarning: kernel_size exceeds volume extent: the volume will be zero-padded.\n",
      "  warnings.warn('kernel_size exceeds volume extent: the volume will be '\n"
     ]
    }
   ],
   "source": [
    "lastPage = B.process(doOcr=False)"
   ]
  },
  {
   "cell_type": "code",
   "execution_count": null,
   "metadata": {},
   "outputs": [],
   "source": []
  }
 ],
 "metadata": {
  "kernelspec": {
   "display_name": "Python3.9",
   "language": "python",
   "name": "python3"
  },
  "language_info": {
   "codemirror_mode": {
    "name": "ipython",
    "version": 3
   },
   "file_extension": ".py",
   "mimetype": "text/x-python",
   "name": "python",
   "nbconvert_exporter": "python",
   "pygments_lexer": "ipython3",
   "version": "3.9.0"
  }
 },
 "nbformat": 4,
 "nbformat_minor": 4
}
