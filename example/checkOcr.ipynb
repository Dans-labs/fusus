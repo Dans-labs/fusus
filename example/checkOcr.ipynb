{
 "cells": [
  {
   "cell_type": "markdown",
   "metadata": {},
   "source": [
    "# Pipeline\n",
    "\n",
    "See [usage](https://among.github.io/fusus/use/).\n",
    "\n",
    "See [example](https://github.com/among/fusus/blob/master/example/doExample.ipynb).\n",
    "\n",
    "How to read this notebook:\n",
    "\n",
    "1.  *best experience*\n",
    "    get this repository on your computer and run `jupyter lab`.\n",
    "    Also install the table of contents extension in Jupyter Lab, since this is a lengthy notebook\n",
    "    You can run the code cells now.\n",
    "1.  *good reading experience*\n",
    "    read it on [NbViewer](https://nbviewer.jupyter.org/github/among/fusus/blob/master/example/doExample.ipynb)\n",
    "1.  *suboptimal*\n",
    "    read it directly on [GitHub](https://github.com/among/fusus/blob/master/example/doExample.ipynb)\n",
    "    (long time to load)"
   ]
  },
  {
   "cell_type": "markdown",
   "metadata": {},
   "source": [
    "# The beginning\n",
    "\n",
    "Enable autoloading of changed code.\n",
    "\n",
    "Change the directory to where this notebook resides on disk, i.e. near the book's scanned pages directory."
   ]
  },
  {
   "cell_type": "code",
   "execution_count": 1,
   "metadata": {},
   "outputs": [],
   "source": [
    "%load_ext autoreload\n",
    "%autoreload 2\n",
    "!cd `pwd`"
   ]
  },
  {
   "cell_type": "markdown",
   "metadata": {},
   "source": [
    "Import the fusus package (see [install](https://among.github.io/fusus/about/install.html))."
   ]
  },
  {
   "cell_type": "code",
   "execution_count": 2,
   "metadata": {},
   "outputs": [],
   "source": [
    "from fusus.book import Book"
   ]
  },
  {
   "cell_type": "markdown",
   "metadata": {},
   "source": [
    "Initialize the processing line."
   ]
  },
  {
   "cell_type": "code",
   "execution_count": 3,
   "metadata": {},
   "outputs": [
    {
     "name": "stdout",
     "output_type": "stream",
     "text": [
      "  0.01s Loading for Kraken: ~/github/among/fusus/model/arabic_generalized.mlmodel\n",
      "  1.07s model loaded\n"
     ]
    }
   ],
   "source": [
    "B = Book()"
   ]
  },
  {
   "cell_type": "markdown",
   "metadata": {},
   "source": [
    "# Task runner\n",
    "\n",
    "The following function runs the pipeline for one or more pages.\n",
    "\n",
    "If all pages are selected, batch mode is on."
   ]
  },
  {
   "cell_type": "code",
   "execution_count": 4,
   "metadata": {},
   "outputs": [],
   "source": [
    "def size(pg):\n",
    "    return dict(sizeW=0.5 if pg == 999 else None, sizeH=0.1 if pg == 999 else None)\n",
    "\n",
    "\n",
    "def checkOcr(pg, quiet=True, **kwargs):\n",
    "    if pg is None:\n",
    "        for pg in B.allPagesList:\n",
    "            page = B.process(\n",
    "                batch=True,\n",
    "                pages=pg,\n",
    "                doOcr=True,\n",
    "                quiet=quiet,\n",
    "                **size(pg),\n",
    "                **kwargs,\n",
    "            )\n",
    "            page.show(stage=\"proofword\")\n",
    "    else:\n",
    "        page = B.process(\n",
    "            batch=False,\n",
    "            pages=pg,\n",
    "            doOcr=True,\n",
    "            quiet=quiet,\n",
    "            **size(pg),\n",
    "            **kwargs,\n",
    "        )\n",
    "        page.show(stage=\"word\")\n",
    "        page.show(stage=\"proofword\")\n",
    "    return page"
   ]
  },
  {
   "cell_type": "markdown",
   "metadata": {},
   "source": [
    "# Check a single page\n",
    "\n",
    "Our first example is page 132.\n",
    "\n",
    "The ocr result is shown in data form and as a proof page."
   ]
  },
  {
   "cell_type": "code",
   "execution_count": 5,
   "metadata": {},
   "outputs": [
    {
     "name": "stdout",
     "output_type": "stream",
     "text": [
      "  0.00s Batch of 1 pages: 132\n",
      "  0.00s Start batch processing images\n",
      "   |     6.06s     1 132.jpg                                 \n",
      "  6.06s all done\n",
      "stripe\tcolumn\tline\tleft\ttop\tright\tbottom\tconfidence\ttext\n",
      "1\tl\t1\t969\t373\t1032\t449\t100\tأعم\n",
      "1\tl\t1\t905\t373\t952\t449\t100\tمن\n",
      "1\tl\t1\t716\t373\t888\t449\t89\tالمبادىء\n",
      "1\tl\t1\t613\t373\t682\t449\t98\tوهو\n",
      "1\tl\t1\t557\t373\t596\t449\t99\tما\n",
      "1\tl\t1\t445\t373\t547\t449\t89\tيتوقف\n",
      "1\tl\t1\t342\t373\t413\t449\t100\tعليه\n",
      "1\tl\t1\t190\t373\t332\t449\t98\tالمسائل\n",
      "1\tl\t1\t122\t373\t170\t449\t100\tبلا\n",
      "1\tl\t2\t905\t458\t1028\t544\t96\tواسطة\n",
      "1\tl\t2\t705\t458\t866\t544\t97\tوالمقدمة\n",
      "1\tl\t2\t652\t458\t684\t544\t100\tما\n",
      "1\tl\t2\t536\t458\t642\t544\t92\tيتوقف\n",
      "1\tl\t2\t427\t458\t497\t544\t98\tعليه\n",
      "1\tl\t2\t277\t458\t414\t544\t99\tالمسائل\n",
      "1\tl\t2\t122\t458\t252\t544\t95\tبواسطة\n",
      "1\tl\t3\t997\t553\t1031\t636\t100\tأو\n",
      "1\tl\t3\t944\t553\t979\t636\t100\tلا\n",
      "1\tl\t3\t809\t553\t926\t636\t95\tواسطة\n",
      "1\tl\t3\t790\t553\t798\t636\t99\t.\n",
      "1\tl\t3\t373\t553\t772\t636\t87\tفتأمل!\n",
      "1\tr\t1\t2003\t380\t2081\t456\t100\tأعـم\n",
      "1\tr\t1\t1928\t380\t1988\t456\t100\tمن\n",
      "1\tr\t1\t1777\t380\t1909\t456\t88\tمقدمة\n",
      "1\tr\t1\t1648\t380\t1768\t456\t99\tالعلم\n",
      "1\tr\t1\t1500\t380\t1617\t456\t97\tبينهما\n",
      "1\tr\t1\t1377\t380\t1485\t456\t100\tعموم\n",
      "1\tr\t1\t1169\t380\t1368\t456\t98\tوخصوص\n",
      "1\tr\t2\t1948\t471\t2078\t541\t98\tمطلق.\n",
      "1\tr\t3\t1846\t550\t1965\t643\t92\tوالفرق\n",
      "1\tr\t3\t1776\t550\t1828\t643\t99\tبين\n",
      "1\tr\t3\t1624\t550\t1758\t643\t94\tالمقدمة\n",
      "1\tr\t3\t1414\t550\t1610\t643\t92\tوالمبادىء\n",
      "1\tr\t3\t1346\t550\t1388\t643\t95\tأن\n",
      "1\tr\t3\t1184\t550\t1336\t643\t93\tالمقدمة\n",
      "2\t\t1\t563\t3068\t1636\t3179\t91\t6059\n"
     ]
    },
    {
     "data": {
      "text/html": [
       "<a href=\"proof/132.html\">see proof at word level</a>"
      ],
      "text/plain": [
       "<IPython.core.display.HTML object>"
      ]
     },
     "metadata": {},
     "output_type": "display_data"
    },
    {
     "data": {
      "text/html": [
       "\n",
       "        <iframe\n",
       "            width=\"1010px\"\n",
       "            height=\"1499px\"\n",
       "            src=\"proof/132.html\"\n",
       "            frameborder=\"0\"\n",
       "            allowfullscreen\n",
       "        ></iframe>\n",
       "        "
      ],
      "text/plain": [
       "<IPython.lib.display.IFrame at 0x7f998be55b50>"
      ]
     },
     "metadata": {},
     "output_type": "display_data"
    }
   ],
   "source": [
    "page = checkOcr(132)"
   ]
  },
  {
   "cell_type": "markdown",
   "metadata": {},
   "source": [
    "We can also request the ocr result at character level:"
   ]
  },
  {
   "cell_type": "code",
   "execution_count": 6,
   "metadata": {},
   "outputs": [
    {
     "name": "stdout",
     "output_type": "stream",
     "text": [
      "stripe\tcolumn\tline\tleft\ttop\tright\tbottom\tconfidence\ttext\n",
      "1\tl\t1\t1024\t373\t1032\t449\t100\tا\n",
      "1\tl\t1\t1011\t373\t1025\t449\t99\tٔ\n",
      "1\tl\t1\t991\t373\t1011\t449\t100\tع\n",
      "1\tl\t1\t969\t373\t990\t449\t100\tم\n",
      "1\tl\t1\t953\t373\t970\t449\t100\t \n",
      "1\tl\t1\t929\t373\t952\t449\t100\tم\n",
      "1\tl\t1\t905\t373\t928\t449\t100\tن\n",
      "1\tl\t1\t887\t373\t904\t449\t100\t \n",
      "1\tl\t1\t880\t373\t888\t449\t81\tا\n",
      "1\tl\t1\t860\t373\t881\t449\t100\tل\n",
      "1\tl\t1\t840\t373\t860\t449\t77\tم\n",
      "1\tl\t1\t822\t373\t839\t449\t100\tب\n",
      "1\tl\t1\t802\t373\t822\t449\t100\tا\n",
      "1\tl\t1\t781\t373\t801\t449\t53\tد\n",
      "1\tl\t1\t750\t373\t781\t449\t100\tى\n",
      "1\tl\t1\t716\t373\t750\t449\t100\tء\n",
      "1\tl\t1\t681\t373\t716\t449\t100\t \n",
      "1\tl\t1\t657\t373\t682\t449\t100\tو\n",
      "1\tl\t1\t634\t373\t658\t449\t99\tه\n",
      "1\tl\t1\t613\t373\t633\t449\t95\tو\n",
      "1\tl\t1\t596\t373\t613\t449\t100\t \n",
      "1\tl\t1\t575\t373\t596\t449\t100\tم\n",
      "1\tl\t1\t557\t373\t575\t449\t98\tا\n",
      "1\tl\t1\t548\t373\t558\t449\t100\t \n",
      "1\tl\t1\t534\t373\t547\t449\t100\tي\n",
      "1\tl\t1\t520\t373\t534\t449\t93\tت\n",
      "1\tl\t1\t499\t373\t520\t449\t100\tو\n",
      "1\tl\t1\t479\t373\t500\t449\t54\tق\n",
      "1\tl\t1\t445\t373\t479\t449\t100\tف\n",
      "1\tl\t1\t414\t373\t444\t449\t100\t \n",
      "1\tl\t1\t390\t373\t413\t449\t100\tع\n",
      "1\tl\t1\t369\t373\t390\t449\t100\tل\n",
      "1\tl\t1\t356\t373\t369\t449\t100\tي\n",
      "1\tl\t1\t342\t373\t355\t449\t100\tه\n",
      "1\tl\t1\t331\t373\t342\t449\t84\t \n",
      "1\tl\t1\t317\t373\t332\t449\t100\tا\n",
      "1\tl\t1\t297\t373\t318\t449\t100\tل\n",
      "1\tl\t1\t277\t373\t297\t449\t99\tم\n",
      "1\tl\t1\t249\t373\t276\t449\t100\tس\n",
      "1\tl\t1\t228\t373\t249\t449\t100\tا\n",
      "1\tl\t1\t214\t373\t229\t449\t100\tي\n",
      "1\tl\t1\t207\t373\t215\t449\t100\tٔ\n",
      "1\tl\t1\t190\t373\t208\t449\t88\tل\n",
      "1\tl\t1\t170\t373\t191\t449\t97\t \n",
      "1\tl\t1\t156\t373\t170\t449\t100\tب\n",
      "1\tl\t1\t139\t373\t156\t449\t100\tل\n",
      "1\tl\t1\t122\t373\t140\t449\t100\tا\n",
      "1\tl\t2\t1014\t458\t1028\t544\t100\tو\n",
      "1\tl\t2\t993\t458\t1014\t544\t99\tا\n",
      "1\tl\t2\t961\t458\t993\t544\t100\tس\n",
      "1\tl\t2\t934\t458\t962\t544\t79\tط\n",
      "1\tl\t2\t905\t458\t933\t544\t100\tة\n",
      "1\tl\t2\t866\t458\t906\t544\t100\t \n",
      "1\tl\t2\t849\t458\t866\t544\t100\tو\n",
      "1\tl\t2\t834\t458\t848\t544\t96\tا\n",
      "1\tl\t2\t814\t458\t835\t544\t100\tل\n",
      "1\tl\t2\t789\t458\t813\t544\t96\tم\n",
      "1\tl\t2\t772\t458\t789\t544\t100\tق\n",
      "1\tl\t2\t747\t458\t771\t544\t100\tد\n",
      "1\tl\t2\t723\t458\t747\t544\t92\tم\n",
      "1\tl\t2\t705\t458\t722\t544\t94\tة\n",
      "1\tl\t2\t684\t458\t705\t544\t100\t \n",
      "1\tl\t2\t670\t458\t684\t544\t100\tم\n",
      "1\tl\t2\t652\t458\t670\t544\t100\tا\n",
      "1\tl\t2\t642\t458\t653\t544\t99\t \n",
      "1\tl\t2\t628\t458\t642\t544\t77\tي\n",
      "1\tl\t2\t614\t458\t628\t544\t97\tت\n",
      "1\tl\t2\t589\t458\t614\t544\t99\tو\n",
      "1\tl\t2\t571\t458\t589\t544\t85\tق\n",
      "1\tl\t2\t536\t458\t571\t544\t100\tف\n",
      "1\tl\t2\t498\t458\t536\t544\t100\t \n",
      "1\tl\t2\t477\t458\t497\t544\t94\tع\n",
      "1\tl\t2\t459\t458\t476\t544\t100\tل\n",
      "1\tl\t2\t445\t458\t459\t544\t100\tي\n",
      "1\tl\t2\t427\t458\t445\t544\t100\tه\n",
      "1\tl\t2\t413\t458\t428\t544\t100\t \n",
      "1\tl\t2\t399\t458\t414\t544\t100\tا\n",
      "1\tl\t2\t386\t458\t400\t544\t91\tل\n",
      "1\tl\t2\t361\t458\t385\t544\t100\tم\n",
      "1\tl\t2\t333\t458\t361\t544\t100\tس\n",
      "1\tl\t2\t315\t458\t333\t544\t100\tا\n",
      "1\tl\t2\t301\t458\t316\t544\t100\tي\n",
      "1\tl\t2\t294\t458\t302\t544\t99\tٔ\n",
      "1\tl\t2\t277\t458\t295\t544\t100\tل\n",
      "1\tl\t2\t251\t458\t276\t544\t100\t \n",
      "1\tl\t2\t241\t458\t252\t544\t100\tب\n",
      "1\tl\t2\t220\t458\t241\t544\t100\tو\n",
      "1\tl\t2\t199\t458\t220\t544\t100\tا\n",
      "1\tl\t2\t171\t458\t199\t544\t71\tس\n",
      "1\tl\t2\t140\t458\t171\t544\t100\tط\n",
      "1\tl\t2\t122\t458\t139\t544\t100\tة\n",
      "1\tl\t3\t1023\t553\t1031\t636\t100\tا\n",
      "1\tl\t3\t1016\t553\t1024\t636\t100\tٔ\n",
      "1\tl\t3\t997\t553\t1016\t636\t100\tو\n",
      "1\tl\t3\t978\t553\t998\t636\t98\t \n",
      "1\tl\t3\t963\t553\t979\t636\t100\tل\n",
      "1\tl\t3\t944\t553\t964\t636\t100\tا\n",
      "1\tl\t3\t926\t553\t945\t636\t100\t \n",
      "1\tl\t3\t907\t553\t926\t636\t100\tو\n",
      "1\tl\t3\t892\t553\t908\t636\t100\tا\n",
      "1\tl\t3\t858\t553\t893\t636\t100\tس\n",
      "1\tl\t3\t828\t553\t858\t636\t99\tط\n",
      "1\tl\t3\t809\t553\t828\t636\t78\tة\n",
      "1\tl\t3\t798\t553\t810\t636\t94\t \n",
      "1\tl\t3\t790\t553\t798\t636\t99\t.\n",
      "1\tl\t3\t771\t553\t791\t636\t100\t \n",
      "1\tl\t3\t753\t553\t772\t636\t100\tف\n",
      "1\tl\t3\t738\t553\t753\t636\t100\tت\n",
      "1\tl\t3\t730\t553\t738\t636\t100\tا\n",
      "1\tl\t3\t719\t553\t731\t636\t99\tٔ\n",
      "1\tl\t3\t704\t553\t720\t636\t59\tم\n",
      "1\tl\t3\t678\t553\t704\t636\t90\tل\n",
      "1\tl\t3\t373\t553\t677\t636\t63\t!\n",
      "1\tr\t1\t2075\t380\t2081\t456\t100\tا\n",
      "1\tr\t1\t2060\t380\t2075\t456\t100\tٔ\n",
      "1\tr\t1\t2042\t380\t2060\t456\t100\tع\n",
      "1\tr\t1\t2018\t380\t2042\t456\t100\tـ\n",
      "1\tr\t1\t2003\t380\t2018\t456\t100\tم\n",
      "1\tr\t1\t1988\t380\t2003\t456\t100\t \n",
      "1\tr\t1\t1955\t380\t1988\t456\t100\tم\n",
      "1\tr\t1\t1928\t380\t1955\t456\t100\tن\n",
      "1\tr\t1\t1909\t380\t1927\t456\t100\t \n",
      "1\tr\t1\t1891\t380\t1909\t456\t97\tم\n",
      "1\tr\t1\t1861\t380\t1891\t456\t56\tق\n",
      "1\tr\t1\t1831\t380\t1861\t456\t91\tد\n",
      "1\tr\t1\t1801\t380\t1831\t456\t99\tم\n",
      "1\tr\t1\t1777\t380\t1801\t456\t99\tة\n",
      "1\tr\t1\t1768\t380\t1777\t456\t100\t \n",
      "1\tr\t1\t1756\t380\t1768\t456\t99\tا\n",
      "1\tr\t1\t1738\t380\t1756\t456\t98\tل\n",
      "1\tr\t1\t1717\t380\t1738\t456\t100\tع\n",
      "1\tr\t1\t1687\t380\t1717\t456\t100\tل\n",
      "1\tr\t1\t1648\t380\t1687\t456\t100\tم\n",
      "1\tr\t1\t1617\t380\t1648\t456\t100\t \n",
      "1\tr\t1\t1608\t380\t1617\t456\t100\tب\n",
      "1\tr\t1\t1590\t380\t1608\t456\t100\tي\n",
      "1\tr\t1\t1575\t380\t1590\t456\t100\tن\n",
      "1\tr\t1\t1554\t380\t1575\t456\t98\tه\n",
      "1\tr\t1\t1521\t380\t1554\t456\t99\tم\n",
      "1\tr\t1\t1500\t380\t1521\t456\t87\tا\n",
      "1\tr\t1\t1485\t380\t1500\t456\t100\t \n",
      "1\tr\t1\t1461\t380\t1485\t456\t100\tع\n",
      "1\tr\t1\t1431\t380\t1461\t456\t100\tم\n",
      "1\tr\t1\t1401\t380\t1431\t456\t100\tو\n",
      "1\tr\t1\t1377\t380\t1401\t456\t100\tم\n",
      "1\tr\t1\t1368\t380\t1377\t456\t100\t \n",
      "1\tr\t1\t1344\t380\t1368\t456\t100\tو\n",
      "1\tr\t1\t1310\t380\t1344\t456\t100\tخ\n",
      "1\tr\t1\t1268\t380\t1311\t456\t100\tص\n",
      "1\tr\t1\t1226\t380\t1268\t456\t99\tو\n",
      "1\tr\t1\t1169\t380\t1226\t456\t93\tص\n",
      "1\tr\t2\t2054\t471\t2078\t541\t99\tم\n",
      "1\tr\t2\t2028\t471\t2055\t541\t100\tط\n",
      "1\tr\t2\t2010\t471\t2028\t541\t100\tل\n",
      "1\tr\t2\t1983\t471\t2010\t541\t100\tق\n",
      "1\tr\t2\t1948\t471\t1984\t541\t91\t.\n",
      "1\tr\t3\t1946\t550\t1965\t643\t68\tو\n",
      "1\tr\t3\t1928\t550\t1947\t643\t100\tا\n",
      "1\tr\t3\t1916\t550\t1928\t643\t100\tل\n",
      "1\tr\t3\t1894\t550\t1917\t643\t100\tف\n",
      "1\tr\t3\t1869\t550\t1895\t643\t87\tر\n",
      "1\tr\t3\t1846\t550\t1869\t643\t100\tق\n",
      "1\tr\t3\t1828\t550\t1847\t643\t100\t \n",
      "1\tr\t3\t1813\t550\t1828\t643\t99\tب\n",
      "1\tr\t3\t1795\t550\t1814\t643\t100\tي\n",
      "1\tr\t3\t1776\t550\t1795\t643\t97\tن\n",
      "1\tr\t3\t1757\t550\t1777\t643\t100\t \n",
      "1\tr\t3\t1750\t550\t1758\t643\t100\tا\n",
      "1\tr\t3\t1728\t550\t1751\t643\t100\tل\n",
      "1\tr\t3\t1706\t550\t1728\t643\t73\tم\n",
      "1\tr\t3\t1684\t550\t1706\t643\t100\tق\n",
      "1\tr\t3\t1661\t550\t1684\t643\t100\tد\n",
      "1\tr\t3\t1635\t550\t1662\t643\t100\tم\n",
      "1\tr\t3\t1624\t550\t1636\t643\t85\tة\n",
      "1\tr\t3\t1609\t550\t1625\t643\t100\t \n",
      "1\tr\t3\t1591\t550\t1610\t643\t99\tو\n",
      "1\tr\t3\t1572\t550\t1592\t643\t90\tا\n",
      "1\tr\t3\t1558\t550\t1573\t643\t100\tل\n",
      "1\tr\t3\t1531\t550\t1558\t643\t83\tم\n",
      "1\tr\t3\t1517\t550\t1532\t643\t99\tب\n",
      "1\tr\t3\t1502\t550\t1517\t643\t100\tا\n",
      "1\tr\t3\t1476\t550\t1503\t643\t100\tد\n",
      "1\tr\t3\t1447\t550\t1476\t643\t100\tى\n",
      "1\tr\t3\t1414\t550\t1446\t643\t59\tء\n",
      "1\tr\t3\t1387\t550\t1413\t643\t100\t \n",
      "1\tr\t3\t1372\t550\t1388\t643\t100\tا\n",
      "1\tr\t3\t1365\t550\t1373\t643\t84\tٔ\n",
      "1\tr\t3\t1346\t550\t1366\t643\t100\tن\n",
      "1\tr\t3\t1335\t550\t1347\t643\t84\t \n",
      "1\tr\t3\t1321\t550\t1336\t643\t100\tا\n",
      "1\tr\t3\t1299\t550\t1321\t643\t100\tل\n",
      "1\tr\t3\t1280\t550\t1299\t643\t100\tم\n",
      "1\tr\t3\t1262\t550\t1281\t643\t59\tق\n",
      "1\tr\t3\t1236\t550\t1262\t643\t90\tد\n",
      "1\tr\t3\t1213\t550\t1236\t643\t100\tم\n",
      "1\tr\t3\t1184\t550\t1214\t643\t100\tة\n",
      "2\t\t1\t586\t3068\t1120\t3179\t100\t6\n",
      "2\t\t1\t1112\t3068\t585\t3179\t99\t0\n",
      "2\t\t1\t1636\t3068\t1112\t3179\t100\t5\n",
      "2\t\t1\t563\t3068\t1636\t3179\t66\t9\n"
     ]
    }
   ],
   "source": [
    "page.show(stage=\"char\")"
   ]
  },
  {
   "cell_type": "markdown",
   "metadata": {},
   "source": [
    "And there is a proof page at character level.\n",
    "\n",
    "In the output you'll see a link to the proof page.\n",
    "When you are in Jupyter Lab, it opens the link in a new tab *within* the lab interface,\n",
    "and that will not render the page properly.\n",
    "\n",
    "**Workaround**: shift-right-click the link and select *open in a new tab*.\n",
    "Now the proof page is opened in a proper new browser tab, and there you can zoom in and out ad-lib."
   ]
  },
  {
   "cell_type": "code",
   "execution_count": 7,
   "metadata": {},
   "outputs": [
    {
     "data": {
      "text/html": [
       "<a href=\"proof/132-char.html\">see proof at char level</a>"
      ],
      "text/plain": [
       "<IPython.core.display.HTML object>"
      ]
     },
     "metadata": {},
     "output_type": "display_data"
    },
    {
     "data": {
      "text/html": [
       "\n",
       "        <iframe\n",
       "            width=\"1010px\"\n",
       "            height=\"1499px\"\n",
       "            src=\"proof/132-char.html\"\n",
       "            frameborder=\"0\"\n",
       "            allowfullscreen\n",
       "        ></iframe>\n",
       "        "
      ],
      "text/plain": [
       "<IPython.lib.display.IFrame at 0x7f998be55dc0>"
      ]
     },
     "metadata": {},
     "output_type": "display_data"
    }
   ],
   "source": [
    "page.show(stage=\"proofchar\")"
   ]
  },
  {
   "cell_type": "markdown",
   "metadata": {},
   "source": [
    "And by the way, here are the coordinates of the lines that have been OCRed:"
   ]
  },
  {
   "cell_type": "code",
   "execution_count": 8,
   "metadata": {},
   "outputs": [
    {
     "name": "stdout",
     "output_type": "stream",
     "text": [
      "stripe\tcolumn\tline\tleft\ttop\tright\tbottom\n",
      "1\tl\t1\t122\t373\t1035\t448\n",
      "1\tl\t2\t122\t458\t1035\t543\n",
      "1\tl\t3\t373\t553\t1035\t635\n",
      "1\tr\t1\t1169\t380\t2084\t455\n",
      "1\tr\t2\t1948\t471\t2084\t540\n",
      "1\tr\t3\t1184\t550\t1976\t642\n",
      "2\t\t1\t563\t3068\t1671\t3178\n"
     ]
    }
   ],
   "source": [
    "page.show(stage=\"line\")"
   ]
  },
  {
   "cell_type": "markdown",
   "metadata": {},
   "source": [
    "# Statistics\n",
    "\n",
    "Here is some statistics about the general quality of the OCR for this page.\n",
    "See [measureOcr.ipynb](measureOcr.ipynb) for more."
   ]
  },
  {
   "cell_type": "code",
   "execution_count": 9,
   "metadata": {},
   "outputs": [
    {
     "name": "stdout",
     "output_type": "stream",
     "text": [
      " 2m 26s Batch of 1 pages: 132\n",
      " 2m 26s Start measuring ocr quality of these images\n",
      "   |     0.00s word-confidences of OCR results for 1 pages   \n"
     ]
    },
    {
     "data": {
      "text/html": [
       "\n",
       "<table>\n",
       "\n",
       "    <tr>\n",
       "        <th>item</th>\n",
       "        <th># of words</th>\n",
       "        <th>min</th>\n",
       "        <th>max</th>\n",
       "        <th>average</th>\n",
       "        <th style=\"text-align: left;\">notes</th>\n",
       "    </tr>\n",
       "    \n",
       "    <tr>\n",
       "        <th>overall</th>\n",
       "        <td>36</td>\n",
       "        <td style=\"background-color: hsla(51, 100%, 54%, 0.43);\">87</td>\n",
       "        <td style=\"background-color: hsla(90, 100%, 60%, 0.30);\">100</td>\n",
       "        <td style=\"background-color: hsla(78, 100%, 58%, 0.34);\">96</td>\n",
       "        <td style=\"text-align: left;\"></td>\n",
       "    </tr>\n",
       "        \n",
       "    <tr>\n",
       "        <th><a href=\"proof/132.html\">p132</a></th>\n",
       "        <td>36</td>\n",
       "        <td style=\"background-color: hsla(51, 100%, 54%, 0.43);\">87</td>\n",
       "        <td style=\"background-color: hsla(90, 100%, 60%, 0.30);\">100</td>\n",
       "        <td style=\"background-color: hsla(78, 100%, 58%, 0.34);\">96</td>\n",
       "        <td style=\"text-align: left;\"></td>\n",
       "    </tr>\n",
       "        \n",
       "</table>\n"
      ],
      "text/plain": [
       "<IPython.core.display.HTML object>"
      ]
     },
     "metadata": {},
     "output_type": "display_data"
    },
    {
     "name": "stdout",
     "output_type": "stream",
     "text": [
      "   |     0.01s char-confidences of OCR results for 1 pages\n"
     ]
    },
    {
     "data": {
      "text/html": [
       "\n",
       "<table>\n",
       "\n",
       "    <tr>\n",
       "        <th>item</th>\n",
       "        <th># of chars</th>\n",
       "        <th>min</th>\n",
       "        <th>max</th>\n",
       "        <th>average</th>\n",
       "        <th style=\"text-align: left;\">notes</th>\n",
       "    </tr>\n",
       "    \n",
       "    <tr>\n",
       "        <th>overall</th>\n",
       "        <td>200</td>\n",
       "        <td style=\"background-color: hsla(12, 100%, 41%, 0.59);\">53</td>\n",
       "        <td style=\"background-color: hsla(90, 100%, 60%, 0.30);\">100</td>\n",
       "        <td style=\"background-color: hsla(78, 100%, 58%, 0.34);\">96</td>\n",
       "        <td style=\"text-align: left;\"></td>\n",
       "    </tr>\n",
       "        \n",
       "    <tr>\n",
       "        <th><a href=\"proof/132-char.html\">p132</a></th>\n",
       "        <td>200</td>\n",
       "        <td style=\"background-color: hsla(12, 100%, 41%, 0.59);\">53</td>\n",
       "        <td style=\"background-color: hsla(90, 100%, 60%, 0.30);\">100</td>\n",
       "        <td style=\"background-color: hsla(78, 100%, 58%, 0.34);\">96</td>\n",
       "        <td style=\"text-align: left;\"></td>\n",
       "    </tr>\n",
       "        \n",
       "</table>\n"
      ],
      "text/plain": [
       "<IPython.core.display.HTML object>"
      ]
     },
     "metadata": {},
     "output_type": "display_data"
    },
    {
     "name": "stdout",
     "output_type": "stream",
     "text": [
      "   |     0.01s by-char-confidences of OCR results for 30 characters\n"
     ]
    },
    {
     "data": {
      "text/html": [
       "\n",
       "<table>\n",
       "\n",
       "    <tr>\n",
       "        <th>item</th>\n",
       "        <th># of chars</th>\n",
       "        <th>min</th>\n",
       "        <th>max</th>\n",
       "        <th>average</th>\n",
       "        <th style=\"text-align: left;\">worst results</th>\n",
       "    </tr>\n",
       "    \n",
       "    <tr>\n",
       "        <th>⌊ ⌋</th>\n",
       "        <td>29</td>\n",
       "        <td style=\"background-color: hsla(42, 100%, 52%, 0.46);\">84</td>\n",
       "        <td style=\"background-color: hsla(90, 100%, 60%, 0.30);\">100</td>\n",
       "        <td style=\"background-color: hsla(84, 100%, 59%, 0.32);\">98</td>\n",
       "        <td style=\"text-align: left;\"><a\n",
       "    style=\"background-color: hsla(42, 100%, 52%, 0.46);\"\n",
       "    href=\"proof/132-char.html\"\n",
       ">p132</a> <a\n",
       "    style=\"background-color: hsla(42, 100%, 52%, 0.46);\"\n",
       "    href=\"proof/132-char.html\"\n",
       ">p132</a> <a\n",
       "    style=\"background-color: hsla(72, 100%, 57%, 0.36);\"\n",
       "    href=\"proof/132-char.html\"\n",
       ">p132</a> <a\n",
       "    style=\"background-color: hsla(81, 100%, 58%, 0.33);\"\n",
       "    href=\"proof/132-char.html\"\n",
       ">p132</a> <a\n",
       "    style=\"background-color: hsla(84, 100%, 59%, 0.32);\"\n",
       "    href=\"proof/132-char.html\"\n",
       ">p132</a> <a\n",
       "    style=\"background-color: hsla(87, 100%, 60%, 0.31);\"\n",
       "    href=\"proof/132-char.html\"\n",
       ">p132</a> <a\n",
       "    style=\"background-color: hsla(90, 100%, 60%, 0.30);\"\n",
       "    href=\"proof/132-char.html\"\n",
       ">p132</a> <a\n",
       "    style=\"background-color: hsla(90, 100%, 60%, 0.30);\"\n",
       "    href=\"proof/132-char.html\"\n",
       ">p132</a> <a\n",
       "    style=\"background-color: hsla(90, 100%, 60%, 0.30);\"\n",
       "    href=\"proof/132-char.html\"\n",
       ">p132</a> <a\n",
       "    style=\"background-color: hsla(90, 100%, 60%, 0.30);\"\n",
       "    href=\"proof/132-char.html\"\n",
       ">p132</a> <a\n",
       "    style=\"background-color: hsla(90, 100%, 60%, 0.30);\"\n",
       "    href=\"proof/132-char.html\"\n",
       ">p132</a> <a\n",
       "    style=\"background-color: hsla(90, 100%, 60%, 0.30);\"\n",
       "    href=\"proof/132-char.html\"\n",
       ">p132</a> <a\n",
       "    style=\"background-color: hsla(90, 100%, 60%, 0.30);\"\n",
       "    href=\"proof/132-char.html\"\n",
       ">p132</a> <a\n",
       "    style=\"background-color: hsla(90, 100%, 60%, 0.30);\"\n",
       "    href=\"proof/132-char.html\"\n",
       ">p132</a> <a\n",
       "    style=\"background-color: hsla(90, 100%, 60%, 0.30);\"\n",
       "    href=\"proof/132-char.html\"\n",
       ">p132</a> <a\n",
       "    style=\"background-color: hsla(90, 100%, 60%, 0.30);\"\n",
       "    href=\"proof/132-char.html\"\n",
       ">p132</a> <a\n",
       "    style=\"background-color: hsla(90, 100%, 60%, 0.30);\"\n",
       "    href=\"proof/132-char.html\"\n",
       ">p132</a> <a\n",
       "    style=\"background-color: hsla(90, 100%, 60%, 0.30);\"\n",
       "    href=\"proof/132-char.html\"\n",
       ">p132</a> <a\n",
       "    style=\"background-color: hsla(90, 100%, 60%, 0.30);\"\n",
       "    href=\"proof/132-char.html\"\n",
       ">p132</a> <a\n",
       "    style=\"background-color: hsla(90, 100%, 60%, 0.30);\"\n",
       "    href=\"proof/132-char.html\"\n",
       ">p132</a></td>\n",
       "    </tr>\n",
       "        \n",
       "    <tr>\n",
       "        <th>⌊!⌋</th>\n",
       "        <td>1</td>\n",
       "        <td style=\"background-color: hsla(19, 100%, 44%, 0.56);\">63</td>\n",
       "        <td style=\"background-color: hsla(19, 100%, 44%, 0.56);\">63</td>\n",
       "        <td style=\"background-color: hsla(19, 100%, 44%, 0.56);\">63</td>\n",
       "        <td style=\"text-align: left;\"><a\n",
       "    style=\"background-color: hsla(19, 100%, 44%, 0.56);\"\n",
       "    href=\"proof/132-char.html\"\n",
       ">p132</a></td>\n",
       "    </tr>\n",
       "        \n",
       "    <tr>\n",
       "        <th>⌊.⌋</th>\n",
       "        <td>2</td>\n",
       "        <td style=\"background-color: hsla(63, 100%, 56%, 0.39);\">91</td>\n",
       "        <td style=\"background-color: hsla(87, 100%, 60%, 0.31);\">99</td>\n",
       "        <td style=\"background-color: hsla(75, 100%, 58%, 0.35);\">95</td>\n",
       "        <td style=\"text-align: left;\"><a\n",
       "    style=\"background-color: hsla(63, 100%, 56%, 0.39);\"\n",
       "    href=\"proof/132-char.html\"\n",
       ">p132</a> <a\n",
       "    style=\"background-color: hsla(87, 100%, 60%, 0.31);\"\n",
       "    href=\"proof/132-char.html\"\n",
       ">p132</a></td>\n",
       "    </tr>\n",
       "        \n",
       "    <tr>\n",
       "        <th>⌊0⌋</th>\n",
       "        <td>1</td>\n",
       "        <td style=\"background-color: hsla(87, 100%, 60%, 0.31);\">99</td>\n",
       "        <td style=\"background-color: hsla(87, 100%, 60%, 0.31);\">99</td>\n",
       "        <td style=\"background-color: hsla(87, 100%, 60%, 0.31);\">99</td>\n",
       "        <td style=\"text-align: left;\"><a\n",
       "    style=\"background-color: hsla(87, 100%, 60%, 0.31);\"\n",
       "    href=\"proof/132-char.html\"\n",
       ">p132</a></td>\n",
       "    </tr>\n",
       "        \n",
       "    <tr>\n",
       "        <th>⌊5⌋</th>\n",
       "        <td>1</td>\n",
       "        <td style=\"background-color: hsla(90, 100%, 60%, 0.30);\">100</td>\n",
       "        <td style=\"background-color: hsla(90, 100%, 60%, 0.30);\">100</td>\n",
       "        <td style=\"background-color: hsla(90, 100%, 60%, 0.30);\">100</td>\n",
       "        <td style=\"text-align: left;\"><a\n",
       "    style=\"background-color: hsla(90, 100%, 60%, 0.30);\"\n",
       "    href=\"proof/132-char.html\"\n",
       ">p132</a></td>\n",
       "    </tr>\n",
       "        \n",
       "    <tr>\n",
       "        <th>⌊6⌋</th>\n",
       "        <td>1</td>\n",
       "        <td style=\"background-color: hsla(90, 100%, 60%, 0.30);\">100</td>\n",
       "        <td style=\"background-color: hsla(90, 100%, 60%, 0.30);\">100</td>\n",
       "        <td style=\"background-color: hsla(90, 100%, 60%, 0.30);\">100</td>\n",
       "        <td style=\"text-align: left;\"><a\n",
       "    style=\"background-color: hsla(90, 100%, 60%, 0.30);\"\n",
       "    href=\"proof/132-char.html\"\n",
       ">p132</a></td>\n",
       "    </tr>\n",
       "        \n",
       "    <tr>\n",
       "        <th>⌊9⌋</th>\n",
       "        <td>1</td>\n",
       "        <td style=\"background-color: hsla(21, 100%, 45%, 0.55);\">66</td>\n",
       "        <td style=\"background-color: hsla(21, 100%, 45%, 0.55);\">66</td>\n",
       "        <td style=\"background-color: hsla(21, 100%, 45%, 0.55);\">66</td>\n",
       "        <td style=\"text-align: left;\"><a\n",
       "    style=\"background-color: hsla(21, 100%, 45%, 0.55);\"\n",
       "    href=\"proof/132-char.html\"\n",
       ">p132</a></td>\n",
       "    </tr>\n",
       "        \n",
       "    <tr>\n",
       "        <th>⌊ء⌋</th>\n",
       "        <td>2</td>\n",
       "        <td style=\"background-color: hsla(16, 100%, 43%, 0.57);\">59</td>\n",
       "        <td style=\"background-color: hsla(90, 100%, 60%, 0.30);\">100</td>\n",
       "        <td style=\"background-color: hsla(30, 100%, 50%, 0.50);\">80</td>\n",
       "        <td style=\"text-align: left;\"><a\n",
       "    style=\"background-color: hsla(16, 100%, 43%, 0.57);\"\n",
       "    href=\"proof/132-char.html\"\n",
       ">p132</a> <a\n",
       "    style=\"background-color: hsla(90, 100%, 60%, 0.30);\"\n",
       "    href=\"proof/132-char.html\"\n",
       ">p132</a></td>\n",
       "    </tr>\n",
       "        \n",
       "    <tr>\n",
       "        <th>⌊ا⌋</th>\n",
       "        <td>26</td>\n",
       "        <td style=\"background-color: hsla(33, 100%, 50%, 0.49);\">81</td>\n",
       "        <td style=\"background-color: hsla(90, 100%, 60%, 0.30);\">100</td>\n",
       "        <td style=\"background-color: hsla(84, 100%, 59%, 0.32);\">98</td>\n",
       "        <td style=\"text-align: left;\"><a\n",
       "    style=\"background-color: hsla(33, 100%, 50%, 0.49);\"\n",
       "    href=\"proof/132-char.html\"\n",
       ">p132</a> <a\n",
       "    style=\"background-color: hsla(51, 100%, 54%, 0.43);\"\n",
       "    href=\"proof/132-char.html\"\n",
       ">p132</a> <a\n",
       "    style=\"background-color: hsla(60, 100%, 55%, 0.40);\"\n",
       "    href=\"proof/132-char.html\"\n",
       ">p132</a> <a\n",
       "    style=\"background-color: hsla(78, 100%, 58%, 0.34);\"\n",
       "    href=\"proof/132-char.html\"\n",
       ">p132</a> <a\n",
       "    style=\"background-color: hsla(84, 100%, 59%, 0.32);\"\n",
       "    href=\"proof/132-char.html\"\n",
       ">p132</a> <a\n",
       "    style=\"background-color: hsla(87, 100%, 60%, 0.31);\"\n",
       "    href=\"proof/132-char.html\"\n",
       ">p132</a> <a\n",
       "    style=\"background-color: hsla(87, 100%, 60%, 0.31);\"\n",
       "    href=\"proof/132-char.html\"\n",
       ">p132</a> <a\n",
       "    style=\"background-color: hsla(90, 100%, 60%, 0.30);\"\n",
       "    href=\"proof/132-char.html\"\n",
       ">p132</a> <a\n",
       "    style=\"background-color: hsla(90, 100%, 60%, 0.30);\"\n",
       "    href=\"proof/132-char.html\"\n",
       ">p132</a> <a\n",
       "    style=\"background-color: hsla(90, 100%, 60%, 0.30);\"\n",
       "    href=\"proof/132-char.html\"\n",
       ">p132</a> <a\n",
       "    style=\"background-color: hsla(90, 100%, 60%, 0.30);\"\n",
       "    href=\"proof/132-char.html\"\n",
       ">p132</a> <a\n",
       "    style=\"background-color: hsla(90, 100%, 60%, 0.30);\"\n",
       "    href=\"proof/132-char.html\"\n",
       ">p132</a> <a\n",
       "    style=\"background-color: hsla(90, 100%, 60%, 0.30);\"\n",
       "    href=\"proof/132-char.html\"\n",
       ">p132</a> <a\n",
       "    style=\"background-color: hsla(90, 100%, 60%, 0.30);\"\n",
       "    href=\"proof/132-char.html\"\n",
       ">p132</a> <a\n",
       "    style=\"background-color: hsla(90, 100%, 60%, 0.30);\"\n",
       "    href=\"proof/132-char.html\"\n",
       ">p132</a> <a\n",
       "    style=\"background-color: hsla(90, 100%, 60%, 0.30);\"\n",
       "    href=\"proof/132-char.html\"\n",
       ">p132</a> <a\n",
       "    style=\"background-color: hsla(90, 100%, 60%, 0.30);\"\n",
       "    href=\"proof/132-char.html\"\n",
       ">p132</a> <a\n",
       "    style=\"background-color: hsla(90, 100%, 60%, 0.30);\"\n",
       "    href=\"proof/132-char.html\"\n",
       ">p132</a> <a\n",
       "    style=\"background-color: hsla(90, 100%, 60%, 0.30);\"\n",
       "    href=\"proof/132-char.html\"\n",
       ">p132</a> <a\n",
       "    style=\"background-color: hsla(90, 100%, 60%, 0.30);\"\n",
       "    href=\"proof/132-char.html\"\n",
       ">p132</a></td>\n",
       "    </tr>\n",
       "        \n",
       "</table>\n",
       "\n",
       "<details>\n",
       "    <summary>see 21 more:</summary>\n",
       "<table>\n",
       "\n",
       "    <tr>\n",
       "        <th>item</th>\n",
       "        <th># of chars</th>\n",
       "        <th>min</th>\n",
       "        <th>max</th>\n",
       "        <th>average</th>\n",
       "        <th style=\"text-align: left;\">worst results</th>\n",
       "    </tr>\n",
       "    \n",
       "\n",
       "    <tr>\n",
       "        <th>⌊ب⌋</th>\n",
       "        <td>6</td>\n",
       "        <td style=\"background-color: hsla(87, 100%, 60%, 0.31);\">99</td>\n",
       "        <td style=\"background-color: hsla(90, 100%, 60%, 0.30);\">100</td>\n",
       "        <td style=\"background-color: hsla(90, 100%, 60%, 0.30);\">100</td>\n",
       "        <td style=\"text-align: left;\"><a\n",
       "    style=\"background-color: hsla(87, 100%, 60%, 0.31);\"\n",
       "    href=\"proof/132-char.html\"\n",
       ">p132</a> <a\n",
       "    style=\"background-color: hsla(87, 100%, 60%, 0.31);\"\n",
       "    href=\"proof/132-char.html\"\n",
       ">p132</a> <a\n",
       "    style=\"background-color: hsla(90, 100%, 60%, 0.30);\"\n",
       "    href=\"proof/132-char.html\"\n",
       ">p132</a> <a\n",
       "    style=\"background-color: hsla(90, 100%, 60%, 0.30);\"\n",
       "    href=\"proof/132-char.html\"\n",
       ">p132</a> <a\n",
       "    style=\"background-color: hsla(90, 100%, 60%, 0.30);\"\n",
       "    href=\"proof/132-char.html\"\n",
       ">p132</a> <a\n",
       "    style=\"background-color: hsla(90, 100%, 60%, 0.30);\"\n",
       "    href=\"proof/132-char.html\"\n",
       ">p132</a></td>\n",
       "    </tr>\n",
       "        \n",
       "    <tr>\n",
       "        <th>⌊ة⌋</th>\n",
       "        <td>7</td>\n",
       "        <td style=\"background-color: hsla(29, 100%, 49%, 0.51);\">78</td>\n",
       "        <td style=\"background-color: hsla(90, 100%, 60%, 0.30);\">100</td>\n",
       "        <td style=\"background-color: hsla(72, 100%, 57%, 0.36);\">94</td>\n",
       "        <td style=\"text-align: left;\"><a\n",
       "    style=\"background-color: hsla(29, 100%, 49%, 0.51);\"\n",
       "    href=\"proof/132-char.html\"\n",
       ">p132</a> <a\n",
       "    style=\"background-color: hsla(45, 100%, 52%, 0.45);\"\n",
       "    href=\"proof/132-char.html\"\n",
       ">p132</a> <a\n",
       "    style=\"background-color: hsla(72, 100%, 57%, 0.36);\"\n",
       "    href=\"proof/132-char.html\"\n",
       ">p132</a> <a\n",
       "    style=\"background-color: hsla(87, 100%, 60%, 0.31);\"\n",
       "    href=\"proof/132-char.html\"\n",
       ">p132</a> <a\n",
       "    style=\"background-color: hsla(90, 100%, 60%, 0.30);\"\n",
       "    href=\"proof/132-char.html\"\n",
       ">p132</a> <a\n",
       "    style=\"background-color: hsla(90, 100%, 60%, 0.30);\"\n",
       "    href=\"proof/132-char.html\"\n",
       ">p132</a> <a\n",
       "    style=\"background-color: hsla(90, 100%, 60%, 0.30);\"\n",
       "    href=\"proof/132-char.html\"\n",
       ">p132</a></td>\n",
       "    </tr>\n",
       "        \n",
       "    <tr>\n",
       "        <th>⌊ت⌋</th>\n",
       "        <td>3</td>\n",
       "        <td style=\"background-color: hsla(69, 100%, 56%, 0.37);\">93</td>\n",
       "        <td style=\"background-color: hsla(90, 100%, 60%, 0.30);\">100</td>\n",
       "        <td style=\"background-color: hsla(81, 100%, 58%, 0.33);\">97</td>\n",
       "        <td style=\"text-align: left;\"><a\n",
       "    style=\"background-color: hsla(69, 100%, 56%, 0.37);\"\n",
       "    href=\"proof/132-char.html\"\n",
       ">p132</a> <a\n",
       "    style=\"background-color: hsla(81, 100%, 58%, 0.33);\"\n",
       "    href=\"proof/132-char.html\"\n",
       ">p132</a> <a\n",
       "    style=\"background-color: hsla(90, 100%, 60%, 0.30);\"\n",
       "    href=\"proof/132-char.html\"\n",
       ">p132</a></td>\n",
       "    </tr>\n",
       "        \n",
       "    <tr>\n",
       "        <th>⌊خ⌋</th>\n",
       "        <td>1</td>\n",
       "        <td style=\"background-color: hsla(90, 100%, 60%, 0.30);\">100</td>\n",
       "        <td style=\"background-color: hsla(90, 100%, 60%, 0.30);\">100</td>\n",
       "        <td style=\"background-color: hsla(90, 100%, 60%, 0.30);\">100</td>\n",
       "        <td style=\"text-align: left;\"><a\n",
       "    style=\"background-color: hsla(90, 100%, 60%, 0.30);\"\n",
       "    href=\"proof/132-char.html\"\n",
       ">p132</a></td>\n",
       "    </tr>\n",
       "        \n",
       "    <tr>\n",
       "        <th>⌊د⌋</th>\n",
       "        <td>6</td>\n",
       "        <td style=\"background-color: hsla(12, 100%, 41%, 0.59);\">53</td>\n",
       "        <td style=\"background-color: hsla(90, 100%, 60%, 0.30);\">100</td>\n",
       "        <td style=\"background-color: hsla(57, 100%, 54%, 0.41);\">89</td>\n",
       "        <td style=\"text-align: left;\"><a\n",
       "    style=\"background-color: hsla(12, 100%, 41%, 0.59);\"\n",
       "    href=\"proof/132-char.html\"\n",
       ">p132</a> <a\n",
       "    style=\"background-color: hsla(60, 100%, 55%, 0.40);\"\n",
       "    href=\"proof/132-char.html\"\n",
       ">p132</a> <a\n",
       "    style=\"background-color: hsla(63, 100%, 56%, 0.39);\"\n",
       "    href=\"proof/132-char.html\"\n",
       ">p132</a> <a\n",
       "    style=\"background-color: hsla(90, 100%, 60%, 0.30);\"\n",
       "    href=\"proof/132-char.html\"\n",
       ">p132</a> <a\n",
       "    style=\"background-color: hsla(90, 100%, 60%, 0.30);\"\n",
       "    href=\"proof/132-char.html\"\n",
       ">p132</a> <a\n",
       "    style=\"background-color: hsla(90, 100%, 60%, 0.30);\"\n",
       "    href=\"proof/132-char.html\"\n",
       ">p132</a></td>\n",
       "    </tr>\n",
       "        \n",
       "    <tr>\n",
       "        <th>⌊ر⌋</th>\n",
       "        <td>1</td>\n",
       "        <td style=\"background-color: hsla(51, 100%, 54%, 0.43);\">87</td>\n",
       "        <td style=\"background-color: hsla(51, 100%, 54%, 0.43);\">87</td>\n",
       "        <td style=\"background-color: hsla(51, 100%, 54%, 0.43);\">87</td>\n",
       "        <td style=\"text-align: left;\"><a\n",
       "    style=\"background-color: hsla(51, 100%, 54%, 0.43);\"\n",
       "    href=\"proof/132-char.html\"\n",
       ">p132</a></td>\n",
       "    </tr>\n",
       "        \n",
       "    <tr>\n",
       "        <th>⌊س⌋</th>\n",
       "        <td>5</td>\n",
       "        <td style=\"background-color: hsla(24, 100%, 47%, 0.53);\">71</td>\n",
       "        <td style=\"background-color: hsla(90, 100%, 60%, 0.30);\">100</td>\n",
       "        <td style=\"background-color: hsla(72, 100%, 57%, 0.36);\">94</td>\n",
       "        <td style=\"text-align: left;\"><a\n",
       "    style=\"background-color: hsla(24, 100%, 47%, 0.53);\"\n",
       "    href=\"proof/132-char.html\"\n",
       ">p132</a> <a\n",
       "    style=\"background-color: hsla(90, 100%, 60%, 0.30);\"\n",
       "    href=\"proof/132-char.html\"\n",
       ">p132</a> <a\n",
       "    style=\"background-color: hsla(90, 100%, 60%, 0.30);\"\n",
       "    href=\"proof/132-char.html\"\n",
       ">p132</a> <a\n",
       "    style=\"background-color: hsla(90, 100%, 60%, 0.30);\"\n",
       "    href=\"proof/132-char.html\"\n",
       ">p132</a> <a\n",
       "    style=\"background-color: hsla(90, 100%, 60%, 0.30);\"\n",
       "    href=\"proof/132-char.html\"\n",
       ">p132</a></td>\n",
       "    </tr>\n",
       "        \n",
       "    <tr>\n",
       "        <th>⌊ص⌋</th>\n",
       "        <td>2</td>\n",
       "        <td style=\"background-color: hsla(69, 100%, 56%, 0.37);\">93</td>\n",
       "        <td style=\"background-color: hsla(90, 100%, 60%, 0.30);\">100</td>\n",
       "        <td style=\"background-color: hsla(78, 100%, 58%, 0.34);\">96</td>\n",
       "        <td style=\"text-align: left;\"><a\n",
       "    style=\"background-color: hsla(69, 100%, 56%, 0.37);\"\n",
       "    href=\"proof/132-char.html\"\n",
       ">p132</a> <a\n",
       "    style=\"background-color: hsla(90, 100%, 60%, 0.30);\"\n",
       "    href=\"proof/132-char.html\"\n",
       ">p132</a></td>\n",
       "    </tr>\n",
       "        \n",
       "    <tr>\n",
       "        <th>⌊ط⌋</th>\n",
       "        <td>4</td>\n",
       "        <td style=\"background-color: hsla(29, 100%, 50%, 0.50);\">79</td>\n",
       "        <td style=\"background-color: hsla(90, 100%, 60%, 0.30);\">100</td>\n",
       "        <td style=\"background-color: hsla(72, 100%, 57%, 0.36);\">94</td>\n",
       "        <td style=\"text-align: left;\"><a\n",
       "    style=\"background-color: hsla(29, 100%, 50%, 0.50);\"\n",
       "    href=\"proof/132-char.html\"\n",
       ">p132</a> <a\n",
       "    style=\"background-color: hsla(87, 100%, 60%, 0.31);\"\n",
       "    href=\"proof/132-char.html\"\n",
       ">p132</a> <a\n",
       "    style=\"background-color: hsla(90, 100%, 60%, 0.30);\"\n",
       "    href=\"proof/132-char.html\"\n",
       ">p132</a> <a\n",
       "    style=\"background-color: hsla(90, 100%, 60%, 0.30);\"\n",
       "    href=\"proof/132-char.html\"\n",
       ">p132</a></td>\n",
       "    </tr>\n",
       "        \n",
       "    <tr>\n",
       "        <th>⌊ع⌋</th>\n",
       "        <td>6</td>\n",
       "        <td style=\"background-color: hsla(72, 100%, 57%, 0.36);\">94</td>\n",
       "        <td style=\"background-color: hsla(90, 100%, 60%, 0.30);\">100</td>\n",
       "        <td style=\"background-color: hsla(87, 100%, 60%, 0.31);\">99</td>\n",
       "        <td style=\"text-align: left;\"><a\n",
       "    style=\"background-color: hsla(72, 100%, 57%, 0.36);\"\n",
       "    href=\"proof/132-char.html\"\n",
       ">p132</a> <a\n",
       "    style=\"background-color: hsla(90, 100%, 60%, 0.30);\"\n",
       "    href=\"proof/132-char.html\"\n",
       ">p132</a> <a\n",
       "    style=\"background-color: hsla(90, 100%, 60%, 0.30);\"\n",
       "    href=\"proof/132-char.html\"\n",
       ">p132</a> <a\n",
       "    style=\"background-color: hsla(90, 100%, 60%, 0.30);\"\n",
       "    href=\"proof/132-char.html\"\n",
       ">p132</a> <a\n",
       "    style=\"background-color: hsla(90, 100%, 60%, 0.30);\"\n",
       "    href=\"proof/132-char.html\"\n",
       ">p132</a> <a\n",
       "    style=\"background-color: hsla(90, 100%, 60%, 0.30);\"\n",
       "    href=\"proof/132-char.html\"\n",
       ">p132</a></td>\n",
       "    </tr>\n",
       "        \n",
       "    <tr>\n",
       "        <th>⌊ـ⌋</th>\n",
       "        <td>1</td>\n",
       "        <td style=\"background-color: hsla(90, 100%, 60%, 0.30);\">100</td>\n",
       "        <td style=\"background-color: hsla(90, 100%, 60%, 0.30);\">100</td>\n",
       "        <td style=\"background-color: hsla(90, 100%, 60%, 0.30);\">100</td>\n",
       "        <td style=\"text-align: left;\"><a\n",
       "    style=\"background-color: hsla(90, 100%, 60%, 0.30);\"\n",
       "    href=\"proof/132-char.html\"\n",
       ">p132</a></td>\n",
       "    </tr>\n",
       "        \n",
       "    <tr>\n",
       "        <th>⌊ف⌋</th>\n",
       "        <td>4</td>\n",
       "        <td style=\"background-color: hsla(90, 100%, 60%, 0.30);\">100</td>\n",
       "        <td style=\"background-color: hsla(90, 100%, 60%, 0.30);\">100</td>\n",
       "        <td style=\"background-color: hsla(90, 100%, 60%, 0.30);\">100</td>\n",
       "        <td style=\"text-align: left;\"><a\n",
       "    style=\"background-color: hsla(90, 100%, 60%, 0.30);\"\n",
       "    href=\"proof/132-char.html\"\n",
       ">p132</a> <a\n",
       "    style=\"background-color: hsla(90, 100%, 60%, 0.30);\"\n",
       "    href=\"proof/132-char.html\"\n",
       ">p132</a> <a\n",
       "    style=\"background-color: hsla(90, 100%, 60%, 0.30);\"\n",
       "    href=\"proof/132-char.html\"\n",
       ">p132</a> <a\n",
       "    style=\"background-color: hsla(90, 100%, 60%, 0.30);\"\n",
       "    href=\"proof/132-char.html\"\n",
       ">p132</a></td>\n",
       "    </tr>\n",
       "        \n",
       "    <tr>\n",
       "        <th>⌊ق⌋</th>\n",
       "        <td>8</td>\n",
       "        <td style=\"background-color: hsla(13, 100%, 41%, 0.59);\">54</td>\n",
       "        <td style=\"background-color: hsla(90, 100%, 60%, 0.30);\">100</td>\n",
       "        <td style=\"background-color: hsla(36, 100%, 51%, 0.48);\">82</td>\n",
       "        <td style=\"text-align: left;\"><a\n",
       "    style=\"background-color: hsla(13, 100%, 41%, 0.59);\"\n",
       "    href=\"proof/132-char.html\"\n",
       ">p132</a> <a\n",
       "    style=\"background-color: hsla(14, 100%, 42%, 0.58);\"\n",
       "    href=\"proof/132-char.html\"\n",
       ">p132</a> <a\n",
       "    style=\"background-color: hsla(16, 100%, 43%, 0.57);\"\n",
       "    href=\"proof/132-char.html\"\n",
       ">p132</a> <a\n",
       "    style=\"background-color: hsla(45, 100%, 52%, 0.45);\"\n",
       "    href=\"proof/132-char.html\"\n",
       ">p132</a> <a\n",
       "    style=\"background-color: hsla(90, 100%, 60%, 0.30);\"\n",
       "    href=\"proof/132-char.html\"\n",
       ">p132</a> <a\n",
       "    style=\"background-color: hsla(90, 100%, 60%, 0.30);\"\n",
       "    href=\"proof/132-char.html\"\n",
       ">p132</a> <a\n",
       "    style=\"background-color: hsla(90, 100%, 60%, 0.30);\"\n",
       "    href=\"proof/132-char.html\"\n",
       ">p132</a> <a\n",
       "    style=\"background-color: hsla(90, 100%, 60%, 0.30);\"\n",
       "    href=\"proof/132-char.html\"\n",
       ">p132</a></td>\n",
       "    </tr>\n",
       "        \n",
       "    <tr>\n",
       "        <th>⌊ل⌋</th>\n",
       "        <td>18</td>\n",
       "        <td style=\"background-color: hsla(54, 100%, 54%, 0.42);\">88</td>\n",
       "        <td style=\"background-color: hsla(90, 100%, 60%, 0.30);\">100</td>\n",
       "        <td style=\"background-color: hsla(84, 100%, 59%, 0.32);\">98</td>\n",
       "        <td style=\"text-align: left;\"><a\n",
       "    style=\"background-color: hsla(54, 100%, 54%, 0.42);\"\n",
       "    href=\"proof/132-char.html\"\n",
       ">p132</a> <a\n",
       "    style=\"background-color: hsla(60, 100%, 55%, 0.40);\"\n",
       "    href=\"proof/132-char.html\"\n",
       ">p132</a> <a\n",
       "    style=\"background-color: hsla(63, 100%, 56%, 0.39);\"\n",
       "    href=\"proof/132-char.html\"\n",
       ">p132</a> <a\n",
       "    style=\"background-color: hsla(84, 100%, 59%, 0.32);\"\n",
       "    href=\"proof/132-char.html\"\n",
       ">p132</a> <a\n",
       "    style=\"background-color: hsla(90, 100%, 60%, 0.30);\"\n",
       "    href=\"proof/132-char.html\"\n",
       ">p132</a> <a\n",
       "    style=\"background-color: hsla(90, 100%, 60%, 0.30);\"\n",
       "    href=\"proof/132-char.html\"\n",
       ">p132</a> <a\n",
       "    style=\"background-color: hsla(90, 100%, 60%, 0.30);\"\n",
       "    href=\"proof/132-char.html\"\n",
       ">p132</a> <a\n",
       "    style=\"background-color: hsla(90, 100%, 60%, 0.30);\"\n",
       "    href=\"proof/132-char.html\"\n",
       ">p132</a> <a\n",
       "    style=\"background-color: hsla(90, 100%, 60%, 0.30);\"\n",
       "    href=\"proof/132-char.html\"\n",
       ">p132</a> <a\n",
       "    style=\"background-color: hsla(90, 100%, 60%, 0.30);\"\n",
       "    href=\"proof/132-char.html\"\n",
       ">p132</a> <a\n",
       "    style=\"background-color: hsla(90, 100%, 60%, 0.30);\"\n",
       "    href=\"proof/132-char.html\"\n",
       ">p132</a> <a\n",
       "    style=\"background-color: hsla(90, 100%, 60%, 0.30);\"\n",
       "    href=\"proof/132-char.html\"\n",
       ">p132</a> <a\n",
       "    style=\"background-color: hsla(90, 100%, 60%, 0.30);\"\n",
       "    href=\"proof/132-char.html\"\n",
       ">p132</a> <a\n",
       "    style=\"background-color: hsla(90, 100%, 60%, 0.30);\"\n",
       "    href=\"proof/132-char.html\"\n",
       ">p132</a> <a\n",
       "    style=\"background-color: hsla(90, 100%, 60%, 0.30);\"\n",
       "    href=\"proof/132-char.html\"\n",
       ">p132</a> <a\n",
       "    style=\"background-color: hsla(90, 100%, 60%, 0.30);\"\n",
       "    href=\"proof/132-char.html\"\n",
       ">p132</a> <a\n",
       "    style=\"background-color: hsla(90, 100%, 60%, 0.30);\"\n",
       "    href=\"proof/132-char.html\"\n",
       ">p132</a> <a\n",
       "    style=\"background-color: hsla(90, 100%, 60%, 0.30);\"\n",
       "    href=\"proof/132-char.html\"\n",
       ">p132</a></td>\n",
       "    </tr>\n",
       "        \n",
       "    <tr>\n",
       "        <th>⌊م⌋</th>\n",
       "        <td>24</td>\n",
       "        <td style=\"background-color: hsla(16, 100%, 43%, 0.57);\">59</td>\n",
       "        <td style=\"background-color: hsla(90, 100%, 60%, 0.30);\">100</td>\n",
       "        <td style=\"background-color: hsla(75, 100%, 58%, 0.35);\">95</td>\n",
       "        <td style=\"text-align: left;\"><a\n",
       "    style=\"background-color: hsla(16, 100%, 43%, 0.57);\"\n",
       "    href=\"proof/132-char.html\"\n",
       ">p132</a> <a\n",
       "    style=\"background-color: hsla(25, 100%, 48%, 0.52);\"\n",
       "    href=\"proof/132-char.html\"\n",
       ">p132</a> <a\n",
       "    style=\"background-color: hsla(28, 100%, 49%, 0.51);\"\n",
       "    href=\"proof/132-char.html\"\n",
       ">p132</a> <a\n",
       "    style=\"background-color: hsla(39, 100%, 52%, 0.47);\"\n",
       "    href=\"proof/132-char.html\"\n",
       ">p132</a> <a\n",
       "    style=\"background-color: hsla(66, 100%, 56%, 0.38);\"\n",
       "    href=\"proof/132-char.html\"\n",
       ">p132</a> <a\n",
       "    style=\"background-color: hsla(78, 100%, 58%, 0.34);\"\n",
       "    href=\"proof/132-char.html\"\n",
       ">p132</a> <a\n",
       "    style=\"background-color: hsla(81, 100%, 58%, 0.33);\"\n",
       "    href=\"proof/132-char.html\"\n",
       ">p132</a> <a\n",
       "    style=\"background-color: hsla(87, 100%, 60%, 0.31);\"\n",
       "    href=\"proof/132-char.html\"\n",
       ">p132</a> <a\n",
       "    style=\"background-color: hsla(87, 100%, 60%, 0.31);\"\n",
       "    href=\"proof/132-char.html\"\n",
       ">p132</a> <a\n",
       "    style=\"background-color: hsla(87, 100%, 60%, 0.31);\"\n",
       "    href=\"proof/132-char.html\"\n",
       ">p132</a> <a\n",
       "    style=\"background-color: hsla(87, 100%, 60%, 0.31);\"\n",
       "    href=\"proof/132-char.html\"\n",
       ">p132</a> <a\n",
       "    style=\"background-color: hsla(90, 100%, 60%, 0.30);\"\n",
       "    href=\"proof/132-char.html\"\n",
       ">p132</a> <a\n",
       "    style=\"background-color: hsla(90, 100%, 60%, 0.30);\"\n",
       "    href=\"proof/132-char.html\"\n",
       ">p132</a> <a\n",
       "    style=\"background-color: hsla(90, 100%, 60%, 0.30);\"\n",
       "    href=\"proof/132-char.html\"\n",
       ">p132</a> <a\n",
       "    style=\"background-color: hsla(90, 100%, 60%, 0.30);\"\n",
       "    href=\"proof/132-char.html\"\n",
       ">p132</a> <a\n",
       "    style=\"background-color: hsla(90, 100%, 60%, 0.30);\"\n",
       "    href=\"proof/132-char.html\"\n",
       ">p132</a> <a\n",
       "    style=\"background-color: hsla(90, 100%, 60%, 0.30);\"\n",
       "    href=\"proof/132-char.html\"\n",
       ">p132</a> <a\n",
       "    style=\"background-color: hsla(90, 100%, 60%, 0.30);\"\n",
       "    href=\"proof/132-char.html\"\n",
       ">p132</a> <a\n",
       "    style=\"background-color: hsla(90, 100%, 60%, 0.30);\"\n",
       "    href=\"proof/132-char.html\"\n",
       ">p132</a> <a\n",
       "    style=\"background-color: hsla(90, 100%, 60%, 0.30);\"\n",
       "    href=\"proof/132-char.html\"\n",
       ">p132</a></td>\n",
       "    </tr>\n",
       "        \n",
       "    <tr>\n",
       "        <th>⌊ن⌋</th>\n",
       "        <td>5</td>\n",
       "        <td style=\"background-color: hsla(81, 100%, 58%, 0.33);\">97</td>\n",
       "        <td style=\"background-color: hsla(90, 100%, 60%, 0.30);\">100</td>\n",
       "        <td style=\"background-color: hsla(87, 100%, 60%, 0.31);\">99</td>\n",
       "        <td style=\"text-align: left;\"><a\n",
       "    style=\"background-color: hsla(81, 100%, 58%, 0.33);\"\n",
       "    href=\"proof/132-char.html\"\n",
       ">p132</a> <a\n",
       "    style=\"background-color: hsla(90, 100%, 60%, 0.30);\"\n",
       "    href=\"proof/132-char.html\"\n",
       ">p132</a> <a\n",
       "    style=\"background-color: hsla(90, 100%, 60%, 0.30);\"\n",
       "    href=\"proof/132-char.html\"\n",
       ">p132</a> <a\n",
       "    style=\"background-color: hsla(90, 100%, 60%, 0.30);\"\n",
       "    href=\"proof/132-char.html\"\n",
       ">p132</a> <a\n",
       "    style=\"background-color: hsla(90, 100%, 60%, 0.30);\"\n",
       "    href=\"proof/132-char.html\"\n",
       ">p132</a></td>\n",
       "    </tr>\n",
       "        \n",
       "    <tr>\n",
       "        <th>⌊ه⌋</th>\n",
       "        <td>4</td>\n",
       "        <td style=\"background-color: hsla(84, 100%, 59%, 0.32);\">98</td>\n",
       "        <td style=\"background-color: hsla(90, 100%, 60%, 0.30);\">100</td>\n",
       "        <td style=\"background-color: hsla(87, 100%, 60%, 0.31);\">99</td>\n",
       "        <td style=\"text-align: left;\"><a\n",
       "    style=\"background-color: hsla(84, 100%, 59%, 0.32);\"\n",
       "    href=\"proof/132-char.html\"\n",
       ">p132</a> <a\n",
       "    style=\"background-color: hsla(87, 100%, 60%, 0.31);\"\n",
       "    href=\"proof/132-char.html\"\n",
       ">p132</a> <a\n",
       "    style=\"background-color: hsla(90, 100%, 60%, 0.30);\"\n",
       "    href=\"proof/132-char.html\"\n",
       ">p132</a> <a\n",
       "    style=\"background-color: hsla(90, 100%, 60%, 0.30);\"\n",
       "    href=\"proof/132-char.html\"\n",
       ">p132</a></td>\n",
       "    </tr>\n",
       "        \n",
       "    <tr>\n",
       "        <th>⌊و⌋</th>\n",
       "        <td>14</td>\n",
       "        <td style=\"background-color: hsla(22, 100%, 46%, 0.54);\">68</td>\n",
       "        <td style=\"background-color: hsla(90, 100%, 60%, 0.30);\">100</td>\n",
       "        <td style=\"background-color: hsla(81, 100%, 58%, 0.33);\">97</td>\n",
       "        <td style=\"text-align: left;\"><a\n",
       "    style=\"background-color: hsla(22, 100%, 46%, 0.54);\"\n",
       "    href=\"proof/132-char.html\"\n",
       ">p132</a> <a\n",
       "    style=\"background-color: hsla(75, 100%, 58%, 0.35);\"\n",
       "    href=\"proof/132-char.html\"\n",
       ">p132</a> <a\n",
       "    style=\"background-color: hsla(87, 100%, 60%, 0.31);\"\n",
       "    href=\"proof/132-char.html\"\n",
       ">p132</a> <a\n",
       "    style=\"background-color: hsla(87, 100%, 60%, 0.31);\"\n",
       "    href=\"proof/132-char.html\"\n",
       ">p132</a> <a\n",
       "    style=\"background-color: hsla(87, 100%, 60%, 0.31);\"\n",
       "    href=\"proof/132-char.html\"\n",
       ">p132</a> <a\n",
       "    style=\"background-color: hsla(90, 100%, 60%, 0.30);\"\n",
       "    href=\"proof/132-char.html\"\n",
       ">p132</a> <a\n",
       "    style=\"background-color: hsla(90, 100%, 60%, 0.30);\"\n",
       "    href=\"proof/132-char.html\"\n",
       ">p132</a> <a\n",
       "    style=\"background-color: hsla(90, 100%, 60%, 0.30);\"\n",
       "    href=\"proof/132-char.html\"\n",
       ">p132</a> <a\n",
       "    style=\"background-color: hsla(90, 100%, 60%, 0.30);\"\n",
       "    href=\"proof/132-char.html\"\n",
       ">p132</a> <a\n",
       "    style=\"background-color: hsla(90, 100%, 60%, 0.30);\"\n",
       "    href=\"proof/132-char.html\"\n",
       ">p132</a> <a\n",
       "    style=\"background-color: hsla(90, 100%, 60%, 0.30);\"\n",
       "    href=\"proof/132-char.html\"\n",
       ">p132</a> <a\n",
       "    style=\"background-color: hsla(90, 100%, 60%, 0.30);\"\n",
       "    href=\"proof/132-char.html\"\n",
       ">p132</a> <a\n",
       "    style=\"background-color: hsla(90, 100%, 60%, 0.30);\"\n",
       "    href=\"proof/132-char.html\"\n",
       ">p132</a> <a\n",
       "    style=\"background-color: hsla(90, 100%, 60%, 0.30);\"\n",
       "    href=\"proof/132-char.html\"\n",
       ">p132</a></td>\n",
       "    </tr>\n",
       "        \n",
       "    <tr>\n",
       "        <th>⌊ى⌋</th>\n",
       "        <td>2</td>\n",
       "        <td style=\"background-color: hsla(90, 100%, 60%, 0.30);\">100</td>\n",
       "        <td style=\"background-color: hsla(90, 100%, 60%, 0.30);\">100</td>\n",
       "        <td style=\"background-color: hsla(90, 100%, 60%, 0.30);\">100</td>\n",
       "        <td style=\"text-align: left;\"><a\n",
       "    style=\"background-color: hsla(90, 100%, 60%, 0.30);\"\n",
       "    href=\"proof/132-char.html\"\n",
       ">p132</a> <a\n",
       "    style=\"background-color: hsla(90, 100%, 60%, 0.30);\"\n",
       "    href=\"proof/132-char.html\"\n",
       ">p132</a></td>\n",
       "    </tr>\n",
       "        \n",
       "    <tr>\n",
       "        <th>⌊ي⌋</th>\n",
       "        <td>8</td>\n",
       "        <td style=\"background-color: hsla(28, 100%, 49%, 0.51);\">77</td>\n",
       "        <td style=\"background-color: hsla(90, 100%, 60%, 0.30);\">100</td>\n",
       "        <td style=\"background-color: hsla(81, 100%, 58%, 0.33);\">97</td>\n",
       "        <td style=\"text-align: left;\"><a\n",
       "    style=\"background-color: hsla(28, 100%, 49%, 0.51);\"\n",
       "    href=\"proof/132-char.html\"\n",
       ">p132</a> <a\n",
       "    style=\"background-color: hsla(90, 100%, 60%, 0.30);\"\n",
       "    href=\"proof/132-char.html\"\n",
       ">p132</a> <a\n",
       "    style=\"background-color: hsla(90, 100%, 60%, 0.30);\"\n",
       "    href=\"proof/132-char.html\"\n",
       ">p132</a> <a\n",
       "    style=\"background-color: hsla(90, 100%, 60%, 0.30);\"\n",
       "    href=\"proof/132-char.html\"\n",
       ">p132</a> <a\n",
       "    style=\"background-color: hsla(90, 100%, 60%, 0.30);\"\n",
       "    href=\"proof/132-char.html\"\n",
       ">p132</a> <a\n",
       "    style=\"background-color: hsla(90, 100%, 60%, 0.30);\"\n",
       "    href=\"proof/132-char.html\"\n",
       ">p132</a> <a\n",
       "    style=\"background-color: hsla(90, 100%, 60%, 0.30);\"\n",
       "    href=\"proof/132-char.html\"\n",
       ">p132</a> <a\n",
       "    style=\"background-color: hsla(90, 100%, 60%, 0.30);\"\n",
       "    href=\"proof/132-char.html\"\n",
       ">p132</a></td>\n",
       "    </tr>\n",
       "        \n",
       "    <tr>\n",
       "        <th>⌊ٔ⌋</th>\n",
       "        <td>7</td>\n",
       "        <td style=\"background-color: hsla(42, 100%, 52%, 0.46);\">84</td>\n",
       "        <td style=\"background-color: hsla(90, 100%, 60%, 0.30);\">100</td>\n",
       "        <td style=\"background-color: hsla(81, 100%, 58%, 0.33);\">97</td>\n",
       "        <td style=\"text-align: left;\"><a\n",
       "    style=\"background-color: hsla(42, 100%, 52%, 0.46);\"\n",
       "    href=\"proof/132-char.html\"\n",
       ">p132</a> <a\n",
       "    style=\"background-color: hsla(87, 100%, 60%, 0.31);\"\n",
       "    href=\"proof/132-char.html\"\n",
       ">p132</a> <a\n",
       "    style=\"background-color: hsla(87, 100%, 60%, 0.31);\"\n",
       "    href=\"proof/132-char.html\"\n",
       ">p132</a> <a\n",
       "    style=\"background-color: hsla(87, 100%, 60%, 0.31);\"\n",
       "    href=\"proof/132-char.html\"\n",
       ">p132</a> <a\n",
       "    style=\"background-color: hsla(90, 100%, 60%, 0.30);\"\n",
       "    href=\"proof/132-char.html\"\n",
       ">p132</a> <a\n",
       "    style=\"background-color: hsla(90, 100%, 60%, 0.30);\"\n",
       "    href=\"proof/132-char.html\"\n",
       ">p132</a> <a\n",
       "    style=\"background-color: hsla(90, 100%, 60%, 0.30);\"\n",
       "    href=\"proof/132-char.html\"\n",
       ">p132</a></td>\n",
       "    </tr>\n",
       "        \n",
       "</table>\n",
       "</details>\n",
       "        "
      ],
      "text/plain": [
       "<IPython.core.display.HTML object>"
      ]
     },
     "metadata": {},
     "output_type": "display_data"
    },
    {
     "name": "stdout",
     "output_type": "stream",
     "text": [
      " 2m 26s all done\n"
     ]
    }
   ],
   "source": [
    "B.measureQuality(132)"
   ]
  },
  {
   "cell_type": "markdown",
   "metadata": {},
   "source": [
    "**For developers**\n",
    "\n",
    "If you are tweaking the generation and formatting of the proofpages, you do not need to perform the costly OCR process over and over again.\n",
    "The following method regenerates the proof pages on the basis of the existing OCR data."
   ]
  },
  {
   "cell_type": "code",
   "execution_count": 10,
   "metadata": {},
   "outputs": [],
   "source": [
    "page.proofing()"
   ]
  },
  {
   "cell_type": "markdown",
   "metadata": {},
   "source": [
    "# Check all pages\n",
    "\n",
    "Now we check all example pages in batch"
   ]
  },
  {
   "cell_type": "code",
   "execution_count": 11,
   "metadata": {},
   "outputs": [
    {
     "name": "stdout",
     "output_type": "stream",
     "text": [
      "  0.00s Batch of 1 pages: 47\n",
      "  0.00s Start batch processing images\n",
      "   |     5.52s     1 047.tif                                 \n",
      "  5.52s all done\n"
     ]
    },
    {
     "data": {
      "text/html": [
       "<a href=\"proof/047.html\">see proof at word level</a>"
      ],
      "text/plain": [
       "<IPython.core.display.HTML object>"
      ]
     },
     "metadata": {},
     "output_type": "display_data"
    },
    {
     "data": {
      "text/html": [
       "\n",
       "        <iframe\n",
       "            width=\"1010px\"\n",
       "            height=\"1508px\"\n",
       "            src=\"proof/047.html\"\n",
       "            frameborder=\"0\"\n",
       "            allowfullscreen\n",
       "        ></iframe>\n",
       "        "
      ],
      "text/plain": [
       "<IPython.lib.display.IFrame at 0x7f998a444a60>"
      ]
     },
     "metadata": {},
     "output_type": "display_data"
    },
    {
     "name": "stdout",
     "output_type": "stream",
     "text": [
      "  0.00s Batch of 1 pages: 48\n",
      "  0.00s Start batch processing images\n",
      "   |     5.36s     1 048.tif                                 \n",
      "  5.37s all done\n"
     ]
    },
    {
     "data": {
      "text/html": [
       "<a href=\"proof/048.html\">see proof at word level</a>"
      ],
      "text/plain": [
       "<IPython.core.display.HTML object>"
      ]
     },
     "metadata": {},
     "output_type": "display_data"
    },
    {
     "data": {
      "text/html": [
       "\n",
       "        <iframe\n",
       "            width=\"1010px\"\n",
       "            height=\"1508px\"\n",
       "            src=\"proof/048.html\"\n",
       "            frameborder=\"0\"\n",
       "            allowfullscreen\n",
       "        ></iframe>\n",
       "        "
      ],
      "text/plain": [
       "<IPython.lib.display.IFrame at 0x7f998a444df0>"
      ]
     },
     "metadata": {},
     "output_type": "display_data"
    },
    {
     "name": "stdout",
     "output_type": "stream",
     "text": [
      "  0.00s Batch of 1 pages: 58\n",
      "  0.00s Start batch processing images\n",
      "   |     5.40s     1 058.tif                                 \n",
      "  5.40s all done\n"
     ]
    },
    {
     "data": {
      "text/html": [
       "<a href=\"proof/058.html\">see proof at word level</a>"
      ],
      "text/plain": [
       "<IPython.core.display.HTML object>"
      ]
     },
     "metadata": {},
     "output_type": "display_data"
    },
    {
     "data": {
      "text/html": [
       "\n",
       "        <iframe\n",
       "            width=\"1010px\"\n",
       "            height=\"1508px\"\n",
       "            src=\"proof/058.html\"\n",
       "            frameborder=\"0\"\n",
       "            allowfullscreen\n",
       "        ></iframe>\n",
       "        "
      ],
      "text/plain": [
       "<IPython.lib.display.IFrame at 0x7f998a444e80>"
      ]
     },
     "metadata": {},
     "output_type": "display_data"
    },
    {
     "name": "stdout",
     "output_type": "stream",
     "text": [
      "  0.00s Batch of 1 pages: 59\n",
      "  0.00s Start batch processing images\n",
      "   |     6.61s     1 059.tif                                 \n",
      "  6.61s all done\n"
     ]
    },
    {
     "data": {
      "text/html": [
       "<a href=\"proof/059.html\">see proof at word level</a>"
      ],
      "text/plain": [
       "<IPython.core.display.HTML object>"
      ]
     },
     "metadata": {},
     "output_type": "display_data"
    },
    {
     "data": {
      "text/html": [
       "\n",
       "        <iframe\n",
       "            width=\"1010px\"\n",
       "            height=\"1508px\"\n",
       "            src=\"proof/059.html\"\n",
       "            frameborder=\"0\"\n",
       "            allowfullscreen\n",
       "        ></iframe>\n",
       "        "
      ],
      "text/plain": [
       "<IPython.lib.display.IFrame at 0x7f998a444a60>"
      ]
     },
     "metadata": {},
     "output_type": "display_data"
    },
    {
     "name": "stdout",
     "output_type": "stream",
     "text": [
      "  0.00s Batch of 1 pages: 63\n",
      "  0.00s Start batch processing images\n",
      "   |     6.76s     1 063.tif                                 \n",
      "  6.76s all done\n"
     ]
    },
    {
     "data": {
      "text/html": [
       "<a href=\"proof/063.html\">see proof at word level</a>"
      ],
      "text/plain": [
       "<IPython.core.display.HTML object>"
      ]
     },
     "metadata": {},
     "output_type": "display_data"
    },
    {
     "data": {
      "text/html": [
       "\n",
       "        <iframe\n",
       "            width=\"1010px\"\n",
       "            height=\"1508px\"\n",
       "            src=\"proof/063.html\"\n",
       "            frameborder=\"0\"\n",
       "            allowfullscreen\n",
       "        ></iframe>\n",
       "        "
      ],
      "text/plain": [
       "<IPython.lib.display.IFrame at 0x7f998a444a60>"
      ]
     },
     "metadata": {},
     "output_type": "display_data"
    },
    {
     "name": "stdout",
     "output_type": "stream",
     "text": [
      "  0.00s Batch of 1 pages: 67\n",
      "  0.00s Start batch processing images\n",
      "   |     6.38s     1 067.tif                                 \n",
      "  6.39s all done\n"
     ]
    },
    {
     "data": {
      "text/html": [
       "<a href=\"proof/067.html\">see proof at word level</a>"
      ],
      "text/plain": [
       "<IPython.core.display.HTML object>"
      ]
     },
     "metadata": {},
     "output_type": "display_data"
    },
    {
     "data": {
      "text/html": [
       "\n",
       "        <iframe\n",
       "            width=\"1010px\"\n",
       "            height=\"1508px\"\n",
       "            src=\"proof/067.html\"\n",
       "            frameborder=\"0\"\n",
       "            allowfullscreen\n",
       "        ></iframe>\n",
       "        "
      ],
      "text/plain": [
       "<IPython.lib.display.IFrame at 0x7f998a444c40>"
      ]
     },
     "metadata": {},
     "output_type": "display_data"
    },
    {
     "name": "stdout",
     "output_type": "stream",
     "text": [
      "  0.00s Batch of 1 pages: 101\n",
      "  0.00s Start batch processing images\n",
      "   |     4.70s     1 101.jpg                                 \n",
      "  4.70s all done\n"
     ]
    },
    {
     "data": {
      "text/html": [
       "<a href=\"proof/101.html\">see proof at word level</a>"
      ],
      "text/plain": [
       "<IPython.core.display.HTML object>"
      ]
     },
     "metadata": {},
     "output_type": "display_data"
    },
    {
     "data": {
      "text/html": [
       "\n",
       "        <iframe\n",
       "            width=\"1010px\"\n",
       "            height=\"1431px\"\n",
       "            src=\"proof/101.html\"\n",
       "            frameborder=\"0\"\n",
       "            allowfullscreen\n",
       "        ></iframe>\n",
       "        "
      ],
      "text/plain": [
       "<IPython.lib.display.IFrame at 0x7f998a444340>"
      ]
     },
     "metadata": {},
     "output_type": "display_data"
    },
    {
     "name": "stdout",
     "output_type": "stream",
     "text": [
      "  0.00s Batch of 1 pages: 102\n",
      "  0.00s Start batch processing images\n",
      "   |     5.94s     1 102.jpg                                 \n",
      "  5.94s all done\n"
     ]
    },
    {
     "data": {
      "text/html": [
       "<a href=\"proof/102.html\">see proof at word level</a>"
      ],
      "text/plain": [
       "<IPython.core.display.HTML object>"
      ]
     },
     "metadata": {},
     "output_type": "display_data"
    },
    {
     "data": {
      "text/html": [
       "\n",
       "        <iframe\n",
       "            width=\"1010px\"\n",
       "            height=\"1440px\"\n",
       "            src=\"proof/102.html\"\n",
       "            frameborder=\"0\"\n",
       "            allowfullscreen\n",
       "        ></iframe>\n",
       "        "
      ],
      "text/plain": [
       "<IPython.lib.display.IFrame at 0x7f998be55d00>"
      ]
     },
     "metadata": {},
     "output_type": "display_data"
    },
    {
     "name": "stdout",
     "output_type": "stream",
     "text": [
      "  0.00s Batch of 1 pages: 111\n",
      "  0.00s Start batch processing images\n",
      "   |     6.68s     1 111.jpg                                 \n",
      "  6.68s all done\n"
     ]
    },
    {
     "data": {
      "text/html": [
       "<a href=\"proof/111.html\">see proof at word level</a>"
      ],
      "text/plain": [
       "<IPython.core.display.HTML object>"
      ]
     },
     "metadata": {},
     "output_type": "display_data"
    },
    {
     "data": {
      "text/html": [
       "\n",
       "        <iframe\n",
       "            width=\"1010px\"\n",
       "            height=\"1424px\"\n",
       "            src=\"proof/111.html\"\n",
       "            frameborder=\"0\"\n",
       "            allowfullscreen\n",
       "        ></iframe>\n",
       "        "
      ],
      "text/plain": [
       "<IPython.lib.display.IFrame at 0x7f998076ab20>"
      ]
     },
     "metadata": {},
     "output_type": "display_data"
    },
    {
     "name": "stdout",
     "output_type": "stream",
     "text": [
      "  0.00s Batch of 1 pages: 112\n",
      "  0.00s Start batch processing images\n",
      "   |     8.04s     1 112.jpg                                 \n",
      "  8.05s all done\n"
     ]
    },
    {
     "data": {
      "text/html": [
       "<a href=\"proof/112.html\">see proof at word level</a>"
      ],
      "text/plain": [
       "<IPython.core.display.HTML object>"
      ]
     },
     "metadata": {},
     "output_type": "display_data"
    },
    {
     "data": {
      "text/html": [
       "\n",
       "        <iframe\n",
       "            width=\"1010px\"\n",
       "            height=\"1424px\"\n",
       "            src=\"proof/112.html\"\n",
       "            frameborder=\"0\"\n",
       "            allowfullscreen\n",
       "        ></iframe>\n",
       "        "
      ],
      "text/plain": [
       "<IPython.lib.display.IFrame at 0x7f998a304490>"
      ]
     },
     "metadata": {},
     "output_type": "display_data"
    },
    {
     "name": "stdout",
     "output_type": "stream",
     "text": [
      "  0.00s Batch of 1 pages: 113\n",
      "  0.00s Start batch processing images\n",
      "   |     7.29s     1 113.jpg                                 \n",
      "  7.29s all done\n"
     ]
    },
    {
     "data": {
      "text/html": [
       "<a href=\"proof/113.html\">see proof at word level</a>"
      ],
      "text/plain": [
       "<IPython.core.display.HTML object>"
      ]
     },
     "metadata": {},
     "output_type": "display_data"
    },
    {
     "data": {
      "text/html": [
       "\n",
       "        <iframe\n",
       "            width=\"1010px\"\n",
       "            height=\"1424px\"\n",
       "            src=\"proof/113.html\"\n",
       "            frameborder=\"0\"\n",
       "            allowfullscreen\n",
       "        ></iframe>\n",
       "        "
      ],
      "text/plain": [
       "<IPython.lib.display.IFrame at 0x7f998a444340>"
      ]
     },
     "metadata": {},
     "output_type": "display_data"
    },
    {
     "name": "stdout",
     "output_type": "stream",
     "text": [
      "  0.00s Batch of 1 pages: 121\n",
      "  0.00s Start batch processing images\n",
      "   |     6.79s     1 121.jpg                                 \n",
      "  6.79s all done\n"
     ]
    },
    {
     "data": {
      "text/html": [
       "<a href=\"proof/121.html\">see proof at word level</a>"
      ],
      "text/plain": [
       "<IPython.core.display.HTML object>"
      ]
     },
     "metadata": {},
     "output_type": "display_data"
    },
    {
     "data": {
      "text/html": [
       "\n",
       "        <iframe\n",
       "            width=\"1010px\"\n",
       "            height=\"1588px\"\n",
       "            src=\"proof/121.html\"\n",
       "            frameborder=\"0\"\n",
       "            allowfullscreen\n",
       "        ></iframe>\n",
       "        "
      ],
      "text/plain": [
       "<IPython.lib.display.IFrame at 0x7f9980740880>"
      ]
     },
     "metadata": {},
     "output_type": "display_data"
    },
    {
     "name": "stdout",
     "output_type": "stream",
     "text": [
      "  0.00s Batch of 1 pages: 122\n",
      "  0.00s Start batch processing images\n",
      "   |     5.79s     1 122.jpg                                 \n",
      "  5.79s all done\n"
     ]
    },
    {
     "data": {
      "text/html": [
       "<a href=\"proof/122.html\">see proof at word level</a>"
      ],
      "text/plain": [
       "<IPython.core.display.HTML object>"
      ]
     },
     "metadata": {},
     "output_type": "display_data"
    },
    {
     "data": {
      "text/html": [
       "\n",
       "        <iframe\n",
       "            width=\"1010px\"\n",
       "            height=\"1588px\"\n",
       "            src=\"proof/122.html\"\n",
       "            frameborder=\"0\"\n",
       "            allowfullscreen\n",
       "        ></iframe>\n",
       "        "
      ],
      "text/plain": [
       "<IPython.lib.display.IFrame at 0x7f9980740f70>"
      ]
     },
     "metadata": {},
     "output_type": "display_data"
    },
    {
     "name": "stdout",
     "output_type": "stream",
     "text": [
      "  0.00s Batch of 1 pages: 131\n",
      "  0.00s Start batch processing images\n",
      "   |     9.74s     1 131.jpg                                 \n",
      "  9.75s all done\n"
     ]
    },
    {
     "data": {
      "text/html": [
       "<a href=\"proof/131.html\">see proof at word level</a>"
      ],
      "text/plain": [
       "<IPython.core.display.HTML object>"
      ]
     },
     "metadata": {},
     "output_type": "display_data"
    },
    {
     "data": {
      "text/html": [
       "\n",
       "        <iframe\n",
       "            width=\"1010px\"\n",
       "            height=\"1499px\"\n",
       "            src=\"proof/131.html\"\n",
       "            frameborder=\"0\"\n",
       "            allowfullscreen\n",
       "        ></iframe>\n",
       "        "
      ],
      "text/plain": [
       "<IPython.lib.display.IFrame at 0x7f99b05809d0>"
      ]
     },
     "metadata": {},
     "output_type": "display_data"
    },
    {
     "name": "stdout",
     "output_type": "stream",
     "text": [
      "  0.00s Batch of 1 pages: 132\n",
      "  0.00s Start batch processing images\n",
      "   |     5.69s     1 132.jpg                                 \n",
      "  5.69s all done\n"
     ]
    },
    {
     "data": {
      "text/html": [
       "<a href=\"proof/132.html\">see proof at word level</a>"
      ],
      "text/plain": [
       "<IPython.core.display.HTML object>"
      ]
     },
     "metadata": {},
     "output_type": "display_data"
    },
    {
     "data": {
      "text/html": [
       "\n",
       "        <iframe\n",
       "            width=\"1010px\"\n",
       "            height=\"1499px\"\n",
       "            src=\"proof/132.html\"\n",
       "            frameborder=\"0\"\n",
       "            allowfullscreen\n",
       "        ></iframe>\n",
       "        "
      ],
      "text/plain": [
       "<IPython.lib.display.IFrame at 0x7f998a429a30>"
      ]
     },
     "metadata": {},
     "output_type": "display_data"
    },
    {
     "name": "stdout",
     "output_type": "stream",
     "text": [
      "  0.00s Batch of 1 pages: 200\n",
      "  0.00s Start batch processing images\n",
      "   |       38s     1 200.tif                                 \n",
      "    38s all done\n"
     ]
    },
    {
     "data": {
      "text/html": [
       "<a href=\"proof/200.html\">see proof at word level</a>"
      ],
      "text/plain": [
       "<IPython.core.display.HTML object>"
      ]
     },
     "metadata": {},
     "output_type": "display_data"
    },
    {
     "data": {
      "text/html": [
       "\n",
       "        <iframe\n",
       "            width=\"1010px\"\n",
       "            height=\"1489px\"\n",
       "            src=\"proof/200.html\"\n",
       "            frameborder=\"0\"\n",
       "            allowfullscreen\n",
       "        ></iframe>\n",
       "        "
      ],
      "text/plain": [
       "<IPython.lib.display.IFrame at 0x7f99b0580970>"
      ]
     },
     "metadata": {},
     "output_type": "display_data"
    },
    {
     "name": "stdout",
     "output_type": "stream",
     "text": [
      "  0.00s Batch of 1 pages: 300\n",
      "  0.00s Start batch processing images\n",
      "   |       26s     1 300.tif                                 \n",
      "    26s all done\n"
     ]
    },
    {
     "data": {
      "text/html": [
       "<a href=\"proof/300.html\">see proof at word level</a>"
      ],
      "text/plain": [
       "<IPython.core.display.HTML object>"
      ]
     },
     "metadata": {},
     "output_type": "display_data"
    },
    {
     "data": {
      "text/html": [
       "\n",
       "        <iframe\n",
       "            width=\"1010px\"\n",
       "            height=\"1406px\"\n",
       "            src=\"proof/300.html\"\n",
       "            frameborder=\"0\"\n",
       "            allowfullscreen\n",
       "        ></iframe>\n",
       "        "
      ],
      "text/plain": [
       "<IPython.lib.display.IFrame at 0x7f99807407f0>"
      ]
     },
     "metadata": {},
     "output_type": "display_data"
    },
    {
     "name": "stdout",
     "output_type": "stream",
     "text": [
      "  0.00s Batch of 1 pages: 400\n",
      "  0.00s Start batch processing images\n",
      "   |       30s     1 400.tif                                 \n",
      "    30s all done\n"
     ]
    },
    {
     "data": {
      "text/html": [
       "<a href=\"proof/400.html\">see proof at word level</a>"
      ],
      "text/plain": [
       "<IPython.core.display.HTML object>"
      ]
     },
     "metadata": {},
     "output_type": "display_data"
    },
    {
     "data": {
      "text/html": [
       "\n",
       "        <iframe\n",
       "            width=\"1010px\"\n",
       "            height=\"1741px\"\n",
       "            src=\"proof/400.html\"\n",
       "            frameborder=\"0\"\n",
       "            allowfullscreen\n",
       "        ></iframe>\n",
       "        "
      ],
      "text/plain": [
       "<IPython.lib.display.IFrame at 0x7f9981b63250>"
      ]
     },
     "metadata": {},
     "output_type": "display_data"
    },
    {
     "name": "stdout",
     "output_type": "stream",
     "text": [
      "  0.00s Batch of 1 pages: 999\n",
      "  0.00s Start batch processing images\n",
      "   |     0.52s     1 999.jpg                                 \n",
      "  0.52s all done\n"
     ]
    },
    {
     "data": {
      "text/html": [
       "<a href=\"proof/999.html\">see proof at word level</a>"
      ],
      "text/plain": [
       "<IPython.core.display.HTML object>"
      ]
     },
     "metadata": {},
     "output_type": "display_data"
    },
    {
     "data": {
      "text/html": [
       "\n",
       "        <iframe\n",
       "            width=\"1010px\"\n",
       "            height=\"378px\"\n",
       "            src=\"proof/999.html\"\n",
       "            frameborder=\"0\"\n",
       "            allowfullscreen\n",
       "        ></iframe>\n",
       "        "
      ],
      "text/plain": [
       "<IPython.lib.display.IFrame at 0x7f99b05809d0>"
      ]
     },
     "metadata": {},
     "output_type": "display_data"
    }
   ],
   "source": [
    "page = checkOcr(None)"
   ]
  },
  {
   "cell_type": "code",
   "execution_count": null,
   "metadata": {},
   "outputs": [],
   "source": []
  }
 ],
 "metadata": {
  "kernelspec": {
   "display_name": "Python 3",
   "language": "python",
   "name": "python3"
  },
  "language_info": {
   "codemirror_mode": {
    "name": "ipython",
    "version": 3
   },
   "file_extension": ".py",
   "mimetype": "text/x-python",
   "name": "python",
   "nbconvert_exporter": "python",
   "pygments_lexer": "ipython3",
   "version": "3.8.5"
  },
  "toc-autonumbering": true,
  "toc-showcode": false,
  "toc-showmarkdowntxt": false
 },
 "nbformat": 4,
 "nbformat_minor": 4
}
