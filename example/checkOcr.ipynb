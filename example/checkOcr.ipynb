{
 "cells": [
  {
   "cell_type": "markdown",
   "metadata": {},
   "source": [
    "# Pipeline\n",
    "\n",
    "See [usage](https://among.github.io/fusus/use/).\n",
    "\n",
    "See [example](https://github.com/among/fusus/blob/master/example/doExample.ipynb).\n",
    "\n",
    "How to read this notebook:\n",
    "\n",
    "1.  *best experience*\n",
    "    get this repository on your computer and run `jupyter lab`.\n",
    "    Also install the table of contents extension in Jupyter Lab, since this is a lengthy notebook\n",
    "    You can run the code cells now.\n",
    "1.  *good reading experience*\n",
    "    read it on [NbViewer](https://nbviewer.jupyter.org/github/among/fusus/blob/master/example/doExample.ipynb)\n",
    "1.  *suboptimal*\n",
    "    read it directly on [GitHub](https://github.com/among/fusus/blob/master/example/doExample.ipynb)\n",
    "    (long time to load)"
   ]
  },
  {
   "cell_type": "markdown",
   "metadata": {},
   "source": [
    "# The beginning\n",
    "\n",
    "Enable autoloading of changed code.\n",
    "\n",
    "Change the directory to where this notebook resides on disk, i.e. near the book's scanned pages directory."
   ]
  },
  {
   "cell_type": "code",
   "execution_count": 1,
   "metadata": {},
   "outputs": [],
   "source": [
    "%load_ext autoreload\n",
    "%autoreload 2\n",
    "!cd `pwd`"
   ]
  },
  {
   "cell_type": "markdown",
   "metadata": {},
   "source": [
    "Import the fusus package (see [install](https://among.github.io/fusus/about/install.html))."
   ]
  },
  {
   "cell_type": "code",
   "execution_count": 2,
   "metadata": {},
   "outputs": [],
   "source": [
    "from fusus.book import Book"
   ]
  },
  {
   "cell_type": "markdown",
   "metadata": {},
   "source": [
    "Initialize the processing line."
   ]
  },
  {
   "cell_type": "code",
   "execution_count": 3,
   "metadata": {},
   "outputs": [
    {
     "name": "stdout",
     "output_type": "stream",
     "text": [
      "  0.05s Loading for Kraken: ~/github/among/fusus/model/arabic_generalized.mlmodel\n",
      "  1.11s model loaded\n"
     ]
    }
   ],
   "source": [
    "B = Book()"
   ]
  },
  {
   "cell_type": "markdown",
   "metadata": {},
   "source": [
    "# Task runner\n",
    "\n",
    "The following function runs the pipeline for one or more pages.\n",
    "\n",
    "If all pages are selected, batch mode is on."
   ]
  },
  {
   "cell_type": "code",
   "execution_count": 4,
   "metadata": {},
   "outputs": [],
   "source": [
    "def size(pg):\n",
    "    return dict(sizeW=0.5 if pg == 999 else None, sizeH=0.1 if pg == 999 else None)\n",
    "\n",
    "\n",
    "def checkOcr(pg, quiet=True, **kwargs):\n",
    "    if pg is None:\n",
    "        for pg in B.allPagesList:\n",
    "            page = B.process(\n",
    "                batch=True,\n",
    "                pages=pg,\n",
    "                doOcr=True,\n",
    "                quiet=quiet,\n",
    "                **size(pg),\n",
    "                **kwargs,\n",
    "            )\n",
    "            page.show(stage=\"proofword\")\n",
    "    else:\n",
    "        page = B.process(\n",
    "            batch=False,\n",
    "            pages=pg,\n",
    "            doOcr=True,\n",
    "            quiet=quiet,\n",
    "            **size(pg),\n",
    "            **kwargs,\n",
    "        )\n",
    "        page.show(stage=\"word\")\n",
    "        page.show(stage=\"proofword\")\n",
    "    return page"
   ]
  },
  {
   "cell_type": "markdown",
   "metadata": {},
   "source": [
    "# Check a single page\n",
    "\n",
    "Our first example is page 132.\n",
    "\n",
    "The ocr result is shown in data form and as a proof page."
   ]
  },
  {
   "cell_type": "code",
   "execution_count": 5,
   "metadata": {},
   "outputs": [
    {
     "name": "stdout",
     "output_type": "stream",
     "text": [
      "  0.00s Batch of 1 pages: 132\n",
      "  0.00s Start batch processing images\n",
      "   |     5.82s     1 132.jpg                                 \n",
      "  5.83s all done\n",
      "stripe\tcolumn\tline\tleft\ttop\tright\tbottom\tconfidence\ttext\n",
      "1\tl\t0\t969\t373\t1032\t449\t100\tأعم\n",
      "1\tl\t0\t905\t373\t952\t449\t100\tمن\n",
      "1\tl\t0\t716\t373\t888\t449\t89\tالمبادىء\n",
      "1\tl\t0\t613\t373\t682\t449\t98\tوهو\n",
      "1\tl\t0\t557\t373\t596\t449\t99\tما\n",
      "1\tl\t0\t445\t373\t547\t449\t89\tيتوقف\n",
      "1\tl\t0\t342\t373\t413\t449\t100\tعليه\n",
      "1\tl\t0\t190\t373\t332\t449\t98\tالمسائل\n",
      "1\tl\t0\t122\t373\t170\t449\t100\tبلا\n",
      "1\tl\t1\t905\t458\t1028\t544\t96\tواسطة\n",
      "1\tl\t1\t705\t458\t866\t544\t97\tوالمقدمة\n",
      "1\tl\t1\t652\t458\t684\t544\t100\tما\n",
      "1\tl\t1\t536\t458\t642\t544\t92\tيتوقف\n",
      "1\tl\t1\t427\t458\t497\t544\t98\tعليه\n",
      "1\tl\t1\t277\t458\t414\t544\t99\tالمسائل\n",
      "1\tl\t1\t122\t458\t252\t544\t95\tبواسطة\n",
      "1\tl\t2\t997\t553\t1031\t636\t100\tأو\n",
      "1\tl\t2\t944\t553\t979\t636\t100\tلا\n",
      "1\tl\t2\t809\t553\t926\t636\t95\tواسطة\n",
      "1\tl\t2\t790\t553\t798\t636\t99\t.\n",
      "1\tl\t2\t373\t553\t772\t636\t87\tفتأمل!\n",
      "1\tr\t0\t2003\t380\t2081\t456\t100\tأعـم\n",
      "1\tr\t0\t1928\t380\t1988\t456\t100\tمن\n",
      "1\tr\t0\t1777\t380\t1909\t456\t88\tمقدمة\n",
      "1\tr\t0\t1648\t380\t1768\t456\t99\tالعلم\n",
      "1\tr\t0\t1500\t380\t1617\t456\t97\tبينهما\n",
      "1\tr\t0\t1377\t380\t1485\t456\t100\tعموم\n",
      "1\tr\t0\t1169\t380\t1368\t456\t98\tوخصوص\n",
      "1\tr\t1\t1948\t471\t2078\t541\t98\tمطلق.\n",
      "1\tr\t2\t1846\t550\t1965\t643\t92\tوالفرق\n",
      "1\tr\t2\t1776\t550\t1828\t643\t99\tبين\n",
      "1\tr\t2\t1624\t550\t1758\t643\t94\tالمقدمة\n",
      "1\tr\t2\t1414\t550\t1610\t643\t92\tوالمبادىء\n",
      "1\tr\t2\t1346\t550\t1388\t643\t95\tأن\n",
      "1\tr\t2\t1184\t550\t1336\t643\t93\tالمقدمة\n",
      "2\t\t0\t563\t3068\t1636\t3179\t91\t6059\n"
     ]
    },
    {
     "data": {
      "text/html": [
       "<a href=\"proof/132.html\">see proof at word level</a>"
      ],
      "text/plain": [
       "<IPython.core.display.HTML object>"
      ]
     },
     "metadata": {},
     "output_type": "display_data"
    },
    {
     "data": {
      "text/html": [
       "\n",
       "        <iframe\n",
       "            width=\"1010px\"\n",
       "            height=\"1499px\"\n",
       "            src=\"proof/132.html\"\n",
       "            frameborder=\"0\"\n",
       "            allowfullscreen\n",
       "        ></iframe>\n",
       "        "
      ],
      "text/plain": [
       "<IPython.lib.display.IFrame at 0x7fdec81d8850>"
      ]
     },
     "metadata": {},
     "output_type": "display_data"
    }
   ],
   "source": [
    "page = checkOcr(132)"
   ]
  },
  {
   "cell_type": "markdown",
   "metadata": {},
   "source": [
    "We can also request the ocr result at character level:"
   ]
  },
  {
   "cell_type": "code",
   "execution_count": 6,
   "metadata": {},
   "outputs": [
    {
     "name": "stdout",
     "output_type": "stream",
     "text": [
      "stripe\tcolumn\tline\tleft\ttop\tright\tbottom\tconfidence\ttext\n",
      "1\tl\t0\t1024\t373\t1032\t449\t100\tا\n",
      "1\tl\t0\t1011\t373\t1025\t449\t99\tٔ\n",
      "1\tl\t0\t991\t373\t1011\t449\t100\tع\n",
      "1\tl\t0\t969\t373\t990\t449\t100\tم\n",
      "1\tl\t0\t953\t373\t970\t449\t100\t \n",
      "1\tl\t0\t929\t373\t952\t449\t100\tم\n",
      "1\tl\t0\t905\t373\t928\t449\t100\tن\n",
      "1\tl\t0\t887\t373\t904\t449\t100\t \n",
      "1\tl\t0\t880\t373\t888\t449\t81\tا\n",
      "1\tl\t0\t860\t373\t881\t449\t100\tل\n",
      "1\tl\t0\t840\t373\t860\t449\t77\tم\n",
      "1\tl\t0\t822\t373\t839\t449\t100\tب\n",
      "1\tl\t0\t802\t373\t822\t449\t100\tا\n",
      "1\tl\t0\t781\t373\t801\t449\t53\tد\n",
      "1\tl\t0\t750\t373\t781\t449\t100\tى\n",
      "1\tl\t0\t716\t373\t750\t449\t100\tء\n",
      "1\tl\t0\t681\t373\t716\t449\t100\t \n",
      "1\tl\t0\t657\t373\t682\t449\t100\tو\n",
      "1\tl\t0\t634\t373\t658\t449\t99\tه\n",
      "1\tl\t0\t613\t373\t633\t449\t95\tو\n",
      "1\tl\t0\t596\t373\t613\t449\t100\t \n",
      "1\tl\t0\t575\t373\t596\t449\t100\tم\n",
      "1\tl\t0\t557\t373\t575\t449\t98\tا\n",
      "1\tl\t0\t548\t373\t558\t449\t100\t \n",
      "1\tl\t0\t534\t373\t547\t449\t100\tي\n",
      "1\tl\t0\t520\t373\t534\t449\t93\tت\n",
      "1\tl\t0\t499\t373\t520\t449\t100\tو\n",
      "1\tl\t0\t479\t373\t500\t449\t54\tق\n",
      "1\tl\t0\t445\t373\t479\t449\t100\tف\n",
      "1\tl\t0\t414\t373\t444\t449\t100\t \n",
      "1\tl\t0\t390\t373\t413\t449\t100\tع\n",
      "1\tl\t0\t369\t373\t390\t449\t100\tل\n",
      "1\tl\t0\t356\t373\t369\t449\t100\tي\n",
      "1\tl\t0\t342\t373\t355\t449\t100\tه\n",
      "1\tl\t0\t331\t373\t342\t449\t84\t \n",
      "1\tl\t0\t317\t373\t332\t449\t100\tا\n",
      "1\tl\t0\t297\t373\t318\t449\t100\tل\n",
      "1\tl\t0\t277\t373\t297\t449\t99\tم\n",
      "1\tl\t0\t249\t373\t276\t449\t100\tس\n",
      "1\tl\t0\t228\t373\t249\t449\t100\tا\n",
      "1\tl\t0\t214\t373\t229\t449\t100\tي\n",
      "1\tl\t0\t207\t373\t215\t449\t100\tٔ\n",
      "1\tl\t0\t190\t373\t208\t449\t88\tل\n",
      "1\tl\t0\t170\t373\t191\t449\t97\t \n",
      "1\tl\t0\t156\t373\t170\t449\t100\tب\n",
      "1\tl\t0\t139\t373\t156\t449\t100\tل\n",
      "1\tl\t0\t122\t373\t140\t449\t100\tا\n",
      "1\tl\t1\t1014\t458\t1028\t544\t100\tو\n",
      "1\tl\t1\t993\t458\t1014\t544\t99\tا\n",
      "1\tl\t1\t961\t458\t993\t544\t100\tس\n",
      "1\tl\t1\t934\t458\t962\t544\t79\tط\n",
      "1\tl\t1\t905\t458\t933\t544\t100\tة\n",
      "1\tl\t1\t866\t458\t906\t544\t100\t \n",
      "1\tl\t1\t849\t458\t866\t544\t100\tو\n",
      "1\tl\t1\t834\t458\t848\t544\t96\tا\n",
      "1\tl\t1\t814\t458\t835\t544\t100\tل\n",
      "1\tl\t1\t789\t458\t813\t544\t96\tم\n",
      "1\tl\t1\t772\t458\t789\t544\t100\tق\n",
      "1\tl\t1\t747\t458\t771\t544\t100\tد\n",
      "1\tl\t1\t723\t458\t747\t544\t92\tم\n",
      "1\tl\t1\t705\t458\t722\t544\t94\tة\n",
      "1\tl\t1\t684\t458\t705\t544\t100\t \n",
      "1\tl\t1\t670\t458\t684\t544\t100\tم\n",
      "1\tl\t1\t652\t458\t670\t544\t100\tا\n",
      "1\tl\t1\t642\t458\t653\t544\t99\t \n",
      "1\tl\t1\t628\t458\t642\t544\t77\tي\n",
      "1\tl\t1\t614\t458\t628\t544\t97\tت\n",
      "1\tl\t1\t589\t458\t614\t544\t99\tو\n",
      "1\tl\t1\t571\t458\t589\t544\t85\tق\n",
      "1\tl\t1\t536\t458\t571\t544\t100\tف\n",
      "1\tl\t1\t498\t458\t536\t544\t100\t \n",
      "1\tl\t1\t477\t458\t497\t544\t94\tع\n",
      "1\tl\t1\t459\t458\t476\t544\t100\tل\n",
      "1\tl\t1\t445\t458\t459\t544\t100\tي\n",
      "1\tl\t1\t427\t458\t445\t544\t100\tه\n",
      "1\tl\t1\t413\t458\t428\t544\t100\t \n",
      "1\tl\t1\t399\t458\t414\t544\t100\tا\n",
      "1\tl\t1\t386\t458\t400\t544\t91\tل\n",
      "1\tl\t1\t361\t458\t385\t544\t100\tم\n",
      "1\tl\t1\t333\t458\t361\t544\t100\tس\n",
      "1\tl\t1\t315\t458\t333\t544\t100\tا\n",
      "1\tl\t1\t301\t458\t316\t544\t100\tي\n",
      "1\tl\t1\t294\t458\t302\t544\t99\tٔ\n",
      "1\tl\t1\t277\t458\t295\t544\t100\tل\n",
      "1\tl\t1\t251\t458\t276\t544\t100\t \n",
      "1\tl\t1\t241\t458\t252\t544\t100\tب\n",
      "1\tl\t1\t220\t458\t241\t544\t100\tو\n",
      "1\tl\t1\t199\t458\t220\t544\t100\tا\n",
      "1\tl\t1\t171\t458\t199\t544\t71\tس\n",
      "1\tl\t1\t140\t458\t171\t544\t100\tط\n",
      "1\tl\t1\t122\t458\t139\t544\t100\tة\n",
      "1\tl\t2\t1023\t553\t1031\t636\t100\tا\n",
      "1\tl\t2\t1016\t553\t1024\t636\t100\tٔ\n",
      "1\tl\t2\t997\t553\t1016\t636\t100\tو\n",
      "1\tl\t2\t978\t553\t998\t636\t98\t \n",
      "1\tl\t2\t963\t553\t979\t636\t100\tل\n",
      "1\tl\t2\t944\t553\t964\t636\t100\tا\n",
      "1\tl\t2\t926\t553\t945\t636\t100\t \n",
      "1\tl\t2\t907\t553\t926\t636\t100\tو\n",
      "1\tl\t2\t892\t553\t908\t636\t100\tا\n",
      "1\tl\t2\t858\t553\t893\t636\t100\tس\n",
      "1\tl\t2\t828\t553\t858\t636\t99\tط\n",
      "1\tl\t2\t809\t553\t828\t636\t78\tة\n",
      "1\tl\t2\t798\t553\t810\t636\t94\t \n",
      "1\tl\t2\t790\t553\t798\t636\t99\t.\n",
      "1\tl\t2\t771\t553\t791\t636\t100\t \n",
      "1\tl\t2\t753\t553\t772\t636\t100\tف\n",
      "1\tl\t2\t738\t553\t753\t636\t100\tت\n",
      "1\tl\t2\t730\t553\t738\t636\t100\tا\n",
      "1\tl\t2\t719\t553\t731\t636\t99\tٔ\n",
      "1\tl\t2\t704\t553\t720\t636\t59\tم\n",
      "1\tl\t2\t678\t553\t704\t636\t90\tل\n",
      "1\tl\t2\t373\t553\t677\t636\t63\t!\n",
      "1\tr\t0\t2075\t380\t2081\t456\t100\tا\n",
      "1\tr\t0\t2060\t380\t2075\t456\t100\tٔ\n",
      "1\tr\t0\t2042\t380\t2060\t456\t100\tع\n",
      "1\tr\t0\t2018\t380\t2042\t456\t100\tـ\n",
      "1\tr\t0\t2003\t380\t2018\t456\t100\tم\n",
      "1\tr\t0\t1988\t380\t2003\t456\t100\t \n",
      "1\tr\t0\t1955\t380\t1988\t456\t100\tم\n",
      "1\tr\t0\t1928\t380\t1955\t456\t100\tن\n",
      "1\tr\t0\t1909\t380\t1927\t456\t100\t \n",
      "1\tr\t0\t1891\t380\t1909\t456\t97\tم\n",
      "1\tr\t0\t1861\t380\t1891\t456\t56\tق\n",
      "1\tr\t0\t1831\t380\t1861\t456\t91\tد\n",
      "1\tr\t0\t1801\t380\t1831\t456\t99\tم\n",
      "1\tr\t0\t1777\t380\t1801\t456\t99\tة\n",
      "1\tr\t0\t1768\t380\t1777\t456\t100\t \n",
      "1\tr\t0\t1756\t380\t1768\t456\t99\tا\n",
      "1\tr\t0\t1738\t380\t1756\t456\t98\tل\n",
      "1\tr\t0\t1717\t380\t1738\t456\t100\tع\n",
      "1\tr\t0\t1687\t380\t1717\t456\t100\tل\n",
      "1\tr\t0\t1648\t380\t1687\t456\t100\tم\n",
      "1\tr\t0\t1617\t380\t1648\t456\t100\t \n",
      "1\tr\t0\t1608\t380\t1617\t456\t100\tب\n",
      "1\tr\t0\t1590\t380\t1608\t456\t100\tي\n",
      "1\tr\t0\t1575\t380\t1590\t456\t100\tن\n",
      "1\tr\t0\t1554\t380\t1575\t456\t98\tه\n",
      "1\tr\t0\t1521\t380\t1554\t456\t99\tم\n",
      "1\tr\t0\t1500\t380\t1521\t456\t87\tا\n",
      "1\tr\t0\t1485\t380\t1500\t456\t100\t \n",
      "1\tr\t0\t1461\t380\t1485\t456\t100\tع\n",
      "1\tr\t0\t1431\t380\t1461\t456\t100\tم\n",
      "1\tr\t0\t1401\t380\t1431\t456\t100\tو\n",
      "1\tr\t0\t1377\t380\t1401\t456\t100\tم\n",
      "1\tr\t0\t1368\t380\t1377\t456\t100\t \n",
      "1\tr\t0\t1344\t380\t1368\t456\t100\tو\n",
      "1\tr\t0\t1310\t380\t1344\t456\t100\tخ\n",
      "1\tr\t0\t1268\t380\t1311\t456\t100\tص\n",
      "1\tr\t0\t1226\t380\t1268\t456\t99\tو\n",
      "1\tr\t0\t1169\t380\t1226\t456\t93\tص\n",
      "1\tr\t1\t2054\t471\t2078\t541\t99\tم\n",
      "1\tr\t1\t2028\t471\t2055\t541\t100\tط\n",
      "1\tr\t1\t2010\t471\t2028\t541\t100\tل\n",
      "1\tr\t1\t1983\t471\t2010\t541\t100\tق\n",
      "1\tr\t1\t1948\t471\t1984\t541\t91\t.\n",
      "1\tr\t2\t1946\t550\t1965\t643\t68\tو\n",
      "1\tr\t2\t1928\t550\t1947\t643\t100\tا\n",
      "1\tr\t2\t1916\t550\t1928\t643\t100\tل\n",
      "1\tr\t2\t1894\t550\t1917\t643\t100\tف\n",
      "1\tr\t2\t1869\t550\t1895\t643\t87\tر\n",
      "1\tr\t2\t1846\t550\t1869\t643\t100\tق\n",
      "1\tr\t2\t1828\t550\t1847\t643\t100\t \n",
      "1\tr\t2\t1813\t550\t1828\t643\t99\tب\n",
      "1\tr\t2\t1795\t550\t1814\t643\t100\tي\n",
      "1\tr\t2\t1776\t550\t1795\t643\t97\tن\n",
      "1\tr\t2\t1757\t550\t1777\t643\t100\t \n",
      "1\tr\t2\t1750\t550\t1758\t643\t100\tا\n",
      "1\tr\t2\t1728\t550\t1751\t643\t100\tل\n",
      "1\tr\t2\t1706\t550\t1728\t643\t73\tم\n",
      "1\tr\t2\t1684\t550\t1706\t643\t100\tق\n",
      "1\tr\t2\t1661\t550\t1684\t643\t100\tد\n",
      "1\tr\t2\t1635\t550\t1662\t643\t100\tم\n",
      "1\tr\t2\t1624\t550\t1636\t643\t85\tة\n",
      "1\tr\t2\t1609\t550\t1625\t643\t100\t \n",
      "1\tr\t2\t1591\t550\t1610\t643\t99\tو\n",
      "1\tr\t2\t1572\t550\t1592\t643\t90\tا\n",
      "1\tr\t2\t1558\t550\t1573\t643\t100\tل\n",
      "1\tr\t2\t1531\t550\t1558\t643\t83\tم\n",
      "1\tr\t2\t1517\t550\t1532\t643\t99\tب\n",
      "1\tr\t2\t1502\t550\t1517\t643\t100\tا\n",
      "1\tr\t2\t1476\t550\t1503\t643\t100\tد\n",
      "1\tr\t2\t1447\t550\t1476\t643\t100\tى\n",
      "1\tr\t2\t1414\t550\t1446\t643\t59\tء\n",
      "1\tr\t2\t1387\t550\t1413\t643\t100\t \n",
      "1\tr\t2\t1372\t550\t1388\t643\t100\tا\n",
      "1\tr\t2\t1365\t550\t1373\t643\t84\tٔ\n",
      "1\tr\t2\t1346\t550\t1366\t643\t100\tن\n",
      "1\tr\t2\t1335\t550\t1347\t643\t84\t \n",
      "1\tr\t2\t1321\t550\t1336\t643\t100\tا\n",
      "1\tr\t2\t1299\t550\t1321\t643\t100\tل\n",
      "1\tr\t2\t1280\t550\t1299\t643\t100\tم\n",
      "1\tr\t2\t1262\t550\t1281\t643\t59\tق\n",
      "1\tr\t2\t1236\t550\t1262\t643\t90\tد\n",
      "1\tr\t2\t1213\t550\t1236\t643\t100\tم\n",
      "1\tr\t2\t1184\t550\t1214\t643\t100\tة\n",
      "2\t\t0\t586\t3068\t1120\t3179\t100\t6\n",
      "2\t\t0\t1112\t3068\t585\t3179\t99\t0\n",
      "2\t\t0\t1636\t3068\t1112\t3179\t100\t5\n",
      "2\t\t0\t563\t3068\t1636\t3179\t66\t9\n"
     ]
    }
   ],
   "source": [
    "page.show(stage=\"char\")"
   ]
  },
  {
   "cell_type": "markdown",
   "metadata": {},
   "source": [
    "And there is a proof page at character level.\n",
    "\n",
    "In the output you'll see a link to the proof page.\n",
    "When you are in Jupyter Lab, it opens the link in a new tab *within* the lab interface,\n",
    "and that will not render the page properly.\n",
    "\n",
    "**Workaround**: shift-right-click the link and select *open in a new tab*.\n",
    "Now the proof page is opened in a proper new browser tab, and there you can zoom in and out ad-lib."
   ]
  },
  {
   "cell_type": "code",
   "execution_count": 7,
   "metadata": {},
   "outputs": [
    {
     "data": {
      "text/html": [
       "<a href=\"proof/132-char.html\">see proof at char level</a>"
      ],
      "text/plain": [
       "<IPython.core.display.HTML object>"
      ]
     },
     "metadata": {},
     "output_type": "display_data"
    },
    {
     "data": {
      "text/html": [
       "\n",
       "        <iframe\n",
       "            width=\"1010px\"\n",
       "            height=\"1499px\"\n",
       "            src=\"proof/132-char.html\"\n",
       "            frameborder=\"0\"\n",
       "            allowfullscreen\n",
       "        ></iframe>\n",
       "        "
      ],
      "text/plain": [
       "<IPython.lib.display.IFrame at 0x7fdef818cd90>"
      ]
     },
     "metadata": {},
     "output_type": "display_data"
    }
   ],
   "source": [
    "page.show(stage=\"proofchar\")"
   ]
  },
  {
   "cell_type": "markdown",
   "metadata": {},
   "source": [
    "**For developers**\n",
    "\n",
    "If you are tweaking the generation and formatting of the proofpages, you do not need to perform the costly OCR process over and over again.\n",
    "The following method regenerates the proof pages on the basis of the existing OCR data."
   ]
  },
  {
   "cell_type": "code",
   "execution_count": 8,
   "metadata": {},
   "outputs": [],
   "source": [
    "page.proofing()"
   ]
  },
  {
   "cell_type": "markdown",
   "metadata": {},
   "source": [
    "# Check all pages\n",
    "\n",
    "Now we check all example pages in batch"
   ]
  },
  {
   "cell_type": "code",
   "execution_count": 9,
   "metadata": {},
   "outputs": [
    {
     "name": "stdout",
     "output_type": "stream",
     "text": [
      "  0.00s Batch of 1 pages: 47\n",
      "  0.00s Start batch processing images\n",
      "   |     5.46s     1 047.tif                                 \n",
      "  5.46s all done\n"
     ]
    },
    {
     "data": {
      "text/html": [
       "<a href=\"proof/047.html\">see proof at word level</a>"
      ],
      "text/plain": [
       "<IPython.core.display.HTML object>"
      ]
     },
     "metadata": {},
     "output_type": "display_data"
    },
    {
     "data": {
      "text/html": [
       "\n",
       "        <iframe\n",
       "            width=\"1010px\"\n",
       "            height=\"1508px\"\n",
       "            src=\"proof/047.html\"\n",
       "            frameborder=\"0\"\n",
       "            allowfullscreen\n",
       "        ></iframe>\n",
       "        "
      ],
      "text/plain": [
       "<IPython.lib.display.IFrame at 0x7fdec81dc7f0>"
      ]
     },
     "metadata": {},
     "output_type": "display_data"
    },
    {
     "name": "stdout",
     "output_type": "stream",
     "text": [
      "  0.00s Batch of 1 pages: 48\n",
      "  0.00s Start batch processing images\n",
      "   |     5.26s     1 048.tif                                 \n",
      "  5.26s all done\n"
     ]
    },
    {
     "data": {
      "text/html": [
       "<a href=\"proof/048.html\">see proof at word level</a>"
      ],
      "text/plain": [
       "<IPython.core.display.HTML object>"
      ]
     },
     "metadata": {},
     "output_type": "display_data"
    },
    {
     "data": {
      "text/html": [
       "\n",
       "        <iframe\n",
       "            width=\"1010px\"\n",
       "            height=\"1508px\"\n",
       "            src=\"proof/048.html\"\n",
       "            frameborder=\"0\"\n",
       "            allowfullscreen\n",
       "        ></iframe>\n",
       "        "
      ],
      "text/plain": [
       "<IPython.lib.display.IFrame at 0x7fdec81d12b0>"
      ]
     },
     "metadata": {},
     "output_type": "display_data"
    },
    {
     "name": "stdout",
     "output_type": "stream",
     "text": [
      "  0.00s Batch of 1 pages: 58\n",
      "  0.00s Start batch processing images\n",
      "   |     5.37s     1 058.tif                                 \n",
      "  5.38s all done\n"
     ]
    },
    {
     "data": {
      "text/html": [
       "<a href=\"proof/058.html\">see proof at word level</a>"
      ],
      "text/plain": [
       "<IPython.core.display.HTML object>"
      ]
     },
     "metadata": {},
     "output_type": "display_data"
    },
    {
     "data": {
      "text/html": [
       "\n",
       "        <iframe\n",
       "            width=\"1010px\"\n",
       "            height=\"1508px\"\n",
       "            src=\"proof/058.html\"\n",
       "            frameborder=\"0\"\n",
       "            allowfullscreen\n",
       "        ></iframe>\n",
       "        "
      ],
      "text/plain": [
       "<IPython.lib.display.IFrame at 0x7fdec81d12b0>"
      ]
     },
     "metadata": {},
     "output_type": "display_data"
    },
    {
     "name": "stdout",
     "output_type": "stream",
     "text": [
      "  0.00s Batch of 1 pages: 59\n",
      "  0.00s Start batch processing images\n",
      "   |     6.62s     1 059.tif                                 \n",
      "  6.62s all done\n"
     ]
    },
    {
     "data": {
      "text/html": [
       "<a href=\"proof/059.html\">see proof at word level</a>"
      ],
      "text/plain": [
       "<IPython.core.display.HTML object>"
      ]
     },
     "metadata": {},
     "output_type": "display_data"
    },
    {
     "data": {
      "text/html": [
       "\n",
       "        <iframe\n",
       "            width=\"1010px\"\n",
       "            height=\"1508px\"\n",
       "            src=\"proof/059.html\"\n",
       "            frameborder=\"0\"\n",
       "            allowfullscreen\n",
       "        ></iframe>\n",
       "        "
      ],
      "text/plain": [
       "<IPython.lib.display.IFrame at 0x7fdef818c910>"
      ]
     },
     "metadata": {},
     "output_type": "display_data"
    },
    {
     "name": "stdout",
     "output_type": "stream",
     "text": [
      "  0.00s Batch of 1 pages: 63\n",
      "  0.00s Start batch processing images\n",
      "   |     6.58s     1 063.tif                                 \n",
      "  6.58s all done\n"
     ]
    },
    {
     "data": {
      "text/html": [
       "<a href=\"proof/063.html\">see proof at word level</a>"
      ],
      "text/plain": [
       "<IPython.core.display.HTML object>"
      ]
     },
     "metadata": {},
     "output_type": "display_data"
    },
    {
     "data": {
      "text/html": [
       "\n",
       "        <iframe\n",
       "            width=\"1010px\"\n",
       "            height=\"1508px\"\n",
       "            src=\"proof/063.html\"\n",
       "            frameborder=\"0\"\n",
       "            allowfullscreen\n",
       "        ></iframe>\n",
       "        "
      ],
      "text/plain": [
       "<IPython.lib.display.IFrame at 0x7fdef818c8e0>"
      ]
     },
     "metadata": {},
     "output_type": "display_data"
    },
    {
     "name": "stdout",
     "output_type": "stream",
     "text": [
      "  0.00s Batch of 1 pages: 67\n",
      "  0.00s Start batch processing images\n",
      "   |     6.45s     1 067.tif                                 \n",
      "  6.46s all done\n"
     ]
    },
    {
     "data": {
      "text/html": [
       "<a href=\"proof/067.html\">see proof at word level</a>"
      ],
      "text/plain": [
       "<IPython.core.display.HTML object>"
      ]
     },
     "metadata": {},
     "output_type": "display_data"
    },
    {
     "data": {
      "text/html": [
       "\n",
       "        <iframe\n",
       "            width=\"1010px\"\n",
       "            height=\"1508px\"\n",
       "            src=\"proof/067.html\"\n",
       "            frameborder=\"0\"\n",
       "            allowfullscreen\n",
       "        ></iframe>\n",
       "        "
      ],
      "text/plain": [
       "<IPython.lib.display.IFrame at 0x7fdef818cd00>"
      ]
     },
     "metadata": {},
     "output_type": "display_data"
    },
    {
     "name": "stdout",
     "output_type": "stream",
     "text": [
      "  0.00s Batch of 1 pages: 101\n",
      "  0.00s Start batch processing images\n",
      "   |     4.64s     1 101.jpg                                 \n",
      "  4.65s all done\n"
     ]
    },
    {
     "data": {
      "text/html": [
       "<a href=\"proof/101.html\">see proof at word level</a>"
      ],
      "text/plain": [
       "<IPython.core.display.HTML object>"
      ]
     },
     "metadata": {},
     "output_type": "display_data"
    },
    {
     "data": {
      "text/html": [
       "\n",
       "        <iframe\n",
       "            width=\"1010px\"\n",
       "            height=\"1431px\"\n",
       "            src=\"proof/101.html\"\n",
       "            frameborder=\"0\"\n",
       "            allowfullscreen\n",
       "        ></iframe>\n",
       "        "
      ],
      "text/plain": [
       "<IPython.lib.display.IFrame at 0x7fdef818ca30>"
      ]
     },
     "metadata": {},
     "output_type": "display_data"
    },
    {
     "name": "stdout",
     "output_type": "stream",
     "text": [
      "  0.00s Batch of 1 pages: 102\n",
      "  0.00s Start batch processing images\n",
      "   |     5.89s     1 102.jpg                                 \n",
      "  5.89s all done\n"
     ]
    },
    {
     "data": {
      "text/html": [
       "<a href=\"proof/102.html\">see proof at word level</a>"
      ],
      "text/plain": [
       "<IPython.core.display.HTML object>"
      ]
     },
     "metadata": {},
     "output_type": "display_data"
    },
    {
     "data": {
      "text/html": [
       "\n",
       "        <iframe\n",
       "            width=\"1010px\"\n",
       "            height=\"1440px\"\n",
       "            src=\"proof/102.html\"\n",
       "            frameborder=\"0\"\n",
       "            allowfullscreen\n",
       "        ></iframe>\n",
       "        "
      ],
      "text/plain": [
       "<IPython.lib.display.IFrame at 0x7fdec81d1460>"
      ]
     },
     "metadata": {},
     "output_type": "display_data"
    },
    {
     "name": "stdout",
     "output_type": "stream",
     "text": [
      "  0.00s Batch of 1 pages: 111\n",
      "  0.00s Start batch processing images\n",
      "   |     6.56s     1 111.jpg                                 \n",
      "  6.57s all done\n"
     ]
    },
    {
     "data": {
      "text/html": [
       "<a href=\"proof/111.html\">see proof at word level</a>"
      ],
      "text/plain": [
       "<IPython.core.display.HTML object>"
      ]
     },
     "metadata": {},
     "output_type": "display_data"
    },
    {
     "data": {
      "text/html": [
       "\n",
       "        <iframe\n",
       "            width=\"1010px\"\n",
       "            height=\"1424px\"\n",
       "            src=\"proof/111.html\"\n",
       "            frameborder=\"0\"\n",
       "            allowfullscreen\n",
       "        ></iframe>\n",
       "        "
      ],
      "text/plain": [
       "<IPython.lib.display.IFrame at 0x7fdec81d1250>"
      ]
     },
     "metadata": {},
     "output_type": "display_data"
    },
    {
     "name": "stdout",
     "output_type": "stream",
     "text": [
      "  0.00s Batch of 1 pages: 112\n",
      "  0.00s Start batch processing images\n",
      "   |     7.98s     1 112.jpg                                 \n",
      "  7.98s all done\n"
     ]
    },
    {
     "data": {
      "text/html": [
       "<a href=\"proof/112.html\">see proof at word level</a>"
      ],
      "text/plain": [
       "<IPython.core.display.HTML object>"
      ]
     },
     "metadata": {},
     "output_type": "display_data"
    },
    {
     "data": {
      "text/html": [
       "\n",
       "        <iframe\n",
       "            width=\"1010px\"\n",
       "            height=\"1424px\"\n",
       "            src=\"proof/112.html\"\n",
       "            frameborder=\"0\"\n",
       "            allowfullscreen\n",
       "        ></iframe>\n",
       "        "
      ],
      "text/plain": [
       "<IPython.lib.display.IFrame at 0x7fdec81dc7f0>"
      ]
     },
     "metadata": {},
     "output_type": "display_data"
    },
    {
     "name": "stdout",
     "output_type": "stream",
     "text": [
      "  0.00s Batch of 1 pages: 113\n",
      "  0.00s Start batch processing images\n",
      "   |     7.34s     1 113.jpg                                 \n",
      "  7.34s all done\n"
     ]
    },
    {
     "data": {
      "text/html": [
       "<a href=\"proof/113.html\">see proof at word level</a>"
      ],
      "text/plain": [
       "<IPython.core.display.HTML object>"
      ]
     },
     "metadata": {},
     "output_type": "display_data"
    },
    {
     "data": {
      "text/html": [
       "\n",
       "        <iframe\n",
       "            width=\"1010px\"\n",
       "            height=\"1424px\"\n",
       "            src=\"proof/113.html\"\n",
       "            frameborder=\"0\"\n",
       "            allowfullscreen\n",
       "        ></iframe>\n",
       "        "
      ],
      "text/plain": [
       "<IPython.lib.display.IFrame at 0x7fdec81d8eb0>"
      ]
     },
     "metadata": {},
     "output_type": "display_data"
    },
    {
     "name": "stdout",
     "output_type": "stream",
     "text": [
      "  0.00s Batch of 1 pages: 121\n",
      "  0.00s Start batch processing images\n",
      "   |     6.95s     1 121.jpg                                 \n",
      "  6.96s all done\n"
     ]
    },
    {
     "data": {
      "text/html": [
       "<a href=\"proof/121.html\">see proof at word level</a>"
      ],
      "text/plain": [
       "<IPython.core.display.HTML object>"
      ]
     },
     "metadata": {},
     "output_type": "display_data"
    },
    {
     "data": {
      "text/html": [
       "\n",
       "        <iframe\n",
       "            width=\"1010px\"\n",
       "            height=\"1588px\"\n",
       "            src=\"proof/121.html\"\n",
       "            frameborder=\"0\"\n",
       "            allowfullscreen\n",
       "        ></iframe>\n",
       "        "
      ],
      "text/plain": [
       "<IPython.lib.display.IFrame at 0x7fdec81d1550>"
      ]
     },
     "metadata": {},
     "output_type": "display_data"
    },
    {
     "name": "stdout",
     "output_type": "stream",
     "text": [
      "  0.00s Batch of 1 pages: 122\n",
      "  0.00s Start batch processing images\n",
      "   |     5.91s     1 122.jpg                                 \n",
      "  5.91s all done\n"
     ]
    },
    {
     "data": {
      "text/html": [
       "<a href=\"proof/122.html\">see proof at word level</a>"
      ],
      "text/plain": [
       "<IPython.core.display.HTML object>"
      ]
     },
     "metadata": {},
     "output_type": "display_data"
    },
    {
     "data": {
      "text/html": [
       "\n",
       "        <iframe\n",
       "            width=\"1010px\"\n",
       "            height=\"1588px\"\n",
       "            src=\"proof/122.html\"\n",
       "            frameborder=\"0\"\n",
       "            allowfullscreen\n",
       "        ></iframe>\n",
       "        "
      ],
      "text/plain": [
       "<IPython.lib.display.IFrame at 0x7fdec81d88b0>"
      ]
     },
     "metadata": {},
     "output_type": "display_data"
    },
    {
     "name": "stdout",
     "output_type": "stream",
     "text": [
      "  0.00s Batch of 1 pages: 131\n",
      "  0.00s Start batch processing images\n",
      "   |     9.48s     1 131.jpg                                 \n",
      "  9.48s all done\n"
     ]
    },
    {
     "data": {
      "text/html": [
       "<a href=\"proof/131.html\">see proof at word level</a>"
      ],
      "text/plain": [
       "<IPython.core.display.HTML object>"
      ]
     },
     "metadata": {},
     "output_type": "display_data"
    },
    {
     "data": {
      "text/html": [
       "\n",
       "        <iframe\n",
       "            width=\"1010px\"\n",
       "            height=\"1499px\"\n",
       "            src=\"proof/131.html\"\n",
       "            frameborder=\"0\"\n",
       "            allowfullscreen\n",
       "        ></iframe>\n",
       "        "
      ],
      "text/plain": [
       "<IPython.lib.display.IFrame at 0x7fdec81d88b0>"
      ]
     },
     "metadata": {},
     "output_type": "display_data"
    },
    {
     "name": "stdout",
     "output_type": "stream",
     "text": [
      "  0.00s Batch of 1 pages: 132\n",
      "  0.00s Start batch processing images\n",
      "   |     5.61s     1 132.jpg                                 \n",
      "  5.61s all done\n"
     ]
    },
    {
     "data": {
      "text/html": [
       "<a href=\"proof/132.html\">see proof at word level</a>"
      ],
      "text/plain": [
       "<IPython.core.display.HTML object>"
      ]
     },
     "metadata": {},
     "output_type": "display_data"
    },
    {
     "data": {
      "text/html": [
       "\n",
       "        <iframe\n",
       "            width=\"1010px\"\n",
       "            height=\"1499px\"\n",
       "            src=\"proof/132.html\"\n",
       "            frameborder=\"0\"\n",
       "            allowfullscreen\n",
       "        ></iframe>\n",
       "        "
      ],
      "text/plain": [
       "<IPython.lib.display.IFrame at 0x7fdec81d1550>"
      ]
     },
     "metadata": {},
     "output_type": "display_data"
    },
    {
     "name": "stdout",
     "output_type": "stream",
     "text": [
      "  0.00s Batch of 1 pages: 200\n",
      "  0.00s Start batch processing images\n",
      "   |       38s     1 200.tif                                 \n",
      "    38s all done\n"
     ]
    },
    {
     "data": {
      "text/html": [
       "<a href=\"proof/200.html\">see proof at word level</a>"
      ],
      "text/plain": [
       "<IPython.core.display.HTML object>"
      ]
     },
     "metadata": {},
     "output_type": "display_data"
    },
    {
     "data": {
      "text/html": [
       "\n",
       "        <iframe\n",
       "            width=\"1010px\"\n",
       "            height=\"1489px\"\n",
       "            src=\"proof/200.html\"\n",
       "            frameborder=\"0\"\n",
       "            allowfullscreen\n",
       "        ></iframe>\n",
       "        "
      ],
      "text/plain": [
       "<IPython.lib.display.IFrame at 0x7fdef818c940>"
      ]
     },
     "metadata": {},
     "output_type": "display_data"
    },
    {
     "name": "stdout",
     "output_type": "stream",
     "text": [
      "  0.00s Batch of 1 pages: 300\n",
      "  0.00s Start batch processing images\n",
      "   |       25s     1 300.tif                                 \n",
      "    25s all done\n"
     ]
    },
    {
     "data": {
      "text/html": [
       "<a href=\"proof/300.html\">see proof at word level</a>"
      ],
      "text/plain": [
       "<IPython.core.display.HTML object>"
      ]
     },
     "metadata": {},
     "output_type": "display_data"
    },
    {
     "data": {
      "text/html": [
       "\n",
       "        <iframe\n",
       "            width=\"1010px\"\n",
       "            height=\"1406px\"\n",
       "            src=\"proof/300.html\"\n",
       "            frameborder=\"0\"\n",
       "            allowfullscreen\n",
       "        ></iframe>\n",
       "        "
      ],
      "text/plain": [
       "<IPython.lib.display.IFrame at 0x7fdec81d1460>"
      ]
     },
     "metadata": {},
     "output_type": "display_data"
    },
    {
     "name": "stdout",
     "output_type": "stream",
     "text": [
      "  0.00s Batch of 1 pages: 400\n",
      "  0.00s Start batch processing images\n",
      "   |       30s     1 400.tif                                 \n",
      "    30s all done\n"
     ]
    },
    {
     "data": {
      "text/html": [
       "<a href=\"proof/400.html\">see proof at word level</a>"
      ],
      "text/plain": [
       "<IPython.core.display.HTML object>"
      ]
     },
     "metadata": {},
     "output_type": "display_data"
    },
    {
     "data": {
      "text/html": [
       "\n",
       "        <iframe\n",
       "            width=\"1010px\"\n",
       "            height=\"1741px\"\n",
       "            src=\"proof/400.html\"\n",
       "            frameborder=\"0\"\n",
       "            allowfullscreen\n",
       "        ></iframe>\n",
       "        "
      ],
      "text/plain": [
       "<IPython.lib.display.IFrame at 0x7fdec81dc7f0>"
      ]
     },
     "metadata": {},
     "output_type": "display_data"
    },
    {
     "name": "stdout",
     "output_type": "stream",
     "text": [
      "  0.00s Batch of 1 pages: 999\n",
      "  0.00s Start batch processing images\n",
      "   |     0.51s     1 999.jpg                                 \n",
      "  0.51s all done\n"
     ]
    },
    {
     "data": {
      "text/html": [
       "<a href=\"proof/999.html\">see proof at word level</a>"
      ],
      "text/plain": [
       "<IPython.core.display.HTML object>"
      ]
     },
     "metadata": {},
     "output_type": "display_data"
    },
    {
     "data": {
      "text/html": [
       "\n",
       "        <iframe\n",
       "            width=\"1010px\"\n",
       "            height=\"378px\"\n",
       "            src=\"proof/999.html\"\n",
       "            frameborder=\"0\"\n",
       "            allowfullscreen\n",
       "        ></iframe>\n",
       "        "
      ],
      "text/plain": [
       "<IPython.lib.display.IFrame at 0x7fdec81d88b0>"
      ]
     },
     "metadata": {},
     "output_type": "display_data"
    }
   ],
   "source": [
    "page = checkOcr(None)"
   ]
  },
  {
   "cell_type": "code",
   "execution_count": null,
   "metadata": {},
   "outputs": [],
   "source": []
  }
 ],
 "metadata": {
  "kernelspec": {
   "display_name": "Python 3",
   "language": "python",
   "name": "python3"
  },
  "language_info": {
   "codemirror_mode": {
    "name": "ipython",
    "version": 3
   },
   "file_extension": ".py",
   "mimetype": "text/x-python",
   "name": "python",
   "nbconvert_exporter": "python",
   "pygments_lexer": "ipython3",
   "version": "3.8.5"
  },
  "toc-autonumbering": true,
  "toc-showcode": false,
  "toc-showmarkdowntxt": false
 },
 "nbformat": 4,
 "nbformat_minor": 4
}
