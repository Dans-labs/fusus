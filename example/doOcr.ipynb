{
 "cells": [
  {
   "cell_type": "markdown",
   "metadata": {},
   "source": [
    "# Pipeline\n",
    "\n",
    "See [usage](https://among.github.io/fusus/use/).\n",
    "\n",
    "See [example](https://github.com/among/fusus/blob/master/example/doExample.ipynb).\n",
    "\n",
    "How to read this notebook:\n",
    "\n",
    "1.  *best experience*\n",
    "    get this repository on your computer and run `jupyter lab`.\n",
    "    Also install the table of contents extension in Jupyter Lab, since this is a lengthy notebook\n",
    "    You can run the code cells now.\n",
    "1.  *good reading experience*\n",
    "    read it on [NbViewer](https://nbviewer.jupyter.org/github/among/fusus/blob/master/example/doExample.ipynb)\n",
    "1.  *suboptimal*\n",
    "    read it directly on [GitHub](https://github.com/among/fusus/blob/master/example/doExample.ipynb)\n",
    "    (long time to load)"
   ]
  },
  {
   "cell_type": "markdown",
   "metadata": {},
   "source": [
    "# The beginning\n",
    "\n",
    "Enable autoloading of changed code.\n",
    "\n",
    "Change the directory to where this notebook resides on disk, i.e. near the book's scanned pages directory."
   ]
  },
  {
   "cell_type": "code",
   "execution_count": 1,
   "metadata": {},
   "outputs": [],
   "source": [
    "%load_ext autoreload\n",
    "%autoreload 2\n",
    "!cd `pwd`"
   ]
  },
  {
   "cell_type": "markdown",
   "metadata": {},
   "source": [
    "Import the pipeline package.\n",
    "\n",
    "See [install](https://among.github.io/fusus/about/install.html)."
   ]
  },
  {
   "cell_type": "code",
   "execution_count": 2,
   "metadata": {},
   "outputs": [],
   "source": [
    "from pipeline.book import Book"
   ]
  },
  {
   "cell_type": "markdown",
   "metadata": {},
   "source": [
    "Initialize the processing line."
   ]
  },
  {
   "cell_type": "code",
   "execution_count": 3,
   "metadata": {},
   "outputs": [],
   "source": [
    "B = Book()"
   ]
  },
  {
   "cell_type": "code",
   "execution_count": 5,
   "metadata": {},
   "outputs": [
    {
     "name": "stdout",
     "output_type": "stream",
     "text": [
      "  0.00s Batch of 18 pages: 47-48,58-59,63,67,101-102,111-113,121-122,131-132,200,300,400\n",
      "  0.00s Start batch processing images\n",
      "   |     0.99s     1 047.tif                                 \n",
      "   |     1.05s     2 048.tif                                 \n",
      "   |     1.04s     3 058.tif                                 \n",
      "   |     1.09s     4 059.tif                                 \n",
      "   |     1.14s     5 063.tif                                 \n",
      "   |     1.12s     6 067.tif                                 \n",
      "   |     0.70s     7 101.jpg                                 \n",
      "   |     0.88s     8 102.jpg                                 \n",
      "   |     1.08s     9 111.jpg                                 \n",
      "   |     1.23s    10 112.jpg                                 \n",
      "   |     1.13s    11 113.jpg                                 \n",
      "   |     1.04s    12 121.jpg                                 \n",
      "   |     0.96s    13 122.jpg                                 \n",
      "   |     1.56s    14 131.jpg                                 \n",
      "   |     1.47s    15 132.jpg                                 \n",
      "   |     5.23s    16 200.tif                                 \n",
      "   |     4.60s    17 300.tif                                 \n",
      "   |     5.42s    18 400.tif                                 \n",
      "    32s all done\n",
      "    32s all done\n"
     ]
    },
    {
     "data": {
      "text/plain": [
       "<pipeline.page.Page at 0x7fc8111b9370>"
      ]
     },
     "execution_count": 5,
     "metadata": {},
     "output_type": "execute_result"
    }
   ],
   "source": [
    "B.process(doOcr=False)"
   ]
  },
  {
   "cell_type": "code",
   "execution_count": null,
   "metadata": {},
   "outputs": [],
   "source": []
  }
 ],
 "metadata": {
  "kernelspec": {
   "display_name": "Python 3",
   "language": "python",
   "name": "python3"
  },
  "language_info": {
   "codemirror_mode": {
    "name": "ipython",
    "version": 3
   },
   "file_extension": ".py",
   "mimetype": "text/x-python",
   "name": "python",
   "nbconvert_exporter": "python",
   "pygments_lexer": "ipython3",
   "version": "3.8.5"
  },
  "toc-autonumbering": true,
  "toc-showcode": false,
  "toc-showmarkdowntxt": false
 },
 "nbformat": 4,
 "nbformat_minor": 4
}
