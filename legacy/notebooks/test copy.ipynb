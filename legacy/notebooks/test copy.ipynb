{
 "cells": [
  {
   "cell_type": "code",
   "execution_count": 5,
   "metadata": {},
   "outputs": [],
   "source": [
    "import re"
   ]
  },
  {
   "cell_type": "code",
   "execution_count": 52,
   "metadata": {},
   "outputs": [],
   "source": [
    "WORD_RE = re.compile(r\"\"\"\n",
    "      ([x-z]+)\n",
    "      |\n",
    "      ([a-d]+)\n",
    "\"\"\", re.X)"
   ]
  },
  {
   "cell_type": "code",
   "execution_count": 53,
   "metadata": {},
   "outputs": [],
   "source": [
    "string = \"ccxzaayzbbzz\""
   ]
  },
  {
   "cell_type": "code",
   "execution_count": 54,
   "metadata": {},
   "outputs": [
    {
     "data": {
      "text/plain": [
       "[('', 'cc'), ('xz', ''), ('', 'aa'), ('yz', ''), ('', 'bb'), ('zz', '')]"
      ]
     },
     "execution_count": 54,
     "metadata": {},
     "output_type": "execute_result"
    }
   ],
   "source": [
    "x = WORD_RE.findall(string)\n",
    "x"
   ]
  },
  {
   "cell_type": "code",
   "execution_count": 9,
   "metadata": {},
   "outputs": [],
   "source": [
    "CHUNK_RE = re.compile(fr\"[{nonLetterRange}]\")"
   ]
  },
  {
   "cell_type": "code",
   "execution_count": 14,
   "metadata": {},
   "outputs": [],
   "source": [
    "string = \"..aa\""
   ]
  },
  {
   "cell_type": "code",
   "execution_count": 15,
   "metadata": {},
   "outputs": [
    {
     "data": {
      "text/plain": [
       "<re.Match object; span=(0, 1), match='.'>"
      ]
     },
     "execution_count": 15,
     "metadata": {},
     "output_type": "execute_result"
    }
   ],
   "source": [
    "match = CHUNK_RE.match(string)\n",
    "match"
   ]
  },
  {
   "cell_type": "code",
   "execution_count": 85,
   "metadata": {},
   "outputs": [],
   "source": [
    "PART = r\"\"\"!\"\\#\\$%\\&\\'\\(\\)\\*\\+,\\-\\./:;<=>\\?@\\[\\]\\{\\}«»ʰʱʲʳʴʵʶʷʸʹʺʻʼʽʾʿˀˁ˂˃˄˅ˆˇˈˉˊˋˌˍˎˏːˑ˒˓˔˕˖˗˘˙˚˛˜˝˞˟ˠˡˢˣˤ˥˦˧˨˩˪˫ˬ˭ˮ˯˰˱˲˳˴˵˶˷˸˹˺˻˼˽˾˿̀́̂̃̄\u0001،؛\\u061c\\u061d؞؟‐‑‒–—―‖‗‘’‚‛“”„‟†‡•‣․ ‥…‧\\u2028\\u2029‹›⁅⁆⁌⁍﴾﴿\"\"\"\n",
    "\n",
    "WORD_RE = re.compile(f\"\"\"\n",
    "(\n",
    "[^{PART}]+\n",
    ")\n",
    "|\n",
    "(\n",
    "[{PART}]+\n",
    ")\n",
    "\"\"\", re.X)"
   ]
  },
  {
   "cell_type": "code",
   "execution_count": 86,
   "metadata": {},
   "outputs": [],
   "source": [
    "string = 'إِلىٰأَكْثَرَ،إِلىٰ' "
   ]
  },
  {
   "cell_type": "code",
   "execution_count": 87,
   "metadata": {},
   "outputs": [
    {
     "name": "stdout",
     "output_type": "stream",
     "text": [
      "PART letters='إِلىٰأَكْثَرَ' nonLetters=''\n",
      "PART letters='' nonLetters='،'\n",
      "PART letters='إِلىٰ' nonLetters=''\n"
     ]
    }
   ],
   "source": [
    "parts = []\n",
    "first = True\n",
    "\n",
    "for (letters, nonLetters) in WORD_RE.findall(string):\n",
    "    print(f\"PART {letters=} {nonLetters=}\")\n",
    "    if first:\n",
    "        parts.append([nonLetters, letters, \"\"])\n",
    "        first = False\n",
    "    elif letters:\n",
    "        parts.append([\"\", letters, \"\"])\n",
    "    else:\n",
    "        parts[-1][-1] += nonLetters\n",
    "    if parts:\n",
    "        parts[-1][-1] += \" \"\n"
   ]
  },
  {
   "cell_type": "code",
   "execution_count": 89,
   "metadata": {},
   "outputs": [
    {
     "name": "stdout",
     "output_type": "stream",
     "text": [
      "PART\n",
      "\tpart[0]=''\n",
      "\tpart[1]='إِلىٰأَكْثَرَ'\n",
      "\tpart[2]=' ، '\n",
      "PART\n",
      "\tpart[0]=''\n",
      "\tpart[1]='إِلىٰ'\n",
      "\tpart[2]=' '\n"
     ]
    }
   ],
   "source": [
    "for part in parts:\n",
    "    print(\"PART\")\n",
    "    print(f\"\\t{part[0]=}\")\n",
    "    print(f\"\\t{part[1]=}\")\n",
    "    print(f\"\\t{part[2]=}\")"
   ]
  },
  {
   "cell_type": "code",
   "execution_count": null,
   "metadata": {},
   "outputs": [],
   "source": []
  }
 ],
 "metadata": {
  "kernelspec": {
   "display_name": "Python3.9",
   "language": "python",
   "name": "python3"
  },
  "language_info": {
   "codemirror_mode": {
    "name": "ipython",
    "version": 3
   },
   "file_extension": ".py",
   "mimetype": "text/x-python",
   "name": "python",
   "nbconvert_exporter": "python",
   "pygments_lexer": "ipython3",
   "version": "3.9.0"
  }
 },
 "nbformat": 4,
 "nbformat_minor": 4
}
