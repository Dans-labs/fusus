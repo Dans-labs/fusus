{
 "cells": [
  {
   "cell_type": "code",
   "execution_count": 1,
   "metadata": {},
   "outputs": [],
   "source": [
    "from tf.app import use"
   ]
  },
  {
   "cell_type": "code",
   "execution_count": 2,
   "metadata": {},
   "outputs": [
    {
     "data": {
      "text/html": [
       "<b title=\"local github\">data:</b> <span title=\"repo clone offline under ~/github\">~/github/among/fusus/tf/fusus/Lakhnawi/0.1</span>"
      ],
      "text/plain": [
       "<IPython.core.display.HTML object>"
      ]
     },
     "metadata": {},
     "output_type": "display_data"
    },
    {
     "data": {
      "text/html": [
       "<b>Text-Fabric:</b> <a target=\"_blank\" href=\"https://annotation.github.io/text-fabric/cheatsheet.html\" title=\"text-fabric-api\">Text-Fabric API 8.4.6</a>, no app configured<br><b>Data:</b> among/fusus/tf/fusus/Lakhnawi/0.1<br><b>Features:</b><br><details><summary><b>among/fusus/tf/fusus/Lakhnawi</b></summary><a target=\"_blank\" href=\"https://github.com/among/fusus/tree/master/tf/fusus/Lakhnawi\" title=\"~/github/among/fusus/tf/fusus/Lakhnawi/0.1/boxb.tf\">boxb</a><br><a target=\"_blank\" href=\"https://github.com/among/fusus/tree/master/tf/fusus/Lakhnawi\" title=\"~/github/among/fusus/tf/fusus/Lakhnawi/0.1/boxl.tf\">boxl</a><br><a target=\"_blank\" href=\"https://github.com/among/fusus/tree/master/tf/fusus/Lakhnawi\" title=\"~/github/among/fusus/tf/fusus/Lakhnawi/0.1/boxr.tf\">boxr</a><br><a target=\"_blank\" href=\"https://github.com/among/fusus/tree/master/tf/fusus/Lakhnawi\" title=\"~/github/among/fusus/tf/fusus/Lakhnawi/0.1/boxt.tf\">boxt</a><br><a target=\"_blank\" href=\"https://github.com/among/fusus/tree/master/tf/fusus/Lakhnawi\" title=\"~/github/among/fusus/tf/fusus/Lakhnawi/0.1/dir.tf\">dir</a><br><a target=\"_blank\" href=\"https://github.com/among/fusus/tree/master/tf/fusus/Lakhnawi\" title=\"~/github/among/fusus/tf/fusus/Lakhnawi/0.1/n.tf\">n</a><br><a target=\"_blank\" href=\"https://github.com/among/fusus/tree/master/tf/fusus/Lakhnawi\" title=\"~/github/among/fusus/tf/fusus/Lakhnawi/0.1/np.tf\">np</a><br><a target=\"_blank\" href=\"https://github.com/among/fusus/tree/master/tf/fusus/Lakhnawi\" title=\"~/github/among/fusus/tf/fusus/Lakhnawi/0.1/otype.tf\">otype</a><br><a target=\"_blank\" href=\"https://github.com/among/fusus/tree/master/tf/fusus/Lakhnawi\" title=\"~/github/among/fusus/tf/fusus/Lakhnawi/0.1/punc.tf\">punc</a><br><a target=\"_blank\" href=\"https://github.com/among/fusus/tree/master/tf/fusus/Lakhnawi\" title=\"~/github/among/fusus/tf/fusus/Lakhnawi/0.1/text.tf\">text</a><br><a target=\"_blank\" href=\"https://github.com/among/fusus/tree/master/tf/fusus/Lakhnawi\" title=\"~/github/among/fusus/tf/fusus/Lakhnawi/0.1/title.tf\">title</a><br><b><i><a target=\"_blank\" href=\"https://github.com/among/fusus/tree/master/tf/fusus/Lakhnawi\" title=\"~/github/among/fusus/tf/fusus/Lakhnawi/0.1/oslots.tf\">oslots</a></i></b><br></details>"
      ],
      "text/plain": [
       "<IPython.core.display.HTML object>"
      ]
     },
     "metadata": {},
     "output_type": "display_data"
    },
    {
     "data": {
      "text/html": [
       "<style>tr.tf.ltr, td.tf.ltr, th.tf.ltr { text-align: left ! important;}\n",
       "tr.tf.rtl, td.tf.rtl, th.tf.rtl { text-align: right ! important;}\n",
       "@font-face {\n",
       "  font-family: \"Gentium Plus\";\n",
       "  src: local('Gentium Plus'), local('GentiumPlus'),\n",
       "    url('/server/static/fonts/GentiumPlus-R.woff') format('woff'),\n",
       "    url('https://github.com/annotation/text-fabric/blob/master/tf/server/static/fonts/GentiumPlus-R.woff?raw=true') format('woff');\n",
       "}\n",
       "\n",
       "@font-face {\n",
       "  font-family: \"Ezra SIL\";\n",
       "  src: local('Ezra SIL'), local('EzraSIL'),\n",
       "    url('/server/static/fonts/SILEOT.woff') format('woff'),\n",
       "    url('https://github.com/annotation/text-fabric/blob/master/tf/server/static/fonts/SILEOT.woff?raw=true') format('woff');\n",
       "}\n",
       "\n",
       "@font-face {\n",
       "  font-family: \"SBL Hebrew\";\n",
       "  src: local('SBL Hebrew'), local('SBLHebrew'),\n",
       "    url('/server/static/fonts/SBL_Hbrw.woff') format('woff'),\n",
       "    url('https://github.com/annotation/text-fabric/blob/master/tf/server/static/fonts/SBL_Hbrw.woff?raw=true') format('woff');\n",
       "}\n",
       "\n",
       "@font-face {\n",
       "  font-family: \"Estrangelo Edessa\";\n",
       "  src: local('Estrangelo Edessa'), local('EstrangeloEdessa');\n",
       "    url('/server/static/fonts/SyrCOMEdessa.woff') format('woff'),\n",
       "    url('https://github.com/annotation/text-fabric/blob/master/tf/server/static/fonts/SyrCOMEdessa.woff?raw=true') format('woff');\n",
       "}\n",
       "\n",
       "@font-face {\n",
       "  font-family: AmiriQuran;\n",
       "  font-style: normal;\n",
       "  font-weight: 400;\n",
       "  src: local('Amiri Quran'), local('AmiriQuran'),\n",
       "    url('/server/static/fonts/AmiriQuran.woff') format('woff'),\n",
       "    url('https://github.com/annotation/text-fabric/blob/master/tf/server/static/fonts/AmiriQuran.woff?raw=true') format('woff');\n",
       "}\n",
       "\n",
       "@font-face {\n",
       "  font-family: AmiriQuranColored;\n",
       "  font-style: normal;\n",
       "  font-weight: 400;\n",
       "  src: local('Amiri Quran Colored'), local('AmiriQuranColored'),\n",
       "    url('/server/static/fonts/AmiriQuranColored.woff') format('woff'),\n",
       "    url('https://github.com/annotation/text-fabric/blob/master/tf/server/static/fonts/AmiriQuranColored.woff?raw=true') format('woff');\n",
       "}\n",
       "\n",
       "@font-face {\n",
       "  font-family: \"Santakku\";\n",
       "  src: local('Santakku'),\n",
       "    url('/server/static/fonts/Santakku.woff') format('woff'),\n",
       "    url('https://github.com/annotation/text-fabric/blob/master/tf/server/static/fonts/Santakku.woff?raw=true') format('woff');\n",
       "}\n",
       "\n",
       "@font-face {\n",
       "  font-family: \"SantakkuM\";\n",
       "  src: local('SantakkuM'),\n",
       "    url('/server/static/fonts/SantakkuM.woff') format('woff'),\n",
       "    url('https://github.com/annotation/text-fabric/blob/master/tf/server/static/fonts/SantakkuM.woff?raw=true') format('woff');\n",
       "}\n",
       "/* bypassing some classical notebook settings */\n",
       "div#notebook {\n",
       "  line-height: unset;\n",
       "}\n",
       "/* neutral text */\n",
       ".txtn,.txtn a:visited,.txtn a:link {\n",
       "    font-family: sans-serif;\n",
       "    font-size: medium;\n",
       "    direction: ltr;\n",
       "    unicode-bidi: embed;\n",
       "    text-decoration: none;\n",
       "    color: var(--text-color);\n",
       "}\n",
       "/* transcription text */\n",
       ".txtt,.txtt a:visited,.txtt a:link {\n",
       "    font-family: monospace;\n",
       "    font-size: medium;\n",
       "    direction: ltr;\n",
       "    unicode-bidi: embed;\n",
       "    text-decoration: none;\n",
       "    color: var(--text-color);\n",
       "}\n",
       "/* source text */\n",
       ".txto,.txto a:visited,.txto a:link {\n",
       "    font-family: serif;\n",
       "    font-size: medium;\n",
       "    direction: ltr;\n",
       "    unicode-bidi: embed;\n",
       "    text-decoration: none;\n",
       "    color: var(--text-color);\n",
       "}\n",
       "/* phonetic text */\n",
       ".txtp,.txtp a:visited,.txtp a:link {\n",
       "    font-family: Gentium, sans-serif;\n",
       "    font-size: medium;\n",
       "    direction: ltr;\n",
       "    unicode-bidi: embed;\n",
       "    text-decoration: none;\n",
       "    color: var(--text-color);\n",
       "}\n",
       "/* original script text */\n",
       ".txtu,.txtu a:visited,.txtu a:link {\n",
       "    font-family: Gentium, sans-serif;\n",
       "    font-size: medium;\n",
       "    text-decoration: none;\n",
       "    color: var(--text-color);\n",
       "}\n",
       "/* hebrew */\n",
       ".txtu.hbo,.lex.hbo {\n",
       "    font-family: \"Ezra SIL\", \"SBL Hebrew\", sans-serif;\n",
       "    font-size: large;\n",
       "    direction: rtl ! important;\n",
       "    unicode-bidi: embed;\n",
       "}\n",
       "/* syriac */\n",
       ".txtu.syc,.lex.syc {\n",
       "    font-family: \"Estrangelo Edessa\", sans-serif;\n",
       "    font-size: medium;\n",
       "    direction: rtl ! important;\n",
       "    unicode-bidi: embed;\n",
       "}\n",
       "/* neo aramaic */\n",
       ".txtu.cld,.lex.cld {\n",
       "    font-family: \"CharisSIL-R\", sans-serif;\n",
       "    font-size: medium;\n",
       "    direction: ltr ! important;\n",
       "    unicode-bidi: embed;\n",
       "}\n",
       "/* standard arabic */\n",
       ".txtu.ara,.lex.ara {\n",
       "    font-family: \"AmiriQuran\", sans-serif;\n",
       "    font-size: large;\n",
       "    direction: rtl ! important;\n",
       "    unicode-bidi: embed;\n",
       "}\n",
       "/* cuneiform */\n",
       ".txtu.akk,.lex.akk {\n",
       "    font-family: Santakku, sans-serif;\n",
       "    font-size: large;\n",
       "    direction: ltr ! important;\n",
       "    unicode-bidi: embed;\n",
       "}\n",
       "/* greek */\n",
       ".txtu.grc,.lex.grc a:link {\n",
       "    font-family: Gentium, sans-serif;\n",
       "    font-size: medium;\n",
       "    direction: ltr ! important;\n",
       "    unicode-bidi: embed;\n",
       "}\n",
       "a:hover {\n",
       "    text-decoration: underline | important;\n",
       "    color: #0000ff | important;\n",
       "}\n",
       ".ltr {\n",
       "    direction: ltr ! important;\n",
       "    unicode-bidi: embed;\n",
       "}\n",
       ".rtl {\n",
       "    direction: rtl ! important;\n",
       "    unicode-bidi: embed;\n",
       "}\n",
       ".ubd {\n",
       "    unicode-bidi: embed;\n",
       "}\n",
       ".col {\n",
       "   display: inline-block;\n",
       "}\n",
       ".features {\n",
       "    font-family: monospace;\n",
       "    font-size: medium;\n",
       "    font-weight: bold;\n",
       "    color: var(--features);\n",
       "    display: flex;\n",
       "    flex-flow: column nowrap;\n",
       "    justify-content: flex-start;\n",
       "    align-items: flex-start;\n",
       "    align-content: flex-start;\n",
       "    padding: 2px;\n",
       "    margin: 2px;\n",
       "    direction: ltr;\n",
       "    unicode-bidi: embed;\n",
       "    border: var(--meta-width) solid var(--meta-color);\n",
       "    border-radius: var(--meta-width);\n",
       "}\n",
       ".features div,.features span {\n",
       "    padding: 0;\n",
       "    margin: -2px 0;\n",
       "}\n",
       ".features .f {\n",
       "    font-family: sans-serif;\n",
       "    font-size: small;\n",
       "    font-weight: normal;\n",
       "    color: #5555bb;\n",
       "}\n",
       ".features .xft {\n",
       "  color: #000000;\n",
       "  background-color: #eeeeee;\n",
       "  font-size: medium;\n",
       "  margin: 2px 0px;\n",
       "}\n",
       ".features .xft .f {\n",
       "  color: #000000;\n",
       "  background-color: #eeeeee;\n",
       "  font-size: small;\n",
       "  font-weight: normal;\n",
       "}\n",
       ".tfsechead {\n",
       "    font-family: sans-serif;\n",
       "    font-size: small;\n",
       "    font-weight: bold;\n",
       "    color: var(--tfsechead);\n",
       "    unicode-bidi: embed;\n",
       "    text-align: start;\n",
       "}\n",
       ".structure {\n",
       "    font-family: sans-serif;\n",
       "    font-size: small;\n",
       "    font-weight: bold;\n",
       "    color: var(--structure);\n",
       "    unicode-bidi: embed;\n",
       "    text-align: start;\n",
       "}\n",
       ".comments {\n",
       "    display: flex;\n",
       "    justify-content: flex-start;\n",
       "    align-items: flex-start;\n",
       "    align-content: flex-start;\n",
       "    flex-flow: column nowrap;\n",
       "}\n",
       ".nd, a:link.nd {\n",
       "    font-family: sans-serif;\n",
       "    font-size: small;\n",
       "    color: var(--node);\n",
       "    vertical-align: super;\n",
       "    direction: ltr ! important;\n",
       "    unicode-bidi: embed;\n",
       "}\n",
       ".lex {\n",
       "  color: var(--lex-color);;\n",
       "}\n",
       ".children,.children.ltr {\n",
       "    display: flex;\n",
       "    border: 0;\n",
       "    background-color: #ffffff;\n",
       "    justify-content: flex-start;\n",
       "    align-items: flex-start;\n",
       "    align-content: flex-start;\n",
       "}\n",
       ".children.stretch {\n",
       "    align-items: stretch;\n",
       "}\n",
       ".children.hor {\n",
       "    flex-flow: row nowrap;\n",
       "}\n",
       ".children.hor.wrap {\n",
       "    flex-flow: row wrap;\n",
       "}\n",
       ".children.ver {\n",
       "    flex-flow: column nowrap;\n",
       "}\n",
       ".children.ver.wrap {\n",
       "    flex-flow: column wrap;\n",
       "}\n",
       ".contnr {\n",
       "    width: fit-content;\n",
       "    display: flex;\n",
       "    justify-content: flex-start;\n",
       "    align-items: flex-start;\n",
       "    align-content: flex-start;\n",
       "    flex-flow: column nowrap;\n",
       "    background: #ffffff none repeat scroll 0 0;\n",
       "    padding:  10px 2px 2px 2px;\n",
       "    margin: 16px 2px 2px 2px;\n",
       "    border-style: solid;\n",
       "    font-size: small;\n",
       "}\n",
       ".contnr.trm {\n",
       "    background-attachment: local;\n",
       "}\n",
       ".contnr.cnul {\n",
       "    padding:  0;\n",
       "    margin: 0;\n",
       "    border-style: solid;\n",
       "    font-size: xx-small;\n",
       "}\n",
       ".contnr.cnul,.lbl.cnul {\n",
       "    border-color: var(--border-color-nul);\n",
       "    border-width: var(--border-width-nul);\n",
       "    border-radius: var(--border-width-nul);\n",
       "}\n",
       ".contnr.c0,.lbl.c0 {\n",
       "    border-color: var(--border-color0);\n",
       "    border-width: var(--border-width0);\n",
       "    border-radius: var(--border-width0);\n",
       "}\n",
       ".contnr.c1,.lbl.c1 {\n",
       "    border-color: var(--border-color1);\n",
       "    border-width: var(--border-width1);\n",
       "    border-radius: var(--border-width1);\n",
       "}\n",
       ".contnr.c2,.lbl.c2 {\n",
       "    border-color: var(--border-color2);\n",
       "    border-width: var(--border-width2);\n",
       "    border-radius: var(--border-width2);\n",
       "}\n",
       ".contnr.c3,.lbl.c3 {\n",
       "    border-color: var(--border-color3);\n",
       "    border-width: var(--border-width3);\n",
       "    border-radius: var(--border-width3);\n",
       "}\n",
       ".contnr.c4,.lbl.c4 {\n",
       "    border-color: var(--border-color4);\n",
       "    border-width: var(--border-width4);\n",
       "    border-radius: var(--border-width4);\n",
       "}\n",
       "span.plain {\n",
       "    display: inline-block;\n",
       "    white-space: pre-wrap;\n",
       "}\n",
       ".plain {\n",
       "    background-color: #ffffff;\n",
       "}\n",
       ".plain.l,.contnr.l,.contnr.l>.lbl {\n",
       "    border-left-style: dotted\n",
       "}\n",
       ".plain.r,.contnr.r,.contnr.r>.lbl {\n",
       "    border-right-style: dotted\n",
       "}\n",
       ".plain.lno,.contnr.lno,.contnr.lno>.lbl {\n",
       "    border-left-style: none\n",
       "}\n",
       ".plain.rno,.contnr.rno,.contnr.rno>.lbl {\n",
       "    border-right-style: none\n",
       "}\n",
       ".plain.l {\n",
       "    padding-left: 4px;\n",
       "    margin-left: 2px;\n",
       "    border-width: var(--border-width-plain);\n",
       "}\n",
       ".plain.r {\n",
       "    padding-right: 4px;\n",
       "    margin-right: 2px;\n",
       "    border-width: var(--border-width-plain);\n",
       "}\n",
       ".lbl {\n",
       "    font-family: monospace;\n",
       "    margin-top: -24px;\n",
       "    margin-left: 20px;\n",
       "    background: #ffffff none repeat scroll 0 0;\n",
       "    padding: 0 6px;\n",
       "    border-style: solid;\n",
       "    display: block;\n",
       "    color: var(--label)\n",
       "}\n",
       ".lbl.trm {\n",
       "    background-attachment: local;\n",
       "    margin-top: 2px;\n",
       "    margin-left: 2px;\n",
       "    padding: 2px 2px;\n",
       "    border-style: none;\n",
       "}\n",
       ".lbl.cnul {\n",
       "    font-size: xx-small;\n",
       "}\n",
       ".lbl.c0 {\n",
       "    font-size: small;\n",
       "}\n",
       ".lbl.c1 {\n",
       "    font-size: small;\n",
       "}\n",
       ".lbl.c2 {\n",
       "    font-size: medium;\n",
       "}\n",
       ".lbl.c3 {\n",
       "    font-size: medium;\n",
       "}\n",
       ".lbl.c4 {\n",
       "    font-size: large;\n",
       "}\n",
       ".occs, a:link.occs {\n",
       "    font-size: small;\n",
       "}\n",
       "\n",
       "/* PROVENANCE */\n",
       "\n",
       "div.prov {\n",
       "\tmargin: 40px;\n",
       "\tpadding: 20px;\n",
       "\tborder: 2px solid var(--fog-rim);\n",
       "}\n",
       "div.pline {\n",
       "\tdisplay: flex;\n",
       "\tflex-flow: row nowrap;\n",
       "\tjustify-content: stretch;\n",
       "\talign-items: baseline;\n",
       "}\n",
       "div.p2line {\n",
       "\tmargin-left: 2em;\n",
       "\tdisplay: flex;\n",
       "\tflex-flow: row nowrap;\n",
       "\tjustify-content: stretch;\n",
       "\talign-items: baseline;\n",
       "}\n",
       "div.psline {\n",
       "\tdisplay: flex;\n",
       "\tflex-flow: row nowrap;\n",
       "\tjustify-content: stretch;\n",
       "\talign-items: baseline;\n",
       "\tbackground-color: var(--gold-mist-back);\n",
       "}\n",
       "div.pname {\n",
       "\tflex: 0 0 5rem;\n",
       "\tfont-weight: bold;\n",
       "}\n",
       "div.pval {\n",
       "    flex: 1 1 auto;\n",
       "}\n",
       "\n",
       ":root {\n",
       "\t--node:               hsla(120, 100%,  20%, 1.0  );\n",
       "\t--label:              hsla(  0, 100%,  20%, 1.0  );\n",
       "\t--tfsechead:          hsla(  0, 100%,  25%, 1.0  );\n",
       "\t--structure:          hsla(120, 100%,  25%, 1.0  );\n",
       "\t--features:           hsla(  0,   0%,  30%, 1.0  );\n",
       "  --text-color:         hsla( 60,  80%,  10%, 1.0  );\n",
       "  --lex-color:          hsla(220,  90%,  60%, 1.0  );\n",
       "  --meta-color:         hsla(  0,   0%,  90%, 0.7  );\n",
       "  --meta-width:         3px;\n",
       "  --border-color-nul:   hsla(  0,   0%,  90%, 0.5  );\n",
       "  --border-color0:      hsla(  0,   0%,  90%, 0.9  );\n",
       "  --border-color1:      hsla(  0,   0%,  80%, 0.9  );\n",
       "  --border-color2:      hsla(  0,   0%,  70%, 0.9  );\n",
       "  --border-color3:      hsla(  0,   0%,  80%, 0.8  );\n",
       "  --border-color4:      hsla(  0,   0%,  60%, 0.9  );\n",
       "  --border-width-nul:   2px;\n",
       "  --border-width0:      2px;\n",
       "  --border-width1:      3px;\n",
       "  --border-width2:      4px;\n",
       "  --border-width3:      6px;\n",
       "  --border-width4:      5px;\n",
       "  --border-width-plain: 2px;\n",
       "}\n",
       ".hl {\n",
       "  background-color: var(--hl-strong);\n",
       "}\n",
       "span.hl {\n",
       "\tbackground-color: var(--hl-strong);\n",
       "\tborder-width: 0;\n",
       "\tborder-radius: 2px;\n",
       "\tborder-style: solid;\n",
       "}\n",
       "div.contnr.hl,div.lbl.hl {\n",
       "  background-color: var(--hl-strong);\n",
       "}\n",
       "div.contnr.hl {\n",
       "  border-color: var(--hl-rim) ! important;\n",
       "\tborder-width: 4px ! important;\n",
       "}\n",
       "\n",
       "span.hlbx {\n",
       "\tborder-color: var(--hl-rim);\n",
       "\tborder-width: 4px ! important;\n",
       "\tborder-style: solid;\n",
       "\tborder-radius: 6px;\n",
       "  padding: 4px;\n",
       "  margin: 4px;\n",
       "}\n",
       "\n",
       "span.plain {\n",
       "  display: inline-block;\n",
       "  white-space: pre-wrap;\n",
       "}\n",
       "\n",
       ":root {\n",
       "\t--hl-strong:        hsla( 60, 100%,  70%, 0.9  );\n",
       "\t--hl-rim:           hsla( 55,  80%,  50%, 1.0  );\n",
       "}\n",
       "</style>"
      ],
      "text/plain": [
       "<IPython.core.display.HTML object>"
      ]
     },
     "metadata": {},
     "output_type": "display_data"
    },
    {
     "data": {
      "text/html": [
       "<div><b>Text-Fabric API:</b> names <a target=\"_blank\" href=\"https://annotation.github.io/text-fabric/cheatsheet.html\" title=\"doc\">N F E L T S C TF</a> directly usable</div><hr>"
      ],
      "text/plain": [
       "<IPython.core.display.HTML object>"
      ]
     },
     "metadata": {},
     "output_type": "display_data"
    }
   ],
   "source": [
    "A = use(\"among/fusus/tf/fusus/Lakhnawi:clone\", version=\"0.1\", hoist=globals())"
   ]
  },
  {
   "cell_type": "code",
   "execution_count": 3,
   "metadata": {},
   "outputs": [
    {
     "data": {
      "text/plain": [
       "('piece', 'page', 'line', 'column', 'span', 'word')"
      ]
     },
     "execution_count": 3,
     "metadata": {},
     "output_type": "execute_result"
    }
   ],
   "source": [
    "F.otype.all"
   ]
  },
  {
   "cell_type": "code",
   "execution_count": 4,
   "metadata": {},
   "outputs": [
    {
     "data": {
      "text/plain": [
       "62795"
      ]
     },
     "execution_count": 4,
     "metadata": {},
     "output_type": "execute_result"
    }
   ],
   "source": [
    "F.otype.maxSlot"
   ]
  },
  {
   "cell_type": "markdown",
   "metadata": {},
   "source": [
    "Show the pieces"
   ]
  },
  {
   "cell_type": "code",
   "execution_count": 25,
   "metadata": {},
   "outputs": [
    {
     "name": "stdout",
     "output_type": "stream",
     "text": [
      "  0.00s 35 results\n"
     ]
    },
    {
     "data": {
      "text/html": [
       "<p><b>result</b> <i>1</i></p>"
      ],
      "text/plain": [
       "<IPython.core.display.HTML object>"
      ]
     },
     "metadata": {},
     "output_type": "display_data"
    },
    {
     "data": {
      "text/html": [
       "<div class=\"tfsechead \">1</div><div class=\" children\"><div class=\"contnr c4 trm   \" ><div class=\"lbl c4 trm \" ><span class=\"nd\">piece</span> <span class=\"txtu\"><span class=\"tfsechead\">1</span></span></div><div class='features'><span class=\"n xft\" ><span class=\"f\">n=</span>1</span><span class=\"title xft\" ><span class=\"f\">title=</span>front</span></div></div></div>"
      ],
      "text/plain": [
       "<IPython.core.display.HTML object>"
      ]
     },
     "metadata": {},
     "output_type": "display_data"
    },
    {
     "data": {
      "text/html": [
       "<p><b>result</b> <i>2</i></p>"
      ],
      "text/plain": [
       "<IPython.core.display.HTML object>"
      ]
     },
     "metadata": {},
     "output_type": "display_data"
    },
    {
     "data": {
      "text/html": [
       "<div class=\"tfsechead \">2</div><div class=\" children\"><div class=\"contnr c4 trm   \" ><div class=\"lbl c4 trm \" ><span class=\"nd\">piece</span> <span class=\"txtu\"><span class=\"tfsechead\">2</span></span></div><div class='features'><span class=\"n xft\" ><span class=\"f\">n=</span>2</span><span class=\"title xft\" ><span class=\"f\">title=</span>عنوانكتابفصوصالحكموخصوصالكلم</span></div></div></div>"
      ],
      "text/plain": [
       "<IPython.core.display.HTML object>"
      ]
     },
     "metadata": {},
     "output_type": "display_data"
    },
    {
     "data": {
      "text/html": [
       "<p><b>result</b> <i>3</i></p>"
      ],
      "text/plain": [
       "<IPython.core.display.HTML object>"
      ]
     },
     "metadata": {},
     "output_type": "display_data"
    },
    {
     "data": {
      "text/html": [
       "<div class=\"tfsechead \">3</div><div class=\" children\"><div class=\"contnr c4 trm   \" ><div class=\"lbl c4 trm \" ><span class=\"nd\">piece</span> <span class=\"txtu\"><span class=\"tfsechead\">3</span></span></div><div class='features'><span class=\"n xft\" ><span class=\"f\">n=</span>3</span><span class=\"title xft\" ><span class=\"f\">title=</span>خطبةكتابفصوصالحكموخصوصالكلم</span></div></div></div>"
      ],
      "text/plain": [
       "<IPython.core.display.HTML object>"
      ]
     },
     "metadata": {},
     "output_type": "display_data"
    },
    {
     "data": {
      "text/html": [
       "<p><b>result</b> <i>4</i></p>"
      ],
      "text/plain": [
       "<IPython.core.display.HTML object>"
      ]
     },
     "metadata": {},
     "output_type": "display_data"
    },
    {
     "data": {
      "text/html": [
       "<div class=\"tfsechead \">4</div><div class=\" children\"><div class=\"contnr c4 trm   \" ><div class=\"lbl c4 trm \" ><span class=\"nd\">piece</span> <span class=\"txtu\"><span class=\"tfsechead\">4</span></span></div><div class='features'><span class=\"n xft\" ><span class=\"f\">n=</span>4</span><span class=\"np xft\" ><span class=\"f\">np=</span>1</span><span class=\"title xft\" ><span class=\"f\">title=</span>فصّحكمةإلٰهيّةفيكلمةآدميّة.</span></div></div></div>"
      ],
      "text/plain": [
       "<IPython.core.display.HTML object>"
      ]
     },
     "metadata": {},
     "output_type": "display_data"
    },
    {
     "data": {
      "text/html": [
       "<p><b>result</b> <i>5</i></p>"
      ],
      "text/plain": [
       "<IPython.core.display.HTML object>"
      ]
     },
     "metadata": {},
     "output_type": "display_data"
    },
    {
     "data": {
      "text/html": [
       "<div class=\"tfsechead \">5</div><div class=\" children\"><div class=\"contnr c4 trm   \" ><div class=\"lbl c4 trm \" ><span class=\"nd\">piece</span> <span class=\"txtu\"><span class=\"tfsechead\">5</span></span></div><div class='features'><span class=\"n xft\" ><span class=\"f\">n=</span>5</span><span class=\"np xft\" ><span class=\"f\">np=</span>2</span><span class=\"title xft\" ><span class=\"f\">title=</span>فصّحكمةنَفْثِيَّةفيكلمةشِـيثِيّة</span></div></div></div>"
      ],
      "text/plain": [
       "<IPython.core.display.HTML object>"
      ]
     },
     "metadata": {},
     "output_type": "display_data"
    },
    {
     "data": {
      "text/html": [
       "<p><b>result</b> <i>6</i></p>"
      ],
      "text/plain": [
       "<IPython.core.display.HTML object>"
      ]
     },
     "metadata": {},
     "output_type": "display_data"
    },
    {
     "data": {
      "text/html": [
       "<div class=\"tfsechead \">6</div><div class=\" children\"><div class=\"contnr c4 trm   \" ><div class=\"lbl c4 trm \" ><span class=\"nd\">piece</span> <span class=\"txtu\"><span class=\"tfsechead\">6</span></span></div><div class='features'><span class=\"n xft\" ><span class=\"f\">n=</span>6</span><span class=\"np xft\" ><span class=\"f\">np=</span>3</span><span class=\"title xft\" ><span class=\"f\">title=</span>فصّحكمةسُـبُّوحِيّةفيكلمةنوحيّة</span></div></div></div>"
      ],
      "text/plain": [
       "<IPython.core.display.HTML object>"
      ]
     },
     "metadata": {},
     "output_type": "display_data"
    },
    {
     "data": {
      "text/html": [
       "<p><b>result</b> <i>7</i></p>"
      ],
      "text/plain": [
       "<IPython.core.display.HTML object>"
      ]
     },
     "metadata": {},
     "output_type": "display_data"
    },
    {
     "data": {
      "text/html": [
       "<div class=\"tfsechead \">7</div><div class=\" children\"><div class=\"contnr c4 trm   \" ><div class=\"lbl c4 trm \" ><span class=\"nd\">piece</span> <span class=\"txtu\"><span class=\"tfsechead\">7</span></span></div><div class='features'><span class=\"n xft\" ><span class=\"f\">n=</span>7</span><span class=\"np xft\" ><span class=\"f\">np=</span>4</span><span class=\"title xft\" ><span class=\"f\">title=</span>فصّحكمةقُدُّوسِيّةفيكلمةإدريسيّة</span></div></div></div>"
      ],
      "text/plain": [
       "<IPython.core.display.HTML object>"
      ]
     },
     "metadata": {},
     "output_type": "display_data"
    },
    {
     "data": {
      "text/html": [
       "<p><b>result</b> <i>8</i></p>"
      ],
      "text/plain": [
       "<IPython.core.display.HTML object>"
      ]
     },
     "metadata": {},
     "output_type": "display_data"
    },
    {
     "data": {
      "text/html": [
       "<div class=\"tfsechead \">8</div><div class=\" children\"><div class=\"contnr c4 trm   \" ><div class=\"lbl c4 trm \" ><span class=\"nd\">piece</span> <span class=\"txtu\"><span class=\"tfsechead\">8</span></span></div><div class='features'><span class=\"n xft\" ><span class=\"f\">n=</span>8</span><span class=\"np xft\" ><span class=\"f\">np=</span>5</span><span class=\"title xft\" ><span class=\"f\">title=</span>فصّحكمةمُهَيْمِيّةفيكلمةإبـراهيميّة</span></div></div></div>"
      ],
      "text/plain": [
       "<IPython.core.display.HTML object>"
      ]
     },
     "metadata": {},
     "output_type": "display_data"
    },
    {
     "data": {
      "text/html": [
       "<p><b>result</b> <i>9</i></p>"
      ],
      "text/plain": [
       "<IPython.core.display.HTML object>"
      ]
     },
     "metadata": {},
     "output_type": "display_data"
    },
    {
     "data": {
      "text/html": [
       "<div class=\"tfsechead \">9</div><div class=\" children\"><div class=\"contnr c4 trm   \" ><div class=\"lbl c4 trm \" ><span class=\"nd\">piece</span> <span class=\"txtu\"><span class=\"tfsechead\">9</span></span></div><div class='features'><span class=\"n xft\" ><span class=\"f\">n=</span>9</span><span class=\"np xft\" ><span class=\"f\">np=</span>6</span><span class=\"title xft\" ><span class=\"f\">title=</span>فصّحكمةحَقِـيّةفيكلمةإسحاقـيّة</span></div></div></div>"
      ],
      "text/plain": [
       "<IPython.core.display.HTML object>"
      ]
     },
     "metadata": {},
     "output_type": "display_data"
    },
    {
     "data": {
      "text/html": [
       "<p><b>result</b> <i>10</i></p>"
      ],
      "text/plain": [
       "<IPython.core.display.HTML object>"
      ]
     },
     "metadata": {},
     "output_type": "display_data"
    },
    {
     "data": {
      "text/html": [
       "<div class=\"tfsechead \">10</div><div class=\" children\"><div class=\"contnr c4 trm   \" ><div class=\"lbl c4 trm \" ><span class=\"nd\">piece</span> <span class=\"txtu\"><span class=\"tfsechead\">10</span></span></div><div class='features'><span class=\"n xft\" ><span class=\"f\">n=</span>10</span><span class=\"np xft\" ><span class=\"f\">np=</span>7</span><span class=\"title xft\" ><span class=\"f\">title=</span>فصّحكمةعَلِيَّةفيكلمةإسماعيلـيّة</span></div></div></div>"
      ],
      "text/plain": [
       "<IPython.core.display.HTML object>"
      ]
     },
     "metadata": {},
     "output_type": "display_data"
    },
    {
     "data": {
      "text/html": [
       "<p><b>result</b> <i>11</i></p>"
      ],
      "text/plain": [
       "<IPython.core.display.HTML object>"
      ]
     },
     "metadata": {},
     "output_type": "display_data"
    },
    {
     "data": {
      "text/html": [
       "<div class=\"tfsechead \">11</div><div class=\" children\"><div class=\"contnr c4 trm   \" ><div class=\"lbl c4 trm \" ><span class=\"nd\">piece</span> <span class=\"txtu\"><span class=\"tfsechead\">11</span></span></div><div class='features'><span class=\"n xft\" ><span class=\"f\">n=</span>11</span><span class=\"np xft\" ><span class=\"f\">np=</span>8</span><span class=\"title xft\" ><span class=\"f\">title=</span>فصّحكمةرُوحيّةفيكلمةيعقوبـيّة</span></div></div></div>"
      ],
      "text/plain": [
       "<IPython.core.display.HTML object>"
      ]
     },
     "metadata": {},
     "output_type": "display_data"
    },
    {
     "data": {
      "text/html": [
       "<p><b>result</b> <i>12</i></p>"
      ],
      "text/plain": [
       "<IPython.core.display.HTML object>"
      ]
     },
     "metadata": {},
     "output_type": "display_data"
    },
    {
     "data": {
      "text/html": [
       "<div class=\"tfsechead \">12</div><div class=\" children\"><div class=\"contnr c4 trm   \" ><div class=\"lbl c4 trm \" ><span class=\"nd\">piece</span> <span class=\"txtu\"><span class=\"tfsechead\">12</span></span></div><div class='features'><span class=\"n xft\" ><span class=\"f\">n=</span>12</span><span class=\"np xft\" ><span class=\"f\">np=</span>9</span><span class=\"title xft\" ><span class=\"f\">title=</span>فصّحكمةنوريّةفيكلمةيوسفيّة</span></div></div></div>"
      ],
      "text/plain": [
       "<IPython.core.display.HTML object>"
      ]
     },
     "metadata": {},
     "output_type": "display_data"
    },
    {
     "data": {
      "text/html": [
       "<p><b>result</b> <i>13</i></p>"
      ],
      "text/plain": [
       "<IPython.core.display.HTML object>"
      ]
     },
     "metadata": {},
     "output_type": "display_data"
    },
    {
     "data": {
      "text/html": [
       "<div class=\"tfsechead \">13</div><div class=\" children\"><div class=\"contnr c4 trm   \" ><div class=\"lbl c4 trm \" ><span class=\"nd\">piece</span> <span class=\"txtu\"><span class=\"tfsechead\">13</span></span></div><div class='features'><span class=\"n xft\" ><span class=\"f\">n=</span>13</span><span class=\"np xft\" ><span class=\"f\">np=</span>10</span><span class=\"title xft\" ><span class=\"f\">title=</span>فصّحكمةأحديّةفيكلمةهوديّة</span></div></div></div>"
      ],
      "text/plain": [
       "<IPython.core.display.HTML object>"
      ]
     },
     "metadata": {},
     "output_type": "display_data"
    },
    {
     "data": {
      "text/html": [
       "<p><b>result</b> <i>14</i></p>"
      ],
      "text/plain": [
       "<IPython.core.display.HTML object>"
      ]
     },
     "metadata": {},
     "output_type": "display_data"
    },
    {
     "data": {
      "text/html": [
       "<div class=\"tfsechead \">14</div><div class=\" children\"><div class=\"contnr c4 trm   \" ><div class=\"lbl c4 trm \" ><span class=\"nd\">piece</span> <span class=\"txtu\"><span class=\"tfsechead\">14</span></span></div><div class='features'><span class=\"n xft\" ><span class=\"f\">n=</span>14</span><span class=\"np xft\" ><span class=\"f\">np=</span>11</span><span class=\"title xft\" ><span class=\"f\">title=</span>فصّحكمةفاتحيّةفيكلمةصالحيّة</span></div></div></div>"
      ],
      "text/plain": [
       "<IPython.core.display.HTML object>"
      ]
     },
     "metadata": {},
     "output_type": "display_data"
    },
    {
     "data": {
      "text/html": [
       "<p><b>result</b> <i>15</i></p>"
      ],
      "text/plain": [
       "<IPython.core.display.HTML object>"
      ]
     },
     "metadata": {},
     "output_type": "display_data"
    },
    {
     "data": {
      "text/html": [
       "<div class=\"tfsechead \">15</div><div class=\" children\"><div class=\"contnr c4 trm   \" ><div class=\"lbl c4 trm \" ><span class=\"nd\">piece</span> <span class=\"txtu\"><span class=\"tfsechead\">15</span></span></div><div class='features'><span class=\"n xft\" ><span class=\"f\">n=</span>15</span><span class=\"np xft\" ><span class=\"f\">np=</span>12</span><span class=\"title xft\" ><span class=\"f\">title=</span>فصّحكمةقـلبـيّةفيكلمةشعيبيّة</span></div></div></div>"
      ],
      "text/plain": [
       "<IPython.core.display.HTML object>"
      ]
     },
     "metadata": {},
     "output_type": "display_data"
    },
    {
     "data": {
      "text/html": [
       "<p><b>result</b> <i>16</i></p>"
      ],
      "text/plain": [
       "<IPython.core.display.HTML object>"
      ]
     },
     "metadata": {},
     "output_type": "display_data"
    },
    {
     "data": {
      "text/html": [
       "<div class=\"tfsechead \">16</div><div class=\" children\"><div class=\"contnr c4 trm   \" ><div class=\"lbl c4 trm \" ><span class=\"nd\">piece</span> <span class=\"txtu\"><span class=\"tfsechead\">16</span></span></div><div class='features'><span class=\"n xft\" ><span class=\"f\">n=</span>16</span><span class=\"np xft\" ><span class=\"f\">np=</span>13</span><span class=\"title xft\" ><span class=\"f\">title=</span>فصّحكمةمَلَـكِيّةفيكلمةلوطيّة</span></div></div></div>"
      ],
      "text/plain": [
       "<IPython.core.display.HTML object>"
      ]
     },
     "metadata": {},
     "output_type": "display_data"
    },
    {
     "data": {
      "text/html": [
       "<p><b>result</b> <i>17</i></p>"
      ],
      "text/plain": [
       "<IPython.core.display.HTML object>"
      ]
     },
     "metadata": {},
     "output_type": "display_data"
    },
    {
     "data": {
      "text/html": [
       "<div class=\"tfsechead \">17</div><div class=\" children\"><div class=\"contnr c4 trm   \" ><div class=\"lbl c4 trm \" ><span class=\"nd\">piece</span> <span class=\"txtu\"><span class=\"tfsechead\">17</span></span></div><div class='features'><span class=\"n xft\" ><span class=\"f\">n=</span>17</span><span class=\"np xft\" ><span class=\"f\">np=</span>14</span><span class=\"title xft\" ><span class=\"f\">title=</span>فصّحكمةقَدَرِيّةفيكلمةعُـزيريّة</span></div></div></div>"
      ],
      "text/plain": [
       "<IPython.core.display.HTML object>"
      ]
     },
     "metadata": {},
     "output_type": "display_data"
    },
    {
     "data": {
      "text/html": [
       "<p><b>result</b> <i>18</i></p>"
      ],
      "text/plain": [
       "<IPython.core.display.HTML object>"
      ]
     },
     "metadata": {},
     "output_type": "display_data"
    },
    {
     "data": {
      "text/html": [
       "<div class=\"tfsechead \">18</div><div class=\" children\"><div class=\"contnr c4 trm   \" ><div class=\"lbl c4 trm \" ><span class=\"nd\">piece</span> <span class=\"txtu\"><span class=\"tfsechead\">18</span></span></div><div class='features'><span class=\"n xft\" ><span class=\"f\">n=</span>18</span><span class=\"np xft\" ><span class=\"f\">np=</span>15</span><span class=\"title xft\" ><span class=\"f\">title=</span>فصّحكمةنبويّةفيكلمةعيسويّة</span></div></div></div>"
      ],
      "text/plain": [
       "<IPython.core.display.HTML object>"
      ]
     },
     "metadata": {},
     "output_type": "display_data"
    },
    {
     "data": {
      "text/html": [
       "<p><b>result</b> <i>19</i></p>"
      ],
      "text/plain": [
       "<IPython.core.display.HTML object>"
      ]
     },
     "metadata": {},
     "output_type": "display_data"
    },
    {
     "data": {
      "text/html": [
       "<div class=\"tfsechead \">19</div><div class=\" children\"><div class=\"contnr c4 trm   \" ><div class=\"lbl c4 trm \" ><span class=\"nd\">piece</span> <span class=\"txtu\"><span class=\"tfsechead\">19</span></span></div><div class='features'><span class=\"n xft\" ><span class=\"f\">n=</span>19</span><span class=\"np xft\" ><span class=\"f\">np=</span>16</span><span class=\"title xft\" ><span class=\"f\">title=</span>فصّحكمةرحمانيّةفيكلمةسليمانيّة</span></div></div></div>"
      ],
      "text/plain": [
       "<IPython.core.display.HTML object>"
      ]
     },
     "metadata": {},
     "output_type": "display_data"
    },
    {
     "data": {
      "text/html": [
       "<p><b>result</b> <i>20</i></p>"
      ],
      "text/plain": [
       "<IPython.core.display.HTML object>"
      ]
     },
     "metadata": {},
     "output_type": "display_data"
    },
    {
     "data": {
      "text/html": [
       "<div class=\"tfsechead \">20</div><div class=\" children\"><div class=\"contnr c4 trm   \" ><div class=\"lbl c4 trm \" ><span class=\"nd\">piece</span> <span class=\"txtu\"><span class=\"tfsechead\">20</span></span></div><div class='features'><span class=\"n xft\" ><span class=\"f\">n=</span>20</span><span class=\"np xft\" ><span class=\"f\">np=</span>17</span><span class=\"title xft\" ><span class=\"f\">title=</span>فصّحكمةوجوديّةفيكلمةداوديّة</span></div></div></div>"
      ],
      "text/plain": [
       "<IPython.core.display.HTML object>"
      ]
     },
     "metadata": {},
     "output_type": "display_data"
    },
    {
     "data": {
      "text/html": [
       "<p><b>result</b> <i>21</i></p>"
      ],
      "text/plain": [
       "<IPython.core.display.HTML object>"
      ]
     },
     "metadata": {},
     "output_type": "display_data"
    },
    {
     "data": {
      "text/html": [
       "<div class=\"tfsechead \">21</div><div class=\" children\"><div class=\"contnr c4 trm   \" ><div class=\"lbl c4 trm \" ><span class=\"nd\">piece</span> <span class=\"txtu\"><span class=\"tfsechead\">21</span></span></div><div class='features'><span class=\"n xft\" ><span class=\"f\">n=</span>21</span><span class=\"np xft\" ><span class=\"f\">np=</span>18</span><span class=\"title xft\" ><span class=\"f\">title=</span>فصّحكمةنَفْسِيّةفيكلمةيونسيّة</span></div></div></div>"
      ],
      "text/plain": [
       "<IPython.core.display.HTML object>"
      ]
     },
     "metadata": {},
     "output_type": "display_data"
    },
    {
     "data": {
      "text/html": [
       "<p><b>result</b> <i>22</i></p>"
      ],
      "text/plain": [
       "<IPython.core.display.HTML object>"
      ]
     },
     "metadata": {},
     "output_type": "display_data"
    },
    {
     "data": {
      "text/html": [
       "<div class=\"tfsechead \">22</div><div class=\" children\"><div class=\"contnr c4 trm   \" ><div class=\"lbl c4 trm \" ><span class=\"nd\">piece</span> <span class=\"txtu\"><span class=\"tfsechead\">22</span></span></div><div class='features'><span class=\"n xft\" ><span class=\"f\">n=</span>22</span><span class=\"np xft\" ><span class=\"f\">np=</span>19</span><span class=\"title xft\" ><span class=\"f\">title=</span>فصّحكمةغيبيّةفيكلمةأيّوبيّة</span></div></div></div>"
      ],
      "text/plain": [
       "<IPython.core.display.HTML object>"
      ]
     },
     "metadata": {},
     "output_type": "display_data"
    },
    {
     "data": {
      "text/html": [
       "<p><b>result</b> <i>23</i></p>"
      ],
      "text/plain": [
       "<IPython.core.display.HTML object>"
      ]
     },
     "metadata": {},
     "output_type": "display_data"
    },
    {
     "data": {
      "text/html": [
       "<div class=\"tfsechead \">23</div><div class=\" children\"><div class=\"contnr c4 trm   \" ><div class=\"lbl c4 trm \" ><span class=\"nd\">piece</span> <span class=\"txtu\"><span class=\"tfsechead\">23</span></span></div><div class='features'><span class=\"n xft\" ><span class=\"f\">n=</span>23</span><span class=\"np xft\" ><span class=\"f\">np=</span>20</span><span class=\"title xft\" ><span class=\"f\">title=</span>فصّحكمةجلاليّةفيكلمةيَحْـيَوِيَّة</span></div></div></div>"
      ],
      "text/plain": [
       "<IPython.core.display.HTML object>"
      ]
     },
     "metadata": {},
     "output_type": "display_data"
    },
    {
     "data": {
      "text/html": [
       "<p><b>result</b> <i>24</i></p>"
      ],
      "text/plain": [
       "<IPython.core.display.HTML object>"
      ]
     },
     "metadata": {},
     "output_type": "display_data"
    },
    {
     "data": {
      "text/html": [
       "<div class=\"tfsechead \">24</div><div class=\" children\"><div class=\"contnr c4 trm   \" ><div class=\"lbl c4 trm \" ><span class=\"nd\">piece</span> <span class=\"txtu\"><span class=\"tfsechead\">24</span></span></div><div class='features'><span class=\"n xft\" ><span class=\"f\">n=</span>24</span><span class=\"np xft\" ><span class=\"f\">np=</span>21</span><span class=\"title xft\" ><span class=\"f\">title=</span>فصّحكمةمالكيّةفيكلمةزكـريّاويّة</span></div></div></div>"
      ],
      "text/plain": [
       "<IPython.core.display.HTML object>"
      ]
     },
     "metadata": {},
     "output_type": "display_data"
    },
    {
     "data": {
      "text/html": [
       "<p><b>result</b> <i>25</i></p>"
      ],
      "text/plain": [
       "<IPython.core.display.HTML object>"
      ]
     },
     "metadata": {},
     "output_type": "display_data"
    },
    {
     "data": {
      "text/html": [
       "<div class=\"tfsechead \">25</div><div class=\" children\"><div class=\"contnr c4 trm   \" ><div class=\"lbl c4 trm \" ><span class=\"nd\">piece</span> <span class=\"txtu\"><span class=\"tfsechead\">25</span></span></div><div class='features'><span class=\"n xft\" ><span class=\"f\">n=</span>25</span><span class=\"np xft\" ><span class=\"f\">np=</span>22</span><span class=\"title xft\" ><span class=\"f\">title=</span>فصّحكمةإيـناسيّةفيكلمةإلياسيّة</span></div></div></div>"
      ],
      "text/plain": [
       "<IPython.core.display.HTML object>"
      ]
     },
     "metadata": {},
     "output_type": "display_data"
    },
    {
     "data": {
      "text/html": [
       "<p><b>result</b> <i>26</i></p>"
      ],
      "text/plain": [
       "<IPython.core.display.HTML object>"
      ]
     },
     "metadata": {},
     "output_type": "display_data"
    },
    {
     "data": {
      "text/html": [
       "<div class=\"tfsechead \">26</div><div class=\" children\"><div class=\"contnr c4 trm   \" ><div class=\"lbl c4 trm \" ><span class=\"nd\">piece</span> <span class=\"txtu\"><span class=\"tfsechead\">26</span></span></div><div class='features'><span class=\"n xft\" ><span class=\"f\">n=</span>26</span><span class=\"np xft\" ><span class=\"f\">np=</span>23</span><span class=\"title xft\" ><span class=\"f\">title=</span>فصّحكمةإحسانيّةفيكلمةلقمانيّة</span></div></div></div>"
      ],
      "text/plain": [
       "<IPython.core.display.HTML object>"
      ]
     },
     "metadata": {},
     "output_type": "display_data"
    },
    {
     "data": {
      "text/html": [
       "<p><b>result</b> <i>27</i></p>"
      ],
      "text/plain": [
       "<IPython.core.display.HTML object>"
      ]
     },
     "metadata": {},
     "output_type": "display_data"
    },
    {
     "data": {
      "text/html": [
       "<div class=\"tfsechead \">27</div><div class=\" children\"><div class=\"contnr c4 trm   \" ><div class=\"lbl c4 trm \" ><span class=\"nd\">piece</span> <span class=\"txtu\"><span class=\"tfsechead\">27</span></span></div><div class='features'><span class=\"n xft\" ><span class=\"f\">n=</span>27</span><span class=\"np xft\" ><span class=\"f\">np=</span>24</span><span class=\"title xft\" ><span class=\"f\">title=</span>فصّحكمةإماميّةفيكلمةهارونيّة</span></div></div></div>"
      ],
      "text/plain": [
       "<IPython.core.display.HTML object>"
      ]
     },
     "metadata": {},
     "output_type": "display_data"
    },
    {
     "data": {
      "text/html": [
       "<p><b>result</b> <i>28</i></p>"
      ],
      "text/plain": [
       "<IPython.core.display.HTML object>"
      ]
     },
     "metadata": {},
     "output_type": "display_data"
    },
    {
     "data": {
      "text/html": [
       "<div class=\"tfsechead \">28</div><div class=\" children\"><div class=\"contnr c4 trm   \" ><div class=\"lbl c4 trm \" ><span class=\"nd\">piece</span> <span class=\"txtu\"><span class=\"tfsechead\">28</span></span></div><div class='features'><span class=\"n xft\" ><span class=\"f\">n=</span>28</span><span class=\"np xft\" ><span class=\"f\">np=</span>25</span><span class=\"title xft\" ><span class=\"f\">title=</span>فصّحكمةعُـلـويّةفيكلمةموسويّة</span></div></div></div>"
      ],
      "text/plain": [
       "<IPython.core.display.HTML object>"
      ]
     },
     "metadata": {},
     "output_type": "display_data"
    },
    {
     "data": {
      "text/html": [
       "<p><b>result</b> <i>29</i></p>"
      ],
      "text/plain": [
       "<IPython.core.display.HTML object>"
      ]
     },
     "metadata": {},
     "output_type": "display_data"
    },
    {
     "data": {
      "text/html": [
       "<div class=\"tfsechead \">29</div><div class=\" children\"><div class=\"contnr c4 trm   \" ><div class=\"lbl c4 trm \" ><span class=\"nd\">piece</span> <span class=\"txtu\"><span class=\"tfsechead\">29</span></span></div><div class='features'><span class=\"n xft\" ><span class=\"f\">n=</span>29</span><span class=\"np xft\" ><span class=\"f\">np=</span>26</span><span class=\"title xft\" ><span class=\"f\">title=</span>فصّحكمةصمديّةفيكلمةخالديّة</span></div></div></div>"
      ],
      "text/plain": [
       "<IPython.core.display.HTML object>"
      ]
     },
     "metadata": {},
     "output_type": "display_data"
    },
    {
     "data": {
      "text/html": [
       "<p><b>result</b> <i>30</i></p>"
      ],
      "text/plain": [
       "<IPython.core.display.HTML object>"
      ]
     },
     "metadata": {},
     "output_type": "display_data"
    },
    {
     "data": {
      "text/html": [
       "<div class=\"tfsechead \">30</div><div class=\" children\"><div class=\"contnr c4 trm   \" ><div class=\"lbl c4 trm \" ><span class=\"nd\">piece</span> <span class=\"txtu\"><span class=\"tfsechead\">30</span></span></div><div class='features'><span class=\"n xft\" ><span class=\"f\">n=</span>30</span><span class=\"np xft\" ><span class=\"f\">np=</span>27</span><span class=\"title xft\" ><span class=\"f\">title=</span>فصّحكمةفرديّةفيكلمةمحمديّة</span></div></div></div>"
      ],
      "text/plain": [
       "<IPython.core.display.HTML object>"
      ]
     },
     "metadata": {},
     "output_type": "display_data"
    },
    {
     "data": {
      "text/html": [
       "<p><b>result</b> <i>31</i></p>"
      ],
      "text/plain": [
       "<IPython.core.display.HTML object>"
      ]
     },
     "metadata": {},
     "output_type": "display_data"
    },
    {
     "data": {
      "text/html": [
       "<div class=\"tfsechead \">34</div><div class=\" children\"><div class=\"contnr c4 trm   \" ><div class=\"lbl c4 trm \" ><span class=\"nd\">piece</span> <span class=\"txtu\"><span class=\"tfsechead\">34</span></span></div><div class='features'><span class=\"n xft\" ><span class=\"f\">n=</span>34</span><span class=\"title xft\" ><span class=\"f\">title=</span>الملحقات</span></div></div></div>"
      ],
      "text/plain": [
       "<IPython.core.display.HTML object>"
      ]
     },
     "metadata": {},
     "output_type": "display_data"
    },
    {
     "data": {
      "text/html": [
       "<p><b>result</b> <i>32</i></p>"
      ],
      "text/plain": [
       "<IPython.core.display.HTML object>"
      ]
     },
     "metadata": {},
     "output_type": "display_data"
    },
    {
     "data": {
      "text/html": [
       "<div class=\"tfsechead \">35</div><div class=\" children\"><div class=\"contnr c4 trm   \" ><div class=\"lbl c4 trm \" ><span class=\"nd\">piece</span> <span class=\"txtu\"><span class=\"tfsechead\">35</span></span></div><div class='features'><span class=\"n xft\" ><span class=\"f\">n=</span>35</span><span class=\"title xft\" ><span class=\"f\">title=</span>ملحق١:تعليقاتداخلالمخطوط</span></div></div></div>"
      ],
      "text/plain": [
       "<IPython.core.display.HTML object>"
      ]
     },
     "metadata": {},
     "output_type": "display_data"
    },
    {
     "data": {
      "text/html": [
       "<p><b>result</b> <i>33</i></p>"
      ],
      "text/plain": [
       "<IPython.core.display.HTML object>"
      ]
     },
     "metadata": {},
     "output_type": "display_data"
    },
    {
     "data": {
      "text/html": [
       "<div class=\"tfsechead \">36</div><div class=\" children\"><div class=\"contnr c4 trm   \" ><div class=\"lbl c4 trm \" ><span class=\"nd\">piece</span> <span class=\"txtu\"><span class=\"tfsechead\">36</span></span></div><div class='features'><span class=\"n xft\" ><span class=\"f\">n=</span>36</span><span class=\"title xft\" ><span class=\"f\">title=</span>ملحق٢:تحقيقفيمسألةالذبيح</span></div></div></div>"
      ],
      "text/plain": [
       "<IPython.core.display.HTML object>"
      ]
     },
     "metadata": {},
     "output_type": "display_data"
    },
    {
     "data": {
      "text/html": [
       "<p><b>result</b> <i>34</i></p>"
      ],
      "text/plain": [
       "<IPython.core.display.HTML object>"
      ]
     },
     "metadata": {},
     "output_type": "display_data"
    },
    {
     "data": {
      "text/html": [
       "<div class=\"tfsechead \">37</div><div class=\" children\"><div class=\"contnr c4 trm   \" ><div class=\"lbl c4 trm \" ><span class=\"nd\">piece</span> <span class=\"txtu\"><span class=\"tfsechead\">37</span></span></div><div class='features'><span class=\"n xft\" ><span class=\"f\">n=</span>37</span><span class=\"title xft\" ><span class=\"f\">title=</span>ملحق٣:تحقيقفيخالدبنسنان</span></div></div></div>"
      ],
      "text/plain": [
       "<IPython.core.display.HTML object>"
      ]
     },
     "metadata": {},
     "output_type": "display_data"
    },
    {
     "data": {
      "text/html": [
       "<p><b>result</b> <i>35</i></p>"
      ],
      "text/plain": [
       "<IPython.core.display.HTML object>"
      ]
     },
     "metadata": {},
     "output_type": "display_data"
    },
    {
     "data": {
      "text/html": [
       "<div class=\"tfsechead \">38</div><div class=\" children\"><div class=\"contnr c4 trm   \" ><div class=\"lbl c4 trm \" ><span class=\"nd\">piece</span> <span class=\"txtu\"><span class=\"tfsechead\">38</span></span></div><div class='features'><span class=\"n xft\" ><span class=\"f\">n=</span>38</span><span class=\"title xft\" ><span class=\"f\">title=</span>ملحق٤:تخريجحديثالتحول</span></div></div></div>"
      ],
      "text/plain": [
       "<IPython.core.display.HTML object>"
      ]
     },
     "metadata": {},
     "output_type": "display_data"
    }
   ],
   "source": [
    "results = A.search(\"\"\"\n",
    "piece n* np* title*\n",
    "\"\"\")\n",
    "A.show(results)"
   ]
  },
  {
   "cell_type": "markdown",
   "metadata": {},
   "source": [
    "All words on the first line of every page"
   ]
  },
  {
   "cell_type": "code",
   "execution_count": 5,
   "metadata": {},
   "outputs": [],
   "source": [
    "template = \"\"\"\n",
    "line n=1\n",
    "  word\n",
    "\"\"\""
   ]
  },
  {
   "cell_type": "code",
   "execution_count": 6,
   "metadata": {},
   "outputs": [
    {
     "name": "stdout",
     "output_type": "stream",
     "text": [
      "  0.07s 5360 results\n"
     ]
    }
   ],
   "source": [
    "results = A.search(template)"
   ]
  },
  {
   "cell_type": "code",
   "execution_count": 7,
   "metadata": {},
   "outputs": [
    {
     "data": {
      "text/html": [
       "<table><tr class=\"tf ltr\"><th class=\"tf ltr\">n</th><th class=\"tf ltr\">p</th><th class=\"tf ltr\">line</th><th class=\"tf\">word</th></tr>\n",
       "<tr class=\"tf ltr\"><td class=\"tf ltr\">1</td><td class=\"tf ltr\"><span class=\"tfsechead ltr\">1 1:1</span></td><td class=\"tf ltr\"><span class=\" ubd\"></span></td><td class=\"tf ltr\"><span class=\" ubd\"><span class=\"plain   hl\" ><span class=\"txtu\">فصوص </span></span></span></td></tr>\n",
       "<tr class=\"tf ltr\"><td class=\"tf ltr\">2</td><td class=\"tf ltr\"><span class=\"tfsechead ltr\">1 1:1</span></td><td class=\"tf ltr\"><span class=\" ubd\"></span></td><td class=\"tf ltr\"><span class=\" ubd\"><span class=\"plain   hl\" ><span class=\"txtu\">الحكم </span></span></span></td></tr>\n",
       "<tr class=\"tf ltr\"><td class=\"tf ltr\">3</td><td class=\"tf ltr\"><span class=\"tfsechead ltr\">1 2:1</span></td><td class=\"tf ltr\"><span class=\" ubd\"></span></td><td class=\"tf ltr\"><span class=\" ubd\"><span class=\"plain   hl\" ><span class=\"txtu\">جميع </span></span></span></td></tr>\n",
       "<tr class=\"tf ltr\"><td class=\"tf ltr\">4</td><td class=\"tf ltr\"><span class=\"tfsechead ltr\">1 2:1</span></td><td class=\"tf ltr\"><span class=\" ubd\"></span></td><td class=\"tf ltr\"><span class=\" ubd\"><span class=\"plain   hl\" ><span class=\"txtu\">الحقوق </span></span></span></td></tr>\n",
       "<tr class=\"tf ltr\"><td class=\"tf ltr\">5</td><td class=\"tf ltr\"><span class=\"tfsechead ltr\">1 2:1</span></td><td class=\"tf ltr\"><span class=\" ubd\"></span></td><td class=\"tf ltr\"><span class=\" ubd\"><span class=\"plain   hl\" ><span class=\"txtu\">محفو </span></span></span></td></tr>\n",
       "<tr class=\"tf ltr\"><td class=\"tf ltr\">6</td><td class=\"tf ltr\"><span class=\"tfsechead ltr\">1 2:1</span></td><td class=\"tf ltr\"><span class=\" ubd\"></span></td><td class=\"tf ltr\"><span class=\" ubd\"><span class=\"plain   hl\" ><span class=\"txtu\">ظة </span></span></span></td></tr>\n",
       "<tr class=\"tf ltr\"><td class=\"tf ltr\">7</td><td class=\"tf ltr\"><span class=\"tfsechead ltr\">1 3:1</span></td><td class=\"tf ltr\"><span class=\" ubd\"></span></td><td class=\"tf ltr\"><span class=\" ubd\"><span class=\"plain   hl\" ><span class=\"txtu\">بِسمِ </span></span></span></td></tr>\n",
       "<tr class=\"tf ltr\"><td class=\"tf ltr\">8</td><td class=\"tf ltr\"><span class=\"tfsechead ltr\">1 3:1</span></td><td class=\"tf ltr\"><span class=\" ubd\"></span></td><td class=\"tf ltr\"><span class=\" ubd\"><span class=\"plain   hl\" ><span class=\"txtu\">اللهِ </span></span></span></td></tr>\n",
       "<tr class=\"tf ltr\"><td class=\"tf ltr\">9</td><td class=\"tf ltr\"><span class=\"tfsechead ltr\">1 3:1</span></td><td class=\"tf ltr\"><span class=\" ubd\"></span></td><td class=\"tf ltr\"><span class=\" ubd\"><span class=\"plain   hl\" ><span class=\"txtu\">الرَّحْمٰـنِ </span></span></span></td></tr>\n",
       "<tr class=\"tf ltr\"><td class=\"tf ltr\">10</td><td class=\"tf ltr\"><span class=\"tfsechead ltr\">1 3:1</span></td><td class=\"tf ltr\"><span class=\" ubd\"></span></td><td class=\"tf ltr\"><span class=\" ubd\"><span class=\"plain   hl\" ><span class=\"txtu\">الرَّ </span></span></span></td></tr>\n",
       "<tr class=\"tf ltr\"><td class=\"tf ltr\">11</td><td class=\"tf ltr\"><span class=\"tfsechead ltr\">1 3:1</span></td><td class=\"tf ltr\"><span class=\" ubd\"></span></td><td class=\"tf ltr\"><span class=\" ubd\"><span class=\"plain   hl\" ><span class=\"txtu\">حِيمِ </span></span></span></td></tr>\n",
       "<tr class=\"tf ltr\"><td class=\"tf ltr\">12</td><td class=\"tf ltr\"><span class=\"tfsechead ltr\">1 4:1</span></td><td class=\"tf ltr\"><span class=\" ubd\"></span></td><td class=\"tf ltr\"><span class=\" ubd\"><span class=\"plain   hl\" ><span class=\"txtu\">الفهر </span></span></span></td></tr>\n",
       "<tr class=\"tf ltr\"><td class=\"tf ltr\">13</td><td class=\"tf ltr\"><span class=\"tfsechead ltr\">1 4:1</span></td><td class=\"tf ltr\"><span class=\" ubd\"></span></td><td class=\"tf ltr\"><span class=\" ubd\"><span class=\"plain   hl\" ><span class=\"txtu\">ست </span></span></span></td></tr>\n",
       "<tr class=\"tf ltr\"><td class=\"tf ltr\">14</td><td class=\"tf ltr\"><span class=\"tfsechead ltr\">1 5:1</span></td><td class=\"tf ltr\"><span class=\" ubd\"></span></td><td class=\"tf ltr\"><span class=\" ubd\"><span class=\"plain   hl\" ><span class=\"txtu\">٩١‐ </span></span></span></td></tr>\n",
       "<tr class=\"tf ltr\"><td class=\"tf ltr\">15</td><td class=\"tf ltr\"><span class=\"tfsechead ltr\">1 5:1</span></td><td class=\"tf ltr\"><span class=\" ubd\"></span></td><td class=\"tf ltr\"><span class=\" ubd\"><span class=\"plain   hl\" ><span class=\"txtu\">[٦١] </span></span></span></td></tr>\n",
       "<tr class=\"tf ltr\"><td class=\"tf ltr\">16</td><td class=\"tf ltr\"><span class=\"tfsechead ltr\">1 5:1</span></td><td class=\"tf ltr\"><span class=\" ubd\"></span></td><td class=\"tf ltr\"><span class=\" ubd\"><span class=\"plain   hl\" ><span class=\"txtu\">فصّ </span></span></span></td></tr>\n",
       "<tr class=\"tf ltr\"><td class=\"tf ltr\">17</td><td class=\"tf ltr\"><span class=\"tfsechead ltr\">1 5:1</span></td><td class=\"tf ltr\"><span class=\" ubd\"></span></td><td class=\"tf ltr\"><span class=\" ubd\"><span class=\"plain   hl\" ><span class=\"txtu\">حكمة </span></span></span></td></tr>\n",
       "<tr class=\"tf ltr\"><td class=\"tf ltr\">18</td><td class=\"tf ltr\"><span class=\"tfsechead ltr\">1 5:1</span></td><td class=\"tf ltr\"><span class=\" ubd\"></span></td><td class=\"tf ltr\"><span class=\" ubd\"><span class=\"plain   hl\" ><span class=\"txtu\">رحما </span></span></span></td></tr>\n",
       "<tr class=\"tf ltr\"><td class=\"tf ltr\">19</td><td class=\"tf ltr\"><span class=\"tfsechead ltr\">1 5:1</span></td><td class=\"tf ltr\"><span class=\" ubd\"></span></td><td class=\"tf ltr\"><span class=\" ubd\"><span class=\"plain   hl\" ><span class=\"txtu\">نيّة </span></span></span></td></tr>\n",
       "<tr class=\"tf ltr\"><td class=\"tf ltr\">20</td><td class=\"tf ltr\"><span class=\"tfsechead ltr\">1 5:1</span></td><td class=\"tf ltr\"><span class=\" ubd\"></span></td><td class=\"tf ltr\"><span class=\" ubd\"><span class=\"plain   hl\" ><span class=\"txtu\">في </span></span></span></td></tr></table>"
      ],
      "text/plain": [
       "<IPython.core.display.HTML object>"
      ]
     },
     "metadata": {},
     "output_type": "display_data"
    }
   ],
   "source": [
    "A.table(results, end=20)"
   ]
  },
  {
   "cell_type": "markdown",
   "metadata": {},
   "source": [
    "All first words of the first line of every page"
   ]
  },
  {
   "cell_type": "code",
   "execution_count": 8,
   "metadata": {},
   "outputs": [
    {
     "name": "stdout",
     "output_type": "stream",
     "text": [
      "  0.05s 438 results\n"
     ]
    },
    {
     "data": {
      "text/html": [
       "<table><tr class=\"tf ltr\"><th class=\"tf ltr\">n</th><th class=\"tf ltr\">p</th><th class=\"tf ltr\">line</th><th class=\"tf\">word</th></tr>\n",
       "<tr class=\"tf ltr\"><td class=\"tf ltr\">1</td><td class=\"tf ltr\"><span class=\"tfsechead ltr\">1 1:1</span></td><td class=\"tf ltr\"><span class=\" ubd\"></span></td><td class=\"tf ltr\"><span class=\" ubd\"><span class=\"plain   hl\" ><span class=\"txtu\">فصوص </span></span></span></td></tr>\n",
       "<tr class=\"tf ltr\"><td class=\"tf ltr\">2</td><td class=\"tf ltr\"><span class=\"tfsechead ltr\">1 2:1</span></td><td class=\"tf ltr\"><span class=\" ubd\"></span></td><td class=\"tf ltr\"><span class=\" ubd\"><span class=\"plain   hl\" ><span class=\"txtu\">جميع </span></span></span></td></tr>\n",
       "<tr class=\"tf ltr\"><td class=\"tf ltr\">3</td><td class=\"tf ltr\"><span class=\"tfsechead ltr\">1 3:1</span></td><td class=\"tf ltr\"><span class=\" ubd\"></span></td><td class=\"tf ltr\"><span class=\" ubd\"><span class=\"plain   hl\" ><span class=\"txtu\">بِسمِ </span></span></span></td></tr>\n",
       "<tr class=\"tf ltr\"><td class=\"tf ltr\">4</td><td class=\"tf ltr\"><span class=\"tfsechead ltr\">1 4:1</span></td><td class=\"tf ltr\"><span class=\" ubd\"></span></td><td class=\"tf ltr\"><span class=\" ubd\"><span class=\"plain   hl\" ><span class=\"txtu\">الفهر </span></span></span></td></tr>\n",
       "<tr class=\"tf ltr\"><td class=\"tf ltr\">5</td><td class=\"tf ltr\"><span class=\"tfsechead ltr\">1 5:1</span></td><td class=\"tf ltr\"><span class=\" ubd\"></span></td><td class=\"tf ltr\"><span class=\" ubd\"><span class=\"plain   hl\" ><span class=\"txtu\">٩١‐ </span></span></span></td></tr>\n",
       "<tr class=\"tf ltr\"><td class=\"tf ltr\">6</td><td class=\"tf ltr\"><span class=\"tfsechead ltr\">2 6:1</span></td><td class=\"tf ltr\"><span class=\" ubd\"></span></td><td class=\"tf ltr\"><span class=\" ubd\"><span class=\"plain   hl\" ><span class=\"txtu\">[١ </span></span></span></td></tr>\n",
       "<tr class=\"tf ltr\"><td class=\"tf ltr\">7</td><td class=\"tf ltr\"><span class=\"tfsechead ltr\">2 7:1</span></td><td class=\"tf ltr\"><span class=\" ubd\"></span></td><td class=\"tf ltr\"><span class=\" ubd\"><span class=\"plain   hl\" ><span class=\"txtu\">[١ </span></span></span></td></tr>\n",
       "<tr class=\"tf ltr\"><td class=\"tf ltr\">8</td><td class=\"tf ltr\"><span class=\"tfsechead ltr\">3 8:1</span></td><td class=\"tf ltr\"><span class=\" ubd\"></span></td><td class=\"tf ltr\"><span class=\" ubd\"><span class=\"plain   hl\" ><span class=\"txtu\">[ </span></span></span></td></tr>\n",
       "<tr class=\"tf ltr\"><td class=\"tf ltr\">9</td><td class=\"tf ltr\"><span class=\"tfsechead ltr\">3 9:1</span></td><td class=\"tf ltr\"><span class=\" ubd\"></span></td><td class=\"tf ltr\"><span class=\" ubd\"><span class=\"plain   hl\" ><span class=\"txtu\">وَصَلَّىٰ </span></span></span></td></tr>\n",
       "<tr class=\"tf ltr\"><td class=\"tf ltr\">10</td><td class=\"tf ltr\"><span class=\"tfsechead ltr\">3 10:1</span></td><td class=\"tf ltr\"><span class=\" ubd\"></span></td><td class=\"tf ltr\"><span class=\" ubd\"><span class=\"plain   hl\" ><span class=\"txtu\">فَقُلْتُ </span></span></span></td></tr>\n",
       "<tr class=\"tf ltr\"><td class=\"tf ltr\">11</td><td class=\"tf ltr\"><span class=\"tfsechead ltr\">3 11:1</span></td><td class=\"tf ltr\"><span class=\" ubd\"></span></td><td class=\"tf ltr\"><span class=\" ubd\"><span class=\"plain   hl\" ><span class=\"txtu\">الرُّوعِ </span></span></span></td></tr>\n",
       "<tr class=\"tf ltr\"><td class=\"tf ltr\">12</td><td class=\"tf ltr\"><span class=\"tfsechead ltr\">3 12:1</span></td><td class=\"tf ltr\"><span class=\" ubd\"></span></td><td class=\"tf ltr\"><span class=\" ubd\"><span class=\"plain   hl\" ><span class=\"txtu\">يُنْزَلُ(١) </span></span></span></td></tr>\n",
       "<tr class=\"tf ltr\"><td class=\"tf ltr\">13</td><td class=\"tf ltr\"><span class=\"tfsechead ltr\">3 13:1</span></td><td class=\"tf ltr\"><span class=\" ubd\"></span></td><td class=\"tf ltr\"><span class=\" ubd\"><span class=\"plain   hl\" ><span class=\"txtu\">وَمِنَ </span></span></span></td></tr>\n",
       "<tr class=\"tf ltr\"><td class=\"tf ltr\">14</td><td class=\"tf ltr\"><span class=\"tfsechead ltr\">4 14:1</span></td><td class=\"tf ltr\"><span class=\" ubd\"></span></td><td class=\"tf ltr\"><span class=\" ubd\"><span class=\"plain   hl\" ><span class=\"txtu\">[١] </span></span></span></td></tr>\n",
       "<tr class=\"tf ltr\"><td class=\"tf ltr\">15</td><td class=\"tf ltr\"><span class=\"tfsechead ltr\">4 15:1</span></td><td class=\"tf ltr\"><span class=\" ubd\"></span></td><td class=\"tf ltr\"><span class=\" ubd\"><span class=\"plain   hl\" ><span class=\"txtu\">جَا </span></span></span></td></tr>\n",
       "<tr class=\"tf ltr\"><td class=\"tf ltr\">16</td><td class=\"tf ltr\"><span class=\"tfsechead ltr\">4 16:1</span></td><td class=\"tf ltr\"><span class=\" ubd\"></span></td><td class=\"tf ltr\"><span class=\" ubd\"><span class=\"plain   hl\" ><span class=\"txtu\">فَـكَانَ </span></span></span></td></tr>\n",
       "<tr class=\"tf ltr\"><td class=\"tf ltr\">17</td><td class=\"tf ltr\"><span class=\"tfsechead ltr\">4 17:1</span></td><td class=\"tf ltr\"><span class=\" ubd\"></span></td><td class=\"tf ltr\"><span class=\" ubd\"><span class=\"plain   hl\" ><span class=\"txtu\">فَـكَا </span></span></span></td></tr>\n",
       "<tr class=\"tf ltr\"><td class=\"tf ltr\">18</td><td class=\"tf ltr\"><span class=\"tfsechead ltr\">4 18:1</span></td><td class=\"tf ltr\"><span class=\" ubd\"></span></td><td class=\"tf ltr\"><span class=\" ubd\"><span class=\"plain   hl\" ><span class=\"txtu\">وَهٰذَا </span></span></span></td></tr>\n",
       "<tr class=\"tf ltr\"><td class=\"tf ltr\">19</td><td class=\"tf ltr\"><span class=\"tfsechead ltr\">4 19:1</span></td><td class=\"tf ltr\"><span class=\" ubd\"></span></td><td class=\"tf ltr\"><span class=\" ubd\"><span class=\"plain   hl\" ><span class=\"txtu\">أَلَا </span></span></span></td></tr>\n",
       "<tr class=\"tf ltr\"><td class=\"tf ltr\">20</td><td class=\"tf ltr\"><span class=\"tfsechead ltr\">4 20:1</span></td><td class=\"tf ltr\"><span class=\" ubd\"></span></td><td class=\"tf ltr\"><span class=\" ubd\"><span class=\"plain   hl\" ><span class=\"txtu\">فَإِ </span></span></span></td></tr></table>"
      ],
      "text/plain": [
       "<IPython.core.display.HTML object>"
      ]
     },
     "metadata": {},
     "output_type": "display_data"
    }
   ],
   "source": [
    "template = \"\"\"\n",
    "line n=1\n",
    "  =: word\n",
    "\"\"\"\n",
    "results = A.search(template)\n",
    "A.table(results, end=20)"
   ]
  },
  {
   "cell_type": "markdown",
   "metadata": {},
   "source": [
    "All last words of the first line of every page"
   ]
  },
  {
   "cell_type": "code",
   "execution_count": 9,
   "metadata": {},
   "outputs": [
    {
     "name": "stdout",
     "output_type": "stream",
     "text": [
      "  0.06s 438 results\n"
     ]
    },
    {
     "data": {
      "text/html": [
       "<table><tr class=\"tf ltr\"><th class=\"tf ltr\">n</th><th class=\"tf ltr\">p</th><th class=\"tf ltr\">line</th><th class=\"tf\">word</th></tr>\n",
       "<tr class=\"tf ltr\"><td class=\"tf ltr\">1</td><td class=\"tf ltr\"><span class=\"tfsechead ltr\">1 1:1</span></td><td class=\"tf ltr\"><span class=\" ubd\"></span></td><td class=\"tf ltr\"><span class=\" ubd\"><span class=\"plain   hl\" ><span class=\"txtu\">الحكم </span></span></span></td></tr>\n",
       "<tr class=\"tf ltr\"><td class=\"tf ltr\">2</td><td class=\"tf ltr\"><span class=\"tfsechead ltr\">1 2:1</span></td><td class=\"tf ltr\"><span class=\" ubd\"></span></td><td class=\"tf ltr\"><span class=\" ubd\"><span class=\"plain   hl\" ><span class=\"txtu\">ظة </span></span></span></td></tr>\n",
       "<tr class=\"tf ltr\"><td class=\"tf ltr\">3</td><td class=\"tf ltr\"><span class=\"tfsechead ltr\">1 3:1</span></td><td class=\"tf ltr\"><span class=\" ubd\"></span></td><td class=\"tf ltr\"><span class=\" ubd\"><span class=\"plain   hl\" ><span class=\"txtu\">حِيمِ </span></span></span></td></tr>\n",
       "<tr class=\"tf ltr\"><td class=\"tf ltr\">4</td><td class=\"tf ltr\"><span class=\"tfsechead ltr\">1 4:1</span></td><td class=\"tf ltr\"><span class=\" ubd\"></span></td><td class=\"tf ltr\"><span class=\" ubd\"><span class=\"plain   hl\" ><span class=\"txtu\">ست </span></span></span></td></tr>\n",
       "<tr class=\"tf ltr\"><td class=\"tf ltr\">5</td><td class=\"tf ltr\"><span class=\"tfsechead ltr\">1 5:1</span></td><td class=\"tf ltr\"><span class=\" ubd\"></span></td><td class=\"tf ltr\"><span class=\" ubd\"><span class=\"plain   hl\" ><span class=\"txtu\">نيّة……………………٢٤٢ </span></span></span></td></tr>\n",
       "<tr class=\"tf ltr\"><td class=\"tf ltr\">6</td><td class=\"tf ltr\"><span class=\"tfsechead ltr\">2 6:1</span></td><td class=\"tf ltr\"><span class=\" ubd\"></span></td><td class=\"tf ltr\"><span class=\" ubd\"><span class=\"plain   hl\" ><span class=\"txtu\">وجه] </span></span></span></td></tr>\n",
       "<tr class=\"tf ltr\"><td class=\"tf ltr\">7</td><td class=\"tf ltr\"><span class=\"tfsechead ltr\">2 7:1</span></td><td class=\"tf ltr\"><span class=\" ubd\"></span></td><td class=\"tf ltr\"><span class=\" ubd\"><span class=\"plain   hl\" ><span class=\"txtu\">ظهر] </span></span></span></td></tr>\n",
       "<tr class=\"tf ltr\"><td class=\"tf ltr\">8</td><td class=\"tf ltr\"><span class=\"tfsechead ltr\">3 8:1</span></td><td class=\"tf ltr\"><span class=\" ubd\"></span></td><td class=\"tf ltr\"><span class=\" ubd\"><span class=\"plain   hl\" ><span class=\"txtu\">لِّفِ] </span></span></span></td></tr>\n",
       "<tr class=\"tf ltr\"><td class=\"tf ltr\">9</td><td class=\"tf ltr\"><span class=\"tfsechead ltr\">3 9:1</span></td><td class=\"tf ltr\"><span class=\" ubd\"></span></td><td class=\"tf ltr\"><span class=\" ubd\"><span class=\"plain   hl\" ><span class=\"txtu\">لقِيلِ </span></span></span></td></tr>\n",
       "<tr class=\"tf ltr\"><td class=\"tf ltr\">10</td><td class=\"tf ltr\"><span class=\"tfsechead ltr\">3 10:1</span></td><td class=\"tf ltr\"><span class=\" ubd\"></span></td><td class=\"tf ltr\"><span class=\" ubd\"><span class=\"plain   hl\" ><span class=\"txtu\">نَا».(٢) </span></span></span></td></tr>\n",
       "<tr class=\"tf ltr\"><td class=\"tf ltr\">11</td><td class=\"tf ltr\"><span class=\"tfsechead ltr\">3 11:1</span></td><td class=\"tf ltr\"><span class=\" ubd\"></span></td><td class=\"tf ltr\"><span class=\" ubd\"><span class=\"plain   hl\" ><span class=\"txtu\">مُتَحَكِّمًا، </span></span></span></td></tr>\n",
       "<tr class=\"tf ltr\"><td class=\"tf ltr\">12</td><td class=\"tf ltr\"><span class=\"tfsechead ltr\">3 12:1</span></td><td class=\"tf ltr\"><span class=\" ubd\"></span></td><td class=\"tf ltr\"><span class=\" ubd\"><span class=\"plain   hl\" ><span class=\"txtu\">حَارِثٌ. </span></span></span></td></tr>\n",
       "<tr class=\"tf ltr\"><td class=\"tf ltr\">13</td><td class=\"tf ltr\"><span class=\"tfsechead ltr\">3 13:1</span></td><td class=\"tf ltr\"><span class=\" ubd\"></span></td><td class=\"tf ltr\"><span class=\" ubd\"><span class=\"plain   hl\" ><span class=\"txtu\">لشَّرْعِ </span></span></span></td></tr>\n",
       "<tr class=\"tf ltr\"><td class=\"tf ltr\">14</td><td class=\"tf ltr\"><span class=\"tfsechead ltr\">4 14:1</span></td><td class=\"tf ltr\"><span class=\" ubd\"></span></td><td class=\"tf ltr\"><span class=\" ubd\"><span class=\"plain   hl\" ><span class=\"txtu\">مِيَّةٍ﴾ </span></span></span></td></tr>\n",
       "<tr class=\"tf ltr\"><td class=\"tf ltr\">15</td><td class=\"tf ltr\"><span class=\"tfsechead ltr\">4 15:1</span></td><td class=\"tf ltr\"><span class=\" ubd\"></span></td><td class=\"tf ltr\"><span class=\" ubd\"><span class=\"plain   hl\" ><span class=\"txtu\">إِلَـيهِ. </span></span></span></td></tr>\n",
       "<tr class=\"tf ltr\"><td class=\"tf ltr\">16</td><td class=\"tf ltr\"><span class=\"tfsechead ltr\">4 16:1</span></td><td class=\"tf ltr\"><span class=\" ubd\"></span></td><td class=\"tf ltr\"><span class=\" ubd\"><span class=\"plain   hl\" ><span class=\"txtu\">إِلَّا </span></span></span></td></tr>\n",
       "<tr class=\"tf ltr\"><td class=\"tf ltr\">17</td><td class=\"tf ltr\"><span class=\"tfsechead ltr\">4 17:1</span></td><td class=\"tf ltr\"><span class=\" ubd\"></span></td><td class=\"tf ltr\"><span class=\" ubd\"><span class=\"plain   hl\" ><span class=\"txtu\">النَّشْأَةِ </span></span></span></td></tr>\n",
       "<tr class=\"tf ltr\"><td class=\"tf ltr\">18</td><td class=\"tf ltr\"><span class=\"tfsechead ltr\">4 18:1</span></td><td class=\"tf ltr\"><span class=\" ubd\"></span></td><td class=\"tf ltr\"><span class=\" ubd\"><span class=\"plain   hl\" ><span class=\"txtu\">الإِدْرَاكِ </span></span></span></td></tr>\n",
       "<tr class=\"tf ltr\"><td class=\"tf ltr\">19</td><td class=\"tf ltr\"><span class=\"tfsechead ltr\">4 19:1</span></td><td class=\"tf ltr\"><span class=\" ubd\"></span></td><td class=\"tf ltr\"><span class=\" ubd\"><span class=\"plain   hl\" ><span class=\"txtu\">الحَقُّ </span></span></span></td></tr>\n",
       "<tr class=\"tf ltr\"><td class=\"tf ltr\">20</td><td class=\"tf ltr\"><span class=\"tfsechead ltr\">4 20:1</span></td><td class=\"tf ltr\"><span class=\" ubd\"></span></td><td class=\"tf ltr\"><span class=\" ubd\"><span class=\"plain   hl\" ><span class=\"txtu\">جَمْعِيَّةُ </span></span></span></td></tr></table>"
      ],
      "text/plain": [
       "<IPython.core.display.HTML object>"
      ]
     },
     "metadata": {},
     "output_type": "display_data"
    }
   ],
   "source": [
    "template = \"\"\"\n",
    "line n=1\n",
    "  := word\n",
    "\"\"\"\n",
    "results = A.search(template)\n",
    "A.table(results, end=20)"
   ]
  },
  {
   "cell_type": "markdown",
   "metadata": {},
   "source": [
    "All first words of a piece"
   ]
  },
  {
   "cell_type": "code",
   "execution_count": 10,
   "metadata": {},
   "outputs": [
    {
     "name": "stdout",
     "output_type": "stream",
     "text": [
      "  0.07s 35 results\n"
     ]
    },
    {
     "data": {
      "text/html": [
       "<table><tr class=\"tf ltr\"><th class=\"tf ltr\">n</th><th class=\"tf ltr\">p</th><th class=\"tf ltr\">piece</th><th class=\"tf\">word</th></tr>\n",
       "<tr class=\"tf ltr\"><td class=\"tf ltr\">1</td><td class=\"tf ltr\"><span class=\"tfsechead ltr\">1 1:1</span></td><td class=\"tf ltr\"><span class=\" ubd\"><span class=\"txtu \"><span class=\"tfsechead\">1</span></span></span></td><td class=\"tf ltr\"><span class=\" ubd\"><span class=\"plain   hl\" ><span class=\"txtu\">فصوص </span></span></span></td></tr>\n",
       "<tr class=\"tf ltr\"><td class=\"tf ltr\">2</td><td class=\"tf ltr\"><span class=\"tfsechead ltr\">2 6:1</span></td><td class=\"tf ltr\"><span class=\" ubd\"><span class=\"txtu \"><span class=\"tfsechead\">2</span></span></span></td><td class=\"tf ltr\"><span class=\" ubd\"><span class=\"plain   hl\" ><span class=\"txtu\">[١ </span></span></span></td></tr>\n",
       "<tr class=\"tf ltr\"><td class=\"tf ltr\">3</td><td class=\"tf ltr\"><span class=\"tfsechead ltr\">3 8:1</span></td><td class=\"tf ltr\"><span class=\" ubd\"><span class=\"txtu \"><span class=\"tfsechead\">3</span></span></span></td><td class=\"tf ltr\"><span class=\" ubd\"><span class=\"plain   hl\" ><span class=\"txtu\">[ </span></span></span></td></tr>\n",
       "<tr class=\"tf ltr\"><td class=\"tf ltr\">4</td><td class=\"tf ltr\"><span class=\"tfsechead ltr\">4 14:1</span></td><td class=\"tf ltr\"><span class=\" ubd\"><span class=\"txtu \"><span class=\"tfsechead\">4</span></span></span></td><td class=\"tf ltr\"><span class=\" ubd\"><span class=\"plain   hl\" ><span class=\"txtu\">[١] </span></span></span></td></tr>\n",
       "<tr class=\"tf ltr\"><td class=\"tf ltr\">5</td><td class=\"tf ltr\"><span class=\"tfsechead ltr\">5 32:1</span></td><td class=\"tf ltr\"><span class=\" ubd\"><span class=\"txtu \"><span class=\"tfsechead\">5</span></span></span></td><td class=\"tf ltr\"><span class=\" ubd\"><span class=\"plain   hl\" ><span class=\"txtu\">[٢] </span></span></span></td></tr>\n",
       "<tr class=\"tf ltr\"><td class=\"tf ltr\">6</td><td class=\"tf ltr\"><span class=\"tfsechead ltr\">6 52:1</span></td><td class=\"tf ltr\"><span class=\" ubd\"><span class=\"txtu \"><span class=\"tfsechead\">6</span></span></span></td><td class=\"tf ltr\"><span class=\" ubd\"><span class=\"plain   hl\" ><span class=\"txtu\">وَهُوَ </span></span></span></td></tr>\n",
       "<tr class=\"tf ltr\"><td class=\"tf ltr\">7</td><td class=\"tf ltr\"><span class=\"tfsechead ltr\">7 71:1</span></td><td class=\"tf ltr\"><span class=\" ubd\"><span class=\"txtu \"><span class=\"tfsechead\">7</span></span></span></td><td class=\"tf ltr\"><span class=\" ubd\"><span class=\"plain   hl\" ><span class=\"txtu\">المَنَازِلِ، </span></span></span></td></tr>\n",
       "<tr class=\"tf ltr\"><td class=\"tf ltr\">8</td><td class=\"tf ltr\"><span class=\"tfsechead ltr\">8 84:1</span></td><td class=\"tf ltr\"><span class=\" ubd\"><span class=\"txtu \"><span class=\"tfsechead\">8</span></span></span></td><td class=\"tf ltr\"><span class=\" ubd\"><span class=\"plain   hl\" ><span class=\"txtu\">كَمَا </span></span></span></td></tr>\n",
       "<tr class=\"tf ltr\"><td class=\"tf ltr\">9</td><td class=\"tf ltr\"><span class=\"tfsechead ltr\">9 95:1</span></td><td class=\"tf ltr\"><span class=\" ubd\"><span class=\"txtu \"><span class=\"tfsechead\">9</span></span></span></td><td class=\"tf ltr\"><span class=\" ubd\"><span class=\"plain   hl\" ><span class=\"txtu\">٣‐ </span></span></span></td></tr>\n",
       "<tr class=\"tf ltr\"><td class=\"tf ltr\">10</td><td class=\"tf ltr\"><span class=\"tfsechead ltr\">10 111:1</span></td><td class=\"tf ltr\"><span class=\" ubd\"><span class=\"txtu \"><span class=\"tfsechead\">10</span></span></span></td><td class=\"tf ltr\"><span class=\" ubd\"><span class=\"plain   hl\" ><span class=\"txtu\">وَلِهٰذَا </span></span></span></td></tr>\n",
       "<tr class=\"tf ltr\"><td class=\"tf ltr\">11</td><td class=\"tf ltr\"><span class=\"tfsechead ltr\">11 121:1</span></td><td class=\"tf ltr\"><span class=\" ubd\"><span class=\"txtu \"><span class=\"tfsechead\">11</span></span></span></td><td class=\"tf ltr\"><span class=\" ubd\"><span class=\"plain   hl\" ><span class=\"txtu\">إِنَّ </span></span></span></td></tr>\n",
       "<tr class=\"tf ltr\"><td class=\"tf ltr\">12</td><td class=\"tf ltr\"><span class=\"tfsechead ltr\">12 130:1</span></td><td class=\"tf ltr\"><span class=\" ubd\"><span class=\"txtu \"><span class=\"tfsechead\">12</span></span></span></td><td class=\"tf ltr\"><span class=\" ubd\"><span class=\"plain   hl\" ><span class=\"txtu\">[٩] </span></span></span></td></tr>\n",
       "<tr class=\"tf ltr\"><td class=\"tf ltr\">13</td><td class=\"tf ltr\"><span class=\"tfsechead ltr\">13 147:1</span></td><td class=\"tf ltr\"><span class=\" ubd\"><span class=\"txtu \"><span class=\"tfsechead\">13</span></span></span></td><td class=\"tf ltr\"><span class=\" ubd\"><span class=\"plain   hl\" ><span class=\"txtu\">فَأَ </span></span></span></td></tr>\n",
       "<tr class=\"tf ltr\"><td class=\"tf ltr\">14</td><td class=\"tf ltr\"><span class=\"tfsechead ltr\">14 166:1</span></td><td class=\"tf ltr\"><span class=\" ubd\"><span class=\"txtu \"><span class=\"tfsechead\">14</span></span></span></td><td class=\"tf ltr\"><span class=\" ubd\"><span class=\"plain   hl\" ><span class=\"txtu\">تُسَمَّىٰ </span></span></span></td></tr>\n",
       "<tr class=\"tf ltr\"><td class=\"tf ltr\">15</td><td class=\"tf ltr\"><span class=\"tfsechead ltr\">15 173:1</span></td><td class=\"tf ltr\"><span class=\" ubd\"><span class=\"txtu \"><span class=\"tfsechead\">15</span></span></span></td><td class=\"tf ltr\"><span class=\" ubd\"><span class=\"plain   hl\" ><span class=\"txtu\">الأَ </span></span></span></td></tr>\n",
       "<tr class=\"tf ltr\"><td class=\"tf ltr\">16</td><td class=\"tf ltr\"><span class=\"tfsechead ltr\">16 189:1</span></td><td class=\"tf ltr\"><span class=\" ubd\"><span class=\"txtu \"><span class=\"tfsechead\">16</span></span></span></td><td class=\"tf ltr\"><span class=\" ubd\"><span class=\"plain   hl\" ><span class=\"txtu\">وَلَا </span></span></span></td></tr>\n",
       "<tr class=\"tf ltr\"><td class=\"tf ltr\">17</td><td class=\"tf ltr\"><span class=\"tfsechead ltr\">17 198:1</span></td><td class=\"tf ltr\"><span class=\" ubd\"><span class=\"txtu \"><span class=\"tfsechead\">17</span></span></span></td><td class=\"tf ltr\"><span class=\" ubd\"><span class=\"plain   hl\" ><span class=\"txtu\">هِي </span></span></span></td></tr>\n",
       "<tr class=\"tf ltr\"><td class=\"tf ltr\">18</td><td class=\"tf ltr\"><span class=\"tfsechead ltr\">18 211:1</span></td><td class=\"tf ltr\"><span class=\" ubd\"><span class=\"txtu \"><span class=\"tfsechead\">18</span></span></span></td><td class=\"tf ltr\"><span class=\" ubd\"><span class=\"plain   hl\" ><span class=\"txtu\">وَغَيْرِهِ. </span></span></span></td></tr>\n",
       "<tr class=\"tf ltr\"><td class=\"tf ltr\">19</td><td class=\"tf ltr\"><span class=\"tfsechead ltr\">19 242:1</span></td><td class=\"tf ltr\"><span class=\" ubd\"><span class=\"txtu \"><span class=\"tfsechead\">19</span></span></span></td><td class=\"tf ltr\"><span class=\" ubd\"><span class=\"plain   hl\" ><span class=\"txtu\">هٰذِهِ </span></span></span></td></tr>\n",
       "<tr class=\"tf ltr\"><td class=\"tf ltr\">20</td><td class=\"tf ltr\"><span class=\"tfsechead ltr\">20 262:1</span></td><td class=\"tf ltr\"><span class=\" ubd\"><span class=\"txtu \"><span class=\"tfsechead\">20</span></span></span></td><td class=\"tf ltr\"><span class=\" ubd\"><span class=\"plain   hl\" ><span class=\"txtu\">وَإذِا </span></span></span></td></tr></table>"
      ],
      "text/plain": [
       "<IPython.core.display.HTML object>"
      ]
     },
     "metadata": {},
     "output_type": "display_data"
    }
   ],
   "source": [
    "template = \"\"\"\n",
    "piece\n",
    "  =: word\n",
    "\"\"\"\n",
    "results = A.search(template)\n",
    "A.table(results, end=20)"
   ]
  },
  {
   "cell_type": "markdown",
   "metadata": {},
   "source": [
    "Pick line 500"
   ]
  },
  {
   "cell_type": "code",
   "execution_count": 12,
   "metadata": {},
   "outputs": [
    {
     "data": {
      "text/plain": [
       "68460"
      ]
     },
     "execution_count": 12,
     "metadata": {},
     "output_type": "execute_result"
    }
   ],
   "source": [
    "l = F.otype.s(\"line\")[499]\n",
    "l"
   ]
  },
  {
   "cell_type": "markdown",
   "metadata": {},
   "source": [
    "Where is it?"
   ]
  },
  {
   "cell_type": "code",
   "execution_count": 13,
   "metadata": {},
   "outputs": [
    {
     "data": {
      "text/html": [
       "<div class=\"\"><span class=\"tfsechead \">5 45:16</span>  <span class=\"txtu\">المُعْطِي </span><span class=\"txtu\">لَهُ </span><span class=\"txtu\">بِعِوضٍَ </span><span class=\"txtu\">عَلَىٰ </span><span class=\"txtu\">ذٰلِكَ </span><span class=\"txtu\">مِن </span><span class=\"txtu\">شُـكْرٍ </span><span class=\"txtu\">أَوْ </span><span class=\"txtu\">عَمَلٍ. </span></div>"
      ],
      "text/plain": [
       "<IPython.core.display.HTML object>"
      ]
     },
     "metadata": {},
     "output_type": "display_data"
    }
   ],
   "source": [
    "A.plain(l)"
   ]
  },
  {
   "cell_type": "markdown",
   "metadata": {},
   "source": [
    "Show structure"
   ]
  },
  {
   "cell_type": "code",
   "execution_count": 14,
   "metadata": {},
   "outputs": [
    {
     "data": {
      "text/html": [
       "<div class=\"tfsechead \">5 45:16</div><div class=\" children\"><div class=\"contnr c3    \" ><div class=\"lbl c3  \" ><span class=\"nd\">line</span></div><div class=\"children hor wrap \"><div class=\"contnr c2    \" ><div class=\"lbl c2  \" ><span class=\"nd\">column</span></div><div class=\"children hor wrap \"><div class=\"contnr c1    \" ><div class=\"lbl c1  \" ><span class=\"nd\">span</span></div><div class=\"children hor wrap \"><div class=\"contnr c0 trm   \" ><div class=\"lbl c0 trm \" ><span class=\"txtu\">المُعْطِي </span></div></div><div class=\"contnr c0 trm   \" ><div class=\"lbl c0 trm \" ><span class=\"txtu\">لَهُ </span></div></div><div class=\"contnr c0 trm   \" ><div class=\"lbl c0 trm \" ><span class=\"txtu\">بِعِوضٍَ </span></div></div><div class=\"contnr c0 trm   \" ><div class=\"lbl c0 trm \" ><span class=\"txtu\">عَلَىٰ </span></div></div><div class=\"contnr c0 trm   \" ><div class=\"lbl c0 trm \" ><span class=\"txtu\">ذٰلِكَ </span></div></div><div class=\"contnr c0 trm   \" ><div class=\"lbl c0 trm \" ><span class=\"txtu\">مِن </span></div></div><div class=\"contnr c0 trm   \" ><div class=\"lbl c0 trm \" ><span class=\"txtu\">شُـكْرٍ </span></div></div><div class=\"contnr c0 trm   \" ><div class=\"lbl c0 trm \" ><span class=\"txtu\">أَوْ </span></div></div><div class=\"contnr c0 trm   \" ><div class=\"lbl c0 trm \" ><span class=\"txtu\">عَمَلٍ. </span></div></div></div></div></div></div></div></div></div>"
      ],
      "text/plain": [
       "<IPython.core.display.HTML object>"
      ]
     },
     "metadata": {},
     "output_type": "display_data"
    }
   ],
   "source": [
    "A.pretty(l)"
   ]
  },
  {
   "cell_type": "markdown",
   "metadata": {},
   "source": [
    "Show more info"
   ]
  },
  {
   "cell_type": "code",
   "execution_count": 16,
   "metadata": {},
   "outputs": [
    {
     "data": {
      "text/html": [
       "<div class=\"tfsechead \">5 45:16</div><div class=\" children\"><div class=\"contnr c3    \" ><div class=\"lbl c3  \" ><span class=\"nd\">line</span></div><div class='features'><span class=\"n xft\" ><span class=\"f\">n=</span>16</span></div><div class=\"children hor wrap \"><div class=\"contnr c2    \" ><div class=\"lbl c2  \" ><span class=\"nd\">column</span></div><div class='features'><span class=\"n xft\" ><span class=\"f\">n=</span>1</span></div><div class=\"children hor wrap \"><div class=\"contnr c1    \" ><div class=\"lbl c1  \" ><span class=\"nd\">span</span></div><div class='features'><span class=\"n xft\" ><span class=\"f\">n=</span>1</span></div><div class=\"children hor wrap \"><div class=\"contnr c0 trm   \" ><div class=\"lbl c0 trm \" ><span class=\"txtu\">المُعْطِي </span></div></div><div class=\"contnr c0 trm   \" ><div class=\"lbl c0 trm \" ><span class=\"txtu\">لَهُ </span></div></div><div class=\"contnr c0 trm   \" ><div class=\"lbl c0 trm \" ><span class=\"txtu\">بِعِوضٍَ </span></div></div><div class=\"contnr c0 trm   \" ><div class=\"lbl c0 trm \" ><span class=\"txtu\">عَلَىٰ </span></div></div><div class=\"contnr c0 trm   \" ><div class=\"lbl c0 trm \" ><span class=\"txtu\">ذٰلِكَ </span></div></div><div class=\"contnr c0 trm   \" ><div class=\"lbl c0 trm \" ><span class=\"txtu\">مِن </span></div></div><div class=\"contnr c0 trm   \" ><div class=\"lbl c0 trm \" ><span class=\"txtu\">شُـكْرٍ </span></div></div><div class=\"contnr c0 trm   \" ><div class=\"lbl c0 trm \" ><span class=\"txtu\">أَوْ </span></div></div><div class=\"contnr c0 trm   \" ><div class=\"lbl c0 trm \" ><span class=\"txtu\">عَمَلٍ. </span></div></div></div></div></div></div></div></div></div>"
      ],
      "text/plain": [
       "<IPython.core.display.HTML object>"
      ]
     },
     "metadata": {},
     "output_type": "display_data"
    }
   ],
   "source": [
    "A.pretty(l, extraFeatures=\"n\")"
   ]
  },
  {
   "cell_type": "markdown",
   "metadata": {},
   "source": [
    "Locate a specific portion"
   ]
  },
  {
   "cell_type": "code",
   "execution_count": 19,
   "metadata": {},
   "outputs": [
    {
     "name": "stdout",
     "output_type": "stream",
     "text": [
      "  0.10s 38 results\n"
     ]
    },
    {
     "data": {
      "text/html": [
       "<p><b>line</b> <i>1</i></p>"
      ],
      "text/plain": [
       "<IPython.core.display.HTML object>"
      ]
     },
     "metadata": {},
     "output_type": "display_data"
    },
    {
     "data": {
      "text/html": [
       "<div class=\"tfsechead \">5 32:2</div><div class=\" children\"><div class=\"contnr c3    \" ><div class=\"lbl c3  \" ><span class=\"nd\">line</span></div><div class='features'><span class=\"n xft\" ><span class=\"f\">n=</span>2</span></div><div class=\"children hor wrap \"><div class=\"contnr c2    \" ><div class=\"lbl c2  \" ><span class=\"nd\">column</span></div><div class='features'><span class=\"n xft\" ><span class=\"f\">n=</span>1</span></div><div class=\"children hor wrap \"><div class=\"contnr c1    \" ><div class=\"lbl c1  \" ><span class=\"nd\">span</span></div><div class='features'><span class=\"n xft\" ><span class=\"f\">n=</span>1</span></div><div class=\"children hor wrap \"><div class=\"contnr c0 trm   \" ><div class=\"lbl c0 trm \" ><span class=\"txtu\">ٱعْلَمْ </span></div><div class='features'><span class=\"text xft\" ><span class=\"f\">text=</span>ٱعْلَمْ</span></div></div><div class=\"contnr c0 trm   \" ><div class=\"lbl c0 trm \" ><span class=\"txtu\">أَنَّ </span></div><div class='features'><span class=\"text xft\" ><span class=\"f\">text=</span>أَنَّ</span></div></div><div class=\"contnr c0 trm   hl\" ><div class=\"lbl c0 trm hl\" ><span class=\"txtu\">العَطَا </span></div><div class='features'><span class=\"text xft\" ><span class=\"f\">text=</span>العَطَا</span></div></div><div class=\"contnr c0 trm   hl\" ><div class=\"lbl c0 trm hl\" ><span class=\"txtu\">يَا </span></div><div class='features'><span class=\"text xft\" ><span class=\"f\">text=</span>يَا</span></div></div><div class=\"contnr c0 trm   hl\" ><div class=\"lbl c0 trm hl\" ><span class=\"txtu\">وَا </span></div><div class='features'><span class=\"text xft\" ><span class=\"f\">text=</span>وَا</span></div></div><div class=\"contnr c0 trm   \" ><div class=\"lbl c0 trm \" ><span class=\"txtu\">لمِنَحَ </span></div><div class='features'><span class=\"text xft\" ><span class=\"f\">text=</span>لمِنَحَ</span></div></div><div class=\"contnr c0 trm   hl\" ><div class=\"lbl c0 trm hl\" ><span class=\"txtu\">الظَّا </span></div><div class='features'><span class=\"text xft\" ><span class=\"f\">text=</span>الظَّا</span></div></div><div class=\"contnr c0 trm   \" ><div class=\"lbl c0 trm \" ><span class=\"txtu\">هِـرَةَ </span></div><div class='features'><span class=\"text xft\" ><span class=\"f\">text=</span>هِـرَةَ</span></div></div><div class=\"contnr c0 trm   \" ><div class=\"lbl c0 trm \" ><span class=\"txtu\">فِي </span></div><div class='features'><span class=\"text xft\" ><span class=\"f\">text=</span>فِي</span></div></div><div class=\"contnr c0 trm   hl\" ><div class=\"lbl c0 trm hl\" ><span class=\"txtu\">الكَونِ </span></div><div class='features'><span class=\"text xft\" ><span class=\"f\">text=</span>الكَونِ</span></div></div><div class=\"contnr c0 trm   \" ><div class=\"lbl c0 trm \" ><span class=\"txtu\">― </span></div><div class='features'><span class=\"text xft\" ><span class=\"f\">text=</span>―</span></div></div><div class=\"contnr c0 trm   \" ><div class=\"lbl c0 trm \" ><span class=\"txtu\">عَلَىٰ </span></div><div class='features'><span class=\"text xft\" ><span class=\"f\">text=</span>عَلَىٰ</span></div></div><div class=\"contnr c0 trm   \" ><div class=\"lbl c0 trm \" ><span class=\"txtu\">أَيْدِي </span></div><div class='features'><span class=\"text xft\" ><span class=\"f\">text=</span>أَيْدِي</span></div></div><div class=\"contnr c0 trm   hl\" ><div class=\"lbl c0 trm hl\" ><span class=\"txtu\">العِبَادِ </span></div><div class='features'><span class=\"text xft\" ><span class=\"f\">text=</span>العِبَادِ</span></div></div><div class=\"contnr c0 trm   \" ><div class=\"lbl c0 trm \" ><span class=\"txtu\">وَعَلَىٰ </span></div><div class='features'><span class=\"text xft\" ><span class=\"f\">text=</span>وَعَلَىٰ</span></div></div></div></div></div></div></div></div></div>"
      ],
      "text/plain": [
       "<IPython.core.display.HTML object>"
      ]
     },
     "metadata": {},
     "output_type": "display_data"
    },
    {
     "data": {
      "text/html": [
       "<p><b>line</b> <i>2</i></p>"
      ],
      "text/plain": [
       "<IPython.core.display.HTML object>"
      ]
     },
     "metadata": {},
     "output_type": "display_data"
    },
    {
     "data": {
      "text/html": [
       "<div class=\"tfsechead \">5 32:3</div><div class=\" children\"><div class=\"contnr c3    \" ><div class=\"lbl c3  \" ><span class=\"nd\">line</span></div><div class='features'><span class=\"n xft\" ><span class=\"f\">n=</span>3</span></div><div class=\"children hor wrap \"><div class=\"contnr c2    \" ><div class=\"lbl c2  \" ><span class=\"nd\">column</span></div><div class='features'><span class=\"n xft\" ><span class=\"f\">n=</span>1</span></div><div class=\"children hor wrap \"><div class=\"contnr c1    \" ><div class=\"lbl c1  \" ><span class=\"nd\">span</span></div><div class='features'><span class=\"n xft\" ><span class=\"f\">n=</span>1</span></div><div class=\"children hor wrap \"><div class=\"contnr c0 trm   \" ><div class=\"lbl c0 trm \" ><span class=\"txtu\">غَيْرِ </span></div><div class='features'><span class=\"text xft\" ><span class=\"f\">text=</span>غَيْرِ</span></div></div><div class=\"contnr c0 trm   \" ><div class=\"lbl c0 trm \" ><span class=\"txtu\">أَيْدِ </span></div><div class='features'><span class=\"text xft\" ><span class=\"f\">text=</span>أَيْدِ</span></div></div><div class=\"contnr c0 trm   \" ><div class=\"lbl c0 trm \" ><span class=\"txtu\">يهِمْ </span></div><div class='features'><span class=\"text xft\" ><span class=\"f\">text=</span>يهِمْ</span></div></div><div class=\"contnr c0 trm   \" ><div class=\"lbl c0 trm \" ><span class=\"txtu\">― </span></div><div class='features'><span class=\"text xft\" ><span class=\"f\">text=</span>―</span></div></div><div class=\"contnr c0 trm   \" ><div class=\"lbl c0 trm \" ><span class=\"txtu\">عَلَىٰ </span></div><div class='features'><span class=\"text xft\" ><span class=\"f\">text=</span>عَلَىٰ</span></div></div><div class=\"contnr c0 trm   \" ><div class=\"lbl c0 trm \" ><span class=\"txtu\">قِسْمَيْنِ </span></div><div class='features'><span class=\"text xft\" ><span class=\"f\">text=</span>قِسْمَيْنِ</span></div></div></div></div><div class=\"contnr c1    \" ><div class=\"lbl c1  \" ><span class=\"nd\">span</span></div><div class='features'><span class=\"n xft\" ><span class=\"f\">n=</span>2</span></div><div class=\"children hor wrap \"><div class=\"contnr c0 trm   \" ><div class=\"lbl c0 trm \" ><span class=\"txtu\">: </span></div><div class='features'><span class=\"text xft\" ><span class=\"f\">text=</span>:</span></div></div></div></div><div class=\"contnr c1    \" ><div class=\"lbl c1  \" ><span class=\"nd\">span</span></div><div class='features'><span class=\"n xft\" ><span class=\"f\">n=</span>3</span></div><div class=\"children hor wrap \"><div class=\"contnr c0 trm   hl\" ><div class=\"lbl c0 trm hl\" ><span class=\"txtu\">مِنْهَا، </span></div><div class='features'><span class=\"text xft\" ><span class=\"f\">text=</span>مِنْهَا،</span></div></div><div class=\"contnr c0 trm   hl\" ><div class=\"lbl c0 trm hl\" ><span class=\"txtu\">مَا </span></div><div class='features'><span class=\"text xft\" ><span class=\"f\">text=</span>مَا</span></div></div><div class=\"contnr c0 trm   \" ><div class=\"lbl c0 trm \" ><span class=\"txtu\">تَـكُونُ </span></div><div class='features'><span class=\"text xft\" ><span class=\"f\">text=</span>تَـكُونُ</span></div></div><div class=\"contnr c0 trm   hl\" ><div class=\"lbl c0 trm hl\" ><span class=\"txtu\">عَطَا </span></div><div class='features'><span class=\"text xft\" ><span class=\"f\">text=</span>عَطَا</span></div></div><div class=\"contnr c0 trm   hl\" ><div class=\"lbl c0 trm hl\" ><span class=\"txtu\">يَا </span></div><div class='features'><span class=\"text xft\" ><span class=\"f\">text=</span>يَا</span></div></div><div class=\"contnr c0 trm   hl\" ><div class=\"lbl c0 trm hl\" ><span class=\"txtu\">ذَا </span></div><div class='features'><span class=\"text xft\" ><span class=\"f\">text=</span>ذَا</span></div></div><div class=\"contnr c0 trm   \" ><div class=\"lbl c0 trm \" ><span class=\"txtu\">تِيَّةً </span></div><div class='features'><span class=\"text xft\" ><span class=\"f\">text=</span>تِيَّةً</span></div></div><div class=\"contnr c0 trm   hl\" ><div class=\"lbl c0 trm hl\" ><span class=\"txtu\">وَعَطَا </span></div><div class='features'><span class=\"text xft\" ><span class=\"f\">text=</span>وَعَطَا</span></div></div><div class=\"contnr c0 trm   hl\" ><div class=\"lbl c0 trm hl\" ><span class=\"txtu\">يَا </span></div><div class='features'><span class=\"text xft\" ><span class=\"f\">text=</span>يَا</span></div></div><div class=\"contnr c0 trm   hl\" ><div class=\"lbl c0 trm hl\" ><span class=\"txtu\">أَسْمَا </span></div><div class='features'><span class=\"text xft\" ><span class=\"f\">text=</span>أَسْمَا</span></div></div><div class=\"contnr c0 trm   \" ><div class=\"lbl c0 trm \" ><span class=\"txtu\">ئِيَّةً، </span></div><div class='features'><span class=\"text xft\" ><span class=\"f\">text=</span>ئِيَّةً،</span></div></div></div></div></div></div></div></div></div>"
      ],
      "text/plain": [
       "<IPython.core.display.HTML object>"
      ]
     },
     "metadata": {},
     "output_type": "display_data"
    },
    {
     "data": {
      "text/html": [
       "<p><b>line</b> <i>3</i></p>"
      ],
      "text/plain": [
       "<IPython.core.display.HTML object>"
      ]
     },
     "metadata": {},
     "output_type": "display_data"
    },
    {
     "data": {
      "text/html": [
       "<div class=\"tfsechead \">5 32:4</div><div class=\" children\"><div class=\"contnr c3    \" ><div class=\"lbl c3  \" ><span class=\"nd\">line</span></div><div class='features'><span class=\"n xft\" ><span class=\"f\">n=</span>4</span></div><div class=\"children hor wrap \"><div class=\"contnr c2    \" ><div class=\"lbl c2  \" ><span class=\"nd\">column</span></div><div class='features'><span class=\"n xft\" ><span class=\"f\">n=</span>1</span></div><div class=\"children hor wrap \"><div class=\"contnr c1    \" ><div class=\"lbl c1  \" ><span class=\"nd\">span</span></div><div class='features'><span class=\"n xft\" ><span class=\"f\">n=</span>1</span></div><div class=\"children hor wrap \"><div class=\"contnr c0 trm   \" ><div class=\"lbl c0 trm \" ><span class=\"txtu\">وَتَتَمَيَّزُ </span></div><div class='features'><span class=\"text xft\" ><span class=\"f\">text=</span>وَتَتَمَيَّزُ</span></div></div><div class=\"contnr c0 trm   \" ><div class=\"lbl c0 trm \" ><span class=\"txtu\">عِنْدَ </span></div><div class='features'><span class=\"text xft\" ><span class=\"f\">text=</span>عِنْدَ</span></div></div><div class=\"contnr c0 trm   \" ><div class=\"lbl c0 trm \" ><span class=\"txtu\">أَهْلِ </span></div><div class='features'><span class=\"text xft\" ><span class=\"f\">text=</span>أَهْلِ</span></div></div><div class=\"contnr c0 trm   hl\" ><div class=\"lbl c0 trm hl\" ><span class=\"txtu\">الأَذْوَاقِ. </span></div><div class='features'><span class=\"text xft\" ><span class=\"f\">text=</span>الأَذْوَاقِ.</span></div></div></div></div></div></div></div></div></div>"
      ],
      "text/plain": [
       "<IPython.core.display.HTML object>"
      ]
     },
     "metadata": {},
     "output_type": "display_data"
    },
    {
     "data": {
      "text/html": [
       "<p><b>line</b> <i>4</i></p>"
      ],
      "text/plain": [
       "<IPython.core.display.HTML object>"
      ]
     },
     "metadata": {},
     "output_type": "display_data"
    },
    {
     "data": {
      "text/html": [
       "<div class=\"tfsechead \">5 32:5</div><div class=\" children\"><div class=\"contnr c3    \" ><div class=\"lbl c3  \" ><span class=\"nd\">line</span></div><div class='features'><span class=\"n xft\" ><span class=\"f\">n=</span>5</span></div><div class=\"children hor wrap \"><div class=\"contnr c2    \" ><div class=\"lbl c2  \" ><span class=\"nd\">column</span></div><div class='features'><span class=\"n xft\" ><span class=\"f\">n=</span>1</span></div><div class=\"children hor wrap \"><div class=\"contnr c1    \" ><div class=\"lbl c1  \" ><span class=\"nd\">span</span></div><div class='features'><span class=\"n xft\" ><span class=\"f\">n=</span>1</span></div><div class=\"children hor wrap \"><div class=\"contnr c0 trm   hl\" ><div class=\"lbl c0 trm hl\" ><span class=\"txtu\">كَمَا </span></div><div class='features'><span class=\"text xft\" ><span class=\"f\">text=</span>كَمَا</span></div></div><div class=\"contnr c0 trm   \" ><div class=\"lbl c0 trm \" ><span class=\"txtu\">أَنَّ </span></div><div class='features'><span class=\"text xft\" ><span class=\"f\">text=</span>أَنَّ</span></div></div><div class=\"contnr c0 trm   hl\" ><div class=\"lbl c0 trm hl\" ><span class=\"txtu\">مِنْهَا </span></div><div class='features'><span class=\"text xft\" ><span class=\"f\">text=</span>مِنْهَا</span></div></div><div class=\"contnr c0 trm   hl\" ><div class=\"lbl c0 trm hl\" ><span class=\"txtu\">مَا </span></div><div class='features'><span class=\"text xft\" ><span class=\"f\">text=</span>مَا</span></div></div><div class=\"contnr c0 trm   \" ><div class=\"lbl c0 trm \" ><span class=\"txtu\">تَـكُونُ </span></div><div class='features'><span class=\"text xft\" ><span class=\"f\">text=</span>تَـكُونُ</span></div></div><div class=\"contnr c0 trm   \" ><div class=\"lbl c0 trm \" ><span class=\"txtu\">عَنْ </span></div><div class='features'><span class=\"text xft\" ><span class=\"f\">text=</span>عَنْ</span></div></div><div class=\"contnr c0 trm   hl\" ><div class=\"lbl c0 trm hl\" ><span class=\"txtu\">سُؤالٍ </span></div><div class='features'><span class=\"text xft\" ><span class=\"f\">text=</span>سُؤالٍ</span></div></div><div class=\"contnr c0 trm   \" ><div class=\"lbl c0 trm \" ><span class=\"txtu\">فِي </span></div><div class='features'><span class=\"text xft\" ><span class=\"f\">text=</span>فِي</span></div></div><div class=\"contnr c0 trm   \" ><div class=\"lbl c0 trm \" ><span class=\"txtu\">مُعَـيَّنٍ، </span></div><div class='features'><span class=\"text xft\" ><span class=\"f\">text=</span>مُعَـيَّنٍ،</span></div></div><div class=\"contnr c0 trm   \" ><div class=\"lbl c0 trm \" ><span class=\"txtu\">وَعَنْ </span></div><div class='features'><span class=\"text xft\" ><span class=\"f\">text=</span>وَعَنْ</span></div></div><div class=\"contnr c0 trm   hl\" ><div class=\"lbl c0 trm hl\" ><span class=\"txtu\">سُؤالٍ </span></div><div class='features'><span class=\"text xft\" ><span class=\"f\">text=</span>سُؤالٍ</span></div></div><div class=\"contnr c0 trm   \" ><div class=\"lbl c0 trm \" ><span class=\"txtu\">غَـيْرِ </span></div><div class='features'><span class=\"text xft\" ><span class=\"f\">text=</span>غَـيْرِ</span></div></div><div class=\"contnr c0 trm   \" ><div class=\"lbl c0 trm \" ><span class=\"txtu\">مُعَـيَّنٍ. </span></div><div class='features'><span class=\"text xft\" ><span class=\"f\">text=</span>مُعَـيَّنٍ.</span></div></div></div></div></div></div></div></div></div>"
      ],
      "text/plain": [
       "<IPython.core.display.HTML object>"
      ]
     },
     "metadata": {},
     "output_type": "display_data"
    },
    {
     "data": {
      "text/html": [
       "<p><b>line</b> <i>5</i></p>"
      ],
      "text/plain": [
       "<IPython.core.display.HTML object>"
      ]
     },
     "metadata": {},
     "output_type": "display_data"
    },
    {
     "data": {
      "text/html": [
       "<div class=\"tfsechead \">5 32:6</div><div class=\" children\"><div class=\"contnr c3    \" ><div class=\"lbl c3  \" ><span class=\"nd\">line</span></div><div class='features'><span class=\"n xft\" ><span class=\"f\">n=</span>6</span></div><div class=\"children hor wrap \"><div class=\"contnr c2    \" ><div class=\"lbl c2  \" ><span class=\"nd\">column</span></div><div class='features'><span class=\"n xft\" ><span class=\"f\">n=</span>1</span></div><div class=\"children hor wrap \"><div class=\"contnr c1    \" ><div class=\"lbl c1  \" ><span class=\"nd\">span</span></div><div class='features'><span class=\"n xft\" ><span class=\"f\">n=</span>1</span></div><div class=\"children hor wrap \"><div class=\"contnr c0 trm   hl\" ><div class=\"lbl c0 trm hl\" ><span class=\"txtu\">وَمِنْهَا </span></div><div class='features'><span class=\"text xft\" ><span class=\"f\">text=</span>وَمِنْهَا</span></div></div></div></div><div class=\"contnr c1    \" ><div class=\"lbl c1  \" ><span class=\"nd\">span</span></div><div class='features'><span class=\"n xft\" ><span class=\"f\">n=</span>2</span></div><div class=\"children hor wrap \"><div class=\"contnr c0 trm   \" ><div class=\"lbl c0 trm \" ><span class=\"txtu\">: </span></div><div class='features'><span class=\"text xft\" ><span class=\"f\">text=</span>:</span></div></div></div></div><div class=\"contnr c1    \" ><div class=\"lbl c1  \" ><span class=\"nd\">span</span></div><div class='features'><span class=\"n xft\" ><span class=\"f\">n=</span>3</span></div><div class=\"children hor wrap \"><div class=\"contnr c0 trm   hl\" ><div class=\"lbl c0 trm hl\" ><span class=\"txtu\">مَالَا </span></div><div class='features'><span class=\"text xft\" ><span class=\"f\">text=</span>مَالَا</span></div></div><div class=\"contnr c0 trm   \" ><div class=\"lbl c0 trm \" ><span class=\"txtu\">يَكُونُ </span></div><div class='features'><span class=\"text xft\" ><span class=\"f\">text=</span>يَكُونُ</span></div></div><div class=\"contnr c0 trm   \" ><div class=\"lbl c0 trm \" ><span class=\"txtu\">عَنْ </span></div><div class='features'><span class=\"text xft\" ><span class=\"f\">text=</span>عَنْ</span></div></div><div class=\"contnr c0 trm   hl\" ><div class=\"lbl c0 trm hl\" ><span class=\"txtu\">سُؤالٍ، </span></div><div class='features'><span class=\"text xft\" ><span class=\"f\">text=</span>سُؤالٍ،</span></div></div><div class=\"contnr c0 trm   hl\" ><div class=\"lbl c0 trm hl\" ><span class=\"txtu\">سَوَاءٌ </span></div><div class='features'><span class=\"text xft\" ><span class=\"f\">text=</span>سَوَاءٌ</span></div></div><div class=\"contnr c0 trm   hl\" ><div class=\"lbl c0 trm hl\" ><span class=\"txtu\">كَا </span></div><div class='features'><span class=\"text xft\" ><span class=\"f\">text=</span>كَا</span></div></div><div class=\"contnr c0 trm   \" ><div class=\"lbl c0 trm \" ><span class=\"txtu\">نَتْ </span></div><div class='features'><span class=\"text xft\" ><span class=\"f\">text=</span>نَتْ</span></div></div><div class=\"contnr c0 trm   hl\" ><div class=\"lbl c0 trm hl\" ><span class=\"txtu\">الأُ </span></div><div class='features'><span class=\"text xft\" ><span class=\"f\">text=</span>الأُ</span></div></div><div class=\"contnr c0 trm   \" ><div class=\"lbl c0 trm \" ><span class=\"txtu\">عْطِيَةُ </span></div><div class='features'><span class=\"text xft\" ><span class=\"f\">text=</span>عْطِيَةُ</span></div></div><div class=\"contnr c0 trm   hl\" ><div class=\"lbl c0 trm hl\" ><span class=\"txtu\">ذَا </span></div><div class='features'><span class=\"text xft\" ><span class=\"f\">text=</span>ذَا</span></div></div><div class=\"contnr c0 trm   \" ><div class=\"lbl c0 trm \" ><span class=\"txtu\">تِيَّةً </span></div><div class='features'><span class=\"text xft\" ><span class=\"f\">text=</span>تِيَّةً</span></div></div><div class=\"contnr c0 trm   \" ><div class=\"lbl c0 trm \" ><span class=\"txtu\">أَوْ </span></div><div class='features'><span class=\"text xft\" ><span class=\"f\">text=</span>أَوْ</span></div></div><div class=\"contnr c0 trm   hl\" ><div class=\"lbl c0 trm hl\" ><span class=\"txtu\">أَسْمَا </span></div><div class='features'><span class=\"text xft\" ><span class=\"f\">text=</span>أَسْمَا</span></div></div><div class=\"contnr c0 trm   \" ><div class=\"lbl c0 trm \" ><span class=\"txtu\">ئِيَّةً. </span></div><div class='features'><span class=\"text xft\" ><span class=\"f\">text=</span>ئِيَّةً.</span></div></div></div></div></div></div></div></div></div>"
      ],
      "text/plain": [
       "<IPython.core.display.HTML object>"
      ]
     },
     "metadata": {},
     "output_type": "display_data"
    },
    {
     "data": {
      "text/html": [
       "<p><b>line</b> <i>6</i></p>"
      ],
      "text/plain": [
       "<IPython.core.display.HTML object>"
      ]
     },
     "metadata": {},
     "output_type": "display_data"
    },
    {
     "data": {
      "text/html": [
       "<div class=\"tfsechead \">5 32:7</div><div class=\" children\"><div class=\"contnr c3    \" ><div class=\"lbl c3  \" ><span class=\"nd\">line</span></div><div class='features'><span class=\"n xft\" ><span class=\"f\">n=</span>7</span></div><div class=\"children hor wrap \"><div class=\"contnr c2    \" ><div class=\"lbl c2  \" ><span class=\"nd\">column</span></div><div class='features'><span class=\"n xft\" ><span class=\"f\">n=</span>1</span></div><div class=\"children hor wrap \"><div class=\"contnr c1    \" ><div class=\"lbl c1  \" ><span class=\"nd\">span</span></div><div class='features'><span class=\"n xft\" ><span class=\"f\">n=</span>1</span></div><div class=\"children hor wrap \"><div class=\"contnr c0 trm   hl\" ><div class=\"lbl c0 trm hl\" ><span class=\"txtu\">فَا </span></div><div class='features'><span class=\"text xft\" ><span class=\"f\">text=</span>فَا</span></div></div><div class=\"contnr c0 trm   \" ><div class=\"lbl c0 trm \" ><span class=\"txtu\">لمُعَيَّنُ </span></div><div class='features'><span class=\"text xft\" ><span class=\"f\">text=</span>لمُعَيَّنُ</span></div></div><div class=\"contnr c0 trm   \" ><div class=\"lbl c0 trm \" ><span class=\"txtu\">كَمَنْ </span></div><div class='features'><span class=\"text xft\" ><span class=\"f\">text=</span>كَمَنْ</span></div></div><div class=\"contnr c0 trm   \" ><div class=\"lbl c0 trm \" ><span class=\"txtu\">يَقُولُ </span></div><div class='features'><span class=\"text xft\" ><span class=\"f\">text=</span>يَقُولُ</span></div></div></div></div><div class=\"contnr c1    \" ><div class=\"lbl c1  \" ><span class=\"nd\">span</span></div><div class='features'><span class=\"n xft\" ><span class=\"f\">n=</span>2</span></div><div class=\"children hor wrap \"><div class=\"contnr c0 trm   \" ><div class=\"lbl c0 trm \" ><span class=\"txtu\">: </span></div><div class='features'><span class=\"text xft\" ><span class=\"f\">text=</span>:</span></div></div><div class=\"contnr c0 trm   \" ><div class=\"lbl c0 trm \" ><span class=\"txtu\">« </span></div><div class='features'><span class=\"text xft\" ><span class=\"f\">text=</span>«</span></div></div></div></div><div class=\"contnr c1    \" ><div class=\"lbl c1  \" ><span class=\"nd\">span</span></div><div class='features'><span class=\"n xft\" ><span class=\"f\">n=</span>3</span></div><div class=\"children hor wrap \"><div class=\"contnr c0 trm   hl\" ><div class=\"lbl c0 trm hl\" ><span class=\"txtu\">يَا </span></div><div class='features'><span class=\"text xft\" ><span class=\"f\">text=</span>يَا</span></div></div><div class=\"contnr c0 trm   \" ><div class=\"lbl c0 trm \" ><span class=\"txtu\">رَبِّ </span></div><div class='features'><span class=\"text xft\" ><span class=\"f\">text=</span>رَبِّ</span></div></div><div class=\"contnr c0 trm   \" ><div class=\"lbl c0 trm \" ><span class=\"txtu\">أَعْطِنِي </span></div><div class='features'><span class=\"text xft\" ><span class=\"f\">text=</span>أَعْطِنِي</span></div></div><div class=\"contnr c0 trm   hl\" ><div class=\"lbl c0 trm hl\" ><span class=\"txtu\">كَذَا». </span></div><div class='features'><span class=\"text xft\" ><span class=\"f\">text=</span>كَذَا».</span></div></div><div class=\"contnr c0 trm   \" ><div class=\"lbl c0 trm \" ><span class=\"txtu\">فَيُعَـيِّنُ </span></div><div class='features'><span class=\"text xft\" ><span class=\"f\">text=</span>فَيُعَـيِّنُ</span></div></div><div class=\"contnr c0 trm   hl\" ><div class=\"lbl c0 trm hl\" ><span class=\"txtu\">أَمْـرًا </span></div><div class='features'><span class=\"text xft\" ><span class=\"f\">text=</span>أَمْـرًا</span></div></div><div class=\"contnr c0 trm   hl\" ><div class=\"lbl c0 trm hl\" ><span class=\"txtu\">مَا، </span></div><div class='features'><span class=\"text xft\" ><span class=\"f\">text=</span>مَا،</span></div></div><div class=\"contnr c0 trm   hl\" ><div class=\"lbl c0 trm hl\" ><span class=\"txtu\">لَا </span></div><div class='features'><span class=\"text xft\" ><span class=\"f\">text=</span>لَا</span></div></div><div class=\"contnr c0 trm   \" ><div class=\"lbl c0 trm \" ><span class=\"txtu\">يَخْطُـرُ </span></div><div class='features'><span class=\"text xft\" ><span class=\"f\">text=</span>يَخْطُـرُ</span></div></div></div></div></div></div></div></div></div>"
      ],
      "text/plain": [
       "<IPython.core.display.HTML object>"
      ]
     },
     "metadata": {},
     "output_type": "display_data"
    },
    {
     "data": {
      "text/html": [
       "<p><b>line</b> <i>7</i></p>"
      ],
      "text/plain": [
       "<IPython.core.display.HTML object>"
      ]
     },
     "metadata": {},
     "output_type": "display_data"
    },
    {
     "data": {
      "text/html": [
       "<div class=\"tfsechead \">5 32:8</div><div class=\" children\"><div class=\"contnr c3    \" ><div class=\"lbl c3  \" ><span class=\"nd\">line</span></div><div class='features'><span class=\"n xft\" ><span class=\"f\">n=</span>8</span></div><div class=\"children hor wrap \"><div class=\"contnr c2    \" ><div class=\"lbl c2  \" ><span class=\"nd\">column</span></div><div class='features'><span class=\"n xft\" ><span class=\"f\">n=</span>1</span></div><div class=\"children hor wrap \"><div class=\"contnr c1    \" ><div class=\"lbl c1  \" ><span class=\"nd\">span</span></div><div class='features'><span class=\"n xft\" ><span class=\"f\">n=</span>1</span></div><div class=\"children hor wrap \"><div class=\"contnr c0 trm   \" ><div class=\"lbl c0 trm \" ><span class=\"txtu\">لَهُ </span></div><div class='features'><span class=\"text xft\" ><span class=\"f\">text=</span>لَهُ</span></div></div><div class=\"contnr c0 trm   hl\" ><div class=\"lbl c0 trm hl\" ><span class=\"txtu\">سِوَاهُ. </span></div><div class='features'><span class=\"text xft\" ><span class=\"f\">text=</span>سِوَاهُ.</span></div></div><div class=\"contnr c0 trm   \" ><div class=\"lbl c0 trm \" ><span class=\"txtu\">وَغَيرُ </span></div><div class='features'><span class=\"text xft\" ><span class=\"f\">text=</span>وَغَيرُ</span></div></div><div class=\"contnr c0 trm   hl\" ><div class=\"lbl c0 trm hl\" ><span class=\"txtu\">المُعَيَّنِ </span></div><div class='features'><span class=\"text xft\" ><span class=\"f\">text=</span>المُعَيَّنِ</span></div></div><div class=\"contnr c0 trm   \" ><div class=\"lbl c0 trm \" ><span class=\"txtu\">كَمَنْ </span></div><div class='features'><span class=\"text xft\" ><span class=\"f\">text=</span>كَمَنْ</span></div></div><div class=\"contnr c0 trm   \" ><div class=\"lbl c0 trm \" ><span class=\"txtu\">يَقُولُ </span></div><div class='features'><span class=\"text xft\" ><span class=\"f\">text=</span>يَقُولُ</span></div></div></div></div><div class=\"contnr c1    \" ><div class=\"lbl c1  \" ><span class=\"nd\">span</span></div><div class='features'><span class=\"n xft\" ><span class=\"f\">n=</span>2</span></div><div class=\"children hor wrap \"><div class=\"contnr c0 trm   \" ><div class=\"lbl c0 trm \" ><span class=\"txtu\">: </span></div><div class='features'><span class=\"text xft\" ><span class=\"f\">text=</span>:</span></div></div><div class=\"contnr c0 trm   \" ><div class=\"lbl c0 trm \" ><span class=\"txtu\">« </span></div><div class='features'><span class=\"text xft\" ><span class=\"f\">text=</span>«</span></div></div></div></div><div class=\"contnr c1    \" ><div class=\"lbl c1  \" ><span class=\"nd\">span</span></div><div class='features'><span class=\"n xft\" ><span class=\"f\">n=</span>3</span></div><div class=\"children hor wrap \"><div class=\"contnr c0 trm   hl\" ><div class=\"lbl c0 trm hl\" ><span class=\"txtu\">يَا </span></div><div class='features'><span class=\"text xft\" ><span class=\"f\">text=</span>يَا</span></div></div><div class=\"contnr c0 trm   \" ><div class=\"lbl c0 trm \" ><span class=\"txtu\">رَبِّ </span></div><div class='features'><span class=\"text xft\" ><span class=\"f\">text=</span>رَبِّ</span></div></div><div class=\"contnr c0 trm   \" ><div class=\"lbl c0 trm \" ><span class=\"txtu\">أَعْطِنِي </span></div><div class='features'><span class=\"text xft\" ><span class=\"f\">text=</span>أَعْطِنِي</span></div></div><div class=\"contnr c0 trm   hl\" ><div class=\"lbl c0 trm hl\" ><span class=\"txtu\">مَا </span></div><div class='features'><span class=\"text xft\" ><span class=\"f\">text=</span>مَا</span></div></div><div class=\"contnr c0 trm   \" ><div class=\"lbl c0 trm \" ><span class=\"txtu\">تَعْلَمُ </span></div><div class='features'><span class=\"text xft\" ><span class=\"f\">text=</span>تَعْلَمُ</span></div></div><div class=\"contnr c0 trm   \" ><div class=\"lbl c0 trm \" ><span class=\"txtu\">فِيهِ </span></div><div class='features'><span class=\"text xft\" ><span class=\"f\">text=</span>فِيهِ</span></div></div><div class=\"contnr c0 trm   \" ><div class=\"lbl c0 trm \" ><span class=\"txtu\">مَصْلَحَتِي»، </span></div><div class='features'><span class=\"text xft\" ><span class=\"f\">text=</span>مَصْلَحَتِي»،</span></div></div></div></div></div></div></div></div></div>"
      ],
      "text/plain": [
       "<IPython.core.display.HTML object>"
      ]
     },
     "metadata": {},
     "output_type": "display_data"
    }
   ],
   "source": [
    "template = \"\"\"\n",
    "piece n=5\n",
    "  =: page\n",
    "    line\n",
    "      word text~ا\n",
    "\"\"\"\n",
    "results = A.search(template)\n",
    "A.show(results, condensed=True)"
   ]
  },
  {
   "cell_type": "code",
   "execution_count": 22,
   "metadata": {},
   "outputs": [
    {
     "data": {
      "text/html": [
       "<p><b>line</b> <i>1</i></p>"
      ],
      "text/plain": [
       "<IPython.core.display.HTML object>"
      ]
     },
     "metadata": {},
     "output_type": "display_data"
    },
    {
     "data": {
      "text/html": [
       "<div class=\"tfsechead \">5 32:2</div><div class=\" children\"><div class=\"contnr c3    \" ><div class=\"lbl c3  \" ><span class=\"nd\">line</span></div><div class='features'><span class=\"n xft\" ><span class=\"f\">n=</span>2</span></div><div class=\"children hor wrap \"><div class=\"contnr c2    \" ><div class=\"lbl c2  \" ><span class=\"nd\">column</span></div><div class='features'><span class=\"n xft\" ><span class=\"f\">n=</span>1</span></div><div class=\"children hor wrap \"><div class=\"contnr c1    \" ><div class=\"lbl c1  \" ><span class=\"nd\">span</span></div><div class='features'><span class=\"n xft\" ><span class=\"f\">n=</span>1</span></div><div class=\"children hor wrap \"><div class=\"contnr c0 trm   \" ><div class=\"lbl c0 trm \" ><span class=\"txtu\">ٱعْلَمْ </span></div><div class='features'><span class=\"text xft\" ><span class=\"f\">text=</span>ٱعْلَمْ</span></div></div><div class=\"contnr c0 trm   \" ><div class=\"lbl c0 trm \" ><span class=\"txtu\">أَنَّ </span></div><div class='features'><span class=\"text xft\" ><span class=\"f\">text=</span>أَنَّ</span></div></div><div class=\"contnr c0 trm   hl\" ><div class=\"lbl c0 trm hl\" ><span class=\"txtu\">العَطَا </span></div><div class='features'><span class=\"text xft\" ><span class=\"f\">text=</span>العَطَا</span></div></div><div class=\"contnr c0 trm   hl\" ><div class=\"lbl c0 trm hl\" ><span class=\"txtu\">يَا </span></div><div class='features'><span class=\"text xft\" ><span class=\"f\">text=</span>يَا</span></div></div><div class=\"contnr c0 trm   hl\" ><div class=\"lbl c0 trm hl\" ><span class=\"txtu\">وَا </span></div><div class='features'><span class=\"text xft\" ><span class=\"f\">text=</span>وَا</span></div></div><div class=\"contnr c0 trm   \" ><div class=\"lbl c0 trm \" ><span class=\"txtu\">لمِنَحَ </span></div><div class='features'><span class=\"text xft\" ><span class=\"f\">text=</span>لمِنَحَ</span></div></div><div class=\"contnr c0 trm   hl\" ><div class=\"lbl c0 trm hl\" ><span class=\"txtu\">الظَّا </span></div><div class='features'><span class=\"text xft\" ><span class=\"f\">text=</span>الظَّا</span></div></div><div class=\"contnr c0 trm   \" ><div class=\"lbl c0 trm \" ><span class=\"txtu\">هِـرَةَ </span></div><div class='features'><span class=\"text xft\" ><span class=\"f\">text=</span>هِـرَةَ</span></div></div><div class=\"contnr c0 trm   \" ><div class=\"lbl c0 trm \" ><span class=\"txtu\">فِي </span></div><div class='features'><span class=\"text xft\" ><span class=\"f\">text=</span>فِي</span></div></div><div class=\"contnr c0 trm   hl\" ><div class=\"lbl c0 trm hl\" ><span class=\"txtu\">الكَونِ </span></div><div class='features'><span class=\"text xft\" ><span class=\"f\">text=</span>الكَونِ</span></div></div><div class=\"contnr c0 trm   \" ><div class=\"lbl c0 trm \" ><span class=\"txtu\">― </span></div><div class='features'><span class=\"text xft\" ><span class=\"f\">text=</span>―</span></div></div><div class=\"contnr c0 trm   \" ><div class=\"lbl c0 trm \" ><span class=\"txtu\">عَلَىٰ </span></div><div class='features'><span class=\"text xft\" ><span class=\"f\">text=</span>عَلَىٰ</span></div></div><div class=\"contnr c0 trm   \" ><div class=\"lbl c0 trm \" ><span class=\"txtu\">أَيْدِي </span></div><div class='features'><span class=\"text xft\" ><span class=\"f\">text=</span>أَيْدِي</span></div></div><div class=\"contnr c0 trm   hl\" ><div class=\"lbl c0 trm hl\" ><span class=\"txtu\">العِبَادِ </span></div><div class='features'><span class=\"text xft\" ><span class=\"f\">text=</span>العِبَادِ</span></div></div><div class=\"contnr c0 trm   \" ><div class=\"lbl c0 trm \" ><span class=\"txtu\">وَعَلَىٰ </span></div><div class='features'><span class=\"text xft\" ><span class=\"f\">text=</span>وَعَلَىٰ</span></div></div></div></div></div></div></div></div></div>"
      ],
      "text/plain": [
       "<IPython.core.display.HTML object>"
      ]
     },
     "metadata": {},
     "output_type": "display_data"
    },
    {
     "data": {
      "text/html": [
       "<p><b>line</b> <i>2</i></p>"
      ],
      "text/plain": [
       "<IPython.core.display.HTML object>"
      ]
     },
     "metadata": {},
     "output_type": "display_data"
    },
    {
     "data": {
      "text/html": [
       "<div class=\"tfsechead \">5 32:3</div><div class=\" children\"><div class=\"contnr c3    \" ><div class=\"lbl c3  \" ><span class=\"nd\">line</span></div><div class='features'><span class=\"n xft\" ><span class=\"f\">n=</span>3</span></div><div class=\"children hor wrap \"><div class=\"contnr c2    \" ><div class=\"lbl c2  \" ><span class=\"nd\">column</span></div><div class='features'><span class=\"n xft\" ><span class=\"f\">n=</span>1</span></div><div class=\"children hor wrap \"><div class=\"contnr c1    \" ><div class=\"lbl c1  \" ><span class=\"nd\">span</span></div><div class='features'><span class=\"n xft\" ><span class=\"f\">n=</span>1</span></div><div class=\"children hor wrap \"><div class=\"contnr c0 trm   \" ><div class=\"lbl c0 trm \" ><span class=\"txtu\">غَيْرِ </span></div><div class='features'><span class=\"text xft\" ><span class=\"f\">text=</span>غَيْرِ</span></div></div><div class=\"contnr c0 trm   \" ><div class=\"lbl c0 trm \" ><span class=\"txtu\">أَيْدِ </span></div><div class='features'><span class=\"text xft\" ><span class=\"f\">text=</span>أَيْدِ</span></div></div><div class=\"contnr c0 trm   \" ><div class=\"lbl c0 trm \" ><span class=\"txtu\">يهِمْ </span></div><div class='features'><span class=\"text xft\" ><span class=\"f\">text=</span>يهِمْ</span></div></div><div class=\"contnr c0 trm   \" ><div class=\"lbl c0 trm \" ><span class=\"txtu\">― </span></div><div class='features'><span class=\"text xft\" ><span class=\"f\">text=</span>―</span></div></div><div class=\"contnr c0 trm   \" ><div class=\"lbl c0 trm \" ><span class=\"txtu\">عَلَىٰ </span></div><div class='features'><span class=\"text xft\" ><span class=\"f\">text=</span>عَلَىٰ</span></div></div><div class=\"contnr c0 trm   \" ><div class=\"lbl c0 trm \" ><span class=\"txtu\">قِسْمَيْنِ </span></div><div class='features'><span class=\"text xft\" ><span class=\"f\">text=</span>قِسْمَيْنِ</span></div></div></div></div><div class=\"contnr c1    \" ><div class=\"lbl c1  \" ><span class=\"nd\">span</span></div><div class='features'><span class=\"n xft\" ><span class=\"f\">n=</span>2</span></div><div class=\"children hor wrap \"><div class=\"contnr c0 trm   \" ><div class=\"lbl c0 trm \" ><span class=\"txtu\">: </span></div><div class='features'><span class=\"text xft\" ><span class=\"f\">text=</span>:</span></div></div></div></div><div class=\"contnr c1    \" ><div class=\"lbl c1  \" ><span class=\"nd\">span</span></div><div class='features'><span class=\"n xft\" ><span class=\"f\">n=</span>3</span></div><div class=\"children hor wrap \"><div class=\"contnr c0 trm   hl\" ><div class=\"lbl c0 trm hl\" ><span class=\"txtu\">مِنْهَا، </span></div><div class='features'><span class=\"text xft\" ><span class=\"f\">text=</span>مِنْهَا،</span></div></div><div class=\"contnr c0 trm   hl\" ><div class=\"lbl c0 trm hl\" ><span class=\"txtu\">مَا </span></div><div class='features'><span class=\"text xft\" ><span class=\"f\">text=</span>مَا</span></div></div><div class=\"contnr c0 trm   \" ><div class=\"lbl c0 trm \" ><span class=\"txtu\">تَـكُونُ </span></div><div class='features'><span class=\"text xft\" ><span class=\"f\">text=</span>تَـكُونُ</span></div></div><div class=\"contnr c0 trm   hl\" ><div class=\"lbl c0 trm hl\" ><span class=\"txtu\">عَطَا </span></div><div class='features'><span class=\"text xft\" ><span class=\"f\">text=</span>عَطَا</span></div></div><div class=\"contnr c0 trm   hl\" ><div class=\"lbl c0 trm hl\" ><span class=\"txtu\">يَا </span></div><div class='features'><span class=\"text xft\" ><span class=\"f\">text=</span>يَا</span></div></div><div class=\"contnr c0 trm   hl\" ><div class=\"lbl c0 trm hl\" ><span class=\"txtu\">ذَا </span></div><div class='features'><span class=\"text xft\" ><span class=\"f\">text=</span>ذَا</span></div></div><div class=\"contnr c0 trm   \" ><div class=\"lbl c0 trm \" ><span class=\"txtu\">تِيَّةً </span></div><div class='features'><span class=\"text xft\" ><span class=\"f\">text=</span>تِيَّةً</span></div></div><div class=\"contnr c0 trm   hl\" ><div class=\"lbl c0 trm hl\" ><span class=\"txtu\">وَعَطَا </span></div><div class='features'><span class=\"text xft\" ><span class=\"f\">text=</span>وَعَطَا</span></div></div><div class=\"contnr c0 trm   hl\" ><div class=\"lbl c0 trm hl\" ><span class=\"txtu\">يَا </span></div><div class='features'><span class=\"text xft\" ><span class=\"f\">text=</span>يَا</span></div></div><div class=\"contnr c0 trm   hl\" ><div class=\"lbl c0 trm hl\" ><span class=\"txtu\">أَسْمَا </span></div><div class='features'><span class=\"text xft\" ><span class=\"f\">text=</span>أَسْمَا</span></div></div><div class=\"contnr c0 trm   \" ><div class=\"lbl c0 trm \" ><span class=\"txtu\">ئِيَّةً، </span></div><div class='features'><span class=\"text xft\" ><span class=\"f\">text=</span>ئِيَّةً،</span></div></div></div></div></div></div></div></div></div>"
      ],
      "text/plain": [
       "<IPython.core.display.HTML object>"
      ]
     },
     "metadata": {},
     "output_type": "display_data"
    },
    {
     "data": {
      "text/html": [
       "<p><b>line</b> <i>3</i></p>"
      ],
      "text/plain": [
       "<IPython.core.display.HTML object>"
      ]
     },
     "metadata": {},
     "output_type": "display_data"
    },
    {
     "data": {
      "text/html": [
       "<div class=\"tfsechead \">5 32:4</div><div class=\" children\"><div class=\"contnr c3    \" ><div class=\"lbl c3  \" ><span class=\"nd\">line</span></div><div class='features'><span class=\"n xft\" ><span class=\"f\">n=</span>4</span></div><div class=\"children hor wrap \"><div class=\"contnr c2    \" ><div class=\"lbl c2  \" ><span class=\"nd\">column</span></div><div class='features'><span class=\"n xft\" ><span class=\"f\">n=</span>1</span></div><div class=\"children hor wrap \"><div class=\"contnr c1    \" ><div class=\"lbl c1  \" ><span class=\"nd\">span</span></div><div class='features'><span class=\"n xft\" ><span class=\"f\">n=</span>1</span></div><div class=\"children hor wrap \"><div class=\"contnr c0 trm   \" ><div class=\"lbl c0 trm \" ><span class=\"txtu\">وَتَتَمَيَّزُ </span></div><div class='features'><span class=\"text xft\" ><span class=\"f\">text=</span>وَتَتَمَيَّزُ</span></div></div><div class=\"contnr c0 trm   \" ><div class=\"lbl c0 trm \" ><span class=\"txtu\">عِنْدَ </span></div><div class='features'><span class=\"text xft\" ><span class=\"f\">text=</span>عِنْدَ</span></div></div><div class=\"contnr c0 trm   \" ><div class=\"lbl c0 trm \" ><span class=\"txtu\">أَهْلِ </span></div><div class='features'><span class=\"text xft\" ><span class=\"f\">text=</span>أَهْلِ</span></div></div><div class=\"contnr c0 trm   hl\" ><div class=\"lbl c0 trm hl\" ><span class=\"txtu\">الأَذْوَاقِ. </span></div><div class='features'><span class=\"text xft\" ><span class=\"f\">text=</span>الأَذْوَاقِ.</span></div></div></div></div></div></div></div></div></div>"
      ],
      "text/plain": [
       "<IPython.core.display.HTML object>"
      ]
     },
     "metadata": {},
     "output_type": "display_data"
    },
    {
     "data": {
      "text/html": [
       "<p><b>line</b> <i>4</i></p>"
      ],
      "text/plain": [
       "<IPython.core.display.HTML object>"
      ]
     },
     "metadata": {},
     "output_type": "display_data"
    },
    {
     "data": {
      "text/html": [
       "<div class=\"tfsechead \">5 32:5</div><div class=\" children\"><div class=\"contnr c3    \" ><div class=\"lbl c3  \" ><span class=\"nd\">line</span></div><div class='features'><span class=\"n xft\" ><span class=\"f\">n=</span>5</span></div><div class=\"children hor wrap \"><div class=\"contnr c2    \" ><div class=\"lbl c2  \" ><span class=\"nd\">column</span></div><div class='features'><span class=\"n xft\" ><span class=\"f\">n=</span>1</span></div><div class=\"children hor wrap \"><div class=\"contnr c1    \" ><div class=\"lbl c1  \" ><span class=\"nd\">span</span></div><div class='features'><span class=\"n xft\" ><span class=\"f\">n=</span>1</span></div><div class=\"children hor wrap \"><div class=\"contnr c0 trm   hl\" ><div class=\"lbl c0 trm hl\" ><span class=\"txtu\">كَمَا </span></div><div class='features'><span class=\"text xft\" ><span class=\"f\">text=</span>كَمَا</span></div></div><div class=\"contnr c0 trm   \" ><div class=\"lbl c0 trm \" ><span class=\"txtu\">أَنَّ </span></div><div class='features'><span class=\"text xft\" ><span class=\"f\">text=</span>أَنَّ</span></div></div><div class=\"contnr c0 trm   hl\" ><div class=\"lbl c0 trm hl\" ><span class=\"txtu\">مِنْهَا </span></div><div class='features'><span class=\"text xft\" ><span class=\"f\">text=</span>مِنْهَا</span></div></div><div class=\"contnr c0 trm   hl\" ><div class=\"lbl c0 trm hl\" ><span class=\"txtu\">مَا </span></div><div class='features'><span class=\"text xft\" ><span class=\"f\">text=</span>مَا</span></div></div><div class=\"contnr c0 trm   \" ><div class=\"lbl c0 trm \" ><span class=\"txtu\">تَـكُونُ </span></div><div class='features'><span class=\"text xft\" ><span class=\"f\">text=</span>تَـكُونُ</span></div></div><div class=\"contnr c0 trm   \" ><div class=\"lbl c0 trm \" ><span class=\"txtu\">عَنْ </span></div><div class='features'><span class=\"text xft\" ><span class=\"f\">text=</span>عَنْ</span></div></div><div class=\"contnr c0 trm   hl\" ><div class=\"lbl c0 trm hl\" ><span class=\"txtu\">سُؤالٍ </span></div><div class='features'><span class=\"text xft\" ><span class=\"f\">text=</span>سُؤالٍ</span></div></div><div class=\"contnr c0 trm   \" ><div class=\"lbl c0 trm \" ><span class=\"txtu\">فِي </span></div><div class='features'><span class=\"text xft\" ><span class=\"f\">text=</span>فِي</span></div></div><div class=\"contnr c0 trm   \" ><div class=\"lbl c0 trm \" ><span class=\"txtu\">مُعَـيَّنٍ، </span></div><div class='features'><span class=\"text xft\" ><span class=\"f\">text=</span>مُعَـيَّنٍ،</span></div></div><div class=\"contnr c0 trm   \" ><div class=\"lbl c0 trm \" ><span class=\"txtu\">وَعَنْ </span></div><div class='features'><span class=\"text xft\" ><span class=\"f\">text=</span>وَعَنْ</span></div></div><div class=\"contnr c0 trm   hl\" ><div class=\"lbl c0 trm hl\" ><span class=\"txtu\">سُؤالٍ </span></div><div class='features'><span class=\"text xft\" ><span class=\"f\">text=</span>سُؤالٍ</span></div></div><div class=\"contnr c0 trm   \" ><div class=\"lbl c0 trm \" ><span class=\"txtu\">غَـيْرِ </span></div><div class='features'><span class=\"text xft\" ><span class=\"f\">text=</span>غَـيْرِ</span></div></div><div class=\"contnr c0 trm   \" ><div class=\"lbl c0 trm \" ><span class=\"txtu\">مُعَـيَّنٍ. </span></div><div class='features'><span class=\"text xft\" ><span class=\"f\">text=</span>مُعَـيَّنٍ.</span></div></div></div></div></div></div></div></div></div>"
      ],
      "text/plain": [
       "<IPython.core.display.HTML object>"
      ]
     },
     "metadata": {},
     "output_type": "display_data"
    },
    {
     "data": {
      "text/html": [
       "<p><b>line</b> <i>5</i></p>"
      ],
      "text/plain": [
       "<IPython.core.display.HTML object>"
      ]
     },
     "metadata": {},
     "output_type": "display_data"
    },
    {
     "data": {
      "text/html": [
       "<div class=\"tfsechead \">5 32:6</div><div class=\" children\"><div class=\"contnr c3    \" ><div class=\"lbl c3  \" ><span class=\"nd\">line</span></div><div class='features'><span class=\"n xft\" ><span class=\"f\">n=</span>6</span></div><div class=\"children hor wrap \"><div class=\"contnr c2    \" ><div class=\"lbl c2  \" ><span class=\"nd\">column</span></div><div class='features'><span class=\"n xft\" ><span class=\"f\">n=</span>1</span></div><div class=\"children hor wrap \"><div class=\"contnr c1    \" ><div class=\"lbl c1  \" ><span class=\"nd\">span</span></div><div class='features'><span class=\"n xft\" ><span class=\"f\">n=</span>1</span></div><div class=\"children hor wrap \"><div class=\"contnr c0 trm   hl\" ><div class=\"lbl c0 trm hl\" ><span class=\"txtu\">وَمِنْهَا </span></div><div class='features'><span class=\"text xft\" ><span class=\"f\">text=</span>وَمِنْهَا</span></div></div></div></div><div class=\"contnr c1    \" ><div class=\"lbl c1  \" ><span class=\"nd\">span</span></div><div class='features'><span class=\"n xft\" ><span class=\"f\">n=</span>2</span></div><div class=\"children hor wrap \"><div class=\"contnr c0 trm   \" ><div class=\"lbl c0 trm \" ><span class=\"txtu\">: </span></div><div class='features'><span class=\"text xft\" ><span class=\"f\">text=</span>:</span></div></div></div></div><div class=\"contnr c1    \" ><div class=\"lbl c1  \" ><span class=\"nd\">span</span></div><div class='features'><span class=\"n xft\" ><span class=\"f\">n=</span>3</span></div><div class=\"children hor wrap \"><div class=\"contnr c0 trm   hl\" ><div class=\"lbl c0 trm hl\" ><span class=\"txtu\">مَالَا </span></div><div class='features'><span class=\"text xft\" ><span class=\"f\">text=</span>مَالَا</span></div></div><div class=\"contnr c0 trm   \" ><div class=\"lbl c0 trm \" ><span class=\"txtu\">يَكُونُ </span></div><div class='features'><span class=\"text xft\" ><span class=\"f\">text=</span>يَكُونُ</span></div></div><div class=\"contnr c0 trm   \" ><div class=\"lbl c0 trm \" ><span class=\"txtu\">عَنْ </span></div><div class='features'><span class=\"text xft\" ><span class=\"f\">text=</span>عَنْ</span></div></div><div class=\"contnr c0 trm   hl\" ><div class=\"lbl c0 trm hl\" ><span class=\"txtu\">سُؤالٍ، </span></div><div class='features'><span class=\"text xft\" ><span class=\"f\">text=</span>سُؤالٍ،</span></div></div><div class=\"contnr c0 trm   hl\" ><div class=\"lbl c0 trm hl\" ><span class=\"txtu\">سَوَاءٌ </span></div><div class='features'><span class=\"text xft\" ><span class=\"f\">text=</span>سَوَاءٌ</span></div></div><div class=\"contnr c0 trm   hl\" ><div class=\"lbl c0 trm hl\" ><span class=\"txtu\">كَا </span></div><div class='features'><span class=\"text xft\" ><span class=\"f\">text=</span>كَا</span></div></div><div class=\"contnr c0 trm   \" ><div class=\"lbl c0 trm \" ><span class=\"txtu\">نَتْ </span></div><div class='features'><span class=\"text xft\" ><span class=\"f\">text=</span>نَتْ</span></div></div><div class=\"contnr c0 trm   hl\" ><div class=\"lbl c0 trm hl\" ><span class=\"txtu\">الأُ </span></div><div class='features'><span class=\"text xft\" ><span class=\"f\">text=</span>الأُ</span></div></div><div class=\"contnr c0 trm   \" ><div class=\"lbl c0 trm \" ><span class=\"txtu\">عْطِيَةُ </span></div><div class='features'><span class=\"text xft\" ><span class=\"f\">text=</span>عْطِيَةُ</span></div></div><div class=\"contnr c0 trm   hl\" ><div class=\"lbl c0 trm hl\" ><span class=\"txtu\">ذَا </span></div><div class='features'><span class=\"text xft\" ><span class=\"f\">text=</span>ذَا</span></div></div><div class=\"contnr c0 trm   \" ><div class=\"lbl c0 trm \" ><span class=\"txtu\">تِيَّةً </span></div><div class='features'><span class=\"text xft\" ><span class=\"f\">text=</span>تِيَّةً</span></div></div><div class=\"contnr c0 trm   \" ><div class=\"lbl c0 trm \" ><span class=\"txtu\">أَوْ </span></div><div class='features'><span class=\"text xft\" ><span class=\"f\">text=</span>أَوْ</span></div></div><div class=\"contnr c0 trm   hl\" ><div class=\"lbl c0 trm hl\" ><span class=\"txtu\">أَسْمَا </span></div><div class='features'><span class=\"text xft\" ><span class=\"f\">text=</span>أَسْمَا</span></div></div><div class=\"contnr c0 trm   \" ><div class=\"lbl c0 trm \" ><span class=\"txtu\">ئِيَّةً. </span></div><div class='features'><span class=\"text xft\" ><span class=\"f\">text=</span>ئِيَّةً.</span></div></div></div></div></div></div></div></div></div>"
      ],
      "text/plain": [
       "<IPython.core.display.HTML object>"
      ]
     },
     "metadata": {},
     "output_type": "display_data"
    },
    {
     "data": {
      "text/html": [
       "<p><b>line</b> <i>6</i></p>"
      ],
      "text/plain": [
       "<IPython.core.display.HTML object>"
      ]
     },
     "metadata": {},
     "output_type": "display_data"
    },
    {
     "data": {
      "text/html": [
       "<div class=\"tfsechead \">5 32:7</div><div class=\" children\"><div class=\"contnr c3    \" ><div class=\"lbl c3  \" ><span class=\"nd\">line</span></div><div class='features'><span class=\"n xft\" ><span class=\"f\">n=</span>7</span></div><div class=\"children hor wrap \"><div class=\"contnr c2    \" ><div class=\"lbl c2  \" ><span class=\"nd\">column</span></div><div class='features'><span class=\"n xft\" ><span class=\"f\">n=</span>1</span></div><div class=\"children hor wrap \"><div class=\"contnr c1    \" ><div class=\"lbl c1  \" ><span class=\"nd\">span</span></div><div class='features'><span class=\"n xft\" ><span class=\"f\">n=</span>1</span></div><div class=\"children hor wrap \"><div class=\"contnr c0 trm   hl\" ><div class=\"lbl c0 trm hl\" ><span class=\"txtu\">فَا </span></div><div class='features'><span class=\"text xft\" ><span class=\"f\">text=</span>فَا</span></div></div><div class=\"contnr c0 trm   \" ><div class=\"lbl c0 trm \" ><span class=\"txtu\">لمُعَيَّنُ </span></div><div class='features'><span class=\"text xft\" ><span class=\"f\">text=</span>لمُعَيَّنُ</span></div></div><div class=\"contnr c0 trm   \" ><div class=\"lbl c0 trm \" ><span class=\"txtu\">كَمَنْ </span></div><div class='features'><span class=\"text xft\" ><span class=\"f\">text=</span>كَمَنْ</span></div></div><div class=\"contnr c0 trm   \" ><div class=\"lbl c0 trm \" ><span class=\"txtu\">يَقُولُ </span></div><div class='features'><span class=\"text xft\" ><span class=\"f\">text=</span>يَقُولُ</span></div></div></div></div><div class=\"contnr c1    \" ><div class=\"lbl c1  \" ><span class=\"nd\">span</span></div><div class='features'><span class=\"n xft\" ><span class=\"f\">n=</span>2</span></div><div class=\"children hor wrap \"><div class=\"contnr c0 trm   \" ><div class=\"lbl c0 trm \" ><span class=\"txtu\">: </span></div><div class='features'><span class=\"text xft\" ><span class=\"f\">text=</span>:</span></div></div><div class=\"contnr c0 trm   \" ><div class=\"lbl c0 trm \" ><span class=\"txtu\">« </span></div><div class='features'><span class=\"text xft\" ><span class=\"f\">text=</span>«</span></div></div></div></div><div class=\"contnr c1    \" ><div class=\"lbl c1  \" ><span class=\"nd\">span</span></div><div class='features'><span class=\"n xft\" ><span class=\"f\">n=</span>3</span></div><div class=\"children hor wrap \"><div class=\"contnr c0 trm   hl\" ><div class=\"lbl c0 trm hl\" ><span class=\"txtu\">يَا </span></div><div class='features'><span class=\"text xft\" ><span class=\"f\">text=</span>يَا</span></div></div><div class=\"contnr c0 trm   \" ><div class=\"lbl c0 trm \" ><span class=\"txtu\">رَبِّ </span></div><div class='features'><span class=\"text xft\" ><span class=\"f\">text=</span>رَبِّ</span></div></div><div class=\"contnr c0 trm   \" ><div class=\"lbl c0 trm \" ><span class=\"txtu\">أَعْطِنِي </span></div><div class='features'><span class=\"text xft\" ><span class=\"f\">text=</span>أَعْطِنِي</span></div></div><div class=\"contnr c0 trm   hl\" ><div class=\"lbl c0 trm hl\" ><span class=\"txtu\">كَذَا». </span></div><div class='features'><span class=\"text xft\" ><span class=\"f\">text=</span>كَذَا».</span></div></div><div class=\"contnr c0 trm   \" ><div class=\"lbl c0 trm \" ><span class=\"txtu\">فَيُعَـيِّنُ </span></div><div class='features'><span class=\"text xft\" ><span class=\"f\">text=</span>فَيُعَـيِّنُ</span></div></div><div class=\"contnr c0 trm   hl\" ><div class=\"lbl c0 trm hl\" ><span class=\"txtu\">أَمْـرًا </span></div><div class='features'><span class=\"text xft\" ><span class=\"f\">text=</span>أَمْـرًا</span></div></div><div class=\"contnr c0 trm   hl\" ><div class=\"lbl c0 trm hl\" ><span class=\"txtu\">مَا، </span></div><div class='features'><span class=\"text xft\" ><span class=\"f\">text=</span>مَا،</span></div></div><div class=\"contnr c0 trm   hl\" ><div class=\"lbl c0 trm hl\" ><span class=\"txtu\">لَا </span></div><div class='features'><span class=\"text xft\" ><span class=\"f\">text=</span>لَا</span></div></div><div class=\"contnr c0 trm   \" ><div class=\"lbl c0 trm \" ><span class=\"txtu\">يَخْطُـرُ </span></div><div class='features'><span class=\"text xft\" ><span class=\"f\">text=</span>يَخْطُـرُ</span></div></div></div></div></div></div></div></div></div>"
      ],
      "text/plain": [
       "<IPython.core.display.HTML object>"
      ]
     },
     "metadata": {},
     "output_type": "display_data"
    },
    {
     "data": {
      "text/html": [
       "<p><b>line</b> <i>7</i></p>"
      ],
      "text/plain": [
       "<IPython.core.display.HTML object>"
      ]
     },
     "metadata": {},
     "output_type": "display_data"
    },
    {
     "data": {
      "text/html": [
       "<div class=\"tfsechead \">5 32:8</div><div class=\" children\"><div class=\"contnr c3    \" ><div class=\"lbl c3  \" ><span class=\"nd\">line</span></div><div class='features'><span class=\"n xft\" ><span class=\"f\">n=</span>8</span></div><div class=\"children hor wrap \"><div class=\"contnr c2    \" ><div class=\"lbl c2  \" ><span class=\"nd\">column</span></div><div class='features'><span class=\"n xft\" ><span class=\"f\">n=</span>1</span></div><div class=\"children hor wrap \"><div class=\"contnr c1    \" ><div class=\"lbl c1  \" ><span class=\"nd\">span</span></div><div class='features'><span class=\"n xft\" ><span class=\"f\">n=</span>1</span></div><div class=\"children hor wrap \"><div class=\"contnr c0 trm   \" ><div class=\"lbl c0 trm \" ><span class=\"txtu\">لَهُ </span></div><div class='features'><span class=\"text xft\" ><span class=\"f\">text=</span>لَهُ</span></div></div><div class=\"contnr c0 trm   hl\" ><div class=\"lbl c0 trm hl\" ><span class=\"txtu\">سِوَاهُ. </span></div><div class='features'><span class=\"text xft\" ><span class=\"f\">text=</span>سِوَاهُ.</span></div></div><div class=\"contnr c0 trm   \" ><div class=\"lbl c0 trm \" ><span class=\"txtu\">وَغَيرُ </span></div><div class='features'><span class=\"text xft\" ><span class=\"f\">text=</span>وَغَيرُ</span></div></div><div class=\"contnr c0 trm   hl\" ><div class=\"lbl c0 trm hl\" ><span class=\"txtu\">المُعَيَّنِ </span></div><div class='features'><span class=\"text xft\" ><span class=\"f\">text=</span>المُعَيَّنِ</span></div></div><div class=\"contnr c0 trm   \" ><div class=\"lbl c0 trm \" ><span class=\"txtu\">كَمَنْ </span></div><div class='features'><span class=\"text xft\" ><span class=\"f\">text=</span>كَمَنْ</span></div></div><div class=\"contnr c0 trm   \" ><div class=\"lbl c0 trm \" ><span class=\"txtu\">يَقُولُ </span></div><div class='features'><span class=\"text xft\" ><span class=\"f\">text=</span>يَقُولُ</span></div></div></div></div><div class=\"contnr c1    \" ><div class=\"lbl c1  \" ><span class=\"nd\">span</span></div><div class='features'><span class=\"n xft\" ><span class=\"f\">n=</span>2</span></div><div class=\"children hor wrap \"><div class=\"contnr c0 trm   \" ><div class=\"lbl c0 trm \" ><span class=\"txtu\">: </span></div><div class='features'><span class=\"text xft\" ><span class=\"f\">text=</span>:</span></div></div><div class=\"contnr c0 trm   \" ><div class=\"lbl c0 trm \" ><span class=\"txtu\">« </span></div><div class='features'><span class=\"text xft\" ><span class=\"f\">text=</span>«</span></div></div></div></div><div class=\"contnr c1    \" ><div class=\"lbl c1  \" ><span class=\"nd\">span</span></div><div class='features'><span class=\"n xft\" ><span class=\"f\">n=</span>3</span></div><div class=\"children hor wrap \"><div class=\"contnr c0 trm   hl\" ><div class=\"lbl c0 trm hl\" ><span class=\"txtu\">يَا </span></div><div class='features'><span class=\"text xft\" ><span class=\"f\">text=</span>يَا</span></div></div><div class=\"contnr c0 trm   \" ><div class=\"lbl c0 trm \" ><span class=\"txtu\">رَبِّ </span></div><div class='features'><span class=\"text xft\" ><span class=\"f\">text=</span>رَبِّ</span></div></div><div class=\"contnr c0 trm   \" ><div class=\"lbl c0 trm \" ><span class=\"txtu\">أَعْطِنِي </span></div><div class='features'><span class=\"text xft\" ><span class=\"f\">text=</span>أَعْطِنِي</span></div></div><div class=\"contnr c0 trm   hl\" ><div class=\"lbl c0 trm hl\" ><span class=\"txtu\">مَا </span></div><div class='features'><span class=\"text xft\" ><span class=\"f\">text=</span>مَا</span></div></div><div class=\"contnr c0 trm   \" ><div class=\"lbl c0 trm \" ><span class=\"txtu\">تَعْلَمُ </span></div><div class='features'><span class=\"text xft\" ><span class=\"f\">text=</span>تَعْلَمُ</span></div></div><div class=\"contnr c0 trm   \" ><div class=\"lbl c0 trm \" ><span class=\"txtu\">فِيهِ </span></div><div class='features'><span class=\"text xft\" ><span class=\"f\">text=</span>فِيهِ</span></div></div><div class=\"contnr c0 trm   \" ><div class=\"lbl c0 trm \" ><span class=\"txtu\">مَصْلَحَتِي»، </span></div><div class='features'><span class=\"text xft\" ><span class=\"f\">text=</span>مَصْلَحَتِي»،</span></div></div></div></div></div></div></div></div></div>"
      ],
      "text/plain": [
       "<IPython.core.display.HTML object>"
      ]
     },
     "metadata": {},
     "output_type": "display_data"
    }
   ],
   "source": [
    "A.show(results, condensed=True, extraFeatures=\"n title\")"
   ]
  },
  {
   "cell_type": "code",
   "execution_count": null,
   "metadata": {},
   "outputs": [],
   "source": []
  }
 ],
 "metadata": {
  "kernelspec": {
   "display_name": "Python3.8",
   "language": "python",
   "name": "python3.8"
  },
  "language_info": {
   "codemirror_mode": {
    "name": "ipython",
    "version": 3
   },
   "file_extension": ".py",
   "mimetype": "text/x-python",
   "name": "python",
   "nbconvert_exporter": "python",
   "pygments_lexer": "ipython3",
   "version": "3.8.6"
  }
 },
 "nbformat": 4,
 "nbformat_minor": 4
}
