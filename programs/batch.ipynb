{
 "cells": [
  {
   "cell_type": "markdown",
   "metadata": {},
   "source": [
    "# Batch processing"
   ]
  },
  {
   "cell_type": "code",
   "execution_count": 1,
   "metadata": {},
   "outputs": [],
   "source": [
    "%load_ext autoreload\n",
    "%autoreload 2"
   ]
  },
  {
   "cell_type": "code",
   "execution_count": 2,
   "metadata": {},
   "outputs": [],
   "source": [
    "from readable import Readable"
   ]
  },
  {
   "cell_type": "markdown",
   "metadata": {},
   "source": [
    "Declare where the input files for cleaning are, and where the cleaned ones will be delivered."
   ]
  },
  {
   "cell_type": "code",
   "execution_count": 3,
   "metadata": {},
   "outputs": [],
   "source": [
    "RB = Readable(PREOCR_INPUT='../cleanIn', OCR_INPUT='../cleanOut')"
   ]
  },
  {
   "cell_type": "markdown",
   "metadata": {},
   "source": [
    "Single image with a bit of feedback written to the output cell."
   ]
  },
  {
   "cell_type": "code",
   "execution_count": 4,
   "metadata": {},
   "outputs": [
    {
     "name": "stdout",
     "output_type": "stream",
     "text": [
      "  0.00s Processing qay_Page_1\n",
      "   |     0.00s normalizing\n",
      "   |     0.13s histogram\n",
      "   |     0.17s margins\n",
      "   |     0.26s cleaning\n",
      "   |      |                  comma   22 times\n",
      "   |      |                 comma2    2 times\n",
      "   |      |            doubleClose   19 times\n",
      "   |      |             doubleOpen   17 times\n",
      "   |      |                 shadda   10 times\n",
      "   |      |                shadda2   14 times\n",
      "   |      |                shadda3   19 times\n",
      "   |      |                 tanwin    1 times\n",
      "   |     0.53s cleaning done\n",
      "  0.57s Done, kept  64% of the page\n"
     ]
    },
    {
     "data": {
      "image/jpeg": "[encoded data removed]",
      "text/plain": [
       "<IPython.core.display.Image object>"
      ]
     },
     "metadata": {},
     "output_type": "display_data"
    }
   ],
   "source": [
    "rIm = RB.process('qay_Page_1', quiet=False)"
   ]
  },
  {
   "cell_type": "markdown",
   "metadata": {},
   "source": [
    "All images in a directory as quiet as possible."
   ]
  },
  {
   "cell_type": "code",
   "execution_count": 5,
   "metadata": {},
   "outputs": [
    {
     "name": "stdout",
     "output_type": "stream",
     "text": [
      "  0.00s Batch of 7 pages in ../cleanIn\n",
      "  0.00s Loading marks for cleaning\n",
      "  0.01s Start batch processing images\n",
      "   |     0.23s     1 730.Kashani.Hadizade_Page_490.jpg          4%\n",
      "   |     0.50s     2 qay_Page_1.jpg                            64%\n",
      "   |     0.46s     3 qay_Page_2.jpg                            69%\n",
      "   |     0.59s     4 qay_Page_3.jpg                           100%\n",
      "   |     0.63s     5 qay_Page_4.jpg                           100%\n",
      "   |     0.55s     6 qay_Page_5.jpg                           100%\n",
      "   |     0.39s     7 qay_Page_6.jpg                            58%\n",
      "  3.38s all done\n"
     ]
    }
   ],
   "source": [
    "RB.batch()"
   ]
  },
  {
   "cell_type": "markdown",
   "metadata": {},
   "source": [
    "All images in a directory with a bit of feedback."
   ]
  },
  {
   "cell_type": "code",
   "execution_count": 6,
   "metadata": {},
   "outputs": [
    {
     "name": "stdout",
     "output_type": "stream",
     "text": [
      "  0.00s Batch of 7 pages in ../cleanIn\n",
      "  0.00s Loading marks for cleaning\n",
      "  0.01s Start batch processing images\n",
      "   |     0.19s cleaning donehani.Hadizade_Page_490.jpg       \n",
      "   |     0.22s     1 730.Kashani.Hadizade_Page_490.jpg          4%\n"
     ]
    },
    {
     "data": {
      "image/jpeg": "[encoded data removed]",
      "text/plain": [
       "<IPython.core.display.Image object>"
      ]
     },
     "metadata": {},
     "output_type": "display_data"
    },
    {
     "name": "stdout",
     "output_type": "stream",
     "text": [
      "   |      |                  comma   22 times                \n",
      "   |      |                 comma2    2 times\n",
      "   |      |            doubleClose   19 times\n",
      "   |      |             doubleOpen   19 times\n",
      "   |      |                 shadda   10 times\n",
      "   |      |                shadda2   14 times\n",
      "   |      |                shadda3   19 times\n",
      "   |      |                 tanwin    2 times\n",
      "   |     0.45s cleaning done\n",
      "   |     0.48s     2 qay_Page_1.jpg                            64%\n"
     ]
    },
    {
     "data": {
      "image/jpeg": "[encoded data removed]",
      "text/plain": [
       "<IPython.core.display.Image object>"
      ]
     },
     "metadata": {},
     "output_type": "display_data"
    },
    {
     "name": "stdout",
     "output_type": "stream",
     "text": [
      "   |      |                  comma   15 times                \n",
      "   |      |            doubleClose    5 times\n",
      "   |      |             doubleOpen    5 times\n",
      "   |      |                 shadda    9 times\n",
      "   |      |                shadda2   13 times\n",
      "   |      |                shadda3   14 times\n",
      "   |      |                 tanwin    2 times\n",
      "   |     0.43s cleaning done\n",
      "   |     0.46s     3 qay_Page_2.jpg                            69%\n"
     ]
    },
    {
     "data": {
      "image/jpeg": "[encoded data removed]",
      "text/plain": [
       "<IPython.core.display.Image object>"
      ]
     },
     "metadata": {},
     "output_type": "display_data"
    },
    {
     "name": "stdout",
     "output_type": "stream",
     "text": [
      "   |      |                  comma   12 times                \n",
      "   |      |                 comma2    2 times\n",
      "   |      |                 shadda    6 times\n",
      "   |      |                shadda2    6 times\n",
      "   |      |                shadda3    7 times\n",
      "   |      |                 tanwin    2 times\n",
      "   |      |                tanwin2    1 times\n",
      "   |     0.57s cleaning done\n",
      "   |     0.60s     4 qay_Page_3.jpg                           100%\n",
      "   |      |                  comma   11 times                \n",
      "   |      |                 comma2    6 times\n",
      "   |      |            doubleClose    4 times\n",
      "   |      |             doubleOpen    4 times\n",
      "   |      |                 shadda    1 times\n",
      "   |      |                shadda2    1 times\n",
      "   |      |                shadda3    3 times\n",
      "   |     0.56s cleaning done\n",
      "   |     0.59s     5 qay_Page_4.jpg                           100%\n",
      "   |      |                  comma    8 times                \n",
      "   |      |                 comma2    2 times\n",
      "   |      |                 shadda    1 times\n",
      "   |      |                shadda2    8 times\n",
      "   |      |                shadda3    6 times\n",
      "   |      |                 tanwin    1 times\n",
      "   |     0.59s cleaning done\n",
      "   |     0.63s     6 qay_Page_5.jpg                           100%\n",
      "   |      |                  comma   15 times                \n",
      "   |      |                 comma2    2 times\n",
      "   |      |                 shadda    8 times\n",
      "   |      |                shadda2   13 times\n",
      "   |      |                shadda3    9 times\n",
      "   |     0.48s cleaning done\n",
      "   |     0.52s     7 qay_Page_6.jpg                            58%\n"
     ]
    },
    {
     "data": {
      "image/jpeg": "[encoded data removed]",
      "text/plain": [
       "<IPython.core.display.Image object>"
      ]
     },
     "metadata": {},
     "output_type": "display_data"
    },
    {
     "name": "stdout",
     "output_type": "stream",
     "text": [
      "  3.54s all done\n"
     ]
    }
   ],
   "source": [
    "RB.batch(quiet=False)"
   ]
  },
  {
   "cell_type": "markdown",
   "metadata": {},
   "source": [
    "All images in a directory with an extra output per image: the marks that have\n",
    "been deleted in a box."
   ]
  },
  {
   "cell_type": "code",
   "execution_count": 7,
   "metadata": {},
   "outputs": [
    {
     "name": "stdout",
     "output_type": "stream",
     "text": [
      "  0.00s Batch of 7 pages in ../cleanIn\n",
      "  0.00s Loading marks for cleaning\n",
      "  0.01s Start batch processing images\n",
      "   |     0.29s     1 730.Kashani.Hadizade_Page_490.jpg          4%\n",
      "   |     0.56s     2 qay_Page_1.jpg                            64%\n",
      "   |     0.54s     3 qay_Page_2.jpg                            69%\n",
      "   |     0.71s     4 qay_Page_3.jpg                           100%\n",
      "   |     0.66s     5 qay_Page_4.jpg                           100%\n",
      "   |     0.63s     6 qay_Page_5.jpg                           100%\n",
      "   |     0.49s     7 qay_Page_6.jpg                            58%\n",
      "  3.89s all done\n"
     ]
    }
   ],
   "source": [
    "RB.batch(boxed=True)"
   ]
  },
  {
   "cell_type": "code",
   "execution_count": null,
   "metadata": {},
   "outputs": [],
   "source": []
  }
 ],
 "metadata": {
  "kernelspec": {
   "display_name": "Python 3",
   "language": "python",
   "name": "python3"
  },
  "language_info": {
   "codemirror_mode": {
    "name": "ipython",
    "version": 3
   },
   "file_extension": ".py",
   "mimetype": "text/x-python",
   "name": "python",
   "nbconvert_exporter": "python",
   "pygments_lexer": "ipython3",
   "version": "3.7.2"
  }
 },
 "nbformat": 4,
 "nbformat_minor": 4
}
